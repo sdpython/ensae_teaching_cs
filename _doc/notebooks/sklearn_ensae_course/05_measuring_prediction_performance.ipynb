{
  "cells": [
    {
      "cell_type": "markdown",
      "metadata": {},
      "source": [
        "# 2A.ML101.5: Measuring prediction performance"
      ]
    },
    {
      "cell_type": "markdown",
      "metadata": {},
      "source": [
        "*Source:* [Course on machine learning with scikit-learn](https://github.com/GaelVaroquaux/sklearn_ensae_course) by Ga\u00ebl Varoquaux"
      ]
    },
    {
      "cell_type": "markdown",
      "metadata": {},
      "source": [
        "## Using the K-neighbors classifier"
      ]
    },
    {
      "cell_type": "markdown",
      "metadata": {},
      "source": [
        "Here we'll continue to look at the digits data, but we'll switch to the\n",
        "K-Neighbors classifier.  The K-neighbors classifier is an instance-based\n",
        "classifier.  The K-neighbors classifier predicts the label of\n",
        "an unknown point based on the labels of the *K* nearest points in the\n",
        "parameter space."
      ]
    },
    {
      "cell_type": "code",
      "execution_count": 1,
      "metadata": {},
      "outputs": [],
      "source": [
        "# Get the data\n",
        "from sklearn.datasets import load_digits\n",
        "digits = load_digits()\n",
        "X = digits.data\n",
        "y = digits.target"
      ]
    },
    {
      "cell_type": "code",
      "execution_count": 2,
      "metadata": {},
      "outputs": [
        {
          "data": {
            "text/html": [
              "<style>#sk-container-id-1 {color: black;background-color: white;}#sk-container-id-1 pre{padding: 0;}#sk-container-id-1 div.sk-toggleable {background-color: white;}#sk-container-id-1 label.sk-toggleable__label {cursor: pointer;display: block;width: 100%;margin-bottom: 0;padding: 0.3em;box-sizing: border-box;text-align: center;}#sk-container-id-1 label.sk-toggleable__label-arrow:before {content: \"\u25b8\";float: left;margin-right: 0.25em;color: #696969;}#sk-container-id-1 label.sk-toggleable__label-arrow:hover:before {color: black;}#sk-container-id-1 div.sk-estimator:hover label.sk-toggleable__label-arrow:before {color: black;}#sk-container-id-1 div.sk-toggleable__content {max-height: 0;max-width: 0;overflow: hidden;text-align: left;background-color: #f0f8ff;}#sk-container-id-1 div.sk-toggleable__content pre {margin: 0.2em;color: black;border-radius: 0.25em;background-color: #f0f8ff;}#sk-container-id-1 input.sk-toggleable__control:checked~div.sk-toggleable__content {max-height: 200px;max-width: 100%;overflow: auto;}#sk-container-id-1 input.sk-toggleable__control:checked~label.sk-toggleable__label-arrow:before {content: \"\u25be\";}#sk-container-id-1 div.sk-estimator input.sk-toggleable__control:checked~label.sk-toggleable__label {background-color: #d4ebff;}#sk-container-id-1 div.sk-label input.sk-toggleable__control:checked~label.sk-toggleable__label {background-color: #d4ebff;}#sk-container-id-1 input.sk-hidden--visually {border: 0;clip: rect(1px 1px 1px 1px);clip: rect(1px, 1px, 1px, 1px);height: 1px;margin: -1px;overflow: hidden;padding: 0;position: absolute;width: 1px;}#sk-container-id-1 div.sk-estimator {font-family: monospace;background-color: #f0f8ff;border: 1px dotted black;border-radius: 0.25em;box-sizing: border-box;margin-bottom: 0.5em;}#sk-container-id-1 div.sk-estimator:hover {background-color: #d4ebff;}#sk-container-id-1 div.sk-parallel-item::after {content: \"\";width: 100%;border-bottom: 1px solid gray;flex-grow: 1;}#sk-container-id-1 div.sk-label:hover label.sk-toggleable__label {background-color: #d4ebff;}#sk-container-id-1 div.sk-serial::before {content: \"\";position: absolute;border-left: 1px solid gray;box-sizing: border-box;top: 0;bottom: 0;left: 50%;z-index: 0;}#sk-container-id-1 div.sk-serial {display: flex;flex-direction: column;align-items: center;background-color: white;padding-right: 0.2em;padding-left: 0.2em;position: relative;}#sk-container-id-1 div.sk-item {position: relative;z-index: 1;}#sk-container-id-1 div.sk-parallel {display: flex;align-items: stretch;justify-content: center;background-color: white;position: relative;}#sk-container-id-1 div.sk-item::before, #sk-container-id-1 div.sk-parallel-item::before {content: \"\";position: absolute;border-left: 1px solid gray;box-sizing: border-box;top: 0;bottom: 0;left: 50%;z-index: -1;}#sk-container-id-1 div.sk-parallel-item {display: flex;flex-direction: column;z-index: 1;position: relative;background-color: white;}#sk-container-id-1 div.sk-parallel-item:first-child::after {align-self: flex-end;width: 50%;}#sk-container-id-1 div.sk-parallel-item:last-child::after {align-self: flex-start;width: 50%;}#sk-container-id-1 div.sk-parallel-item:only-child::after {width: 0;}#sk-container-id-1 div.sk-dashed-wrapped {border: 1px dashed gray;margin: 0 0.4em 0.5em 0.4em;box-sizing: border-box;padding-bottom: 0.4em;background-color: white;}#sk-container-id-1 div.sk-label label {font-family: monospace;font-weight: bold;display: inline-block;line-height: 1.2em;}#sk-container-id-1 div.sk-label-container {text-align: center;}#sk-container-id-1 div.sk-container {/* jupyter's `normalize.less` sets `[hidden] { display: none; }` but bootstrap.min.css set `[hidden] { display: none !important; }` so we also need the `!important` here to be able to override the default hidden behavior on the sphinx rendered scikit-learn.org. See: https://github.com/scikit-learn/scikit-learn/issues/21755 */display: inline-block !important;position: relative;}#sk-container-id-1 div.sk-text-repr-fallback {display: none;}</style><div id=\"sk-container-id-1\" class=\"sk-top-container\"><div class=\"sk-text-repr-fallback\"><pre>KNeighborsClassifier(n_neighbors=1)</pre><b>In a Jupyter environment, please rerun this cell to show the HTML representation or trust the notebook. <br />On GitHub, the HTML representation is unable to render, please try loading this page with nbviewer.org.</b></div><div class=\"sk-container\" hidden><div class=\"sk-item\"><div class=\"sk-estimator sk-toggleable\"><input class=\"sk-toggleable__control sk-hidden--visually\" id=\"sk-estimator-id-1\" type=\"checkbox\" checked><label for=\"sk-estimator-id-1\" class=\"sk-toggleable__label sk-toggleable__label-arrow\">KNeighborsClassifier</label><div class=\"sk-toggleable__content\"><pre>KNeighborsClassifier(n_neighbors=1)</pre></div></div></div></div></div>"
            ],
            "text/plain": [
              "KNeighborsClassifier(n_neighbors=1)"
            ]
          },
          "execution_count": 3,
          "metadata": {},
          "output_type": "execute_result"
        }
      ],
      "source": [
        "# Instantiate and train the classifier\n",
        "from sklearn.neighbors import KNeighborsClassifier\n",
        "clf = KNeighborsClassifier(n_neighbors=1)\n",
        "clf.fit(X, y)"
      ]
    },
    {
      "cell_type": "code",
      "execution_count": 3,
      "metadata": {},
      "outputs": [],
      "source": [
        "# Check the results using metrics\n",
        "from sklearn import metrics\n",
        "y_pred = clf.predict(X)"
      ]
    },
    {
      "cell_type": "code",
      "execution_count": 4,
      "metadata": {},
      "outputs": [
        {
          "name": "stdout",
          "output_type": "stream",
          "text": [
            "[[178   0   0   0   0   0   0   0   0   0]\n",
            " [  0 182   0   0   0   0   0   0   0   0]\n",
            " [  0   0 177   0   0   0   0   0   0   0]\n",
            " [  0   0   0 183   0   0   0   0   0   0]\n",
            " [  0   0   0   0 181   0   0   0   0   0]\n",
            " [  0   0   0   0   0 182   0   0   0   0]\n",
            " [  0   0   0   0   0   0 181   0   0   0]\n",
            " [  0   0   0   0   0   0   0 179   0   0]\n",
            " [  0   0   0   0   0   0   0   0 174   0]\n",
            " [  0   0   0   0   0   0   0   0   0 180]]\n"
          ]
        }
      ],
      "source": [
        "print(metrics.confusion_matrix(y_pred, y))"
      ]
    },
    {
      "cell_type": "markdown",
      "metadata": {},
      "source": [
        "Apparently, we've found a perfect classifier!  But this is misleading\n",
        "for the reasons we saw before: the classifier essentially \"memorizes\"\n",
        "all the samples it has already seen.  To really test how well this\n",
        "algorithm does, we need to try some samples it *hasn't* yet seen.\n",
        "\n",
        "This problem can also occur with regression models. In the following we fit an other instance-based model named \"decision tree\" to the Diabete dataset we introduced previously:"
      ]
    },
    {
      "cell_type": "code",
      "execution_count": 5,
      "metadata": {},
      "outputs": [],
      "source": [
        "%matplotlib inline\n",
        "from matplotlib import pyplot as plt\n",
        "import numpy as np"
      ]
    },
    {
      "cell_type": "code",
      "execution_count": 6,
      "metadata": {},
      "outputs": [
        {
          "data": {
            "image/png": "[encoded data removed]",
            "text/plain": [
              "<Figure size 432x288 with 1 Axes>"
            ]
          },
          "metadata": {
            "needs_background": "light"
          },
          "output_type": "display_data"
        }
      ],
      "source": [
        "from sklearn.datasets import load_diabetes\n",
        "from sklearn.tree import DecisionTreeRegressor\n",
        "\n",
        "data = load_diabetes()\n",
        "clf = DecisionTreeRegressor().fit(data.data, data.target)\n",
        "predicted = clf.predict(data.data)\n",
        "expected = data.target\n",
        "\n",
        "plt.scatter(expected, predicted)\n",
        "plt.plot([0, 350], [0, 350], '--k')\n",
        "plt.axis('tight')\n",
        "plt.xlabel('True Progression')\n",
        "plt.ylabel('Predicted Progression');"
      ]
    },
    {
      "cell_type": "markdown",
      "metadata": {},
      "source": [
        "Here again the predictions are seemingly perfect as the model was able to perfectly memorize the training set."
      ]
    },
    {
      "cell_type": "markdown",
      "metadata": {},
      "source": [
        "## A Better Approach: Using a validation set"
      ]
    },
    {
      "cell_type": "markdown",
      "metadata": {},
      "source": [
        "Learning the parameters of a prediction function and testing it on the\n",
        "same data is a methodological mistake: a model that would just repeat\n",
        "the labels of the samples that it has just seen would have a perfect\n",
        "score but would fail to predict anything useful on yet-unseen data.\n",
        "\n",
        "To avoid over-fitting, we have to define two different sets:\n",
        "\n",
        "- a training set X_train, y_train which is used for learning the parameters of a predictive model\n",
        "- a testing set X_test, y_test which is used for evaluating the fitted predictive model\n",
        "\n",
        "In scikit-learn such a random split can be quickly computed with the\n",
        "`train_test_split` helper function.  It can be used this way:"
      ]
    },
    {
      "cell_type": "code",
      "execution_count": 7,
      "metadata": {},
      "outputs": [
        {
          "name": "stdout",
          "output_type": "stream",
          "text": [
            "(1797, 64), (1347, 64), (450, 64)\n"
          ]
        }
      ],
      "source": [
        "from sklearn.model_selection import train_test_split\n",
        "X = digits.data\n",
        "y = digits.target\n",
        "\n",
        "X_train, X_test, y_train, y_test = train_test_split(X, y, test_size=0.25, random_state=0)\n",
        "\n",
        "print(\"%r, %r, %r\" % (X.shape, X_train.shape, X_test.shape))"
      ]
    },
    {
      "cell_type": "markdown",
      "metadata": {},
      "source": [
        "Now we train on the training data, and test on the testing data:"
      ]
    },
    {
      "cell_type": "code",
      "execution_count": 8,
      "metadata": {},
      "outputs": [],
      "source": [
        "clf = KNeighborsClassifier(n_neighbors=1).fit(X_train, y_train)\n",
        "y_pred = clf.predict(X_test)"
      ]
    },
    {
      "cell_type": "code",
      "execution_count": 9,
      "metadata": {},
      "outputs": [
        {
          "name": "stdout",
          "output_type": "stream",
          "text": [
            "[[37  0  0  0  0  0  0  0  0  0]\n",
            " [ 0 43  0  0  0  0  0  0  0  0]\n",
            " [ 0  0 43  1  0  0  0  0  0  0]\n",
            " [ 0  0  0 45  0  0  0  0  0  0]\n",
            " [ 0  0  0  0 38  0  0  0  0  0]\n",
            " [ 0  0  0  0  0 47  0  0  0  1]\n",
            " [ 0  0  0  0  0  0 52  0  0  0]\n",
            " [ 0  0  0  0  0  0  0 48  0  0]\n",
            " [ 0  0  0  0  0  0  0  0 48  0]\n",
            " [ 0  0  0  1  0  1  0  0  0 45]]\n"
          ]
        }
      ],
      "source": [
        "print(metrics.confusion_matrix(y_test, y_pred))"
      ]
    },
    {
      "cell_type": "code",
      "execution_count": 10,
      "metadata": {},
      "outputs": [
        {
          "name": "stdout",
          "output_type": "stream",
          "text": [
            "              precision    recall  f1-score   support\n",
            "\n",
            "           0       1.00      1.00      1.00        37\n",
            "           1       1.00      1.00      1.00        43\n",
            "           2       1.00      0.98      0.99        44\n",
            "           3       0.96      1.00      0.98        45\n",
            "           4       1.00      1.00      1.00        38\n",
            "           5       0.98      0.98      0.98        48\n",
            "           6       1.00      1.00      1.00        52\n",
            "           7       1.00      1.00      1.00        48\n",
            "           8       1.00      1.00      1.00        48\n",
            "           9       0.98      0.96      0.97        47\n",
            "\n",
            "    accuracy                           0.99       450\n",
            "   macro avg       0.99      0.99      0.99       450\n",
            "weighted avg       0.99      0.99      0.99       450\n",
            "\n"
          ]
        }
      ],
      "source": [
        "print(metrics.classification_report(y_test, y_pred))"
      ]
    },
    {
      "cell_type": "markdown",
      "metadata": {},
      "source": [
        "The averaged f1-score is often used as a convenient measure of the\n",
        "overall performance of an algorithm.  It appears in the bottom row\n",
        "of the classification report; it can also be accessed directly:"
      ]
    },
    {
      "cell_type": "code",
      "execution_count": 11,
      "metadata": {},
      "outputs": [
        {
          "data": {
            "text/plain": [
              "0.9913675218842191"
            ]
          },
          "execution_count": 12,
          "metadata": {},
          "output_type": "execute_result"
        }
      ],
      "source": [
        "metrics.f1_score(y_test, y_pred, average=\"macro\")"
      ]
    },
    {
      "cell_type": "markdown",
      "metadata": {},
      "source": [
        "The over-fitting we saw previously can be quantified by computing the\n",
        "f1-score on the training data itself:"
      ]
    },
    {
      "cell_type": "code",
      "execution_count": 12,
      "metadata": {},
      "outputs": [
        {
          "data": {
            "text/plain": [
              "1.0"
            ]
          },
          "execution_count": 13,
          "metadata": {},
          "output_type": "execute_result"
        }
      ],
      "source": [
        "metrics.f1_score(y_train, clf.predict(X_train), average=\"macro\")"
      ]
    },
    {
      "cell_type": "markdown",
      "metadata": {},
      "source": [
        "**Regression metrics** In the case of regression models, we need to use different metrics, such as explained variance."
      ]
    },
    {
      "cell_type": "markdown",
      "metadata": {},
      "source": [
        "## Application: Model Selection via Validation"
      ]
    },
    {
      "cell_type": "markdown",
      "metadata": {},
      "source": [
        "In the previous notebook, we saw Gaussian Naive Bayes classification of the digits.\n",
        "Here we saw K-neighbors classification of the digits.  We've also seen support vector\n",
        "machine classification of digits.  Now that we have these\n",
        "validation tools in place, we can ask quantitatively which of the three estimators\n",
        "works best for the digits dataset.\n",
        "\n",
        "- With the default hyper-parameters for each estimator, which gives the best f1 score\n",
        "  on the **validation set**?  Recall that hyperparameters are the parameters set when\n",
        "  you instantiate the classifier: for example, the ``n_neighbors`` in\n",
        "\n",
        "          clf = KNeighborsClassifier(n_neighbors=1)\n",
        "\n",
        "- For each classifier, which value for the hyperparameters gives the best results for\n",
        "  the digits data?  For ``LinearSVC``, use ``loss='l2'`` and ``loss='l1'``.  For\n",
        "  ``KNeighborsClassifier`` we use ``n_neighbors`` between 1 and 10.  Note that ``GaussianNB``\n",
        "  does not have any adjustable hyperparameters."
      ]
    },
    {
      "cell_type": "code",
      "execution_count": 13,
      "metadata": {},
      "outputs": [
        {
          "name": "stderr",
          "output_type": "stream",
          "text": [
            "C:\\xavierdupre\\__home_\\github_fork\\scikit-learn\\sklearn\\svm\\_base.py:1244: ConvergenceWarning: Liblinear failed to converge, increase the number of iterations.\n",
            "  warnings.warn(\n"
          ]
        },
        {
          "name": "stdout",
          "output_type": "stream",
          "text": [
            "LinearSVC 0.9257041879239652\n",
            "GaussianNB 0.8332741681010101\n",
            "KNeighborsClassifier 0.9804562804949924\n",
            "------------------\n"
          ]
        },
        {
          "name": "stderr",
          "output_type": "stream",
          "text": [
            "C:\\xavierdupre\\__home_\\github_fork\\scikit-learn\\sklearn\\svm\\_base.py:1244: ConvergenceWarning: Liblinear failed to converge, increase the number of iterations.\n",
            "  warnings.warn(\n",
            "C:\\xavierdupre\\__home_\\github_fork\\scikit-learn\\sklearn\\svm\\_base.py:1244: ConvergenceWarning: Liblinear failed to converge, increase the number of iterations.\n",
            "  warnings.warn(\n"
          ]
        },
        {
          "name": "stdout",
          "output_type": "stream",
          "text": [
            "LinearSVC(penalty='l1', loss='squared_hinge') 0.9447242283258508\n",
            "LinearSVC(penalty='l2', loss='squared_hinge') 0.9385749925598466\n",
            "-------------------\n",
            "KNeighbors(n_neighbors=1) 0.9913675218842191\n",
            "KNeighbors(n_neighbors=2) 0.9848442068835102\n",
            "KNeighbors(n_neighbors=3) 0.9867753449543099\n",
            "KNeighbors(n_neighbors=4) 0.9803719053818863\n",
            "KNeighbors(n_neighbors=5) 0.9804562804949924\n",
            "KNeighbors(n_neighbors=6) 0.9757924194139573\n",
            "KNeighbors(n_neighbors=7) 0.9780645792142071\n",
            "KNeighbors(n_neighbors=8) 0.9780645792142071\n",
            "KNeighbors(n_neighbors=9) 0.9780645792142071\n",
            "KNeighbors(n_neighbors=10) 0.9755550897728812\n"
          ]
        }
      ],
      "source": [
        "from sklearn.svm import LinearSVC\n",
        "from sklearn.naive_bayes import GaussianNB\n",
        "from sklearn.neighbors import KNeighborsClassifier\n",
        "\n",
        "import warnings  # suppress warnings from older versions of KNeighbors\n",
        "warnings.filterwarnings('ignore', message='kneighbors*')\n",
        "\n",
        "X = digits.data\n",
        "y = digits.target\n",
        "X_train, X_test, y_train, y_test = train_test_split(X, y, test_size=0.25, random_state=0)\n",
        "\n",
        "for Model in [LinearSVC, GaussianNB, KNeighborsClassifier]:\n",
        "    clf = Model().fit(X_train, y_train)\n",
        "    y_pred = clf.predict(X_test)\n",
        "    print(Model.__name__,\n",
        "          metrics.f1_score(y_test, y_pred, average=\"macro\"))\n",
        "    \n",
        "print('------------------')\n",
        "\n",
        "# test SVC loss\n",
        "for loss, p, dual in [('squared_hinge', 'l1', False), ('squared_hinge', 'l2', True)]:\n",
        "    clf = LinearSVC(penalty=p, loss=loss, dual=dual)\n",
        "    clf.fit(X_train, y_train)\n",
        "    y_pred = clf.predict(X_test)\n",
        "    print(\"LinearSVC(penalty='{0}', loss='{1}')\".format(p, loss),\n",
        "          metrics.f1_score(y_test, y_pred, average=\"macro\"))\n",
        "    \n",
        "print('-------------------')\n",
        "    \n",
        "# test K-neighbors\n",
        "for n_neighbors in range(1, 11):\n",
        "    clf = KNeighborsClassifier(n_neighbors=n_neighbors).fit(X_train, y_train)\n",
        "    y_pred = clf.predict(X_test)\n",
        "    print(\"KNeighbors(n_neighbors={0})\".format(n_neighbors),\n",
        "          metrics.f1_score(y_test, y_pred, average=\"macro\"))\n"
      ]
    },
    {
      "cell_type": "markdown",
      "metadata": {},
      "source": [
        "## Cross-validation"
      ]
    },
    {
      "cell_type": "markdown",
      "metadata": {},
      "source": [
        "Cross-validation consists in repetively splitting the data in pairs of train and test sets, called 'folds'. Scikit-learn comes with a function to automatically compute score on all these folds. Here we do 'K-fold' with k=5."
      ]
    },
    {
      "cell_type": "code",
      "execution_count": 14,
      "metadata": {},
      "outputs": [
        {
          "data": {
            "text/plain": [
              "array([0.94722222, 0.95555556, 0.96657382, 0.98050139, 0.9637883 ])"
            ]
          },
          "execution_count": 15,
          "metadata": {},
          "output_type": "execute_result"
        }
      ],
      "source": [
        "clf = KNeighborsClassifier()\n",
        "from sklearn.model_selection import cross_val_score\n",
        "cross_val_score(clf, X, y, cv=5)"
      ]
    },
    {
      "cell_type": "markdown",
      "metadata": {},
      "source": [
        "We can use different splitting strategies, such as random splitting"
      ]
    },
    {
      "cell_type": "code",
      "execution_count": 15,
      "metadata": {},
      "outputs": [
        {
          "data": {
            "text/plain": [
              "array([0.98333333, 0.98333333, 0.98888889, 0.98333333, 1.        ])"
            ]
          },
          "execution_count": 16,
          "metadata": {},
          "output_type": "execute_result"
        }
      ],
      "source": [
        "from sklearn.model_selection import ShuffleSplit\n",
        "cv = ShuffleSplit(n_splits=5)\n",
        "cross_val_score(clf, X, y, cv=cv)"
      ]
    },
    {
      "cell_type": "markdown",
      "metadata": {},
      "source": [
        "There exists many different cross-validation strategies in scikit-learn. They are often useful to take in account non iid datasets."
      ]
    },
    {
      "cell_type": "markdown",
      "metadata": {},
      "source": [
        "## Hyperparameter optimization with cross-validation"
      ]
    },
    {
      "cell_type": "markdown",
      "metadata": {},
      "source": [
        "Consider regularized linear models, such as\n",
        "*Ridge Regression*, which uses $\\ell_2$ regularlization,\n",
        "and *Lasso Regression*, which uses $\\ell_1$ regularization. Choosing their regularization parameter is important.\n",
        "\n",
        "Let us set these paramaters on the Diabetes dataset, a simple regression problem. The diabetes data consists of 10 physiological variables (age, sex, weight, blood pressure) measure on 442 patients, and an indication of disease progression after one year:"
      ]
    },
    {
      "cell_type": "code",
      "execution_count": 16,
      "metadata": {},
      "outputs": [
        {
          "name": "stdout",
          "output_type": "stream",
          "text": [
            "(442, 10)\n"
          ]
        }
      ],
      "source": [
        "from sklearn.datasets import load_diabetes\n",
        "data = load_diabetes()\n",
        "X, y = data.data, data.target\n",
        "print(X.shape)"
      ]
    },
    {
      "cell_type": "markdown",
      "metadata": {},
      "source": [
        "With the default hyper-parameters: we use the cross-validation score to determine goodness-of-fit:"
      ]
    },
    {
      "cell_type": "code",
      "execution_count": 17,
      "metadata": {},
      "outputs": [
        {
          "name": "stdout",
          "output_type": "stream",
          "text": [
            "Ridge 0.410174971340889\n",
            "Lasso 0.3375593674654274\n"
          ]
        }
      ],
      "source": [
        "from sklearn.linear_model import Ridge, Lasso\n",
        "\n",
        "for Model in [Ridge, Lasso]:\n",
        "    model = Model()\n",
        "    print(Model.__name__, cross_val_score(model, X, y).mean())"
      ]
    },
    {
      "cell_type": "markdown",
      "metadata": {},
      "source": [
        "### Basic Hyperparameter Optimization"
      ]
    },
    {
      "cell_type": "markdown",
      "metadata": {},
      "source": [
        "We compute the cross-validation score as a function of alpha, the strength of the regularization for Lasso and Ridge. We choose 20 values of alpha between 0.0001 and 1:"
      ]
    },
    {
      "cell_type": "code",
      "execution_count": 18,
      "metadata": {},
      "outputs": [
        {
          "data": {
            "image/png": "[encoded data removed]",
            "text/plain": [
              "<Figure size 432x288 with 1 Axes>"
            ]
          },
          "metadata": {
            "needs_background": "light"
          },
          "output_type": "display_data"
        }
      ],
      "source": [
        "alphas = np.logspace(-3, -1, 30)\n",
        "\n",
        "for Model in [Lasso, Ridge]:\n",
        "    scores = [cross_val_score(Model(alpha), X, y, cv=3).mean()\n",
        "              for alpha in alphas]\n",
        "    plt.plot(alphas, scores, label=Model.__name__)\n",
        "plt.legend(loc='lower left');"
      ]
    },
    {
      "cell_type": "markdown",
      "metadata": {},
      "source": [
        "Can we trust our results to be actually useful?"
      ]
    },
    {
      "cell_type": "markdown",
      "metadata": {},
      "source": [
        "### Automatically Performing Grid Search"
      ]
    },
    {
      "cell_type": "code",
      "execution_count": 19,
      "metadata": {},
      "outputs": [],
      "source": [
        "from sklearn.model_selection import GridSearchCV"
      ]
    },
    {
      "cell_type": "markdown",
      "metadata": {},
      "source": [
        "``GridSearchCV`` is constructed with an estimator, as well as a dictionary\n",
        "of parameter values to be searched.  We can find the optimal parameters this\n",
        "way:"
      ]
    },
    {
      "cell_type": "code",
      "execution_count": 20,
      "metadata": {},
      "outputs": [
        {
          "name": "stdout",
          "output_type": "stream",
          "text": [
            "Ridge {'alpha': 0.06210169418915616}\n",
            "Lasso {'alpha': 0.01268961003167922}\n"
          ]
        }
      ],
      "source": [
        "for Model in [Ridge, Lasso]:\n",
        "    gscv = GridSearchCV(Model(), dict(alpha=alphas), cv=3).fit(X, y)\n",
        "    print(Model.__name__, gscv.best_params_)"
      ]
    },
    {
      "cell_type": "markdown",
      "metadata": {},
      "source": [
        "### Built-in Hyperparameter Search"
      ]
    },
    {
      "cell_type": "markdown",
      "metadata": {},
      "source": [
        "For some models within scikit-learn, cross-validation can be performed more efficiently\n",
        "on large datasets.  In this case, a cross-validated version of the particular model is\n",
        "included.  The cross-validated versions of ``Ridge`` and ``Lasso`` are ``RidgeCV`` and\n",
        "``LassoCV``, respectively.  The grid search on these estimators can be performed as\n",
        "follows:"
      ]
    },
    {
      "cell_type": "code",
      "execution_count": 21,
      "metadata": {},
      "outputs": [
        {
          "name": "stdout",
          "output_type": "stream",
          "text": [
            "RidgeCV 0.06210169418915616\n",
            "LassoCV 0.01268961003167922\n"
          ]
        }
      ],
      "source": [
        "from sklearn.linear_model import RidgeCV, LassoCV\n",
        "for Model in [RidgeCV, LassoCV]:\n",
        "    model = Model(alphas=alphas, cv=3).fit(X, y)\n",
        "    print(Model.__name__, model.alpha_)"
      ]
    },
    {
      "cell_type": "markdown",
      "metadata": {},
      "source": [
        "We see that the results match those returned by GridSearchCV"
      ]
    },
    {
      "cell_type": "markdown",
      "metadata": {},
      "source": [
        "### Nested cross-validation"
      ]
    },
    {
      "cell_type": "markdown",
      "metadata": {},
      "source": [
        "How do we measure the performance of these estimators? We have used data to set the hyperparameters, so we need to test on actually new data. We can do this by running `cross_val_score` on our CV objects. Here there are 2 cross-validation loops going on, this is called 'nested cross validation':"
      ]
    },
    {
      "cell_type": "code",
      "execution_count": 22,
      "metadata": {},
      "outputs": [
        {
          "name": "stdout",
          "output_type": "stream",
          "text": [
            "RidgeCV 0.48916033973224776\n",
            "LassoCV 0.4854908670556423\n"
          ]
        }
      ],
      "source": [
        "for Model in [RidgeCV, LassoCV]:\n",
        "    scores = cross_val_score(Model(alphas=alphas, cv=3), X, y, cv=3)\n",
        "    print(Model.__name__, np.mean(scores))"
      ]
    },
    {
      "cell_type": "markdown",
      "metadata": {},
      "source": [
        "Note that these results do not match the best results of our curves above, and `LassoCV` seems to under-perform `RidgeCV`. The reason is that setting the hyper-parameter is harder for Lasso, thus the estimation error on this hyper-parameter is larger."
      ]
    },
    {
      "cell_type": "code",
      "execution_count": 23,
      "metadata": {},
      "outputs": [],
      "source": []
    }
  ],
  "metadata": {
    "kernelspec": {
      "display_name": "Python 3 (ipykernel)",
      "language": "python",
      "name": "python3"
    },
    "language_info": {
      "codemirror_mode": {
        "name": "ipython",
        "version": 3
      },
      "file_extension": ".py",
      "mimetype": "text/x-python",
      "name": "python",
      "nbconvert_exporter": "python",
      "pygments_lexer": "ipython3",
      "version": "3.10.5"
    }
  },
  "nbformat": 4,
  "nbformat_minor": 1
}