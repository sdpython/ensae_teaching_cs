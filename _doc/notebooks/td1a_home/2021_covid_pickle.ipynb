{
  "cells": [
    {
      "cell_type": "markdown",
      "metadata": {},
      "source": [
        "# S\u00e9rialisation, pickle, COVID\n",
        "\n",
        "Ce notebook aborde les sujets \u00e9voqu\u00e9s dans le titre."
      ]
    },
    {
      "cell_type": "code",
      "execution_count": 1,
      "metadata": {},
      "outputs": [
        {
          "data": {
            "text/html": [
              "<div id=\"my_id_menu_nb\">run previous cell, wait for 2 seconds</div>\n",
              "<script>\n",
              "function repeat_indent_string(n){\n",
              "    var a = \"\" ;\n",
              "    for ( ; n > 0 ; --n)\n",
              "        a += \"    \";\n",
              "    return a;\n",
              "}\n",
              "// look up into all sections and builds an automated menu //\n",
              "var update_menu_string = function(begin, lfirst, llast, sformat, send, keep_item, begin_format, end_format) {\n",
              "    var anchors = document.getElementsByClassName(\"section\");\n",
              "    if (anchors.length == 0) {\n",
              "        anchors = document.getElementsByClassName(\"text_cell_render rendered_html\");\n",
              "    }\n",
              "    var i,t;\n",
              "    var text_menu = begin;\n",
              "    var text_memo = \"<pre>\\nlength:\" + anchors.length + \"\\n\";\n",
              "    var ind = \"\";\n",
              "    var memo_level = 1;\n",
              "    var href;\n",
              "    var tags = [];\n",
              "    var main_item = 0;\n",
              "    var format_open = 0;\n",
              "    for (i = 0; i <= llast; i++)\n",
              "        tags.push(\"h\" + i);\n",
              "\n",
              "    for (i = 0; i < anchors.length; i++) {\n",
              "        text_memo += \"**\" + anchors[i].id + \"--\\n\";\n",
              "\n",
              "        var child = null;\n",
              "        for(t = 0; t < tags.length; t++) {\n",
              "            var r = anchors[i].getElementsByTagName(tags[t]);\n",
              "            if (r.length > 0) {\n",
              "child = r[0];\n",
              "break;\n",
              "            }\n",
              "        }\n",
              "        if (child == null) {\n",
              "            text_memo += \"null\\n\";\n",
              "            continue;\n",
              "        }\n",
              "        if (anchors[i].hasAttribute(\"id\")) {\n",
              "            // when converted in RST\n",
              "            href = anchors[i].id;\n",
              "            text_memo += \"#1-\" + href;\n",
              "            // passer \u00e0 child suivant (le chercher)\n",
              "        }\n",
              "        else if (child.hasAttribute(\"id\")) {\n",
              "            // in a notebook\n",
              "            href = child.id;\n",
              "            text_memo += \"#2-\" + href;\n",
              "        }\n",
              "        else {\n",
              "            text_memo += \"#3-\" + \"*\" + \"\\n\";\n",
              "            continue;\n",
              "        }\n",
              "        var title = child.textContent;\n",
              "        var level = parseInt(child.tagName.substring(1,2));\n",
              "\n",
              "        text_memo += \"--\" + level + \"?\" + lfirst + \"--\" + title + \"\\n\";\n",
              "\n",
              "        if ((level < lfirst) || (level > llast)) {\n",
              "            continue ;\n",
              "        }\n",
              "        if (title.endsWith('\u00b6')) {\n",
              "            title = title.substring(0,title.length-1).replace(\"<\", \"&lt;\")\n",
              "         .replace(\">\", \"&gt;\").replace(\"&\", \"&amp;\");\n",
              "        }\n",
              "        if (title.length == 0) {\n",
              "            continue;\n",
              "        }\n",
              "\n",
              "        while (level < memo_level) {\n",
              "            text_menu += end_format + \"</ul>\\n\";\n",
              "            format_open -= 1;\n",
              "            memo_level -= 1;\n",
              "        }\n",
              "        if (level == lfirst) {\n",
              "            main_item += 1;\n",
              "        }\n",
              "        if (keep_item != -1 && main_item != keep_item + 1) {\n",
              "            // alert(main_item + \" - \" + level + \" - \" + keep_item);\n",
              "            continue;\n",
              "        }\n",
              "        while (level > memo_level) {\n",
              "            text_menu += \"<ul>\\n\";\n",
              "            memo_level += 1;\n",
              "        }\n",
              "        text_menu += repeat_indent_string(level-2);\n",
              "        text_menu += begin_format + sformat.replace(\"__HREF__\", href).replace(\"__TITLE__\", title);\n",
              "        format_open += 1;\n",
              "    }\n",
              "    while (1 < memo_level) {\n",
              "        text_menu += end_format + \"</ul>\\n\";\n",
              "        memo_level -= 1;\n",
              "        format_open -= 1;\n",
              "    }\n",
              "    text_menu += send;\n",
              "    //text_menu += \"\\n\" + text_memo;\n",
              "\n",
              "    while (format_open > 0) {\n",
              "        text_menu += end_format;\n",
              "        format_open -= 1;\n",
              "    }\n",
              "    return text_menu;\n",
              "};\n",
              "var update_menu = function() {\n",
              "    var sbegin = \"\";\n",
              "    var sformat = '<a href=\"#__HREF__\">__TITLE__</a>';\n",
              "    var send = \"\";\n",
              "    var begin_format = '<li>';\n",
              "    var end_format = '</li>';\n",
              "    var keep_item = -1;\n",
              "    var text_menu = update_menu_string(sbegin, 2, 4, sformat, send, keep_item,\n",
              "       begin_format, end_format);\n",
              "    var menu = document.getElementById(\"my_id_menu_nb\");\n",
              "    menu.innerHTML=text_menu;\n",
              "};\n",
              "window.setTimeout(update_menu,2000);\n",
              "            </script>"
            ],
            "text/plain": [
              "<IPython.core.display.HTML object>"
            ]
          },
          "execution_count": 2,
          "metadata": {},
          "output_type": "execute_result"
        }
      ],
      "source": [
        "from jyquickhelper import add_notebook_menu\n",
        "add_notebook_menu()"
      ]
    },
    {
      "cell_type": "code",
      "execution_count": 2,
      "metadata": {},
      "outputs": [],
      "source": [
        "%load_ext pyensae"
      ]
    },
    {
      "cell_type": "markdown",
      "metadata": {},
      "source": [
        "##  S\u00e9rialisation and pickle\n",
        "\n",
        "La s\u00e9rialisation consiste \u00e0 rassembler tous les informations qu'on souhaite conserver dans un seul bloc contig\u00fc. Parmi les formats utilis\u00e9es, on distingue les formats qu'on peut lire (json, csv, ...) et ceux qui ne peuvent \u00eatre interpr\u00e9t\u00e9s qu'avec le m\u00eame logiciel ou langage qui les a produits.\n",
        "\n",
        "La s\u00e9rialisation est plus efficace quand le fichier produit n'est pas lisible car l'information est stock\u00e9e telle qu'elle est dans la m\u00e9moire. Elle est plus facile \u00e0 restaurer.\n",
        "\n",
        "On cr\u00e9e un dataframe al\u00e9atoire et on \u00e9crire et lit sous diff\u00e9rents formats."
      ]
    },
    {
      "cell_type": "code",
      "execution_count": 3,
      "metadata": {},
      "outputs": [
        {
          "data": {
            "text/plain": [
              "(10000, 50)"
            ]
          },
          "execution_count": 4,
          "metadata": {},
          "output_type": "execute_result"
        }
      ],
      "source": [
        "import pandas\n",
        "import numpy\n",
        "\n",
        "mat = numpy.random.randn(10000, 50)\n",
        "df = pandas.DataFrame(mat)\n",
        "df.shape"
      ]
    },
    {
      "cell_type": "code",
      "execution_count": 4,
      "metadata": {},
      "outputs": [
        {
          "data": {
            "text/plain": [
              "500000"
            ]
          },
          "execution_count": 5,
          "metadata": {},
          "output_type": "execute_result"
        }
      ],
      "source": [
        "df.size"
      ]
    },
    {
      "cell_type": "code",
      "execution_count": 5,
      "metadata": {},
      "outputs": [],
      "source": [
        "for c in range(1, 51):\n",
        "    df[\"t%d\" % c] = [\"a\" * c for i in range(df.shape[0])]"
      ]
    },
    {
      "cell_type": "code",
      "execution_count": 6,
      "metadata": {},
      "outputs": [
        {
          "data": {
            "text/html": [
              "<div>\n",
              "<style scoped>\n",
              "    .dataframe tbody tr th:only-of-type {\n",
              "        vertical-align: middle;\n",
              "    }\n",
              "\n",
              "    .dataframe tbody tr th {\n",
              "        vertical-align: top;\n",
              "    }\n",
              "\n",
              "    .dataframe thead th {\n",
              "        text-align: right;\n",
              "    }\n",
              "</style>\n",
              "<table border=\"1\" class=\"dataframe\">\n",
              "  <thead>\n",
              "    <tr style=\"text-align: right;\">\n",
              "      <th></th>\n",
              "      <th>0</th>\n",
              "      <th>1</th>\n",
              "      <th>2</th>\n",
              "      <th>3</th>\n",
              "      <th>4</th>\n",
              "      <th>5</th>\n",
              "      <th>6</th>\n",
              "      <th>7</th>\n",
              "      <th>8</th>\n",
              "      <th>9</th>\n",
              "      <th>...</th>\n",
              "      <th>t41</th>\n",
              "      <th>t42</th>\n",
              "      <th>t43</th>\n",
              "      <th>t44</th>\n",
              "      <th>t45</th>\n",
              "      <th>t46</th>\n",
              "      <th>t47</th>\n",
              "      <th>t48</th>\n",
              "      <th>t49</th>\n",
              "      <th>t50</th>\n",
              "    </tr>\n",
              "  </thead>\n",
              "  <tbody>\n",
              "    <tr>\n",
              "      <th>0</th>\n",
              "      <td>-0.687078</td>\n",
              "      <td>-1.317984</td>\n",
              "      <td>0.485271</td>\n",
              "      <td>-0.274160</td>\n",
              "      <td>0.298888</td>\n",
              "      <td>0.485624</td>\n",
              "      <td>0.190280</td>\n",
              "      <td>0.938187</td>\n",
              "      <td>-0.934170</td>\n",
              "      <td>-0.200593</td>\n",
              "      <td>...</td>\n",
              "      <td>aaaaaaaaaaaaaaaaaaaaaaaaaaaaaaaaaaaaaaaaa</td>\n",
              "      <td>aaaaaaaaaaaaaaaaaaaaaaaaaaaaaaaaaaaaaaaaaa</td>\n",
              "      <td>aaaaaaaaaaaaaaaaaaaaaaaaaaaaaaaaaaaaaaaaaaa</td>\n",
              "      <td>aaaaaaaaaaaaaaaaaaaaaaaaaaaaaaaaaaaaaaaaaaaa</td>\n",
              "      <td>aaaaaaaaaaaaaaaaaaaaaaaaaaaaaaaaaaaaaaaaaaaaa</td>\n",
              "      <td>aaaaaaaaaaaaaaaaaaaaaaaaaaaaaaaaaaaaaaaaaaaaaa</td>\n",
              "      <td>aaaaaaaaaaaaaaaaaaaaaaaaaaaaaaaaaaaaaaaaaaaaaaa</td>\n",
              "      <td>aaaaaaaaaaaaaaaaaaaaaaaaaaaaaaaaaaaaaaaaaaaaaaaa</td>\n",
              "      <td>aaaaaaaaaaaaaaaaaaaaaaaaaaaaaaaaaaaaaaaaaaaaaaaaa</td>\n",
              "      <td>aaaaaaaaaaaaaaaaaaaaaaaaaaaaaaaaaaaaaaaaaaaaaa...</td>\n",
              "    </tr>\n",
              "    <tr>\n",
              "      <th>1</th>\n",
              "      <td>-1.836182</td>\n",
              "      <td>0.003514</td>\n",
              "      <td>-0.591336</td>\n",
              "      <td>-0.404873</td>\n",
              "      <td>1.002684</td>\n",
              "      <td>-0.320763</td>\n",
              "      <td>0.846543</td>\n",
              "      <td>0.800089</td>\n",
              "      <td>-1.545944</td>\n",
              "      <td>1.314889</td>\n",
              "      <td>...</td>\n",
              "      <td>aaaaaaaaaaaaaaaaaaaaaaaaaaaaaaaaaaaaaaaaa</td>\n",
              "      <td>aaaaaaaaaaaaaaaaaaaaaaaaaaaaaaaaaaaaaaaaaa</td>\n",
              "      <td>aaaaaaaaaaaaaaaaaaaaaaaaaaaaaaaaaaaaaaaaaaa</td>\n",
              "      <td>aaaaaaaaaaaaaaaaaaaaaaaaaaaaaaaaaaaaaaaaaaaa</td>\n",
              "      <td>aaaaaaaaaaaaaaaaaaaaaaaaaaaaaaaaaaaaaaaaaaaaa</td>\n",
              "      <td>aaaaaaaaaaaaaaaaaaaaaaaaaaaaaaaaaaaaaaaaaaaaaa</td>\n",
              "      <td>aaaaaaaaaaaaaaaaaaaaaaaaaaaaaaaaaaaaaaaaaaaaaaa</td>\n",
              "      <td>aaaaaaaaaaaaaaaaaaaaaaaaaaaaaaaaaaaaaaaaaaaaaaaa</td>\n",
              "      <td>aaaaaaaaaaaaaaaaaaaaaaaaaaaaaaaaaaaaaaaaaaaaaaaaa</td>\n",
              "      <td>aaaaaaaaaaaaaaaaaaaaaaaaaaaaaaaaaaaaaaaaaaaaaa...</td>\n",
              "    </tr>\n",
              "  </tbody>\n",
              "</table>\n",
              "<p>2 rows \u00d7 100 columns</p>\n",
              "</div>"
            ],
            "text/plain": [
              "          0         1         2         3         4         5         6  \\\n",
              "0 -0.687078 -1.317984  0.485271 -0.274160  0.298888  0.485624  0.190280   \n",
              "1 -1.836182  0.003514 -0.591336 -0.404873  1.002684 -0.320763  0.846543   \n",
              "\n",
              "          7         8         9  ...  \\\n",
              "0  0.938187 -0.934170 -0.200593  ...   \n",
              "1  0.800089 -1.545944  1.314889  ...   \n",
              "\n",
              "                                         t41  \\\n",
              "0  aaaaaaaaaaaaaaaaaaaaaaaaaaaaaaaaaaaaaaaaa   \n",
              "1  aaaaaaaaaaaaaaaaaaaaaaaaaaaaaaaaaaaaaaaaa   \n",
              "\n",
              "                                          t42  \\\n",
              "0  aaaaaaaaaaaaaaaaaaaaaaaaaaaaaaaaaaaaaaaaaa   \n",
              "1  aaaaaaaaaaaaaaaaaaaaaaaaaaaaaaaaaaaaaaaaaa   \n",
              "\n",
              "                                           t43  \\\n",
              "0  aaaaaaaaaaaaaaaaaaaaaaaaaaaaaaaaaaaaaaaaaaa   \n",
              "1  aaaaaaaaaaaaaaaaaaaaaaaaaaaaaaaaaaaaaaaaaaa   \n",
              "\n",
              "                                            t44  \\\n",
              "0  aaaaaaaaaaaaaaaaaaaaaaaaaaaaaaaaaaaaaaaaaaaa   \n",
              "1  aaaaaaaaaaaaaaaaaaaaaaaaaaaaaaaaaaaaaaaaaaaa   \n",
              "\n",
              "                                             t45  \\\n",
              "0  aaaaaaaaaaaaaaaaaaaaaaaaaaaaaaaaaaaaaaaaaaaaa   \n",
              "1  aaaaaaaaaaaaaaaaaaaaaaaaaaaaaaaaaaaaaaaaaaaaa   \n",
              "\n",
              "                                              t46  \\\n",
              "0  aaaaaaaaaaaaaaaaaaaaaaaaaaaaaaaaaaaaaaaaaaaaaa   \n",
              "1  aaaaaaaaaaaaaaaaaaaaaaaaaaaaaaaaaaaaaaaaaaaaaa   \n",
              "\n",
              "                                               t47  \\\n",
              "0  aaaaaaaaaaaaaaaaaaaaaaaaaaaaaaaaaaaaaaaaaaaaaaa   \n",
              "1  aaaaaaaaaaaaaaaaaaaaaaaaaaaaaaaaaaaaaaaaaaaaaaa   \n",
              "\n",
              "                                                t48  \\\n",
              "0  aaaaaaaaaaaaaaaaaaaaaaaaaaaaaaaaaaaaaaaaaaaaaaaa   \n",
              "1  aaaaaaaaaaaaaaaaaaaaaaaaaaaaaaaaaaaaaaaaaaaaaaaa   \n",
              "\n",
              "                                                 t49  \\\n",
              "0  aaaaaaaaaaaaaaaaaaaaaaaaaaaaaaaaaaaaaaaaaaaaaaaaa   \n",
              "1  aaaaaaaaaaaaaaaaaaaaaaaaaaaaaaaaaaaaaaaaaaaaaaaaa   \n",
              "\n",
              "                                                 t50  \n",
              "0  aaaaaaaaaaaaaaaaaaaaaaaaaaaaaaaaaaaaaaaaaaaaaa...  \n",
              "1  aaaaaaaaaaaaaaaaaaaaaaaaaaaaaaaaaaaaaaaaaaaaaa...  \n",
              "\n",
              "[2 rows x 100 columns]"
            ]
          },
          "execution_count": 7,
          "metadata": {},
          "output_type": "execute_result"
        }
      ],
      "source": [
        "df.head(n=2)"
      ]
    },
    {
      "cell_type": "code",
      "execution_count": 7,
      "metadata": {},
      "outputs": [
        {
          "data": {
            "text/plain": [
              "(10000, 100)"
            ]
          },
          "execution_count": 8,
          "metadata": {},
          "output_type": "execute_result"
        }
      ],
      "source": [
        "df.shape"
      ]
    },
    {
      "cell_type": "code",
      "execution_count": 8,
      "metadata": {},
      "outputs": [
        {
          "data": {
            "text/plain": [
              "1000000"
            ]
          },
          "execution_count": 9,
          "metadata": {},
          "output_type": "execute_result"
        }
      ],
      "source": [
        "df.size"
      ]
    },
    {
      "cell_type": "markdown",
      "metadata": {},
      "source": [
        "### Format csv"
      ]
    },
    {
      "cell_type": "code",
      "execution_count": 9,
      "metadata": {},
      "outputs": [
        {
          "name": "stdout",
          "output_type": "stream",
          "text": [
            "1.24 s \u00b1 57.7 ms per loop (mean \u00b1 std. dev. of 7 runs, 1 loop each)\n"
          ]
        }
      ],
      "source": [
        "%timeit df.to_csv('df.csv')"
      ]
    },
    {
      "cell_type": "code",
      "execution_count": 10,
      "metadata": {},
      "outputs": [
        {
          "data": {
            "text/html": [
              "<pre>\n",
              ",0,1,2,3,4,5,6,7,8,9,10,11,12,13,14,15,16,17,18,19,20,21,22,23,24,25,26,27,28,29,30,31,32,33,34,35,36,37,38,39,40,41,42,43,44,45,46,47,48,49,t1,t2,t3,t4,t5,t6,t7,t8,t9,t10,t11,t12,t13,t14,t15,t16,t17,t18,t19,t20,t21,t22,t23,t24,t25,t26,t27,t28,t29,t30,t31,t32,t33,t34,t35,t36,t37,t38,t39,t40,t41,t42,t43,t44,t45,t46,t47,t48,t49,t50\n",
              "0,-0.6870776957633313,-1.3179835340609687,0.48527087365816,-0.27416029146654963,0.29888766592509347,0.4856236853659831,0.1902802951340063,0.938187409922834,-0.9341699028583568,-0.20059263086238005,-3.0312237407101383,-0.14792803072340885,-0.17514585644531186,0.5576225316885989,0.872080172085751,-0.6336555533330944,0.43342340019405573,0.12480280413020967,0.07634055595551763,1.1870404644728039,-0.5311587375657408,1.3739042153908319,0.6798255965813582,0.41067936759788853,0.14085251582137018,0.6429927805056169,2.1060860575958418,-0.35819378122856993,0.11921391604054045,-0.8446502736222339,-1.4067923027345046,0.6705390864871307,0.33940633716443686,1.9139672970623614,-0.4321594542966359,-0.47425010019867475,-0.5011479466303276,1.0011488927144743,-0.2162670400341441,-0.9041989514092752,-0.04800111927101552,0.5699567652022954,-1.8262540292255849,-2.394157132140209,0.016152511443535616,1.197895466553288,0.22436193047863318,0.024432777931183668,-1.249625722518517,0.49733677581926555,a,aa,aaa,aaaa,aaaaa,aaaaaa,aaaaaaa,aaaaaaaa,aaaaaaaaa,aaaaaaaaaa,aaaaaaaaaaa,aaaaaaaaaaaa,aaaaaaaaaaaaa,aaaaaaaaaaaaaa,aaaaaaaaaaaaaaa,aaaaaaaaaaaaaaaa,aaaaaaaaaaaaaaaaa,aaaaaaaaaaaaaaaaaa,aaaaaaaaaaaaaaaaaaa,aaaaaaaaaaaaaaaaaaaa,aaaaaaaaaaaaaaaaaaaaa,aaaaaaaaaaaaaaaaaaaaaa,aaaaaaaaaaaaaaaaaaaaaaa,aaaaaaaaaaaaaaaaaaaaaaaa,aaaaaaaaaaaaaaaaaaaaaaaaa,aaaaaaaaaaaaaaaaaaaaaaaaaa,aaaaaaaaaaaaaaaaaaaaaaaaaaa,aaaaaaaaaaaaaaaaaaaaaaaaaaaa,aaaaaaaaaaaaaaaaaaaaaaaaaaaaa,aaaaaaaaaaaaaaaaaaaaaaaaaaaaaa,aaaaaaaaaaaaaaaaaaaaaaaaaaaaaaa,aaaaaaaaaaaaaaaaaaaaaaaaaaaaaaaa,aaaaaaaaaaaaaaaaaaaaaaaaaaaaaaaaa,aaaaaaaaaaaaaaaaaaaaaaaaaaaaaaaaaa,aaaaaaaaaaaaaaaaaaaaaaaaaaaaaaaaaaa,aaaaaaaaaaaaaaaaaaaaaaaaaaaaaaaaaaaa,aaaaaaaaaaaaaaaaaaaaaaaaaaaaaaaaaaaaa,aaaaaaaaaaaaaaaaaaaaaaaaaaaaaaaaaaaaaa,aaaaaaaaaaaaaaaaaaaaaaaaaaaaaaaaaaaaaaa,aaaaaaaaaaaaaaaaaaaaaaaaaaaaaaaaaaaaaaaa,aaaaaaaaaaaaaaaaaaaaaaaaaaaaaaaaaaaaaaaaa,aaaaaaaaaaaaaaaaaaaaaaaaaaaaaaaaaaaaaaaaaa,aaaaaaaaaaaaaaaaaaaaaaaaaaaaaaaaaaaaaaaaaaa,aaaaaaaaaaaaaaaaaaaaaaaaaaaaaaaaaaaaaaaaaaaa,aaaaaaaaaaaaaaaaaaaaaaaaaaaaaaaaaaaaaaaaaaaaa,aaaaaaaaaaaaaaaaaaaaaaaaaaaaaaaaaaaaaaaaaaaaaa,aaaaaaaaaaaaaaaaaaaaaaaaaaaaaaaaaaaaaaaaaaaaaaa,aaaaaaaaaaaaaaaaaaaaaaaaaaaaaaaaaaaaaaaaaaaaaaaa,aaaaaaaaaaaaaaaaaaaaaaaaaaaaaaaaaaaaaaaaaaaaaaaaa,aaaaaaaaaaaaaaaaaaaaaaaaaaaaaaaaaaaaaaaaaaaaaaaaaa\n",
              "\n",
              "</pre>"
            ],
            "text/plain": [
              "<IPython.core.display.HTML object>"
            ]
          },
          "execution_count": 11,
          "metadata": {},
          "output_type": "execute_result"
        }
      ],
      "source": [
        "%head df.csv -n 2"
      ]
    },
    {
      "cell_type": "code",
      "execution_count": 11,
      "metadata": {},
      "outputs": [
        {
          "name": "stdout",
          "output_type": "stream",
          "text": [
            "318 ms \u00b1 11.8 ms per loop (mean \u00b1 std. dev. of 7 runs, 1 loop each)\n"
          ]
        }
      ],
      "source": [
        "%timeit df2 = pandas.read_csv('df.csv')"
      ]
    },
    {
      "cell_type": "markdown",
      "metadata": {},
      "source": [
        "La lecture est plus rapide que l'\u00e9criture. C'est souvent le cas avec les disques SSD, la lecture est plus rapide que l'\u00e9criture."
      ]
    },
    {
      "cell_type": "markdown",
      "metadata": {},
      "source": [
        "### Format pickle\n",
        "\n",
        "Le format pickle n'est pas \u00e0 proprement parler un format, python impl\u00e9mente un m\u00e9canisme pour s\u00e9rialiser tout objet python, cela revient \u00e0 rassembler tous les fragments de m\u00e9moires que cet objet occupe en un seul bloc qu'on \u00e9crit ensuite sur le disque, on qu'on envoie \u00e0 une autre ordinateur connect\u00e9 \u00e0 internet."
      ]
    },
    {
      "cell_type": "code",
      "execution_count": 12,
      "metadata": {},
      "outputs": [
        {
          "name": "stdout",
          "output_type": "stream",
          "text": [
            "132 ms \u00b1 3.25 ms per loop (mean \u00b1 std. dev. of 7 runs, 10 loops each)\n"
          ]
        }
      ],
      "source": [
        "import pickle\n",
        "\n",
        "def pickle_obj(name, obj):\n",
        "    with open(name, 'wb') as f:\n",
        "        pickle.dump(obj, f)\n",
        "\n",
        "%timeit pickle_obj(\"df.pickle\", df)"
      ]
    },
    {
      "cell_type": "code",
      "execution_count": 13,
      "metadata": {},
      "outputs": [
        {
          "name": "stdout",
          "output_type": "stream",
          "text": [
            "67.3 ms \u00b1 1.86 ms per loop (mean \u00b1 std. dev. of 7 runs, 10 loops each)\n"
          ]
        }
      ],
      "source": [
        "def load_pickle(name):\n",
        "    with open(name, 'rb') as f:\n",
        "        return pickle.load(f)\n",
        "    \n",
        "%timeit df = load_pickle('df.pickle')"
      ]
    },
    {
      "cell_type": "markdown",
      "metadata": {},
      "source": [
        "La lecture est l'\u00e9criture sont tr\u00e8s rapides car ce qui est \u00e9crit ou lu est directement ce qu'il y a en m\u00e9moire. En contrepartie, ces informations ne peuvent \u00eatre relus que depuis python et souvent depuis la m\u00eame version de python."
      ]
    },
    {
      "cell_type": "markdown",
      "metadata": {},
      "source": [
        "## Mod\u00e8le \u00e9pid\u00e9miologique (SIRD)\n",
        "\n",
        "Etrangement, il n'\u00e9tait pas possible d'acc\u00e9der aux donn\u00e9es de l'\u00e9pid\u00e9mie le jour du TD car le site [data.gouv.fr](https://www.data.gouv.fr/fr/) \u00e9tait inacessible suite \u00e0 une [panne chez OVH](https://www.lemonde.fr/pixels/article/2021/10/13/le-fournisseur-de-services-cloud-et-hebergeur-ovhcloud-touche-par-une-panne_6098154_4408996.html).\n",
        "\n",
        "* $\\frac{dS}{dt} = - \\beta \\frac{S I}{N}$\n",
        "* $\\frac{dI}{dt} = \\frac{\\beta S I}{N} - \\mu I - \\nu I$\n",
        "* $\\frac{dD}{dt} = \\nu I$\n",
        "* $\\frac{dR}{dt} = \\mu I$\n",
        "\n",
        "Comme les vraies donn\u00e9es sont inaccessibles, on s'int\u00e9resse \u00e0 des donn\u00e9es simul\u00e9es."
      ]
    },
    {
      "cell_type": "markdown",
      "metadata": {},
      "source": [
        "### Simulation"
      ]
    },
    {
      "cell_type": "code",
      "execution_count": 14,
      "metadata": {},
      "outputs": [
        {
          "data": {
            "text/plain": [
              "(9.909090909090908, 0.8909090909090909, 0.1, 0.1)"
            ]
          },
          "execution_count": 15,
          "metadata": {},
          "output_type": "execute_result"
        }
      ],
      "source": [
        "def iteration(S, I, R, D, beta, mu, nu, N):\n",
        "    dR = I * mu\n",
        "    dD = I * nu\n",
        "    dS = - S * I * beta / N\n",
        "    dI = -dS - dR - dD\n",
        "    return S + dS, I + dI, R + dR, D + dD\n",
        "\n",
        "iteration(10, 1, 0, 0, 0.1, 0.1, 0.1, 11)"
      ]
    },
    {
      "cell_type": "code",
      "execution_count": 15,
      "metadata": {},
      "outputs": [
        {
          "data": {
            "text/plain": [
              "array([[10.        ,  1.        ,  0.        ,  0.        ],\n",
              "       [ 9.90909091,  0.89090909,  0.1       ,  0.1       ],\n",
              "       [ 9.82883546,  0.79298272,  0.18909091,  0.18909091]])"
            ]
          },
          "execution_count": 16,
          "metadata": {},
          "output_type": "execute_result"
        }
      ],
      "source": [
        "def simulation(n_iter, S, I, R, D, beta, mu, nu):\n",
        "    sim = numpy.zeros((n_iter + 1, 4))\n",
        "    sim[0, :] = numpy.array([S, I, R, D]).ravel()\n",
        "    N = S + I + R + D\n",
        "    for i in range(n_iter):\n",
        "        S, I, R, D = iteration(S, I, R, D, beta, mu, nu, N)\n",
        "        sim[i + 1, :] = numpy.array([S, I, R, D]).ravel()\n",
        "    return sim\n",
        "\n",
        "simulation(2, 10, 1, 0, 0, 0.1, 0.1, 0.1)"
      ]
    },
    {
      "cell_type": "markdown",
      "metadata": {},
      "source": [
        "### Visualisation"
      ]
    },
    {
      "cell_type": "code",
      "execution_count": 16,
      "metadata": {},
      "outputs": [],
      "source": [
        "%matplotlib inline"
      ]
    },
    {
      "cell_type": "code",
      "execution_count": 17,
      "metadata": {},
      "outputs": [
        {
          "data": {
            "image/png": "[encoded data removed]",
            "text/plain": [
              "<Figure size 720x144 with 1 Axes>"
            ]
          },
          "metadata": {
            "needs_background": "light"
          },
          "output_type": "display_data"
        }
      ],
      "source": [
        "import matplotlib.pyplot as plt\n",
        "fig, ax = plt.subplots(1, 1, figsize=(10, 2))\n",
        "sim = simulation(20, 10, 0.5, 0, 0, 1.2, 0.2, 0.1)\n",
        "df = pandas.DataFrame(sim, columns=['S', 'I', 'R', 'D'])\n",
        "df.plot(ax=ax);"
      ]
    },
    {
      "cell_type": "markdown",
      "metadata": {},
      "source": [
        "### Estimation des param\u00e8tres\n",
        "\n",
        "Une fois qu'on a des donn\u00e9es, on peut essayer de retrouver la param\u00e8tres de la simulation. Mais auparavant, on simule des donn\u00e9es un peu plus bruit\u00e9es en changeant les param\u00e8tres du mod\u00e8le tous les jours."
      ]
    },
    {
      "cell_type": "code",
      "execution_count": 18,
      "metadata": {},
      "outputs": [
        {
          "data": {
            "text/plain": [
              "array([[10.        ,  1.        ,  0.        ,  0.        ],\n",
              "       [ 9.91325458,  0.93586211,  0.08147788,  0.06940543],\n",
              "       [ 9.83228297,  0.82054609,  0.17866666,  0.16850428]])"
            ]
          },
          "execution_count": 19,
          "metadata": {},
          "output_type": "execute_result"
        }
      ],
      "source": [
        "def simulation_bruitee(n_iter, S, I, R, D, beta, mu, nu):\n",
        "    sim = numpy.zeros((n_iter + 1, 4))\n",
        "    sim[0, :] = numpy.array([S, I, R, D]).ravel()\n",
        "    N = S + I + R + D\n",
        "    for i in range(n_iter):\n",
        "        b = numpy.random.randn(1) * beta / 5 + beta\n",
        "        m = numpy.random.randn(1) * mu / 5 + mu\n",
        "        n = numpy.random.randn(1) * nu / 5 + nu\n",
        "        S, I, R, D = iteration(S, I, R, D, b, m, n, N)\n",
        "        sim[i + 1, :] = numpy.array([S, I, R, D]).ravel()\n",
        "    return sim\n",
        "\n",
        "simulation_bruitee(2, 10, 1, 0, 0, 0.1, 0.1, 0.1)"
      ]
    },
    {
      "cell_type": "code",
      "execution_count": 19,
      "metadata": {},
      "outputs": [
        {
          "data": {
            "image/png": "[encoded data removed]",
            "text/plain": [
              "<Figure size 720x144 with 1 Axes>"
            ]
          },
          "metadata": {
            "needs_background": "light"
          },
          "output_type": "display_data"
        }
      ],
      "source": [
        "fig, ax = plt.subplots(1, 1, figsize=(10, 2))\n",
        "sim_bruit = simulation_bruitee(20, 10, 0.5, 0, 0, 1.2, 0.2, 0.1)\n",
        "df = pandas.DataFrame(sim_bruit, columns=['S', 'I', 'R', 'D'])\n",
        "df.plot(ax=ax);"
      ]
    },
    {
      "cell_type": "markdown",
      "metadata": {},
      "source": [
        "#### Premi\u00e8re id\u00e9e\n",
        "\n",
        "On calcule les param\u00e8tres chaque jour \u00e0 partir de la d\u00e9finition du mod\u00e8le."
      ]
    },
    {
      "cell_type": "code",
      "execution_count": 20,
      "metadata": {},
      "outputs": [
        {
          "data": {
            "text/html": [
              "<div>\n",
              "<style scoped>\n",
              "    .dataframe tbody tr th:only-of-type {\n",
              "        vertical-align: middle;\n",
              "    }\n",
              "\n",
              "    .dataframe tbody tr th {\n",
              "        vertical-align: top;\n",
              "    }\n",
              "\n",
              "    .dataframe thead th {\n",
              "        text-align: right;\n",
              "    }\n",
              "</style>\n",
              "<table border=\"1\" class=\"dataframe\">\n",
              "  <thead>\n",
              "    <tr style=\"text-align: right;\">\n",
              "      <th></th>\n",
              "      <th>beta</th>\n",
              "      <th>mu</th>\n",
              "      <th>nu</th>\n",
              "    </tr>\n",
              "  </thead>\n",
              "  <tbody>\n",
              "    <tr>\n",
              "      <th>0</th>\n",
              "      <td>1.129296</td>\n",
              "      <td>0.241642</td>\n",
              "      <td>0.145303</td>\n",
              "    </tr>\n",
              "  </tbody>\n",
              "</table>\n",
              "</div>"
            ],
            "text/plain": [
              "       beta        mu        nu\n",
              "0  1.129296  0.241642  0.145303"
            ]
          },
          "execution_count": 21,
          "metadata": {},
          "output_type": "execute_result"
        }
      ],
      "source": [
        "def estimation_coefficient(sim):\n",
        "    N = sim.sum(axis=1)\n",
        "    diff = sim[1:] - sim[:-1]\n",
        "    mu = diff[:, 2] / sim[:-1, 1]\n",
        "    nu = diff[:, 3] / sim[:-1, 1]\n",
        "    beta = - diff[:, 0] / (sim[:-1, 1] * sim[:-1, 0]) * N[:-1]\n",
        "    return dict(beta=beta, mu=mu, nu=nu)\n",
        "\n",
        "df = pandas.DataFrame(estimation_coefficient(sim_bruit))\n",
        "df.head(n=1)"
      ]
    },
    {
      "cell_type": "code",
      "execution_count": 21,
      "metadata": {},
      "outputs": [
        {
          "data": {
            "image/png": "[encoded data removed]",
            "text/plain": [
              "<Figure size 720x144 with 1 Axes>"
            ]
          },
          "metadata": {
            "needs_background": "light"
          },
          "output_type": "display_data"
        }
      ],
      "source": [
        "df.plot(figsize=(10,2));"
      ]
    },
    {
      "cell_type": "markdown",
      "metadata": {},
      "source": [
        "On pourrait imaginer que les param\u00e8tres cherch\u00e9s soient \u00e9gaux \u00e0 la moyenne des valeurs obtenues pour chaque jour. Encore faudrait-il le prouver ou trouver un contre exemple."
      ]
    },
    {
      "cell_type": "markdown",
      "metadata": {},
      "source": [
        "#### Seconde id\u00e9e : probl\u00e8mes d'optimisation\n",
        "\n",
        "On cherche \u00e0 transformer le probl\u00e8me d'estimation en un probl\u00e8me d'optimisation de telle sorte que les param\u00e8tres en sont la solution. L'id\u00e9e de simuler en fonction d'un jeu de param\u00e8tres puis de calculer une distance entre cette simulation et les donn\u00e9es observ\u00e9es.\n",
        "\n",
        "Le probl\u00e8me de cette solution est qu'il faut essayer plein de valeur, au hasard pour faire simple. Donc on se sert de la fonction pr\u00e9c\u00e9dente comme point de d\u00e9part et on tire des valeurs tout autour."
      ]
    },
    {
      "cell_type": "code",
      "execution_count": 22,
      "metadata": {},
      "outputs": [
        {
          "data": {
            "text/plain": [
              "0.09110736444463925"
            ]
          },
          "execution_count": 23,
          "metadata": {},
          "output_type": "execute_result"
        }
      ],
      "source": [
        "def distance_sim(obs, sim):\n",
        "    return ((obs - sim) ** 2).sum() / obs.size\n",
        "\n",
        "distance_sim(sim, sim_bruit)"
      ]
    },
    {
      "cell_type": "code",
      "execution_count": 23,
      "metadata": {},
      "outputs": [
        {
          "data": {
            "text/plain": [
              "{'b0': 1.1949449618580996,\n",
              " 'mu0': 0.18786221862533412,\n",
              " 'nu0': 0.10660548950608435,\n",
              " 'beta': array([1.15830814]),\n",
              " 'mu': array([0.17720381]),\n",
              " 'nu': array([0.10532943]),\n",
              " 'distance': 0.021211456859144485,\n",
              " 'distance0': 0.043139240901541635}"
            ]
          },
          "execution_count": 24,
          "metadata": {},
          "output_type": "execute_result"
        }
      ],
      "source": [
        "def optimisation(obs):\n",
        "    est = estimation_coefficient(obs)\n",
        "    b0 = est['beta'].mean()\n",
        "    m0 = est['mu'].mean()\n",
        "    n0 = est['nu'].mean()\n",
        "    n_iter = obs.shape[0] - 1\n",
        "    S, I, R, D = obs[0]\n",
        "    beta, mu, nu = b0, m0, n0\n",
        "    distance = distance_sim(obs, simulation(n_iter, S, I, R, D, b0, m0, n0))\n",
        "    distance0 = distance\n",
        "    for i in range(0, 100):\n",
        "        b = numpy.random.randn(1) * b0 / 5 + b0\n",
        "        m = numpy.random.randn(1) * m0 / 5 + m0\n",
        "        n = numpy.random.randn(1) * n0 / 5 + n0      \n",
        "        sim = simulation(n_iter, S, I, R, D, b, m, n)\n",
        "        d = distance_sim(obs, sim)\n",
        "        if distance is None or d < distance:\n",
        "            distance = d\n",
        "            beta, mu, nu = b, m, n\n",
        "    return dict(b0=b0, mu0=m0, nu0=n0, beta=beta, mu=mu, nu=nu,\n",
        "                distance=distance, distance0=distance0)\n",
        "\n",
        "optimisation(sim_bruit)"
      ]
    },
    {
      "cell_type": "markdown",
      "metadata": {},
      "source": [
        "`distance0` la distance entre la simulation obtenue avec les param\u00e8tes de la premi\u00e8re m\u00e9thode, `distance` celle de la seconde et elle est plus petite. Cela r\u00e9pond \u00e0 la question qu'on se posait ci-dessus."
      ]
    },
    {
      "cell_type": "code",
      "execution_count": 24,
      "metadata": {},
      "outputs": [],
      "source": []
    }
  ],
  "metadata": {
    "kernelspec": {
      "display_name": "Python 3",
      "language": "python",
      "name": "python3"
    },
    "language_info": {
      "codemirror_mode": {
        "name": "ipython",
        "version": 3
      },
      "file_extension": ".py",
      "mimetype": "text/x-python",
      "name": "python",
      "nbconvert_exporter": "python",
      "pygments_lexer": "ipython3",
      "version": "3.9.5"
    }
  },
  "nbformat": 4,
  "nbformat_minor": 2
}