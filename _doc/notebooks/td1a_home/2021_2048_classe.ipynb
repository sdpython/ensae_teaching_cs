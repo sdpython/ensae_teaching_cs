{
  "cells": [
    {
      "cell_type": "markdown",
      "id": "cf349c14",
      "metadata": {},
      "source": [
        "# 2048 et les classes\n",
        "\n",
        "Le jeu [2048](https://play2048.co/) est assez addictif mais peut-on imaginer une strat\u00e9gie qui joue \u00e0 notre place est maximise le gain... Le jeu se joue sur une matrice *4x4*."
      ]
    },
    {
      "cell_type": "code",
      "execution_count": 1,
      "id": "ef14b2b0",
      "metadata": {},
      "outputs": [
        {
          "data": {
            "text/html": [
              "<div id=\"my_id_menu_nb\">run previous cell, wait for 2 seconds</div>\n",
              "<script>\n",
              "function repeat_indent_string(n){\n",
              "    var a = \"\" ;\n",
              "    for ( ; n > 0 ; --n)\n",
              "        a += \"    \";\n",
              "    return a;\n",
              "}\n",
              "// look up into all sections and builds an automated menu //\n",
              "var update_menu_string = function(begin, lfirst, llast, sformat, send, keep_item, begin_format, end_format) {\n",
              "    var anchors = document.getElementsByClassName(\"section\");\n",
              "    if (anchors.length == 0) {\n",
              "        anchors = document.getElementsByClassName(\"text_cell_render rendered_html\");\n",
              "    }\n",
              "    var i,t;\n",
              "    var text_menu = begin;\n",
              "    var text_memo = \"<pre>\\nlength:\" + anchors.length + \"\\n\";\n",
              "    var ind = \"\";\n",
              "    var memo_level = 1;\n",
              "    var href;\n",
              "    var tags = [];\n",
              "    var main_item = 0;\n",
              "    var format_open = 0;\n",
              "    for (i = 0; i <= llast; i++)\n",
              "        tags.push(\"h\" + i);\n",
              "\n",
              "    for (i = 0; i < anchors.length; i++) {\n",
              "        text_memo += \"**\" + anchors[i].id + \"--\\n\";\n",
              "\n",
              "        var child = null;\n",
              "        for(t = 0; t < tags.length; t++) {\n",
              "            var r = anchors[i].getElementsByTagName(tags[t]);\n",
              "            if (r.length > 0) {\n",
              "child = r[0];\n",
              "break;\n",
              "            }\n",
              "        }\n",
              "        if (child == null) {\n",
              "            text_memo += \"null\\n\";\n",
              "            continue;\n",
              "        }\n",
              "        if (anchors[i].hasAttribute(\"id\")) {\n",
              "            // when converted in RST\n",
              "            href = anchors[i].id;\n",
              "            text_memo += \"#1-\" + href;\n",
              "            // passer \u00e0 child suivant (le chercher)\n",
              "        }\n",
              "        else if (child.hasAttribute(\"id\")) {\n",
              "            // in a notebook\n",
              "            href = child.id;\n",
              "            text_memo += \"#2-\" + href;\n",
              "        }\n",
              "        else {\n",
              "            text_memo += \"#3-\" + \"*\" + \"\\n\";\n",
              "            continue;\n",
              "        }\n",
              "        var title = child.textContent;\n",
              "        var level = parseInt(child.tagName.substring(1,2));\n",
              "\n",
              "        text_memo += \"--\" + level + \"?\" + lfirst + \"--\" + title + \"\\n\";\n",
              "\n",
              "        if ((level < lfirst) || (level > llast)) {\n",
              "            continue ;\n",
              "        }\n",
              "        if (title.endsWith('\u00b6')) {\n",
              "            title = title.substring(0,title.length-1).replace(\"<\", \"&lt;\")\n",
              "         .replace(\">\", \"&gt;\").replace(\"&\", \"&amp;\");\n",
              "        }\n",
              "        if (title.length == 0) {\n",
              "            continue;\n",
              "        }\n",
              "\n",
              "        while (level < memo_level) {\n",
              "            text_menu += end_format + \"</ul>\\n\";\n",
              "            format_open -= 1;\n",
              "            memo_level -= 1;\n",
              "        }\n",
              "        if (level == lfirst) {\n",
              "            main_item += 1;\n",
              "        }\n",
              "        if (keep_item != -1 && main_item != keep_item + 1) {\n",
              "            // alert(main_item + \" - \" + level + \" - \" + keep_item);\n",
              "            continue;\n",
              "        }\n",
              "        while (level > memo_level) {\n",
              "            text_menu += \"<ul>\\n\";\n",
              "            memo_level += 1;\n",
              "        }\n",
              "        text_menu += repeat_indent_string(level-2);\n",
              "        text_menu += begin_format + sformat.replace(\"__HREF__\", href).replace(\"__TITLE__\", title);\n",
              "        format_open += 1;\n",
              "    }\n",
              "    while (1 < memo_level) {\n",
              "        text_menu += end_format + \"</ul>\\n\";\n",
              "        memo_level -= 1;\n",
              "        format_open -= 1;\n",
              "    }\n",
              "    text_menu += send;\n",
              "    //text_menu += \"\\n\" + text_memo;\n",
              "\n",
              "    while (format_open > 0) {\n",
              "        text_menu += end_format;\n",
              "        format_open -= 1;\n",
              "    }\n",
              "    return text_menu;\n",
              "};\n",
              "var update_menu = function() {\n",
              "    var sbegin = \"\";\n",
              "    var sformat = '<a href=\"#__HREF__\">__TITLE__</a>';\n",
              "    var send = \"\";\n",
              "    var begin_format = '<li>';\n",
              "    var end_format = '</li>';\n",
              "    var keep_item = -1;\n",
              "    var text_menu = update_menu_string(sbegin, 2, 4, sformat, send, keep_item,\n",
              "       begin_format, end_format);\n",
              "    var menu = document.getElementById(\"my_id_menu_nb\");\n",
              "    menu.innerHTML=text_menu;\n",
              "};\n",
              "window.setTimeout(update_menu,2000);\n",
              "            </script>"
            ],
            "text/plain": [
              "<IPython.core.display.HTML object>"
            ]
          },
          "execution_count": 2,
          "metadata": {},
          "output_type": "execute_result"
        }
      ],
      "source": [
        "from jyquickhelper import add_notebook_menu\n",
        "add_notebook_menu()"
      ]
    },
    {
      "cell_type": "markdown",
      "id": "e0e341cf",
      "metadata": {},
      "source": [
        "## D\u00e9composition du probl\u00e8me\n",
        "\n",
        "0. Cr\u00e9ation de la matrice de jeu\n",
        "1. Ajout d'un nombre al\u00e9atoire dans `{2,4}` \u00e0 une position al\u00e9atoire pourvu qu'elle soit libre\n",
        "2. D\u00e9termination de toutes les cases libres\n",
        "3. A-t-on perdu ?\n",
        "4. Joue un coup sachant une direction donn\u00e9e\n",
        "5. Aggr\u00e8ge les nombres dans un tableau que ce soit une ligne ou une colonne\n",
        "6. Score...\n",
        "7. Choisit le coup suivant (un coup au hasard selon deux directions possibles)\n",
        "8. Joue une partie en appelant toutes les fonctions pr\u00e9c\u00e9dentes."
      ]
    },
    {
      "cell_type": "markdown",
      "id": "6d47e109",
      "metadata": {},
      "source": [
        "### 0 - Cr\u00e9ation de la matrice de jeu"
      ]
    },
    {
      "cell_type": "code",
      "execution_count": 2,
      "id": "bc5cda97",
      "metadata": {},
      "outputs": [
        {
          "data": {
            "text/plain": [
              "array([[0, 0, 0, 0],\n",
              "       [0, 0, 0, 0],\n",
              "       [0, 0, 0, 0],\n",
              "       [0, 0, 0, 0]])"
            ]
          },
          "execution_count": 3,
          "metadata": {},
          "output_type": "execute_result"
        }
      ],
      "source": [
        "import numpy\n",
        "\n",
        "def creer_jeu(dim):\n",
        "    return numpy.zeros((dim, dim), dtype=int)\n",
        "\n",
        "jeu = creer_jeu(4)\n",
        "jeu"
      ]
    },
    {
      "cell_type": "markdown",
      "id": "a58daf2e",
      "metadata": {},
      "source": [
        "### 2 - D\u00e9termination de toutes les cases libres"
      ]
    },
    {
      "cell_type": "code",
      "execution_count": 3,
      "id": "7b111cfd",
      "metadata": {},
      "outputs": [
        {
          "data": {
            "text/plain": [
              "[(0, 0),\n",
              " (0, 1),\n",
              " (0, 2),\n",
              " (0, 3),\n",
              " (1, 0),\n",
              " (1, 1),\n",
              " (1, 2),\n",
              " (1, 3),\n",
              " (2, 0),\n",
              " (2, 1),\n",
              " (2, 2),\n",
              " (2, 3),\n",
              " (3, 0),\n",
              " (3, 1),\n",
              " (3, 2),\n",
              " (3, 3)]"
            ]
          },
          "execution_count": 4,
          "metadata": {},
          "output_type": "execute_result"
        }
      ],
      "source": [
        "def position_libre(jeu):\n",
        "    pos = []\n",
        "    for i in range(jeu.shape[0]):\n",
        "        for j in range(jeu.shape[1]):\n",
        "            if jeu[i, j] == 0:\n",
        "                pos.append((i, j))\n",
        "    return pos\n",
        "\n",
        "\n",
        "position_libre(jeu)"
      ]
    },
    {
      "cell_type": "markdown",
      "id": "cb56dec6",
      "metadata": {},
      "source": [
        "### 1 - Ajout d'un nombre al\u00e9atoire dans {2,4} \u00e0 une position al\u00e9atoire pourvu qu'elle soit libre"
      ]
    },
    {
      "cell_type": "code",
      "execution_count": 4,
      "id": "8c66d10e",
      "metadata": {},
      "outputs": [
        {
          "data": {
            "text/plain": [
              "array([[0, 0, 0, 0],\n",
              "       [0, 0, 0, 0],\n",
              "       [0, 0, 0, 0],\n",
              "       [0, 4, 0, 0]])"
            ]
          },
          "execution_count": 5,
          "metadata": {},
          "output_type": "execute_result"
        }
      ],
      "source": [
        "def nombre_aleatoire(jeu):\n",
        "    pos = position_libre(jeu)\n",
        "    nb = numpy.random.randint(0, 2) * 2 + 2\n",
        "    i = numpy.random.randint(0, len(pos))\n",
        "    p = pos[i]\n",
        "    jeu[p] = nb\n",
        "    \n",
        "nombre_aleatoire(jeu)\n",
        "jeu"
      ]
    },
    {
      "cell_type": "markdown",
      "id": "312ea544",
      "metadata": {},
      "source": [
        "### 3 - A-t-on perdu ?"
      ]
    },
    {
      "cell_type": "code",
      "execution_count": 5,
      "id": "33564881",
      "metadata": {},
      "outputs": [
        {
          "data": {
            "text/plain": [
              "False"
            ]
          },
          "execution_count": 6,
          "metadata": {},
          "output_type": "execute_result"
        }
      ],
      "source": [
        "def perdu(jeu):\n",
        "    pos = position_libre(jeu)\n",
        "    return len(pos) == 0\n",
        "\n",
        "perdu(jeu)"
      ]
    },
    {
      "cell_type": "markdown",
      "id": "b8086d68",
      "metadata": {},
      "source": [
        "### 5 - Aggr\u00e8ge les nombres dans un tableau que ce soit une ligne ou une colonne"
      ]
    },
    {
      "cell_type": "code",
      "execution_count": 6,
      "id": "c0fce40f",
      "metadata": {},
      "outputs": [
        {
          "data": {
            "text/plain": [
              "array([2, 4, 4, 0])"
            ]
          },
          "execution_count": 7,
          "metadata": {},
          "output_type": "execute_result"
        }
      ],
      "source": [
        "def joue_ligne_colonne(lc):\n",
        "    # on enl\u00e8ve les 0\n",
        "    non_null = [a for a in lc if a != 0]\n",
        "    # on additionne les nombres identiques cons\u00e9cutifs\n",
        "    i = len(non_null) - 1\n",
        "    while i > 0:\n",
        "        if non_null[i] != 0 and non_null[i] == non_null[i-1]:\n",
        "            non_null[i-1] *= 2\n",
        "            non_null[i] = 0\n",
        "            i -= 2\n",
        "        else:\n",
        "            i -= 1\n",
        "    # on enl\u00e8ve \u00e0 nouveau les z\u00e9ros\n",
        "    non_null2 = [a for a in non_null if a != 0]\n",
        "    final = numpy.zeros(len(lc), dtype=int)\n",
        "    final[:len(non_null2)] = non_null2\n",
        "    return final\n",
        "\n",
        "joue_ligne_colonne(numpy.array([2, 4, 2, 2]))"
      ]
    },
    {
      "cell_type": "code",
      "execution_count": 7,
      "id": "b0f2d2fe",
      "metadata": {},
      "outputs": [],
      "source": [
        "assert joue_ligne_colonne(numpy.array([0, 2, 0, 2])).tolist() == [4, 0, 0, 0]\n",
        "assert joue_ligne_colonne(numpy.array([2, 2, 2, 2])).tolist() == [4, 4, 0, 0]\n",
        "assert joue_ligne_colonne(numpy.array([2, 4, 2, 2])).tolist() == [2, 4, 4, 0]"
      ]
    },
    {
      "cell_type": "markdown",
      "id": "143d5c47",
      "metadata": {},
      "source": [
        "### 4 - Joue un coup sachant une direction donn\u00e9e"
      ]
    },
    {
      "cell_type": "code",
      "execution_count": 8,
      "id": "f2933759",
      "metadata": {},
      "outputs": [
        {
          "data": {
            "text/plain": [
              "array([[0, 0, 0, 0],\n",
              "       [0, 0, 0, 0],\n",
              "       [0, 0, 0, 0],\n",
              "       [4, 0, 0, 0]])"
            ]
          },
          "execution_count": 9,
          "metadata": {},
          "output_type": "execute_result"
        }
      ],
      "source": [
        "def joue_coup(jeu, direction):\n",
        "    if direction == 0:  # gauche\n",
        "        for i in range(jeu.shape[0]):\n",
        "            jeu[i, :] = joue_ligne_colonne(jeu[i, :])\n",
        "    elif direction == 1:  # droite\n",
        "        for i in range(jeu.shape[0]):\n",
        "            jeu[i, ::-1] = joue_ligne_colonne(jeu[i, ::-1])\n",
        "    elif direction == 2:  # haut\n",
        "        for i in range(jeu.shape[0]):\n",
        "            jeu[:, i] = joue_ligne_colonne(jeu[:, i])\n",
        "    elif direction == 3:  # bas\n",
        "        for i in range(jeu.shape[0]):\n",
        "            jeu[::-1, i] = joue_ligne_colonne(jeu[::-1, i])\n",
        "\n",
        "joue_coup(jeu, 0)\n",
        "jeu"
      ]
    },
    {
      "cell_type": "markdown",
      "id": "a1894143",
      "metadata": {},
      "source": [
        "### 6 - score"
      ]
    },
    {
      "cell_type": "code",
      "execution_count": 9,
      "id": "7d6a5697",
      "metadata": {},
      "outputs": [
        {
          "data": {
            "text/plain": [
              "4"
            ]
          },
          "execution_count": 10,
          "metadata": {},
          "output_type": "execute_result"
        }
      ],
      "source": [
        "def score(jeu):\n",
        "    return jeu.max()\n",
        "    # \u00e0 ne pas confondre avec max(jeu)\n",
        "    # max(jeu) appelle la fonction max de python (et non celle du numpy),\n",
        "    # elle cherche le maximum sur toutes les lignes\n",
        "    # et comparer deux lignes est ambig\u00fc, comparaison terme \u00e0 terme ? ce n'est pas un ordre total\n",
        "    \n",
        "score(jeu)"
      ]
    },
    {
      "cell_type": "markdown",
      "id": "3bb9d978",
      "metadata": {},
      "source": [
        "Voir [ordre total](https://fr.wikipedia.org/wiki/Ordre_total)."
      ]
    },
    {
      "cell_type": "markdown",
      "id": "13358dcb",
      "metadata": {},
      "source": [
        "### 7 - coup suivant"
      ]
    },
    {
      "cell_type": "code",
      "execution_count": 10,
      "id": "102da10a",
      "metadata": {},
      "outputs": [
        {
          "data": {
            "text/plain": [
              "2"
            ]
          },
          "execution_count": 11,
          "metadata": {},
          "output_type": "execute_result"
        }
      ],
      "source": [
        "def coup_suivant(jeu):\n",
        "    # une direction al\u00e9atoire parmi 0 ou 4\n",
        "    h = numpy.random.randint(0, 2)\n",
        "    return h * 2\n",
        "\n",
        "\n",
        "coup_suivant(jeu)"
      ]
    },
    {
      "cell_type": "markdown",
      "id": "756afd5c",
      "metadata": {},
      "source": [
        "### 8 - la fonction faisant tout"
      ]
    },
    {
      "cell_type": "code",
      "execution_count": 11,
      "id": "73ead8f4",
      "metadata": {},
      "outputs": [
        {
          "name": "stdout",
          "output_type": "stream",
          "text": [
            "nombre de coups: 68, score=64 jeu:\n",
            "[[64 32 16  4]\n",
            " [32 16  8  2]\n",
            " [ 2  8  4  2]\n",
            " [ 8  2  4  2]]\n"
          ]
        }
      ],
      "source": [
        "def partie(dim):\n",
        "    jeu = creer_jeu(dim)\n",
        "    coup = 0\n",
        "    while not perdu(jeu):\n",
        "        nombre_aleatoire(jeu)\n",
        "        d = coup_suivant(jeu)\n",
        "        joue_coup(jeu, d)\n",
        "        coup += 1\n",
        "    return coup, jeu\n",
        "\n",
        "coup, jeu = partie(4)\n",
        "print(\"nombre de coups: %d, score=%d jeu:\" % (coup, score(jeu)))\n",
        "print(jeu)"
      ]
    },
    {
      "cell_type": "markdown",
      "id": "0ba27ead",
      "metadata": {},
      "source": [
        "## Classes"
      ]
    },
    {
      "cell_type": "code",
      "execution_count": 12,
      "id": "170bd17b",
      "metadata": {},
      "outputs": [
        {
          "data": {
            "text/plain": [
              "coup=0 score=0, jeu=\n",
              "[[0 0 0 0]\n",
              " [0 0 0 0]\n",
              " [0 0 0 0]\n",
              " [0 0 0 0]]"
            ]
          },
          "execution_count": 13,
          "metadata": {},
          "output_type": "execute_result"
        }
      ],
      "source": [
        "class c2048:\n",
        "    \n",
        "    def __init__(self, dim=4):\n",
        "        self.jeu = self.creer_jeu(dim)\n",
        "        self.coup = 0\n",
        "        self.score = 0\n",
        "        \n",
        "    def creer_jeu(self, dim):\n",
        "        return creer_jeu(dim)\n",
        "\n",
        "    def __repr__(self):\n",
        "        return \"coup=%d score=%d, jeu=\\n%s\" % (self.coup, self.score, self.jeu)\n",
        "    \n",
        "J = c2048()\n",
        "J"
      ]
    },
    {
      "cell_type": "code",
      "execution_count": 13,
      "id": "b0e51772",
      "metadata": {},
      "outputs": [
        {
          "name": "stdout",
          "output_type": "stream",
          "text": [
            "coup=0 score=0, jeu=\n",
            "[[0 0 0 0]\n",
            " [0 0 0 0]\n",
            " [0 0 0 0]\n",
            " [0 0 0 0]]\n"
          ]
        }
      ],
      "source": [
        "print(J)  # l'interpr\u00e9teur python ex\u00e9cute implicitement : print(J.__repr__())"
      ]
    },
    {
      "cell_type": "markdown",
      "id": "56d57876",
      "metadata": {},
      "source": [
        "## Classe compl\u00e8te"
      ]
    },
    {
      "cell_type": "code",
      "execution_count": 14,
      "id": "4e29bfa7",
      "metadata": {},
      "outputs": [
        {
          "data": {
            "text/plain": [
              "coup=40 score=16, jeu=\n",
              "[[16  2 16  8]\n",
              " [ 2 16  4  2]\n",
              " [ 8  4 16  2]\n",
              " [ 4  2  8  4]]"
            ]
          },
          "execution_count": 15,
          "metadata": {},
          "output_type": "execute_result"
        }
      ],
      "source": [
        "class c2048:\n",
        "    \n",
        "    def __init__(self, dim=4):\n",
        "        self.jeu = self.creer_jeu(dim)\n",
        "        self.coup = 0\n",
        "        self.score = 0\n",
        "        \n",
        "    def creer_jeu(self, dim):\n",
        "        return creer_jeu(dim)\n",
        "\n",
        "    def __repr__(self):\n",
        "        return \"coup=%d score=%d, jeu=\\n%s\" % (self.coup, self.score, self.jeu)\n",
        "    \n",
        "    def position_libre(self):\n",
        "        pos = []\n",
        "        for i in range(self.jeu.shape[0]):\n",
        "            for j in range(self.jeu.shape[1]):\n",
        "                if self.jeu[i, j] == 0:\n",
        "                    pos.append((i, j))\n",
        "        return pos\n",
        "\n",
        "    def calcule_score(self):\n",
        "        return self.jeu.max()\n",
        "\n",
        "    def joue_ligne_colonne(self, lc):\n",
        "        # on enl\u00e8ve les 0\n",
        "        non_null = [a for a in lc if a != 0]\n",
        "        # on additionne les nombres identiques cons\u00e9cutifs\n",
        "        i = len(non_null) - 1\n",
        "        while i > 0:\n",
        "            if non_null[i] != 0 and non_null[i] == non_null[i-1]:\n",
        "                non_null[i-1] *= 2\n",
        "                non_null[i] = 0\n",
        "                i -= 2\n",
        "            else:\n",
        "                i -= 1\n",
        "        # on enl\u00e8ve \u00e0 nouveau les z\u00e9ros\n",
        "        non_null2 = [a for a in non_null if a != 0]\n",
        "        final = numpy.zeros(len(lc), dtype=int)\n",
        "        final[:len(non_null2)] = non_null2\n",
        "        return final\n",
        "\n",
        "    def joue_coup(self, direction):\n",
        "        if direction == 0:  # gauche\n",
        "            for i in range(self.jeu.shape[0]):\n",
        "                self.jeu[i, :] = joue_ligne_colonne(self.jeu[i, :])\n",
        "        elif direction == 1:  # droite\n",
        "            for i in range(self.jeu.shape[0]):\n",
        "                self.jeu[i, ::-1] = joue_ligne_colonne(self.jeu[i, ::-1])\n",
        "                # identique \u00e0\n",
        "                # self.jeu[i, :] = joue_ligne_colonne(self.jeu[i, ::-1])[::-1]\n",
        "        elif direction == 2:  # haut\n",
        "            for i in range(self.jeu.shape[0]):\n",
        "                self.jeu[:, i] = joue_ligne_colonne(self.jeu[:, i])\n",
        "        elif direction == 3:  # bas\n",
        "            for i in range(self.jeu.shape[0]):\n",
        "                self.jeu[::-1, i] = joue_ligne_colonne(self.jeu[::-1, i])\n",
        "    \n",
        "    def nombre_aleatoire(self):\n",
        "        pos = self.position_libre()\n",
        "        nb = numpy.random.randint(0, 2) * 2 + 2\n",
        "        i = numpy.random.randint(0, len(pos))\n",
        "        p = pos[i]\n",
        "        self.jeu[p] = nb\n",
        "\n",
        "    def perdu(self):\n",
        "        pos = self.position_libre()\n",
        "        return len(pos) == 0\n",
        "\n",
        "    def coup_suivant(self):\n",
        "        # une direction al\u00e9atoire parmi 0 ou 4\n",
        "        h = numpy.random.randint(0, 2)\n",
        "        return h * 2\n",
        "    \n",
        "    def partie(self):\n",
        "        self.coup = 0\n",
        "        while not self.perdu():\n",
        "            self.nombre_aleatoire()\n",
        "            d = self.coup_suivant()\n",
        "            self.joue_coup(d)\n",
        "            self.coup += 1\n",
        "        self.score = self.calcule_score()\n",
        "            \n",
        "J = c2048()\n",
        "J.partie()\n",
        "J"
      ]
    },
    {
      "cell_type": "markdown",
      "id": "c0baddc8",
      "metadata": {},
      "source": [
        "## Un dernier graphe pour finir\n",
        "\n",
        "On r\u00e9alise plusieurs parties, on trace un graphe avec le nombre de coups en abscisse et le score en ordonn\u00e9e."
      ]
    },
    {
      "cell_type": "code",
      "execution_count": 15,
      "id": "96828bc8",
      "metadata": {},
      "outputs": [
        {
          "name": "stderr",
          "output_type": "stream",
          "text": [
            "100%|\u2588\u2588\u2588\u2588\u2588\u2588\u2588\u2588\u2588\u2588| 500/500 [00:01<00:00, 282.10it/s]\n"
          ]
        },
        {
          "data": {
            "text/html": [
              "<div>\n",
              "<style scoped>\n",
              "    .dataframe tbody tr th:only-of-type {\n",
              "        vertical-align: middle;\n",
              "    }\n",
              "\n",
              "    .dataframe tbody tr th {\n",
              "        vertical-align: top;\n",
              "    }\n",
              "\n",
              "    .dataframe thead th {\n",
              "        text-align: right;\n",
              "    }\n",
              "</style>\n",
              "<table border=\"1\" class=\"dataframe\">\n",
              "  <thead>\n",
              "    <tr style=\"text-align: right;\">\n",
              "      <th></th>\n",
              "      <th>score</th>\n",
              "      <th>coup</th>\n",
              "    </tr>\n",
              "  </thead>\n",
              "  <tbody>\n",
              "    <tr>\n",
              "      <th>0</th>\n",
              "      <td>64</td>\n",
              "      <td>67</td>\n",
              "    </tr>\n",
              "    <tr>\n",
              "      <th>1</th>\n",
              "      <td>128</td>\n",
              "      <td>96</td>\n",
              "    </tr>\n",
              "    <tr>\n",
              "      <th>2</th>\n",
              "      <td>128</td>\n",
              "      <td>84</td>\n",
              "    </tr>\n",
              "    <tr>\n",
              "      <th>3</th>\n",
              "      <td>16</td>\n",
              "      <td>29</td>\n",
              "    </tr>\n",
              "    <tr>\n",
              "      <th>4</th>\n",
              "      <td>16</td>\n",
              "      <td>33</td>\n",
              "    </tr>\n",
              "  </tbody>\n",
              "</table>\n",
              "</div>"
            ],
            "text/plain": [
              "   score  coup\n",
              "0     64    67\n",
              "1    128    96\n",
              "2    128    84\n",
              "3     16    29\n",
              "4     16    33"
            ]
          },
          "execution_count": 16,
          "metadata": {},
          "output_type": "execute_result"
        }
      ],
      "source": [
        "from tqdm import tqdm\n",
        "from pandas import DataFrame\n",
        "\n",
        "obs = []\n",
        "for i in tqdm(range(500)):\n",
        "    J = c2048()\n",
        "    J.partie()\n",
        "    obs.append(dict(score=J.score, coup=J.coup))\n",
        "\n",
        "df = DataFrame(obs)\n",
        "df.head()"
      ]
    },
    {
      "cell_type": "code",
      "execution_count": 16,
      "id": "550ebe36",
      "metadata": {},
      "outputs": [
        {
          "data": {
            "image/png": "[encoded data removed]",
            "text/plain": [
              "<Figure size 432x288 with 1 Axes>"
            ]
          },
          "metadata": {
            "needs_background": "light"
          },
          "output_type": "display_data"
        }
      ],
      "source": [
        "df.plot(x='coup', y='score', kind='scatter', title=\"Score / Coup\");"
      ]
    },
    {
      "cell_type": "markdown",
      "id": "c646aa6a",
      "metadata": {},
      "source": [
        "## Une autre strat\u00e9gie pour illustrer l'h\u00e9ritage\n",
        "\n",
        "On veut essayer une autre strat\u00e9gie et la comparer avec la pr\u00e9c\u00e9dente. Pour cela, on cr\u00e9e une seconde classe dans laquelle on remplace la m\u00e9thode `coup_suivant`. On pourrait tout copier coller mais c'est tr\u00e8s souvent la plus mauvaise option. Et pour \u00e9viter cela, on cr\u00e9e une seconde classe qui [h\u00e9rite](http://www.xavierdupre.fr/app/teachpyx/helpsphinx/c_classes/classes.html?highlight=h%C3%A9ritage#heritage) de la pr\u00e9c\u00e9dente, puis on remplace la m\u00e9thode souhait\u00e9e."
      ]
    },
    {
      "cell_type": "code",
      "execution_count": 17,
      "id": "57d15200",
      "metadata": {},
      "outputs": [
        {
          "name": "stderr",
          "output_type": "stream",
          "text": [
            "100%|\u2588\u2588\u2588\u2588\u2588\u2588\u2588\u2588\u2588\u2588| 500/500 [00:01<00:00, 299.41it/s]\n"
          ]
        },
        {
          "data": {
            "text/html": [
              "<div>\n",
              "<style scoped>\n",
              "    .dataframe tbody tr th:only-of-type {\n",
              "        vertical-align: middle;\n",
              "    }\n",
              "\n",
              "    .dataframe tbody tr th {\n",
              "        vertical-align: top;\n",
              "    }\n",
              "\n",
              "    .dataframe thead th {\n",
              "        text-align: right;\n",
              "    }\n",
              "</style>\n",
              "<table border=\"1\" class=\"dataframe\">\n",
              "  <thead>\n",
              "    <tr style=\"text-align: right;\">\n",
              "      <th></th>\n",
              "      <th>score</th>\n",
              "      <th>coup</th>\n",
              "    </tr>\n",
              "  </thead>\n",
              "  <tbody>\n",
              "    <tr>\n",
              "      <th>0</th>\n",
              "      <td>64</td>\n",
              "      <td>55</td>\n",
              "    </tr>\n",
              "    <tr>\n",
              "      <th>1</th>\n",
              "      <td>64</td>\n",
              "      <td>65</td>\n",
              "    </tr>\n",
              "    <tr>\n",
              "      <th>2</th>\n",
              "      <td>32</td>\n",
              "      <td>52</td>\n",
              "    </tr>\n",
              "    <tr>\n",
              "      <th>3</th>\n",
              "      <td>32</td>\n",
              "      <td>51</td>\n",
              "    </tr>\n",
              "    <tr>\n",
              "      <th>4</th>\n",
              "      <td>64</td>\n",
              "      <td>67</td>\n",
              "    </tr>\n",
              "  </tbody>\n",
              "</table>\n",
              "</div>"
            ],
            "text/plain": [
              "   score  coup\n",
              "0     64    55\n",
              "1     64    65\n",
              "2     32    52\n",
              "3     32    51\n",
              "4     64    67"
            ]
          },
          "execution_count": 18,
          "metadata": {},
          "output_type": "execute_result"
        }
      ],
      "source": [
        "class c2048_4(c2048):\n",
        "    \n",
        "    def coup_suivant(self):\n",
        "        # une direction al\u00e9atoire parmi 0 ou 4\n",
        "        h = numpy.random.randint(0, 3)\n",
        "        return h\n",
        "\n",
        "obs = []\n",
        "for i in tqdm(range(500)):\n",
        "    J = c2048()\n",
        "    J.partie()\n",
        "    obs.append(dict(score=J.score, coup=J.coup))\n",
        "\n",
        "df2 = DataFrame(obs)\n",
        "df2.head()"
      ]
    },
    {
      "cell_type": "code",
      "execution_count": 18,
      "id": "a3732857",
      "metadata": {},
      "outputs": [
        {
          "data": {
            "image/png": "[encoded data removed]",
            "text/plain": [
              "<Figure size 1008x288 with 4 Axes>"
            ]
          },
          "metadata": {
            "needs_background": "light"
          },
          "output_type": "display_data"
        }
      ],
      "source": [
        "import matplotlib.pyplot as plt\n",
        "fig, ax = plt.subplots(2, 2, figsize=(14, 4), sharey=True, sharex=True)\n",
        "df.plot(x='coup', y='score', kind='scatter', title=\"Score / Coup\", label=\"Strat\u00e9gie 1\", ax=ax[0, 0])\n",
        "df2.plot(x='coup', y='score', kind='scatter', title=\"Score / Coup\", label=\"Strat\u00e9gie 2\", ax=ax[1, 0], color='red');\n",
        "df2.plot(x='coup', y='score', kind='scatter', title=\"Score / Coup\", label=\"Strat\u00e9gie 2\", ax=ax[0, 1], color='red');"
      ]
    },
    {
      "cell_type": "markdown",
      "id": "0f4e3858",
      "metadata": {},
      "source": [
        "La strat\u00e9gie 2 para\u00eet meilleure : jouer al\u00e9atoire dans toutes les directions est plus efficace que dans deux directions."
      ]
    },
    {
      "cell_type": "code",
      "execution_count": 19,
      "id": "fa6d1750",
      "metadata": {},
      "outputs": [],
      "source": []
    }
  ],
  "metadata": {
    "kernelspec": {
      "display_name": "Python 3",
      "language": "python",
      "name": "python3"
    },
    "language_info": {
      "codemirror_mode": {
        "name": "ipython",
        "version": 3
      },
      "file_extension": ".py",
      "mimetype": "text/x-python",
      "name": "python",
      "nbconvert_exporter": "python",
      "pygments_lexer": "ipython3",
      "version": "3.9.5"
    }
  },
  "nbformat": 4,
  "nbformat_minor": 5
}