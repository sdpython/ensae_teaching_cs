{
 "cells": [
  {
   "cell_type": "markdown",
   "metadata": {},
   "source": [
    "# IREP: registre des émissions polluantes\n",
    "\n",
    "Ce jeu de données est disponible sous le nombre [Registre des émissions polluantes](http://www.georisques.gouv.fr/dossiers/irep/telechargement)."
   ]
  },
  {
   "cell_type": "code",
   "execution_count": 2,
   "metadata": {},
   "outputs": [
    {
     "data": {
      "text/html": [
       "<div id=\"my_id_menu_nb\">run previous cell, wait for 2 seconds</div>\n",
       "<script>\n",
       "function repeat_indent_string(n){\n",
       "    var a = \"\" ;\n",
       "    for ( ; n > 0 ; --n)\n",
       "        a += \"    \";\n",
       "    return a;\n",
       "}\n",
       "// look up into all sections and builds an automated menu //\n",
       "var update_menu_string = function(begin, lfirst, llast, sformat, send, keep_item, begin_format, end_format) {\n",
       "    var anchors = document.getElementsByClassName(\"section\");\n",
       "    if (anchors.length == 0) {\n",
       "        anchors = document.getElementsByClassName(\"text_cell_render rendered_html\");\n",
       "    }\n",
       "    var i,t;\n",
       "    var text_menu = begin;\n",
       "    var text_memo = \"<pre>\\nlength:\" + anchors.length + \"\\n\";\n",
       "    var ind = \"\";\n",
       "    var memo_level = 1;\n",
       "    var href;\n",
       "    var tags = [];\n",
       "    var main_item = 0;\n",
       "    var format_open = 0;\n",
       "    for (i = 0; i <= llast; i++)\n",
       "        tags.push(\"h\" + i);\n",
       "\n",
       "    for (i = 0; i < anchors.length; i++) {\n",
       "        text_memo += \"**\" + anchors[i].id + \"--\\n\";\n",
       "\n",
       "        var child = null;\n",
       "        for(t = 0; t < tags.length; t++) {\n",
       "            var r = anchors[i].getElementsByTagName(tags[t]);\n",
       "            if (r.length > 0) {\n",
       "child = r[0];\n",
       "break;\n",
       "            }\n",
       "        }\n",
       "        if (child == null) {\n",
       "            text_memo += \"null\\n\";\n",
       "            continue;\n",
       "        }\n",
       "        if (anchors[i].hasAttribute(\"id\")) {\n",
       "            // when converted in RST\n",
       "            href = anchors[i].id;\n",
       "            text_memo += \"#1-\" + href;\n",
       "            // passer à child suivant (le chercher)\n",
       "        }\n",
       "        else if (child.hasAttribute(\"id\")) {\n",
       "            // in a notebook\n",
       "            href = child.id;\n",
       "            text_memo += \"#2-\" + href;\n",
       "        }\n",
       "        else {\n",
       "            text_memo += \"#3-\" + \"*\" + \"\\n\";\n",
       "            continue;\n",
       "        }\n",
       "        var title = child.textContent;\n",
       "        var level = parseInt(child.tagName.substring(1,2));\n",
       "\n",
       "        text_memo += \"--\" + level + \"?\" + lfirst + \"--\" + title + \"\\n\";\n",
       "\n",
       "        if ((level < lfirst) || (level > llast)) {\n",
       "            continue ;\n",
       "        }\n",
       "        if (title.endsWith('¶')) {\n",
       "            title = title.substring(0,title.length-1).replace(\"<\", \"&lt;\")\n",
       "         .replace(\">\", \"&gt;\").replace(\"&\", \"&amp;\");\n",
       "        }\n",
       "        if (title.length == 0) {\n",
       "            continue;\n",
       "        }\n",
       "\n",
       "        while (level < memo_level) {\n",
       "            text_menu += end_format + \"</ul>\\n\";\n",
       "            format_open -= 1;\n",
       "            memo_level -= 1;\n",
       "        }\n",
       "        if (level == lfirst) {\n",
       "            main_item += 1;\n",
       "        }\n",
       "        if (keep_item != -1 && main_item != keep_item + 1) {\n",
       "            // alert(main_item + \" - \" + level + \" - \" + keep_item);\n",
       "            continue;\n",
       "        }\n",
       "        while (level > memo_level) {\n",
       "            text_menu += \"<ul>\\n\";\n",
       "            memo_level += 1;\n",
       "        }\n",
       "        text_menu += repeat_indent_string(level-2);\n",
       "        text_menu += begin_format + sformat.replace(\"__HREF__\", href).replace(\"__TITLE__\", title);\n",
       "        format_open += 1;\n",
       "    }\n",
       "    while (1 < memo_level) {\n",
       "        text_menu += end_format + \"</ul>\\n\";\n",
       "        memo_level -= 1;\n",
       "        format_open -= 1;\n",
       "    }\n",
       "    text_menu += send;\n",
       "    //text_menu += \"\\n\" + text_memo;\n",
       "\n",
       "    while (format_open > 0) {\n",
       "        text_menu += end_format;\n",
       "        format_open -= 1;\n",
       "    }\n",
       "    return text_menu;\n",
       "};\n",
       "var update_menu = function() {\n",
       "    var sbegin = \"\";\n",
       "    var sformat = '<a href=\"#__HREF__\">__TITLE__</a>';\n",
       "    var send = \"\";\n",
       "    var begin_format = '<li>';\n",
       "    var end_format = '</li>';\n",
       "    var keep_item = -1;\n",
       "    var text_menu = update_menu_string(sbegin, 2, 4, sformat, send, keep_item,\n",
       "       begin_format, end_format);\n",
       "    var menu = document.getElementById(\"my_id_menu_nb\");\n",
       "    menu.innerHTML=text_menu;\n",
       "};\n",
       "window.setTimeout(update_menu,2000);\n",
       "            </script>"
      ],
      "text/plain": [
       "<IPython.core.display.HTML object>"
      ]
     },
     "execution_count": 2,
     "metadata": {},
     "output_type": "execute_result"
    }
   ],
   "source": [
    "from jyquickhelper import add_notebook_menu\n",
    "add_notebook_menu()"
   ]
  },
  {
   "cell_type": "code",
   "execution_count": 3,
   "metadata": {},
   "outputs": [],
   "source": [
    "%matplotlib inline"
   ]
  },
  {
   "cell_type": "markdown",
   "metadata": {},
   "source": [
    "## Récupération des données\n",
    "\n",
    "Les données ont été préalablement téléchargées et zippées."
   ]
  },
  {
   "cell_type": "code",
   "execution_count": 4,
   "metadata": {},
   "outputs": [
    {
     "data": {
      "text/plain": [
       "['2003/emissions.csv',\n",
       " '2003/etablissements.csv',\n",
       " '2003/Prelevements.csv',\n",
       " '2003/Prod_dechets_dangereux.csv',\n",
       " '2003/Prod_dechets_non_dangereux.csv',\n",
       " '2003/Trait_dechets_dangereux.csv',\n",
       " '2003/Trait_dechets_non_dangereux.csv',\n",
       " '2004/emissions.csv',\n",
       " '2004/etablissements.csv',\n",
       " '2004/Prelevements.csv',\n",
       " '2004/Prod_dechets_dangereux.csv',\n",
       " '2004/Prod_dechets_non_dangereux.csv',\n",
       " '2004/Trait_dechets_dangereux.csv',\n",
       " '2004/Trait_dechets_non_dangereux.csv',\n",
       " '2005/emissions.csv',\n",
       " '2005/etablissements.csv',\n",
       " '2005/Prelevements.csv',\n",
       " '2005/Prod_dechets_dangereux.csv',\n",
       " '2005/Prod_dechets_non_dangereux.csv',\n",
       " '2005/Trait_dechets_dangereux.csv',\n",
       " '2005/Trait_dechets_non_dangereux.csv',\n",
       " '2006/emissions.csv',\n",
       " '2006/etablissements.csv',\n",
       " '2006/Prelevements.csv',\n",
       " '2006/Prod_dechets_dangereux.csv',\n",
       " '2006/Prod_dechets_non_dangereux.csv',\n",
       " '2006/Trait_dechets_dangereux.csv',\n",
       " '2006/Trait_dechets_non_dangereux.csv',\n",
       " '2007/emissions.csv',\n",
       " '2007/etablissements.csv',\n",
       " '2007/Prelevements.csv',\n",
       " '2007/Prod_dechets_dangereux.csv',\n",
       " '2007/Prod_dechets_non_dangereux.csv',\n",
       " '2007/Trait_dechets_dangereux.csv',\n",
       " '2007/Trait_dechets_non_dangereux.csv',\n",
       " '2008/emissions.csv',\n",
       " '2008/etablissements.csv',\n",
       " '2008/Prelevements.csv',\n",
       " '2008/Prod_dechets_dangereux.csv',\n",
       " '2008/Prod_dechets_non_dangereux.csv',\n",
       " '2008/Trait_dechets_dangereux.csv',\n",
       " '2008/Trait_dechets_non_dangereux.csv',\n",
       " '2009/emissions.csv',\n",
       " '2009/etablissements.csv',\n",
       " '2009/Prelevements.csv',\n",
       " '2009/Prod_dechets_dangereux.csv',\n",
       " '2009/Prod_dechets_non_dangereux.csv',\n",
       " '2009/Trait_dechets_dangereux.csv',\n",
       " '2009/Trait_dechets_non_dangereux.csv',\n",
       " '2010/emissions.csv',\n",
       " '2010/etablissements.csv',\n",
       " '2010/Prelevements.csv',\n",
       " '2010/Prod_dechets_dangereux.csv',\n",
       " '2010/Prod_dechets_non_dangereux.csv',\n",
       " '2010/Trait_dechets_dangereux.csv',\n",
       " '2010/Trait_dechets_non_dangereux.csv',\n",
       " '2011/emissions.csv',\n",
       " '2011/etablissements.csv',\n",
       " '2011/Prelevements.csv',\n",
       " '2011/Prod_dechets_dangereux.csv',\n",
       " '2011/Prod_dechets_non_dangereux.csv',\n",
       " '2011/Trait_dechets_dangereux.csv',\n",
       " '2011/Trait_dechets_non_dangereux.csv',\n",
       " '2012/emissions.csv',\n",
       " '2012/etablissements.csv',\n",
       " '2012/Prelevements.csv',\n",
       " '2012/Prod_dechets_dangereux.csv',\n",
       " '2012/Prod_dechets_non_dangereux.csv',\n",
       " '2012/Trait_dechets_dangereux.csv',\n",
       " '2012/Trait_dechets_non_dangereux.csv',\n",
       " '2013/emissions.csv',\n",
       " '2013/etablissements.csv',\n",
       " '2013/Prelevements.csv',\n",
       " '2013/Prod_dechets_dangereux.csv',\n",
       " '2013/Prod_dechets_non_dangereux.csv',\n",
       " '2013/Trait_dechets_dangereux.csv',\n",
       " '2013/Trait_dechets_non_dangereux.csv',\n",
       " '2014/emissions.csv',\n",
       " '2014/etablissements.csv',\n",
       " '2014/Prelevements.csv',\n",
       " '2014/Prod_dechets_dangereux.csv',\n",
       " '2014/Prod_dechets_non_dangereux.csv',\n",
       " '2014/Trait_dechets_dangereux.csv',\n",
       " '2014/Trait_dechets_non_dangereux.csv',\n",
       " '2015/emissions.csv',\n",
       " '2015/etablissements.csv',\n",
       " '2015/Prelevements.csv',\n",
       " '2015/Prod_dechets_dangereux.csv',\n",
       " '2015/Prod_dechets_non_dangereux.csv',\n",
       " '2015/Trait_dechets_dangereux.csv',\n",
       " '2015/Trait_dechets_non_dangereux.csv',\n",
       " '2016/emissions.csv',\n",
       " '2016/etablissements.csv',\n",
       " '2016/Prelevements.csv',\n",
       " '2016/Prod_dechets_dangereux.csv',\n",
       " '2016/Prod_dechets_non_dangereux.csv',\n",
       " '2016/Trait_dechets_dangereux.csv',\n",
       " '2016/Trait_dechets_non_dangereux.csv',\n",
       " '2017/emissions.csv',\n",
       " '2017/etablissements.csv',\n",
       " '2017/Prelevements.csv',\n",
       " '2017/Prod_dechets_dangereux.csv',\n",
       " '2017/Prod_dechets_non_dangereux.csv',\n",
       " '2017/Trait_dechets_dangereux.csv',\n",
       " '2017/Trait_dechets_non_dangereux.csv']"
      ]
     },
     "execution_count": 4,
     "metadata": {},
     "output_type": "execute_result"
    }
   ],
   "source": [
    "from ensae_teaching_cs.data import load_irep\n",
    "load_irep()"
   ]
  },
  {
   "cell_type": "code",
   "execution_count": 5,
   "metadata": {},
   "outputs": [
    {
     "data": {
      "text/html": [
       "<div>\n",
       "<style scoped>\n",
       "    .dataframe tbody tr th:only-of-type {\n",
       "        vertical-align: middle;\n",
       "    }\n",
       "\n",
       "    .dataframe tbody tr th {\n",
       "        vertical-align: top;\n",
       "    }\n",
       "\n",
       "    .dataframe thead th {\n",
       "        text-align: right;\n",
       "    }\n",
       "</style>\n",
       "<table border=\"1\" class=\"dataframe\">\n",
       "  <thead>\n",
       "    <tr style=\"text-align: right;\">\n",
       "      <th></th>\n",
       "      <th>Identifiant</th>\n",
       "      <th>Nom_Etablissement</th>\n",
       "      <th>Dechet</th>\n",
       "      <th>Annee</th>\n",
       "      <th>Code_Operation_Eliminatio_Valorisation</th>\n",
       "      <th>Libelle_Operation_Eliminatio_Valorisation</th>\n",
       "      <th>Code_Departement</th>\n",
       "      <th>Pays</th>\n",
       "      <th>Code_Dechet</th>\n",
       "      <th>Libelle_Dechet</th>\n",
       "      <th>Quantite</th>\n",
       "      <th>Unite</th>\n",
       "    </tr>\n",
       "  </thead>\n",
       "  <tbody>\n",
       "    <tr>\n",
       "      <th>0</th>\n",
       "      <td>31.02589</td>\n",
       "      <td>POLYPROCESS</td>\n",
       "      <td>Production de dÃ©chets dangereux</td>\n",
       "      <td>2017</td>\n",
       "      <td>D13</td>\n",
       "      <td>D13 Regroupement préalablement à l'une des opé...</td>\n",
       "      <td>33</td>\n",
       "      <td>NaN</td>\n",
       "      <td>16 03 03*</td>\n",
       "      <td>Déchets d'origine minérale contenant des subst...</td>\n",
       "      <td>2.320</td>\n",
       "      <td>t/an</td>\n",
       "    </tr>\n",
       "    <tr>\n",
       "      <th>1</th>\n",
       "      <td>31.02589</td>\n",
       "      <td>POLYPROCESS</td>\n",
       "      <td>Production de dÃ©chets dangereux</td>\n",
       "      <td>2017</td>\n",
       "      <td>D8</td>\n",
       "      <td>D8 Traitement biologique non spécifié ailleurs...</td>\n",
       "      <td>64</td>\n",
       "      <td>NaN</td>\n",
       "      <td>13 05 07*</td>\n",
       "      <td>Eau mélangée à des hydrocarbures provenant de ...</td>\n",
       "      <td>1.500</td>\n",
       "      <td>t/an</td>\n",
       "    </tr>\n",
       "    <tr>\n",
       "      <th>2</th>\n",
       "      <td>31.02589</td>\n",
       "      <td>POLYPROCESS</td>\n",
       "      <td>Production de dÃ©chets dangereux</td>\n",
       "      <td>2017</td>\n",
       "      <td>R12</td>\n",
       "      <td>R12 Echange de déchets en vue de les soumettre...</td>\n",
       "      <td>16</td>\n",
       "      <td>NaN</td>\n",
       "      <td>13 05 02*</td>\n",
       "      <td>Boues provenant de séparateurs eau/hydrocarbures</td>\n",
       "      <td>0.500</td>\n",
       "      <td>t/an</td>\n",
       "    </tr>\n",
       "    <tr>\n",
       "      <th>3</th>\n",
       "      <td>31.02589</td>\n",
       "      <td>POLYPROCESS</td>\n",
       "      <td>Production de dÃ©chets dangereux</td>\n",
       "      <td>2017</td>\n",
       "      <td>R13</td>\n",
       "      <td>R13 Stockage de déchets préalablement à l'une ...</td>\n",
       "      <td>33</td>\n",
       "      <td>NaN</td>\n",
       "      <td>06 10 02*</td>\n",
       "      <td>Déchets contenant des substances dangereuses</td>\n",
       "      <td>0.103</td>\n",
       "      <td>t/an</td>\n",
       "    </tr>\n",
       "    <tr>\n",
       "      <th>4</th>\n",
       "      <td>31.02589</td>\n",
       "      <td>POLYPROCESS</td>\n",
       "      <td>Production de dÃ©chets dangereux</td>\n",
       "      <td>2017</td>\n",
       "      <td>R13</td>\n",
       "      <td>R13 Stockage de déchets préalablement à l'une ...</td>\n",
       "      <td>33</td>\n",
       "      <td>NaN</td>\n",
       "      <td>15 01 10*</td>\n",
       "      <td>Emballages contenant des résidus de substances...</td>\n",
       "      <td>2.400</td>\n",
       "      <td>t/an</td>\n",
       "    </tr>\n",
       "  </tbody>\n",
       "</table>\n",
       "</div>"
      ],
      "text/plain": [
       "   Identifiant Nom_Etablissement                            Dechet  Annee  \\\n",
       "0     31.02589       POLYPROCESS  Production de dÃ©chets dangereux   2017   \n",
       "1     31.02589       POLYPROCESS  Production de dÃ©chets dangereux   2017   \n",
       "2     31.02589       POLYPROCESS  Production de dÃ©chets dangereux   2017   \n",
       "3     31.02589       POLYPROCESS  Production de dÃ©chets dangereux   2017   \n",
       "4     31.02589       POLYPROCESS  Production de dÃ©chets dangereux   2017   \n",
       "\n",
       "  Code_Operation_Eliminatio_Valorisation  \\\n",
       "0                                    D13   \n",
       "1                                    D8    \n",
       "2                                    R12   \n",
       "3                                    R13   \n",
       "4                                    R13   \n",
       "\n",
       "           Libelle_Operation_Eliminatio_Valorisation Code_Departement Pays  \\\n",
       "0  D13 Regroupement préalablement à l'une des opé...               33  NaN   \n",
       "1  D8 Traitement biologique non spécifié ailleurs...               64  NaN   \n",
       "2  R12 Echange de déchets en vue de les soumettre...               16  NaN   \n",
       "3  R13 Stockage de déchets préalablement à l'une ...               33  NaN   \n",
       "4  R13 Stockage de déchets préalablement à l'une ...               33  NaN   \n",
       "\n",
       "  Code_Dechet                                     Libelle_Dechet  Quantite  \\\n",
       "0   16 03 03*  Déchets d'origine minérale contenant des subst...     2.320   \n",
       "1   13 05 07*  Eau mélangée à des hydrocarbures provenant de ...     1.500   \n",
       "2   13 05 02*   Boues provenant de séparateurs eau/hydrocarbures     0.500   \n",
       "3   06 10 02*       Déchets contenant des substances dangereuses     0.103   \n",
       "4   15 01 10*  Emballages contenant des résidus de substances...     2.400   \n",
       "\n",
       "  Unite  \n",
       "0  t/an  \n",
       "1  t/an  \n",
       "2  t/an  \n",
       "3  t/an  \n",
       "4  t/an  "
      ]
     },
     "execution_count": 5,
     "metadata": {},
     "output_type": "execute_result"
    }
   ],
   "source": [
    "import pandas\n",
    "df = pandas.read_csv(\"2017/Prod_dechets_dangereux.csv\")\n",
    "df.head()"
   ]
  },
  {
   "cell_type": "code",
   "execution_count": 6,
   "metadata": {
    "scrolled": false
   },
   "outputs": [
    {
     "data": {
      "text/plain": [
       "['LUBRIZOL FRANCE',\n",
       " 'LUBRIZOL France',\n",
       " 'LUBRIZOL France Site de Rouen (siège social et usine)']"
      ]
     },
     "execution_count": 6,
     "metadata": {},
     "output_type": "execute_result"
    }
   ],
   "source": [
    "[_ for _ in set(df.Nom_Etablissement) if \"lubrizol\" in _.lower()]"
   ]
  },
  {
   "cell_type": "code",
   "execution_count": 7,
   "metadata": {},
   "outputs": [
    {
     "data": {
      "text/html": [
       "<div>\n",
       "<style scoped>\n",
       "    .dataframe tbody tr th:only-of-type {\n",
       "        vertical-align: middle;\n",
       "    }\n",
       "\n",
       "    .dataframe tbody tr th {\n",
       "        vertical-align: top;\n",
       "    }\n",
       "\n",
       "    .dataframe thead th {\n",
       "        text-align: right;\n",
       "    }\n",
       "</style>\n",
       "<table border=\"1\" class=\"dataframe\">\n",
       "  <thead>\n",
       "    <tr style=\"text-align: right;\">\n",
       "      <th></th>\n",
       "      <th>5073</th>\n",
       "      <th>5074</th>\n",
       "      <th>5075</th>\n",
       "      <th>5076</th>\n",
       "      <th>19092</th>\n",
       "    </tr>\n",
       "  </thead>\n",
       "  <tbody>\n",
       "    <tr>\n",
       "      <th>Identifiant</th>\n",
       "      <td>52.02708</td>\n",
       "      <td>52.02708</td>\n",
       "      <td>52.02708</td>\n",
       "      <td>52.02708</td>\n",
       "      <td>58.00574</td>\n",
       "    </tr>\n",
       "    <tr>\n",
       "      <th>Nom_Etablissement</th>\n",
       "      <td>LUBRIZOL FRANCE</td>\n",
       "      <td>LUBRIZOL FRANCE</td>\n",
       "      <td>LUBRIZOL FRANCE</td>\n",
       "      <td>LUBRIZOL FRANCE</td>\n",
       "      <td>LUBRIZOL France Site de Rouen (siège social et...</td>\n",
       "    </tr>\n",
       "    <tr>\n",
       "      <th>Dechet</th>\n",
       "      <td>Production de dÃ©chets dangereux</td>\n",
       "      <td>Production de dÃ©chets dangereux</td>\n",
       "      <td>Production de dÃ©chets dangereux</td>\n",
       "      <td>Production de dÃ©chets dangereux</td>\n",
       "      <td>Production de dÃ©chets dangereux</td>\n",
       "    </tr>\n",
       "    <tr>\n",
       "      <th>Annee</th>\n",
       "      <td>2017</td>\n",
       "      <td>2017</td>\n",
       "      <td>2017</td>\n",
       "      <td>2017</td>\n",
       "      <td>2017</td>\n",
       "    </tr>\n",
       "    <tr>\n",
       "      <th>Code_Operation_Eliminatio_Valorisation</th>\n",
       "      <td>D10</td>\n",
       "      <td>D5</td>\n",
       "      <td>D8</td>\n",
       "      <td>R12</td>\n",
       "      <td>D10</td>\n",
       "    </tr>\n",
       "    <tr>\n",
       "      <th>Libelle_Operation_Eliminatio_Valorisation</th>\n",
       "      <td>D10 Incinération à terre</td>\n",
       "      <td>D5 Mise en décharge spécialement aménagée (par...</td>\n",
       "      <td>D8 Traitement biologique non spécifié ailleurs...</td>\n",
       "      <td>R12 Echange de déchets en vue de les soumettre...</td>\n",
       "      <td>D10 Incinération à terre</td>\n",
       "    </tr>\n",
       "    <tr>\n",
       "      <th>Code_Departement</th>\n",
       "      <td>01</td>\n",
       "      <td>30</td>\n",
       "      <td>64</td>\n",
       "      <td>34</td>\n",
       "      <td>76</td>\n",
       "    </tr>\n",
       "    <tr>\n",
       "      <th>Pays</th>\n",
       "      <td>NaN</td>\n",
       "      <td>NaN</td>\n",
       "      <td>NaN</td>\n",
       "      <td>NaN</td>\n",
       "      <td>NaN</td>\n",
       "    </tr>\n",
       "    <tr>\n",
       "      <th>Code_Dechet</th>\n",
       "      <td>07 01 01*</td>\n",
       "      <td>17 02 04*</td>\n",
       "      <td>07 07 01*</td>\n",
       "      <td>15 02 02*</td>\n",
       "      <td>07 01 04*</td>\n",
       "    </tr>\n",
       "    <tr>\n",
       "      <th>Libelle_Dechet</th>\n",
       "      <td>Eaux de lavage et liqueurs mères aqueuses</td>\n",
       "      <td>Bois, verre et matières plastiques contenant d...</td>\n",
       "      <td>Eaux de lavage et liqueurs mères aqueuses</td>\n",
       "      <td>Absorbants, matériaux filtrants (y compris les...</td>\n",
       "      <td>Autres solvants, liquides de lavage et liqueur...</td>\n",
       "    </tr>\n",
       "    <tr>\n",
       "      <th>Quantite</th>\n",
       "      <td>20.0</td>\n",
       "      <td>0.0022</td>\n",
       "      <td>8.34</td>\n",
       "      <td>0.989</td>\n",
       "      <td>472.0</td>\n",
       "    </tr>\n",
       "    <tr>\n",
       "      <th>Unite</th>\n",
       "      <td>t/an</td>\n",
       "      <td>t/an</td>\n",
       "      <td>t/an</td>\n",
       "      <td>t/an</td>\n",
       "      <td>t/an</td>\n",
       "    </tr>\n",
       "  </tbody>\n",
       "</table>\n",
       "</div>"
      ],
      "text/plain": [
       "                                                                               5073   \\\n",
       "Identifiant                                                                 52.02708   \n",
       "Nom_Etablissement                                                    LUBRIZOL FRANCE   \n",
       "Dechet                                              Production de dÃ©chets dangereux   \n",
       "Annee                                                                           2017   \n",
       "Code_Operation_Eliminatio_Valorisation                                           D10   \n",
       "Libelle_Operation_Eliminatio_Valorisation                   D10 Incinération à terre   \n",
       "Code_Departement                                                                  01   \n",
       "Pays                                                                             NaN   \n",
       "Code_Dechet                                                                07 01 01*   \n",
       "Libelle_Dechet                             Eaux de lavage et liqueurs mères aqueuses   \n",
       "Quantite                                                                        20.0   \n",
       "Unite                                                                           t/an   \n",
       "\n",
       "                                                                                       5074   \\\n",
       "Identifiant                                                                         52.02708   \n",
       "Nom_Etablissement                                                            LUBRIZOL FRANCE   \n",
       "Dechet                                                      Production de dÃ©chets dangereux   \n",
       "Annee                                                                                   2017   \n",
       "Code_Operation_Eliminatio_Valorisation                                                   D5    \n",
       "Libelle_Operation_Eliminatio_Valorisation  D5 Mise en décharge spécialement aménagée (par...   \n",
       "Code_Departement                                                                          30   \n",
       "Pays                                                                                     NaN   \n",
       "Code_Dechet                                                                        17 02 04*   \n",
       "Libelle_Dechet                             Bois, verre et matières plastiques contenant d...   \n",
       "Quantite                                                                              0.0022   \n",
       "Unite                                                                                   t/an   \n",
       "\n",
       "                                                                                       5075   \\\n",
       "Identifiant                                                                         52.02708   \n",
       "Nom_Etablissement                                                            LUBRIZOL FRANCE   \n",
       "Dechet                                                      Production de dÃ©chets dangereux   \n",
       "Annee                                                                                   2017   \n",
       "Code_Operation_Eliminatio_Valorisation                                                   D8    \n",
       "Libelle_Operation_Eliminatio_Valorisation  D8 Traitement biologique non spécifié ailleurs...   \n",
       "Code_Departement                                                                          64   \n",
       "Pays                                                                                     NaN   \n",
       "Code_Dechet                                                                        07 07 01*   \n",
       "Libelle_Dechet                                     Eaux de lavage et liqueurs mères aqueuses   \n",
       "Quantite                                                                                8.34   \n",
       "Unite                                                                                   t/an   \n",
       "\n",
       "                                                                                       5076   \\\n",
       "Identifiant                                                                         52.02708   \n",
       "Nom_Etablissement                                                            LUBRIZOL FRANCE   \n",
       "Dechet                                                      Production de dÃ©chets dangereux   \n",
       "Annee                                                                                   2017   \n",
       "Code_Operation_Eliminatio_Valorisation                                                   R12   \n",
       "Libelle_Operation_Eliminatio_Valorisation  R12 Echange de déchets en vue de les soumettre...   \n",
       "Code_Departement                                                                          34   \n",
       "Pays                                                                                     NaN   \n",
       "Code_Dechet                                                                        15 02 02*   \n",
       "Libelle_Dechet                             Absorbants, matériaux filtrants (y compris les...   \n",
       "Quantite                                                                               0.989   \n",
       "Unite                                                                                   t/an   \n",
       "\n",
       "                                                                                       19092  \n",
       "Identifiant                                                                         58.00574  \n",
       "Nom_Etablissement                          LUBRIZOL France Site de Rouen (siège social et...  \n",
       "Dechet                                                      Production de dÃ©chets dangereux  \n",
       "Annee                                                                                   2017  \n",
       "Code_Operation_Eliminatio_Valorisation                                                   D10  \n",
       "Libelle_Operation_Eliminatio_Valorisation                           D10 Incinération à terre  \n",
       "Code_Departement                                                                          76  \n",
       "Pays                                                                                     NaN  \n",
       "Code_Dechet                                                                        07 01 04*  \n",
       "Libelle_Dechet                             Autres solvants, liquides de lavage et liqueur...  \n",
       "Quantite                                                                               472.0  \n",
       "Unite                                                                                   t/an  "
      ]
     },
     "execution_count": 7,
     "metadata": {},
     "output_type": "execute_result"
    }
   ],
   "source": [
    "df[df.Nom_Etablissement.str.contains(\"LUBRI\")].head().T"
   ]
  },
  {
   "cell_type": "code",
   "execution_count": 8,
   "metadata": {},
   "outputs": [
    {
     "data": {
      "text/html": [
       "<div>\n",
       "<style scoped>\n",
       "    .dataframe tbody tr th:only-of-type {\n",
       "        vertical-align: middle;\n",
       "    }\n",
       "\n",
       "    .dataframe tbody tr th {\n",
       "        vertical-align: top;\n",
       "    }\n",
       "\n",
       "    .dataframe thead th {\n",
       "        text-align: right;\n",
       "    }\n",
       "</style>\n",
       "<table border=\"1\" class=\"dataframe\">\n",
       "  <thead>\n",
       "    <tr style=\"text-align: right;\">\n",
       "      <th></th>\n",
       "      <th>Identifiant</th>\n",
       "      <th>Nom_Etablissement</th>\n",
       "      <th>Numero_SIRET</th>\n",
       "      <th>Adresse</th>\n",
       "      <th>Code_Postal</th>\n",
       "      <th>Commune</th>\n",
       "      <th>Departement</th>\n",
       "      <th>Region</th>\n",
       "      <th>Coordonnees_X</th>\n",
       "      <th>Coordonnees_Y</th>\n",
       "      <th>Code_APE</th>\n",
       "      <th>Libelle_APE</th>\n",
       "      <th>code_eprtr</th>\n",
       "      <th>libelle_eprtr</th>\n",
       "    </tr>\n",
       "  </thead>\n",
       "  <tbody>\n",
       "    <tr>\n",
       "      <th>0</th>\n",
       "      <td>68.11539</td>\n",
       "      <td>Carrières BERNADETS - ISDI</td>\n",
       "      <td>54608016900115</td>\n",
       "      <td>NaN</td>\n",
       "      <td>31420</td>\n",
       "      <td>AURIGNAC</td>\n",
       "      <td>HAUTE-GARONNE</td>\n",
       "      <td>OCCITANIE</td>\n",
       "      <td>481659.0</td>\n",
       "      <td>1802490.0</td>\n",
       "      <td>0812Z</td>\n",
       "      <td>Exploitation de gravières et sablières, extrac...</td>\n",
       "      <td>NaN</td>\n",
       "      <td>NaN</td>\n",
       "    </tr>\n",
       "    <tr>\n",
       "      <th>1</th>\n",
       "      <td>61.10406</td>\n",
       "      <td>REVAGA</td>\n",
       "      <td>51058711600037</td>\n",
       "      <td>NaN</td>\n",
       "      <td>69390</td>\n",
       "      <td>MILLERY</td>\n",
       "      <td>RHONE</td>\n",
       "      <td>AUVERGNE-RHONE-ALPES</td>\n",
       "      <td>790678.0</td>\n",
       "      <td>2073093.0</td>\n",
       "      <td>3811Z</td>\n",
       "      <td>Collecte des déchets non dangereux</td>\n",
       "      <td>NaN</td>\n",
       "      <td>NaN</td>\n",
       "    </tr>\n",
       "    <tr>\n",
       "      <th>2</th>\n",
       "      <td>124.00155</td>\n",
       "      <td>SATE</td>\n",
       "      <td>42976802100025</td>\n",
       "      <td>NaN</td>\n",
       "      <td>90150</td>\n",
       "      <td>FONTAINE</td>\n",
       "      <td>TERRITOIRE-DE-BELFORT</td>\n",
       "      <td>BOURGOGNE-FRANCHE-COMTE</td>\n",
       "      <td>949818.0</td>\n",
       "      <td>2305514.0</td>\n",
       "      <td>2751Z</td>\n",
       "      <td>Fabrication d'appareils électroménagers</td>\n",
       "      <td>NaN</td>\n",
       "      <td>NaN</td>\n",
       "    </tr>\n",
       "    <tr>\n",
       "      <th>3</th>\n",
       "      <td>61.08347</td>\n",
       "      <td>GRTgaz - Station de Compression de St AVIT</td>\n",
       "      <td>44011762001571</td>\n",
       "      <td>NaN</td>\n",
       "      <td>26330</td>\n",
       "      <td>CHATEAUNEUF-DE-GALAURE</td>\n",
       "      <td>DROME</td>\n",
       "      <td>AUVERGNE-RHONE-ALPES</td>\n",
       "      <td>805789.0</td>\n",
       "      <td>2028946.0</td>\n",
       "      <td>4950Z</td>\n",
       "      <td>Transports par conduites</td>\n",
       "      <td>NaN</td>\n",
       "      <td>NaN</td>\n",
       "    </tr>\n",
       "    <tr>\n",
       "      <th>4</th>\n",
       "      <td>61.10271</td>\n",
       "      <td>FONDEX SAS</td>\n",
       "      <td>60562013700030</td>\n",
       "      <td>NaN</td>\n",
       "      <td>74302</td>\n",
       "      <td>CLUSES</td>\n",
       "      <td>HAUTE-SAVOIE</td>\n",
       "      <td>AUVERGNE-RHONE-ALPES</td>\n",
       "      <td>928249.0</td>\n",
       "      <td>2126191.0</td>\n",
       "      <td>2550B</td>\n",
       "      <td>Découpage, emboutissage</td>\n",
       "      <td>NaN</td>\n",
       "      <td>NaN</td>\n",
       "    </tr>\n",
       "  </tbody>\n",
       "</table>\n",
       "</div>"
      ],
      "text/plain": [
       "   Identifiant                           Nom_Etablissement    Numero_SIRET  \\\n",
       "0     68.11539                  Carrières BERNADETS - ISDI  54608016900115   \n",
       "1     61.10406                                      REVAGA  51058711600037   \n",
       "2    124.00155                                        SATE  42976802100025   \n",
       "3     61.08347  GRTgaz - Station de Compression de St AVIT  44011762001571   \n",
       "4     61.10271                                  FONDEX SAS  60562013700030   \n",
       "\n",
       "  Adresse  Code_Postal                 Commune            Departement  \\\n",
       "0     NaN        31420                AURIGNAC          HAUTE-GARONNE   \n",
       "1     NaN        69390                 MILLERY                  RHONE   \n",
       "2     NaN        90150                FONTAINE  TERRITOIRE-DE-BELFORT   \n",
       "3     NaN        26330  CHATEAUNEUF-DE-GALAURE                  DROME   \n",
       "4     NaN        74302                  CLUSES           HAUTE-SAVOIE   \n",
       "\n",
       "                    Region  Coordonnees_X  Coordonnees_Y Code_APE  \\\n",
       "0                OCCITANIE       481659.0      1802490.0    0812Z   \n",
       "1     AUVERGNE-RHONE-ALPES       790678.0      2073093.0    3811Z   \n",
       "2  BOURGOGNE-FRANCHE-COMTE       949818.0      2305514.0    2751Z   \n",
       "3     AUVERGNE-RHONE-ALPES       805789.0      2028946.0    4950Z   \n",
       "4     AUVERGNE-RHONE-ALPES       928249.0      2126191.0    2550B   \n",
       "\n",
       "                                         Libelle_APE code_eprtr libelle_eprtr  \n",
       "0  Exploitation de gravières et sablières, extrac...        NaN           NaN  \n",
       "1                 Collecte des déchets non dangereux        NaN           NaN  \n",
       "2            Fabrication d'appareils électroménagers        NaN           NaN  \n",
       "3                           Transports par conduites        NaN           NaN  \n",
       "4                            Découpage, emboutissage        NaN           NaN  "
      ]
     },
     "execution_count": 8,
     "metadata": {},
     "output_type": "execute_result"
    }
   ],
   "source": [
    "ets = pandas.read_csv(\"2017/etablissements.csv\")\n",
    "ets.head()"
   ]
  },
  {
   "cell_type": "code",
   "execution_count": 9,
   "metadata": {},
   "outputs": [
    {
     "data": {
      "text/html": [
       "<div>\n",
       "<style scoped>\n",
       "    .dataframe tbody tr th:only-of-type {\n",
       "        vertical-align: middle;\n",
       "    }\n",
       "\n",
       "    .dataframe tbody tr th {\n",
       "        vertical-align: top;\n",
       "    }\n",
       "\n",
       "    .dataframe thead th {\n",
       "        text-align: right;\n",
       "    }\n",
       "</style>\n",
       "<table border=\"1\" class=\"dataframe\">\n",
       "  <thead>\n",
       "    <tr style=\"text-align: right;\">\n",
       "      <th></th>\n",
       "      <th>Identifiant</th>\n",
       "      <th>Nom_Etablissement</th>\n",
       "      <th>Numero_SIRET</th>\n",
       "      <th>Adresse</th>\n",
       "      <th>Code_Postal</th>\n",
       "      <th>Commune</th>\n",
       "      <th>Departement</th>\n",
       "      <th>Region</th>\n",
       "      <th>Coordonnees_X</th>\n",
       "      <th>Coordonnees_Y</th>\n",
       "      <th>Code_APE</th>\n",
       "      <th>Libelle_APE</th>\n",
       "      <th>code_eprtr</th>\n",
       "      <th>libelle_eprtr</th>\n",
       "    </tr>\n",
       "  </thead>\n",
       "  <tbody>\n",
       "    <tr>\n",
       "      <th>5696</th>\n",
       "      <td>52.02708</td>\n",
       "      <td>LUBRIZOL FRANCE</td>\n",
       "      <td>54207095800047</td>\n",
       "      <td>Pôle 4/RD 281 avenue du Lac</td>\n",
       "      <td>64150</td>\n",
       "      <td>MOURENX</td>\n",
       "      <td>PYRENEES-ATLANTIQUES</td>\n",
       "      <td>NOUVELLE-AQUITAINE</td>\n",
       "      <td>359197.0</td>\n",
       "      <td>1823064.0</td>\n",
       "      <td>2059Z</td>\n",
       "      <td>Fabrication d'autres produits chimiques n.c.a.</td>\n",
       "      <td>4.(a).(iii)</td>\n",
       "      <td>hydrocarbures sulfurés</td>\n",
       "    </tr>\n",
       "    <tr>\n",
       "      <th>6147</th>\n",
       "      <td>58.00574</td>\n",
       "      <td>LUBRIZOL France Site de Rouen (siège social et...</td>\n",
       "      <td>54207095800021</td>\n",
       "      <td>25, Quai de France BP 1062</td>\n",
       "      <td>76173</td>\n",
       "      <td>ROUEN</td>\n",
       "      <td>SEINE-MARITIME</td>\n",
       "      <td>NORMANDIE</td>\n",
       "      <td>509411.0</td>\n",
       "      <td>2494315.0</td>\n",
       "      <td>2059Z</td>\n",
       "      <td>Fabrication d'autres produits chimiques n.c.a.</td>\n",
       "      <td>4.(a).(iii)</td>\n",
       "      <td>hydrocarbures sulfurés</td>\n",
       "    </tr>\n",
       "    <tr>\n",
       "      <th>6707</th>\n",
       "      <td>58.00575</td>\n",
       "      <td>LUBRIZOL France</td>\n",
       "      <td>54207095800039</td>\n",
       "      <td>ROUTE DU CANAL DE TANCARVILLE</td>\n",
       "      <td>76430</td>\n",
       "      <td>OUDALLE</td>\n",
       "      <td>SEINE-MARITIME</td>\n",
       "      <td>NORMANDIE</td>\n",
       "      <td>452455.0</td>\n",
       "      <td>2502974.0</td>\n",
       "      <td>2059Z</td>\n",
       "      <td>Fabrication d'autres produits chimiques n.c.a.</td>\n",
       "      <td>4.(a).(iii)</td>\n",
       "      <td>hydrocarbures sulfurés</td>\n",
       "    </tr>\n",
       "  </tbody>\n",
       "</table>\n",
       "</div>"
      ],
      "text/plain": [
       "      Identifiant                                  Nom_Etablissement  \\\n",
       "5696     52.02708                                    LUBRIZOL FRANCE   \n",
       "6147     58.00574  LUBRIZOL France Site de Rouen (siège social et...   \n",
       "6707     58.00575                                    LUBRIZOL France   \n",
       "\n",
       "        Numero_SIRET                        Adresse  Code_Postal  Commune  \\\n",
       "5696  54207095800047    Pôle 4/RD 281 avenue du Lac        64150  MOURENX   \n",
       "6147  54207095800021     25, Quai de France BP 1062        76173    ROUEN   \n",
       "6707  54207095800039  ROUTE DU CANAL DE TANCARVILLE        76430  OUDALLE   \n",
       "\n",
       "               Departement              Region  Coordonnees_X  Coordonnees_Y  \\\n",
       "5696  PYRENEES-ATLANTIQUES  NOUVELLE-AQUITAINE       359197.0      1823064.0   \n",
       "6147        SEINE-MARITIME           NORMANDIE       509411.0      2494315.0   \n",
       "6707        SEINE-MARITIME           NORMANDIE       452455.0      2502974.0   \n",
       "\n",
       "     Code_APE                                     Libelle_APE   code_eprtr  \\\n",
       "5696    2059Z  Fabrication d'autres produits chimiques n.c.a.  4.(a).(iii)   \n",
       "6147    2059Z  Fabrication d'autres produits chimiques n.c.a.  4.(a).(iii)   \n",
       "6707    2059Z  Fabrication d'autres produits chimiques n.c.a.  4.(a).(iii)   \n",
       "\n",
       "               libelle_eprtr  \n",
       "5696  hydrocarbures sulfurés  \n",
       "6147  hydrocarbures sulfurés  \n",
       "6707  hydrocarbures sulfurés  "
      ]
     },
     "execution_count": 9,
     "metadata": {},
     "output_type": "execute_result"
    }
   ],
   "source": [
    "ets[ets.Nom_Etablissement.str.contains(\"LUBRI\")]"
   ]
  },
  {
   "cell_type": "markdown",
   "metadata": {},
   "source": [
    "## Conversion des coordonnées\n",
    "\n",
    "Les coordonnées utilisées par l'admnistration française sont souvent différentes des longitudes et latitudes, il pourrait s'agir du système [Lambert 93](https://epsg.io/2154). Il faut convertir."
   ]
  },
  {
   "cell_type": "code",
   "execution_count": 10,
   "metadata": {},
   "outputs": [
    {
     "metadata": {},
     "name": "stderr",
     "output_type": "stream",
     "text": [
      "/home/xadupre/.local/lib/python3.10/site-packages/pyproj/crs/crs.py:141: FutureWarning: '+init=<authority>:<code>' syntax is deprecated. '<authority>:<code>' is the preferred initialization method. When making the change, be mindful of axis order changes: https://pyproj4.github.io/pyproj/stable/gotchas.html#axis-order-changes-in-proj-6\n",
      "  in_crs_string = _prepare_from_proj_string(in_crs_string)\n",
      "/home/xadupre/.local/lib/python3.10/site-packages/pyproj/crs/crs.py:141: FutureWarning: '+init=<authority>:<code>' syntax is deprecated. '<authority>:<code>' is the preferred initialization method. When making the change, be mindful of axis order changes: https://pyproj4.github.io/pyproj/stable/gotchas.html#axis-order-changes-in-proj-6\n",
      "  in_crs_string = _prepare_from_proj_string(in_crs_string)\n",
      "/tmp/ipykernel_942/2485346245.py:5: DeprecationWarning: This function is deprecated. See: https://pyproj4.github.io/pyproj/stable/gotchas.html#upgrading-to-pyproj-2-from-pyproj-1\n",
      "  transform(p1, p2, 1.059011, 49.434654), exp\n"
     ]
    },
    {
     "data": {
      "text/plain": [
       "((559176.9910858747, 6927865.768822115), (509411.0, 2494315.0))"
      ]
     },
     "execution_count": 10,
     "metadata": {},
     "output_type": "execute_result"
    }
   ],
   "source": [
    "from pyproj import Proj, transform\n",
    "p1 = Proj(init='epsg:4326')  # longitude / latidude\n",
    "p2 = Proj(init='epsg:2154')  # Lambert 93\n",
    "exp = (509411.0, 2494315.0)  # Rouen dans la base de données reçues.\n",
    "transform(p1, p2, 1.059011, 49.434654), exp"
   ]
  },
  {
   "cell_type": "markdown",
   "metadata": {},
   "source": [
    "Ca n'a pas l'air d'être ça. On en essaye plusieurs."
   ]
  },
  {
   "cell_type": "code",
   "execution_count": 11,
   "metadata": {
    "scrolled": false
   },
   "outputs": [
    {
     "metadata": {},
     "name": "stderr",
     "output_type": "stream",
     "text": [
      "\r",
      "  0%|                                                                                                                                  | 0/8000 [00:00<?, ?it/s]"
     ]
    },
    {
     "metadata": {},
     "name": "stderr",
     "output_type": "stream",
     "text": [
      "\r",
      "  0%|                                                                                                                          | 4/8000 [00:00<03:48, 34.99it/s]"
     ]
    },
    {
     "metadata": {},
     "name": "stderr",
     "output_type": "stream",
     "text": [
      "\r",
      "  0%|                                                                                                                          | 8/8000 [00:00<03:46, 35.24it/s]"
     ]
    },
    {
     "metadata": {},
     "name": "stderr",
     "output_type": "stream",
     "text": [
      "\r",
      "  0%|▏                                                                                                                        | 12/8000 [00:00<10:23, 12.81it/s]"
     ]
    },
    {
     "metadata": {},
     "name": "stderr",
     "output_type": "stream",
     "text": [
      "\r",
      "  0%|▏                                                                                                                        | 15/8000 [00:01<13:10, 10.10it/s]"
     ]
    },
    {
     "metadata": {},
     "name": "stderr",
     "output_type": "stream",
     "text": [
      "\r",
      "  0%|▎                                                                                                                        | 17/8000 [00:01<14:28,  9.20it/s]"
     ]
    },
    {
     "metadata": {},
     "name": "stderr",
     "output_type": "stream",
     "text": [
      "\r",
      "  0%|▎                                                                                                                        | 19/8000 [00:01<15:28,  8.59it/s]"
     ]
    },
    {
     "metadata": {},
     "name": "stderr",
     "output_type": "stream",
     "text": [
      "\r",
      "  0%|▎                                                                                                                        | 21/8000 [00:02<16:13,  8.20it/s]"
     ]
    },
    {
     "metadata": {},
     "name": "stderr",
     "output_type": "stream",
     "text": [
      "\r",
      "  0%|▎                                                                                                                        | 22/8000 [00:02<16:33,  8.03it/s]"
     ]
    },
    {
     "metadata": {},
     "name": "stderr",
     "output_type": "stream",
     "text": [
      "\r",
      "  0%|▎                                                                                                                        | 23/8000 [00:02<17:03,  7.79it/s]"
     ]
    },
    {
     "metadata": {},
     "name": "stderr",
     "output_type": "stream",
     "text": [
      "\r",
      "  0%|▎                                                                                                                        | 24/8000 [00:02<17:19,  7.67it/s]"
     ]
    },
    {
     "metadata": {},
     "name": "stderr",
     "output_type": "stream",
     "text": [
      "\r",
      "  0%|▍                                                                                                                        | 25/8000 [00:02<17:34,  7.57it/s]"
     ]
    },
    {
     "metadata": {},
     "name": "stderr",
     "output_type": "stream",
     "text": [
      "\r",
      "  0%|▍                                                                                                                        | 26/8000 [00:02<17:52,  7.43it/s]"
     ]
    },
    {
     "metadata": {},
     "name": "stderr",
     "output_type": "stream",
     "text": [
      "\r",
      "  0%|▍                                                                                                                        | 27/8000 [00:02<18:01,  7.37it/s]"
     ]
    },
    {
     "metadata": {},
     "name": "stderr",
     "output_type": "stream",
     "text": [
      "\r",
      "  0%|▍                                                                                                                        | 28/8000 [00:03<18:06,  7.33it/s]"
     ]
    },
    {
     "metadata": {},
     "name": "stderr",
     "output_type": "stream",
     "text": [
      "\r",
      "  0%|▍                                                                                                                        | 29/8000 [00:03<18:26,  7.20it/s]"
     ]
    },
    {
     "metadata": {},
     "name": "stderr",
     "output_type": "stream",
     "text": [
      "\r",
      "  0%|▍                                                                                                                        | 30/8000 [00:03<20:24,  6.51it/s]"
     ]
    },
    {
     "metadata": {},
     "name": "stderr",
     "output_type": "stream",
     "text": [
      "\r",
      "  0%|▍                                                                                                                        | 31/8000 [00:03<20:52,  6.36it/s]"
     ]
    },
    {
     "metadata": {},
     "name": "stderr",
     "output_type": "stream",
     "text": [
      "\r",
      "  0%|▍                                                                                                                        | 32/8000 [00:03<20:47,  6.39it/s]"
     ]
    },
    {
     "metadata": {},
     "name": "stderr",
     "output_type": "stream",
     "text": [
      "\r",
      "  0%|▍                                                                                                                        | 33/8000 [00:03<20:45,  6.39it/s]"
     ]
    },
    {
     "metadata": {},
     "name": "stderr",
     "output_type": "stream",
     "text": [
      "\r",
      "  0%|▌                                                                                                                        | 34/8000 [00:03<21:31,  6.17it/s]"
     ]
    },
    {
     "metadata": {},
     "name": "stderr",
     "output_type": "stream",
     "text": [
      "\r",
      "  0%|▌                                                                                                                        | 35/8000 [00:04<21:33,  6.16it/s]"
     ]
    },
    {
     "metadata": {},
     "name": "stderr",
     "output_type": "stream",
     "text": [
      "\r",
      "  0%|▌                                                                                                                        | 36/8000 [00:04<22:10,  5.98it/s]"
     ]
    },
    {
     "metadata": {},
     "name": "stderr",
     "output_type": "stream",
     "text": [
      "\r",
      "  0%|▌                                                                                                                        | 38/8000 [00:04<15:07,  8.77it/s]"
     ]
    },
    {
     "metadata": {},
     "name": "stderr",
     "output_type": "stream",
     "text": [
      "\r",
      "  1%|▌                                                                                                                        | 41/8000 [00:04<10:04, 13.16it/s]"
     ]
    },
    {
     "metadata": {},
     "name": "stderr",
     "output_type": "stream",
     "text": [
      "\r",
      "  1%|▋                                                                                                                        | 43/8000 [00:04<10:06, 13.12it/s]"
     ]
    },
    {
     "metadata": {},
     "name": "stderr",
     "output_type": "stream",
     "text": [
      "\r",
      "  1%|▋                                                                                                                        | 46/8000 [00:04<09:35, 13.81it/s]"
     ]
    },
    {
     "metadata": {},
     "name": "stderr",
     "output_type": "stream",
     "text": [
      "\r",
      "  1%|▊                                                                                                                        | 57/8000 [00:05<03:55, 33.67it/s]"
     ]
    },
    {
     "metadata": {},
     "name": "stderr",
     "output_type": "stream",
     "text": [
      "\r",
      "  1%|▉                                                                                                                        | 62/8000 [00:05<04:03, 32.56it/s]"
     ]
    },
    {
     "metadata": {},
     "name": "stderr",
     "output_type": "stream",
     "text": [
      "\r",
      "  1%|▉                                                                                                                        | 66/8000 [00:05<04:03, 32.53it/s]"
     ]
    },
    {
     "metadata": {},
     "name": "stderr",
     "output_type": "stream",
     "text": [
      "\r",
      "  1%|█                                                                                                                        | 71/8000 [00:05<03:41, 35.78it/s]"
     ]
    },
    {
     "metadata": {},
     "name": "stderr",
     "output_type": "stream",
     "text": [
      "\r",
      "  1%|█▏                                                                                                                       | 75/8000 [00:05<03:45, 35.17it/s]"
     ]
    },
    {
     "metadata": {},
     "name": "stderr",
     "output_type": "stream",
     "text": [
      "\r",
      "  1%|█▏                                                                                                                       | 80/8000 [00:05<03:39, 36.09it/s]"
     ]
    },
    {
     "metadata": {},
     "name": "stderr",
     "output_type": "stream",
     "text": [
      "\r",
      "  1%|█▎                                                                                                                       | 84/8000 [00:05<03:56, 33.46it/s]"
     ]
    },
    {
     "metadata": {},
     "name": "stderr",
     "output_type": "stream",
     "text": [
      "\r",
      "  1%|█▎                                                                                                                       | 88/8000 [00:05<04:07, 32.00it/s]"
     ]
    },
    {
     "metadata": {},
     "name": "stderr",
     "output_type": "stream",
     "text": [
      "\r",
      "  1%|█▍                                                                                                                       | 93/8000 [00:06<03:37, 36.33it/s]"
     ]
    },
    {
     "metadata": {},
     "name": "stderr",
     "output_type": "stream",
     "text": [
      "\r",
      "  1%|█▍                                                                                                                       | 99/8000 [00:06<03:07, 42.17it/s]"
     ]
    },
    {
     "metadata": {},
     "name": "stderr",
     "output_type": "stream",
     "text": [
      "\r",
      "  1%|█▌                                                                                                                      | 104/8000 [00:06<03:26, 38.19it/s]"
     ]
    },
    {
     "metadata": {},
     "name": "stderr",
     "output_type": "stream",
     "text": [
      "\r",
      "  1%|█▋                                                                                                                      | 109/8000 [00:06<03:15, 40.41it/s]"
     ]
    },
    {
     "metadata": {},
     "name": "stderr",
     "output_type": "stream",
     "text": [
      "\r",
      "  1%|█▋                                                                                                                      | 115/8000 [00:06<02:58, 44.25it/s]"
     ]
    },
    {
     "metadata": {},
     "name": "stderr",
     "output_type": "stream",
     "text": [
      "\r",
      "  2%|█▊                                                                                                                      | 121/8000 [00:06<02:47, 47.01it/s]"
     ]
    },
    {
     "metadata": {},
     "name": "stderr",
     "output_type": "stream",
     "text": [
      "\r",
      "  2%|█▉                                                                                                                      | 127/8000 [00:06<02:41, 48.79it/s]"
     ]
    },
    {
     "metadata": {},
     "name": "stderr",
     "output_type": "stream",
     "text": [
      "\r",
      "  2%|█▉                                                                                                                      | 133/8000 [00:06<02:36, 50.31it/s]"
     ]
    },
    {
     "metadata": {},
     "name": "stderr",
     "output_type": "stream",
     "text": [
      "\r",
      "  2%|██                                                                                                                      | 139/8000 [00:07<03:30, 37.35it/s]"
     ]
    },
    {
     "metadata": {},
     "name": "stderr",
     "output_type": "stream",
     "text": [
      "\r",
      "  2%|██▏                                                                                                                     | 144/8000 [00:07<03:55, 33.32it/s]"
     ]
    },
    {
     "metadata": {},
     "name": "stderr",
     "output_type": "stream",
     "text": [
      "\r",
      "  2%|██▏                                                                                                                     | 148/8000 [00:07<04:04, 32.07it/s]"
     ]
    },
    {
     "metadata": {},
     "name": "stderr",
     "output_type": "stream",
     "text": [
      "\r",
      "  2%|██▎                                                                                                                     | 152/8000 [00:07<04:30, 29.05it/s]"
     ]
    },
    {
     "metadata": {},
     "name": "stderr",
     "output_type": "stream",
     "text": [
      "\r",
      "  2%|██▎                                                                                                                     | 156/8000 [00:07<04:34, 28.55it/s]"
     ]
    },
    {
     "metadata": {},
     "name": "stderr",
     "output_type": "stream",
     "text": [
      "\r",
      "  2%|██▍                                                                                                                     | 161/8000 [00:07<04:11, 31.20it/s]"
     ]
    },
    {
     "metadata": {},
     "name": "stderr",
     "output_type": "stream",
     "text": [
      "\r",
      "  2%|██▍                                                                                                                     | 166/8000 [00:08<03:46, 34.55it/s]"
     ]
    },
    {
     "metadata": {},
     "name": "stderr",
     "output_type": "stream",
     "text": [
      "\r",
      "  2%|██▌                                                                                                                     | 170/8000 [00:08<03:50, 33.98it/s]"
     ]
    },
    {
     "metadata": {},
     "name": "stderr",
     "output_type": "stream",
     "text": [
      "\r",
      "  2%|██▌                                                                                                                     | 174/8000 [00:08<04:24, 29.55it/s]"
     ]
    },
    {
     "metadata": {},
     "name": "stderr",
     "output_type": "stream",
     "text": [
      "\r",
      "  2%|██▋                                                                                                                     | 178/8000 [00:08<05:10, 25.19it/s]"
     ]
    },
    {
     "metadata": {},
     "name": "stderr",
     "output_type": "stream",
     "text": [
      "\r",
      "  2%|██▋                                                                                                                     | 181/8000 [00:08<05:56, 21.92it/s]"
     ]
    },
    {
     "metadata": {},
     "name": "stderr",
     "output_type": "stream",
     "text": [
      "\r",
      "  2%|██▊                                                                                                                     | 190/8000 [00:08<03:43, 34.97it/s]"
     ]
    },
    {
     "metadata": {},
     "name": "stderr",
     "output_type": "stream",
     "text": [
      "\r",
      "  2%|██▉                                                                                                                     | 195/8000 [00:08<03:35, 36.30it/s]"
     ]
    },
    {
     "metadata": {},
     "name": "stderr",
     "output_type": "stream",
     "text": [
      "\r",
      "  2%|███                                                                                                                     | 200/8000 [00:09<03:20, 38.95it/s]"
     ]
    },
    {
     "metadata": {},
     "name": "stderr",
     "output_type": "stream",
     "text": [
      "\r",
      "  3%|███                                                                                                                     | 205/8000 [00:09<04:09, 31.26it/s]"
     ]
    },
    {
     "metadata": {},
     "name": "stderr",
     "output_type": "stream",
     "text": [
      "\r",
      "  3%|███▏                                                                                                                    | 209/8000 [00:09<04:38, 28.02it/s]"
     ]
    },
    {
     "metadata": {},
     "name": "stderr",
     "output_type": "stream",
     "text": [
      "\r",
      "  3%|███▏                                                                                                                    | 213/8000 [00:09<05:19, 24.38it/s]"
     ]
    },
    {
     "metadata": {},
     "name": "stderr",
     "output_type": "stream",
     "text": [
      "\r",
      "  3%|███▎                                                                                                                    | 217/8000 [00:09<04:47, 27.09it/s]"
     ]
    },
    {
     "metadata": {},
     "name": "stderr",
     "output_type": "stream",
     "text": [
      "\r",
      "  3%|███▎                                                                                                                    | 221/8000 [00:10<06:42, 19.34it/s]"
     ]
    },
    {
     "metadata": {},
     "name": "stderr",
     "output_type": "stream",
     "text": [
      "\r",
      "  3%|███▍                                                                                                                    | 227/8000 [00:10<05:00, 25.88it/s]"
     ]
    },
    {
     "metadata": {},
     "name": "stderr",
     "output_type": "stream",
     "text": [
      "\r",
      "  3%|███▍                                                                                                                    | 233/8000 [00:10<04:01, 32.21it/s]"
     ]
    },
    {
     "metadata": {},
     "name": "stderr",
     "output_type": "stream",
     "text": [
      "\r",
      "  3%|███▌                                                                                                                    | 238/8000 [00:10<04:04, 31.74it/s]"
     ]
    },
    {
     "metadata": {},
     "name": "stderr",
     "output_type": "stream",
     "text": [
      "\r",
      "  3%|███▋                                                                                                                    | 244/8000 [00:10<03:28, 37.22it/s]"
     ]
    },
    {
     "metadata": {},
     "name": "stderr",
     "output_type": "stream",
     "text": [
      "\r",
      "  3%|███▊                                                                                                                    | 250/8000 [00:10<03:05, 41.79it/s]"
     ]
    },
    {
     "metadata": {},
     "name": "stderr",
     "output_type": "stream",
     "text": [
      "\r",
      "  3%|███▊                                                                                                                    | 256/8000 [00:10<02:48, 45.96it/s]"
     ]
    },
    {
     "metadata": {},
     "name": "stderr",
     "output_type": "stream",
     "text": [
      "\r",
      "  3%|███▉                                                                                                                    | 263/8000 [00:10<02:34, 50.07it/s]"
     ]
    },
    {
     "metadata": {},
     "name": "stderr",
     "output_type": "stream",
     "text": [
      "\r",
      "  3%|████                                                                                                                    | 270/8000 [00:11<02:25, 53.25it/s]"
     ]
    },
    {
     "metadata": {},
     "name": "stderr",
     "output_type": "stream",
     "text": [
      "\r",
      "  3%|████▏                                                                                                                   | 276/8000 [00:11<02:20, 54.98it/s]"
     ]
    },
    {
     "metadata": {},
     "name": "stderr",
     "output_type": "stream",
     "text": [
      "\r",
      "  4%|████▏                                                                                                                   | 282/8000 [00:11<02:18, 55.60it/s]"
     ]
    },
    {
     "metadata": {},
     "name": "stderr",
     "output_type": "stream",
     "text": [
      "\r",
      "  4%|████▎                                                                                                                   | 289/8000 [00:11<02:18, 55.67it/s]"
     ]
    },
    {
     "metadata": {},
     "name": "stderr",
     "output_type": "stream",
     "text": [
      "\r",
      "  4%|████▍                                                                                                                   | 295/8000 [00:12<07:00, 18.32it/s]"
     ]
    },
    {
     "metadata": {},
     "name": "stderr",
     "output_type": "stream",
     "text": [
      "\r",
      "  4%|████▌                                                                                                                   | 300/8000 [00:12<06:17, 20.38it/s]"
     ]
    },
    {
     "metadata": {},
     "name": "stderr",
     "output_type": "stream",
     "text": [
      "\r",
      "  4%|████▋                                                                                                                   | 313/8000 [00:12<03:44, 34.24it/s]"
     ]
    },
    {
     "metadata": {},
     "name": "stderr",
     "output_type": "stream",
     "text": [
      "\r",
      "  4%|████▊                                                                                                                   | 320/8000 [00:12<03:44, 34.28it/s]"
     ]
    },
    {
     "metadata": {},
     "name": "stderr",
     "output_type": "stream",
     "text": [
      "\r",
      "  4%|████▉                                                                                                                   | 326/8000 [00:13<04:17, 29.79it/s]"
     ]
    },
    {
     "metadata": {},
     "name": "stderr",
     "output_type": "stream",
     "text": [
      "\r",
      "  4%|████▉                                                                                                                   | 331/8000 [00:13<04:16, 29.85it/s]"
     ]
    },
    {
     "metadata": {},
     "name": "stderr",
     "output_type": "stream",
     "text": [
      "\r",
      "  4%|█████                                                                                                                   | 336/8000 [00:13<04:27, 28.64it/s]"
     ]
    },
    {
     "metadata": {},
     "name": "stderr",
     "output_type": "stream",
     "text": [
      "\r",
      "  4%|█████                                                                                                                   | 340/8000 [00:13<04:30, 28.31it/s]"
     ]
    },
    {
     "metadata": {},
     "name": "stderr",
     "output_type": "stream",
     "text": [
      "\r",
      "  4%|█████▏                                                                                                                  | 344/8000 [00:13<04:39, 27.40it/s]"
     ]
    },
    {
     "metadata": {},
     "name": "stderr",
     "output_type": "stream",
     "text": [
      "\r",
      "  4%|█████▏                                                                                                                  | 348/8000 [00:13<04:40, 27.31it/s]"
     ]
    },
    {
     "metadata": {},
     "name": "stderr",
     "output_type": "stream",
     "text": [
      "\r",
      "  4%|█████▎                                                                                                                  | 351/8000 [00:13<04:40, 27.27it/s]"
     ]
    },
    {
     "metadata": {},
     "name": "stderr",
     "output_type": "stream",
     "text": [
      "\r",
      "  4%|█████▎                                                                                                                  | 354/8000 [00:14<04:41, 27.15it/s]"
     ]
    },
    {
     "metadata": {},
     "name": "stderr",
     "output_type": "stream",
     "text": [
      "\r",
      "  4%|█████▎                                                                                                                  | 357/8000 [00:14<04:51, 26.23it/s]"
     ]
    },
    {
     "metadata": {},
     "name": "stderr",
     "output_type": "stream",
     "text": [
      "\r",
      "  4%|█████▍                                                                                                                  | 360/8000 [00:14<05:04, 25.11it/s]"
     ]
    },
    {
     "metadata": {},
     "name": "stderr",
     "output_type": "stream",
     "text": [
      "\r",
      "  5%|█████▍                                                                                                                  | 363/8000 [00:14<04:57, 25.71it/s]"
     ]
    },
    {
     "metadata": {},
     "name": "stderr",
     "output_type": "stream",
     "text": [
      "\r",
      "  5%|█████▍                                                                                                                  | 366/8000 [00:14<04:58, 25.59it/s]"
     ]
    },
    {
     "metadata": {},
     "name": "stderr",
     "output_type": "stream",
     "text": [
      "\r",
      "  5%|█████▌                                                                                                                  | 369/8000 [00:14<05:01, 25.35it/s]"
     ]
    },
    {
     "metadata": {},
     "name": "stderr",
     "output_type": "stream",
     "text": [
      "\r",
      "  5%|█████▌                                                                                                                  | 372/8000 [00:14<05:00, 25.40it/s]"
     ]
    },
    {
     "metadata": {},
     "name": "stderr",
     "output_type": "stream",
     "text": [
      "\r",
      "  5%|█████▋                                                                                                                  | 375/8000 [00:14<05:01, 25.33it/s]"
     ]
    },
    {
     "metadata": {},
     "name": "stderr",
     "output_type": "stream",
     "text": [
      "\r",
      "  5%|█████▋                                                                                                                  | 378/8000 [00:15<04:58, 25.52it/s]"
     ]
    },
    {
     "metadata": {},
     "name": "stderr",
     "output_type": "stream",
     "text": [
      "\r",
      "  5%|█████▋                                                                                                                  | 381/8000 [00:15<04:56, 25.73it/s]"
     ]
    },
    {
     "metadata": {},
     "name": "stderr",
     "output_type": "stream",
     "text": [
      "\r",
      "  5%|█████▊                                                                                                                  | 384/8000 [00:15<04:55, 25.81it/s]"
     ]
    },
    {
     "metadata": {},
     "name": "stderr",
     "output_type": "stream",
     "text": [
      "\r",
      "  5%|█████▊                                                                                                                  | 387/8000 [00:15<04:58, 25.52it/s]"
     ]
    },
    {
     "metadata": {},
     "name": "stderr",
     "output_type": "stream",
     "text": [
      "\r",
      "  5%|█████▊                                                                                                                  | 390/8000 [00:15<04:53, 25.91it/s]"
     ]
    },
    {
     "metadata": {},
     "name": "stderr",
     "output_type": "stream",
     "text": [
      "\r",
      "  5%|█████▉                                                                                                                  | 395/8000 [00:15<04:05, 31.01it/s]"
     ]
    },
    {
     "metadata": {},
     "name": "stderr",
     "output_type": "stream",
     "text": [
      "\r",
      "  5%|█████▉                                                                                                                  | 399/8000 [00:15<03:49, 33.19it/s]"
     ]
    },
    {
     "metadata": {},
     "name": "stderr",
     "output_type": "stream",
     "text": [
      "\r",
      "  5%|██████                                                                                                                  | 403/8000 [00:15<05:04, 24.94it/s]"
     ]
    },
    {
     "metadata": {},
     "name": "stderr",
     "output_type": "stream",
     "text": [
      "\r",
      "  5%|██████                                                                                                                  | 406/8000 [00:16<05:09, 24.57it/s]"
     ]
    },
    {
     "metadata": {},
     "name": "stderr",
     "output_type": "stream",
     "text": [
      "\r",
      "  5%|██████▏                                                                                                                 | 409/8000 [00:16<08:50, 14.30it/s]"
     ]
    },
    {
     "metadata": {},
     "name": "stderr",
     "output_type": "stream",
     "text": [
      "\r",
      "  5%|██████▏                                                                                                                 | 412/8000 [00:16<11:18, 11.19it/s]"
     ]
    },
    {
     "metadata": {},
     "name": "stderr",
     "output_type": "stream",
     "text": [
      "\r",
      "  5%|██████▏                                                                                                                 | 415/8000 [00:17<09:43, 13.00it/s]"
     ]
    },
    {
     "metadata": {},
     "name": "stderr",
     "output_type": "stream",
     "text": [
      "\r",
      "  5%|██████▎                                                                                                                 | 418/8000 [00:17<08:30, 14.85it/s]"
     ]
    },
    {
     "metadata": {},
     "name": "stderr",
     "output_type": "stream",
     "text": [
      "\r",
      "  5%|██████▎                                                                                                                 | 420/8000 [00:17<10:07, 12.47it/s]"
     ]
    },
    {
     "metadata": {},
     "name": "stderr",
     "output_type": "stream",
     "text": [
      "\r",
      "  5%|██████▎                                                                                                                 | 422/8000 [00:17<11:22, 11.10it/s]"
     ]
    },
    {
     "metadata": {},
     "name": "stderr",
     "output_type": "stream",
     "text": [
      "\r",
      "  5%|██████▎                                                                                                                 | 424/8000 [00:17<11:11, 11.28it/s]"
     ]
    },
    {
     "metadata": {},
     "name": "stderr",
     "output_type": "stream",
     "text": [
      "\r",
      "  5%|██████▍                                                                                                                 | 427/8000 [00:18<09:07, 13.83it/s]"
     ]
    },
    {
     "metadata": {},
     "name": "stderr",
     "output_type": "stream",
     "text": [
      "\r",
      "  5%|██████▍                                                                                                                 | 429/8000 [00:18<10:45, 11.73it/s]"
     ]
    },
    {
     "metadata": {},
     "name": "stderr",
     "output_type": "stream",
     "text": [
      "\r",
      "  5%|██████▍                                                                                                                 | 431/8000 [00:18<12:11, 10.35it/s]"
     ]
    },
    {
     "metadata": {},
     "name": "stderr",
     "output_type": "stream",
     "text": [
      "\r",
      "  5%|██████▍                                                                                                                 | 433/8000 [00:18<13:03,  9.66it/s]"
     ]
    },
    {
     "metadata": {},
     "name": "stderr",
     "output_type": "stream",
     "text": [
      "\r",
      "  5%|██████▌                                                                                                                 | 436/8000 [00:18<10:19, 12.22it/s]"
     ]
    },
    {
     "metadata": {},
     "name": "stderr",
     "output_type": "stream",
     "text": [
      "\r",
      "  5%|██████▌                                                                                                                 | 439/8000 [00:19<08:37, 14.62it/s]"
     ]
    },
    {
     "metadata": {},
     "name": "stderr",
     "output_type": "stream",
     "text": [
      "\r",
      "  6%|██████▌                                                                                                                 | 441/8000 [00:19<10:19, 12.21it/s]"
     ]
    },
    {
     "metadata": {},
     "name": "stderr",
     "output_type": "stream",
     "text": [
      "\r",
      "  6%|██████▋                                                                                                                 | 443/8000 [00:19<12:07, 10.38it/s]"
     ]
    },
    {
     "metadata": {},
     "name": "stderr",
     "output_type": "stream",
     "text": [
      "\r",
      "  6%|██████▋                                                                                                                 | 448/8000 [00:19<07:29, 16.80it/s]"
     ]
    },
    {
     "metadata": {},
     "name": "stderr",
     "output_type": "stream",
     "text": [
      "\r",
      "  6%|██████▊                                                                                                                 | 454/8000 [00:19<05:11, 24.24it/s]"
     ]
    },
    {
     "metadata": {},
     "name": "stderr",
     "output_type": "stream",
     "text": [
      "\r",
      "  6%|██████▉                                                                                                                 | 460/8000 [00:19<04:05, 30.74it/s]"
     ]
    },
    {
     "metadata": {},
     "name": "stderr",
     "output_type": "stream",
     "text": [
      "\r",
      "  6%|██████▉                                                                                                                 | 466/8000 [00:20<03:27, 36.39it/s]"
     ]
    },
    {
     "metadata": {},
     "name": "stderr",
     "output_type": "stream",
     "text": [
      "\r",
      "  6%|███████                                                                                                                 | 472/8000 [00:20<03:04, 40.83it/s]"
     ]
    },
    {
     "metadata": {},
     "name": "stderr",
     "output_type": "stream",
     "text": [
      "\r",
      "  6%|███████▏                                                                                                                | 478/8000 [00:20<02:49, 44.44it/s]"
     ]
    },
    {
     "metadata": {},
     "name": "stderr",
     "output_type": "stream",
     "text": [
      "\r",
      "  6%|███████▎                                                                                                                | 484/8000 [00:20<02:43, 46.03it/s]"
     ]
    },
    {
     "metadata": {},
     "name": "stderr",
     "output_type": "stream",
     "text": [
      "\r",
      "  6%|███████▎                                                                                                                | 490/8000 [00:20<02:36, 47.88it/s]"
     ]
    },
    {
     "metadata": {},
     "name": "stderr",
     "output_type": "stream",
     "text": [
      "\r",
      "  6%|███████▍                                                                                                                | 496/8000 [00:20<04:13, 29.60it/s]"
     ]
    },
    {
     "metadata": {},
     "name": "stderr",
     "output_type": "stream",
     "text": [
      "\r",
      "  6%|███████▌                                                                                                                | 500/8000 [00:21<04:32, 27.57it/s]"
     ]
    },
    {
     "metadata": {},
     "name": "stderr",
     "output_type": "stream",
     "text": [
      "\r",
      "  6%|███████▌                                                                                                                | 504/8000 [00:21<04:44, 26.31it/s]"
     ]
    },
    {
     "metadata": {},
     "name": "stderr",
     "output_type": "stream",
     "text": [
      "\r",
      "  6%|███████▌                                                                                                                | 508/8000 [00:21<04:58, 25.12it/s]"
     ]
    },
    {
     "metadata": {},
     "name": "stderr",
     "output_type": "stream",
     "text": [
      "\r",
      "  6%|███████▋                                                                                                                | 511/8000 [00:21<05:04, 24.62it/s]"
     ]
    },
    {
     "metadata": {},
     "name": "stderr",
     "output_type": "stream",
     "text": [
      "\r",
      "  6%|███████▋                                                                                                                | 514/8000 [00:21<05:10, 24.12it/s]"
     ]
    },
    {
     "metadata": {},
     "name": "stderr",
     "output_type": "stream",
     "text": [
      "\r",
      "  6%|███████▊                                                                                                                | 517/8000 [00:21<05:14, 23.77it/s]"
     ]
    },
    {
     "metadata": {},
     "name": "stderr",
     "output_type": "stream",
     "text": [
      "\r",
      "  6%|███████▊                                                                                                                | 520/8000 [00:21<05:22, 23.17it/s]"
     ]
    },
    {
     "metadata": {},
     "name": "stderr",
     "output_type": "stream",
     "text": [
      "\r",
      "  7%|███████▊                                                                                                                | 523/8000 [00:22<05:24, 23.03it/s]"
     ]
    },
    {
     "metadata": {},
     "name": "stderr",
     "output_type": "stream",
     "text": [
      "\r",
      "  7%|███████▉                                                                                                                | 526/8000 [00:22<05:28, 22.78it/s]"
     ]
    },
    {
     "metadata": {},
     "name": "stderr",
     "output_type": "stream",
     "text": [
      "\r",
      "  7%|███████▉                                                                                                                | 529/8000 [00:22<05:26, 22.87it/s]"
     ]
    },
    {
     "metadata": {},
     "name": "stderr",
     "output_type": "stream",
     "text": [
      "\r",
      "  7%|███████▉                                                                                                                | 532/8000 [00:22<05:36, 22.22it/s]"
     ]
    },
    {
     "metadata": {},
     "name": "stderr",
     "output_type": "stream",
     "text": [
      "\r",
      "  7%|████████                                                                                                                | 535/8000 [00:22<05:35, 22.25it/s]"
     ]
    },
    {
     "metadata": {},
     "name": "stderr",
     "output_type": "stream",
     "text": [
      "\r",
      "  7%|████████                                                                                                                | 538/8000 [00:22<05:41, 21.87it/s]"
     ]
    },
    {
     "metadata": {},
     "name": "stderr",
     "output_type": "stream",
     "text": [
      "\r",
      "  7%|████████                                                                                                                | 541/8000 [00:22<06:13, 19.97it/s]"
     ]
    },
    {
     "metadata": {},
     "name": "stderr",
     "output_type": "stream",
     "text": [
      "\r",
      "  7%|████████▏                                                                                                               | 544/8000 [00:23<06:02, 20.55it/s]"
     ]
    },
    {
     "metadata": {},
     "name": "stderr",
     "output_type": "stream",
     "text": [
      "\r",
      "  7%|████████▏                                                                                                               | 547/8000 [00:23<05:51, 21.18it/s]"
     ]
    },
    {
     "metadata": {},
     "name": "stderr",
     "output_type": "stream",
     "text": [
      "\r",
      "  7%|████████▎                                                                                                               | 550/8000 [00:23<05:43, 21.67it/s]"
     ]
    },
    {
     "metadata": {},
     "name": "stderr",
     "output_type": "stream",
     "text": [
      "\r",
      "  7%|████████▎                                                                                                               | 553/8000 [00:23<05:25, 22.91it/s]"
     ]
    },
    {
     "metadata": {},
     "name": "stderr",
     "output_type": "stream",
     "text": [
      "\r",
      "  7%|████████▎                                                                                                               | 556/8000 [00:23<05:24, 22.95it/s]"
     ]
    },
    {
     "metadata": {},
     "name": "stderr",
     "output_type": "stream",
     "text": [
      "\r",
      "  7%|████████▍                                                                                                               | 559/8000 [00:23<05:24, 22.95it/s]"
     ]
    },
    {
     "metadata": {},
     "name": "stderr",
     "output_type": "stream",
     "text": [
      "\r",
      "  7%|████████▍                                                                                                               | 562/8000 [00:23<05:24, 22.91it/s]"
     ]
    },
    {
     "metadata": {},
     "name": "stderr",
     "output_type": "stream",
     "text": [
      "\r",
      "  7%|████████▍                                                                                                               | 565/8000 [00:23<05:25, 22.85it/s]"
     ]
    },
    {
     "metadata": {},
     "name": "stderr",
     "output_type": "stream",
     "text": [
      "\r",
      "  7%|████████▌                                                                                                               | 568/8000 [00:24<05:25, 22.86it/s]"
     ]
    },
    {
     "metadata": {},
     "name": "stderr",
     "output_type": "stream",
     "text": [
      "\r",
      "  7%|████████▌                                                                                                               | 571/8000 [00:24<05:23, 22.95it/s]"
     ]
    },
    {
     "metadata": {},
     "name": "stderr",
     "output_type": "stream",
     "text": [
      "\r",
      "  7%|████████▌                                                                                                               | 574/8000 [00:24<05:24, 22.86it/s]"
     ]
    },
    {
     "metadata": {},
     "name": "stderr",
     "output_type": "stream",
     "text": [
      "\r",
      "  7%|████████▋                                                                                                               | 577/8000 [00:24<05:28, 22.60it/s]"
     ]
    },
    {
     "metadata": {},
     "name": "stderr",
     "output_type": "stream",
     "text": [
      "\r",
      "  7%|████████▋                                                                                                               | 580/8000 [00:24<05:44, 21.57it/s]"
     ]
    },
    {
     "metadata": {},
     "name": "stderr",
     "output_type": "stream",
     "text": [
      "\r",
      "  7%|████████▋                                                                                                               | 583/8000 [00:24<05:44, 21.51it/s]"
     ]
    },
    {
     "metadata": {},
     "name": "stderr",
     "output_type": "stream",
     "text": [
      "\r",
      "  7%|████████▊                                                                                                               | 586/8000 [00:24<05:42, 21.65it/s]"
     ]
    },
    {
     "metadata": {},
     "name": "stderr",
     "output_type": "stream",
     "text": [
      "\r",
      "  7%|████████▊                                                                                                               | 589/8000 [00:25<05:51, 21.06it/s]"
     ]
    },
    {
     "metadata": {},
     "name": "stderr",
     "output_type": "stream",
     "text": [
      "\r",
      "  7%|████████▉                                                                                                               | 592/8000 [00:25<05:44, 21.48it/s]"
     ]
    },
    {
     "metadata": {},
     "name": "stderr",
     "output_type": "stream",
     "text": [
      "\r",
      "  7%|████████▉                                                                                                               | 595/8000 [00:25<05:39, 21.80it/s]"
     ]
    },
    {
     "metadata": {},
     "name": "stderr",
     "output_type": "stream",
     "text": [
      "\r",
      "  7%|████████▉                                                                                                               | 598/8000 [00:25<05:41, 21.70it/s]"
     ]
    },
    {
     "metadata": {},
     "name": "stderr",
     "output_type": "stream",
     "text": [
      "\r",
      "  8%|█████████                                                                                                               | 601/8000 [00:25<05:17, 23.28it/s]"
     ]
    },
    {
     "metadata": {},
     "name": "stderr",
     "output_type": "stream",
     "text": [
      "\r",
      "  8%|█████████                                                                                                               | 604/8000 [00:25<05:20, 23.11it/s]"
     ]
    },
    {
     "metadata": {},
     "name": "stderr",
     "output_type": "stream",
     "text": [
      "\r",
      "  8%|█████████                                                                                                               | 607/8000 [00:25<05:20, 23.03it/s]"
     ]
    },
    {
     "metadata": {},
     "name": "stderr",
     "output_type": "stream",
     "text": [
      "\r",
      "  8%|█████████▏                                                                                                              | 610/8000 [00:25<05:21, 22.98it/s]"
     ]
    },
    {
     "metadata": {},
     "name": "stderr",
     "output_type": "stream",
     "text": [
      "\r",
      "  8%|█████████▏                                                                                                              | 613/8000 [00:26<05:21, 22.99it/s]"
     ]
    },
    {
     "metadata": {},
     "name": "stderr",
     "output_type": "stream",
     "text": [
      "\r",
      "  8%|█████████▏                                                                                                              | 616/8000 [00:26<05:20, 23.05it/s]"
     ]
    },
    {
     "metadata": {},
     "name": "stderr",
     "output_type": "stream",
     "text": [
      "\r",
      "  8%|█████████▎                                                                                                              | 619/8000 [00:26<05:30, 22.34it/s]"
     ]
    },
    {
     "metadata": {},
     "name": "stderr",
     "output_type": "stream",
     "text": [
      "\r",
      "  8%|█████████▎                                                                                                              | 622/8000 [00:26<05:27, 22.51it/s]"
     ]
    },
    {
     "metadata": {},
     "name": "stderr",
     "output_type": "stream",
     "text": [
      "\r",
      "  8%|█████████▍                                                                                                              | 625/8000 [00:26<05:25, 22.63it/s]"
     ]
    },
    {
     "metadata": {},
     "name": "stderr",
     "output_type": "stream",
     "text": [
      "\r",
      "  8%|█████████▍                                                                                                              | 628/8000 [00:26<05:25, 22.67it/s]"
     ]
    },
    {
     "metadata": {},
     "name": "stderr",
     "output_type": "stream",
     "text": [
      "\r",
      "  8%|█████████▍                                                                                                              | 631/8000 [00:26<05:23, 22.78it/s]"
     ]
    },
    {
     "metadata": {},
     "name": "stderr",
     "output_type": "stream",
     "text": [
      "\r",
      "  8%|█████████▌                                                                                                              | 634/8000 [00:27<05:23, 22.74it/s]"
     ]
    },
    {
     "metadata": {},
     "name": "stderr",
     "output_type": "stream",
     "text": [
      "\r",
      "  8%|█████████▌                                                                                                              | 637/8000 [00:27<05:27, 22.49it/s]"
     ]
    },
    {
     "metadata": {},
     "name": "stderr",
     "output_type": "stream",
     "text": [
      "\r",
      "  8%|█████████▌                                                                                                              | 640/8000 [00:27<05:32, 22.13it/s]"
     ]
    },
    {
     "metadata": {},
     "name": "stderr",
     "output_type": "stream",
     "text": [
      "\r",
      "  8%|█████████▋                                                                                                              | 644/8000 [00:27<04:49, 25.42it/s]"
     ]
    },
    {
     "metadata": {},
     "name": "stderr",
     "output_type": "stream",
     "text": [
      "\r",
      "  8%|█████████▊                                                                                                              | 650/8000 [00:27<03:43, 32.94it/s]"
     ]
    },
    {
     "metadata": {},
     "name": "stderr",
     "output_type": "stream",
     "text": [
      "\r",
      "  8%|█████████▊                                                                                                              | 656/8000 [00:27<03:11, 38.45it/s]"
     ]
    },
    {
     "metadata": {},
     "name": "stderr",
     "output_type": "stream",
     "text": [
      "\r",
      "  8%|█████████▉                                                                                                              | 662/8000 [00:27<02:52, 42.45it/s]"
     ]
    },
    {
     "metadata": {},
     "name": "stderr",
     "output_type": "stream",
     "text": [
      "\r",
      "  8%|██████████                                                                                                              | 668/8000 [00:27<02:41, 45.50it/s]"
     ]
    },
    {
     "metadata": {},
     "name": "stderr",
     "output_type": "stream",
     "text": [
      "\r",
      "  8%|██████████                                                                                                              | 674/8000 [00:27<02:34, 47.34it/s]"
     ]
    },
    {
     "metadata": {},
     "name": "stderr",
     "output_type": "stream",
     "text": [
      "\r",
      "  8%|██████████▏                                                                                                             | 680/8000 [00:28<02:28, 49.21it/s]"
     ]
    },
    {
     "metadata": {},
     "name": "stderr",
     "output_type": "stream",
     "text": [
      "\r",
      "  9%|██████████▎                                                                                                             | 686/8000 [00:28<02:24, 50.60it/s]"
     ]
    },
    {
     "metadata": {},
     "name": "stderr",
     "output_type": "stream",
     "text": [
      "\r",
      "  9%|██████████▍                                                                                                             | 692/8000 [00:28<02:22, 51.27it/s]"
     ]
    },
    {
     "metadata": {},
     "name": "stderr",
     "output_type": "stream",
     "text": [
      "\r",
      "  9%|██████████▍                                                                                                             | 698/8000 [00:28<02:24, 50.64it/s]"
     ]
    },
    {
     "metadata": {},
     "name": "stderr",
     "output_type": "stream",
     "text": [
      "\r",
      "  9%|██████████▌                                                                                                             | 704/8000 [00:28<02:21, 51.72it/s]"
     ]
    },
    {
     "metadata": {},
     "name": "stderr",
     "output_type": "stream",
     "text": [
      "\r",
      "  9%|██████████▋                                                                                                             | 710/8000 [00:28<02:19, 52.36it/s]"
     ]
    },
    {
     "metadata": {},
     "name": "stderr",
     "output_type": "stream",
     "text": [
      "\r",
      "  9%|██████████▋                                                                                                             | 716/8000 [00:28<02:17, 52.90it/s]"
     ]
    },
    {
     "metadata": {},
     "name": "stderr",
     "output_type": "stream",
     "text": [
      "\r",
      "  9%|██████████▊                                                                                                             | 722/8000 [00:28<02:18, 52.65it/s]"
     ]
    },
    {
     "metadata": {},
     "name": "stderr",
     "output_type": "stream",
     "text": [
      "\r",
      "  9%|██████████▉                                                                                                             | 728/8000 [00:29<02:19, 52.13it/s]"
     ]
    },
    {
     "metadata": {},
     "name": "stderr",
     "output_type": "stream",
     "text": [
      "\r",
      "  9%|███████████                                                                                                             | 734/8000 [00:29<02:17, 52.71it/s]"
     ]
    },
    {
     "metadata": {},
     "name": "stderr",
     "output_type": "stream",
     "text": [
      "\r",
      "  9%|███████████                                                                                                             | 740/8000 [00:29<02:29, 48.40it/s]"
     ]
    },
    {
     "metadata": {},
     "name": "stderr",
     "output_type": "stream",
     "text": [
      "\r",
      "  9%|███████████▏                                                                                                            | 745/8000 [00:29<02:29, 48.59it/s]"
     ]
    },
    {
     "metadata": {},
     "name": "stderr",
     "output_type": "stream",
     "text": [
      "\r",
      "  9%|███████████▎                                                                                                            | 751/8000 [00:29<02:25, 49.94it/s]"
     ]
    },
    {
     "metadata": {},
     "name": "stderr",
     "output_type": "stream",
     "text": [
      "\r",
      "  9%|███████████▎                                                                                                            | 757/8000 [00:29<02:21, 51.20it/s]"
     ]
    },
    {
     "metadata": {},
     "name": "stderr",
     "output_type": "stream",
     "text": [
      "\r",
      " 10%|███████████▍                                                                                                            | 763/8000 [00:29<02:43, 44.34it/s]"
     ]
    },
    {
     "metadata": {},
     "name": "stderr",
     "output_type": "stream",
     "text": [
      "\r",
      " 10%|███████████▌                                                                                                            | 768/8000 [00:29<03:05, 38.96it/s]"
     ]
    },
    {
     "metadata": {},
     "name": "stderr",
     "output_type": "stream",
     "text": [
      "\r",
      " 10%|███████████▌                                                                                                            | 773/8000 [00:30<03:23, 35.44it/s]"
     ]
    },
    {
     "metadata": {},
     "name": "stderr",
     "output_type": "stream",
     "text": [
      "\r",
      " 10%|███████████▋                                                                                                            | 777/8000 [00:30<03:34, 33.74it/s]"
     ]
    },
    {
     "metadata": {},
     "name": "stderr",
     "output_type": "stream",
     "text": [
      "\r",
      " 10%|███████████▋                                                                                                            | 781/8000 [00:30<03:46, 31.91it/s]"
     ]
    },
    {
     "metadata": {},
     "name": "stderr",
     "output_type": "stream",
     "text": [
      "\r",
      " 10%|███████████▊                                                                                                            | 787/8000 [00:30<03:11, 37.71it/s]"
     ]
    },
    {
     "metadata": {},
     "name": "stderr",
     "output_type": "stream",
     "text": [
      "\r",
      " 10%|███████████▊                                                                                                            | 791/8000 [00:30<03:25, 35.08it/s]"
     ]
    },
    {
     "metadata": {},
     "name": "stderr",
     "output_type": "stream",
     "text": [
      "\r",
      " 10%|███████████▉                                                                                                            | 795/8000 [00:30<03:36, 33.29it/s]"
     ]
    },
    {
     "metadata": {},
     "name": "stderr",
     "output_type": "stream",
     "text": [
      "\r",
      " 10%|███████████▉                                                                                                            | 799/8000 [00:30<03:45, 31.99it/s]"
     ]
    },
    {
     "metadata": {},
     "name": "stderr",
     "output_type": "stream",
     "text": [
      "\r",
      " 10%|████████████                                                                                                            | 803/8000 [00:31<03:53, 30.86it/s]"
     ]
    },
    {
     "metadata": {},
     "name": "stderr",
     "output_type": "stream",
     "text": [
      "\r",
      " 10%|████████████                                                                                                            | 807/8000 [00:31<03:57, 30.33it/s]"
     ]
    },
    {
     "metadata": {},
     "name": "stderr",
     "output_type": "stream",
     "text": [
      "\r",
      " 10%|████████████▏                                                                                                           | 811/8000 [00:31<04:07, 29.06it/s]"
     ]
    },
    {
     "metadata": {},
     "name": "stderr",
     "output_type": "stream",
     "text": [
      "\r",
      " 10%|████████████▏                                                                                                           | 814/8000 [00:31<04:08, 28.95it/s]"
     ]
    },
    {
     "metadata": {},
     "name": "stderr",
     "output_type": "stream",
     "text": [
      "\r",
      " 10%|████████████▎                                                                                                           | 817/8000 [00:31<04:08, 28.93it/s]"
     ]
    },
    {
     "metadata": {},
     "name": "stderr",
     "output_type": "stream",
     "text": [
      "\r",
      " 10%|████████████▎                                                                                                           | 820/8000 [00:31<04:08, 28.94it/s]"
     ]
    },
    {
     "metadata": {},
     "name": "stderr",
     "output_type": "stream",
     "text": [
      "\r",
      " 10%|████████████▎                                                                                                           | 823/8000 [00:31<04:07, 28.96it/s]"
     ]
    },
    {
     "metadata": {},
     "name": "stderr",
     "output_type": "stream",
     "text": [
      "\r",
      " 10%|████████████▍                                                                                                           | 826/8000 [00:31<04:10, 28.69it/s]"
     ]
    },
    {
     "metadata": {},
     "name": "stderr",
     "output_type": "stream",
     "text": [
      "\r",
      " 10%|████████████▍                                                                                                           | 829/8000 [00:31<04:09, 28.77it/s]"
     ]
    },
    {
     "metadata": {},
     "name": "stderr",
     "output_type": "stream",
     "text": [
      "\r",
      " 10%|████████████▍                                                                                                           | 832/8000 [00:32<04:09, 28.76it/s]"
     ]
    },
    {
     "metadata": {},
     "name": "stderr",
     "output_type": "stream",
     "text": [
      "\r",
      " 10%|████████████▌                                                                                                           | 835/8000 [00:32<04:08, 28.79it/s]"
     ]
    },
    {
     "metadata": {},
     "name": "stderr",
     "output_type": "stream",
     "text": [
      "\r",
      " 10%|████████████▌                                                                                                           | 838/8000 [00:32<04:08, 28.79it/s]"
     ]
    },
    {
     "metadata": {},
     "name": "stderr",
     "output_type": "stream",
     "text": [
      "\r",
      " 11%|████████████▌                                                                                                           | 841/8000 [00:32<04:26, 26.87it/s]"
     ]
    },
    {
     "metadata": {},
     "name": "stderr",
     "output_type": "stream",
     "text": [
      "\r",
      " 11%|████████████▋                                                                                                           | 844/8000 [00:32<04:23, 27.20it/s]"
     ]
    },
    {
     "metadata": {},
     "name": "stderr",
     "output_type": "stream",
     "text": [
      "\r",
      " 11%|████████████▋                                                                                                           | 847/8000 [00:32<04:19, 27.59it/s]"
     ]
    },
    {
     "metadata": {},
     "name": "stderr",
     "output_type": "stream",
     "text": [
      "\r",
      " 11%|████████████▊                                                                                                           | 850/8000 [00:32<04:14, 28.07it/s]"
     ]
    },
    {
     "metadata": {},
     "name": "stderr",
     "output_type": "stream",
     "text": [
      "\r",
      " 11%|████████████▊                                                                                                           | 853/8000 [00:32<04:12, 28.32it/s]"
     ]
    },
    {
     "metadata": {},
     "name": "stderr",
     "output_type": "stream",
     "text": [
      "\r",
      " 11%|████████████▊                                                                                                           | 856/8000 [00:32<04:11, 28.44it/s]"
     ]
    },
    {
     "metadata": {},
     "name": "stderr",
     "output_type": "stream",
     "text": [
      "\r",
      " 11%|████████████▉                                                                                                           | 859/8000 [00:33<04:09, 28.59it/s]"
     ]
    },
    {
     "metadata": {},
     "name": "stderr",
     "output_type": "stream",
     "text": [
      "\r",
      " 11%|████████████▉                                                                                                           | 862/8000 [00:33<04:14, 28.01it/s]"
     ]
    },
    {
     "metadata": {},
     "name": "stderr",
     "output_type": "stream",
     "text": [
      "\r",
      " 11%|████████████▉                                                                                                           | 865/8000 [00:33<04:22, 27.15it/s]"
     ]
    },
    {
     "metadata": {},
     "name": "stderr",
     "output_type": "stream",
     "text": [
      "\r",
      " 11%|█████████████                                                                                                           | 869/8000 [00:33<04:12, 28.21it/s]"
     ]
    },
    {
     "metadata": {},
     "name": "stderr",
     "output_type": "stream",
     "text": [
      "\r",
      " 11%|█████████████                                                                                                           | 872/8000 [00:33<04:10, 28.43it/s]"
     ]
    },
    {
     "metadata": {},
     "name": "stderr",
     "output_type": "stream",
     "text": [
      "\r",
      " 11%|█████████████▏                                                                                                          | 875/8000 [00:33<04:09, 28.53it/s]"
     ]
    },
    {
     "metadata": {},
     "name": "stderr",
     "output_type": "stream",
     "text": [
      "\r",
      " 11%|█████████████▏                                                                                                          | 878/8000 [00:33<04:08, 28.60it/s]"
     ]
    },
    {
     "metadata": {},
     "name": "stderr",
     "output_type": "stream",
     "text": [
      "\r",
      " 11%|█████████████▏                                                                                                          | 881/8000 [00:33<04:08, 28.69it/s]"
     ]
    },
    {
     "metadata": {},
     "name": "stderr",
     "output_type": "stream",
     "text": [
      "\r",
      " 11%|█████████████▎                                                                                                          | 884/8000 [00:33<04:07, 28.77it/s]"
     ]
    },
    {
     "metadata": {},
     "name": "stderr",
     "output_type": "stream",
     "text": [
      "\r",
      " 11%|█████████████▎                                                                                                          | 887/8000 [00:34<04:08, 28.62it/s]"
     ]
    },
    {
     "metadata": {},
     "name": "stderr",
     "output_type": "stream",
     "text": [
      "\r",
      " 11%|█████████████▎                                                                                                          | 890/8000 [00:34<04:14, 27.97it/s]"
     ]
    },
    {
     "metadata": {},
     "name": "stderr",
     "output_type": "stream",
     "text": [
      "\r",
      " 11%|█████████████▍                                                                                                          | 893/8000 [00:34<04:21, 27.20it/s]"
     ]
    },
    {
     "metadata": {},
     "name": "stderr",
     "output_type": "stream",
     "text": [
      "\r",
      " 11%|█████████████▍                                                                                                          | 896/8000 [00:34<04:31, 26.20it/s]"
     ]
    },
    {
     "metadata": {},
     "name": "stderr",
     "output_type": "stream",
     "text": [
      "\r",
      " 11%|█████████████▍                                                                                                          | 899/8000 [00:34<04:29, 26.39it/s]"
     ]
    },
    {
     "metadata": {},
     "name": "stderr",
     "output_type": "stream",
     "text": [
      "\r",
      " 11%|█████████████▌                                                                                                          | 902/8000 [00:34<04:22, 27.05it/s]"
     ]
    },
    {
     "metadata": {},
     "name": "stderr",
     "output_type": "stream",
     "text": [
      "\r",
      " 11%|█████████████▌                                                                                                          | 905/8000 [00:34<04:19, 27.37it/s]"
     ]
    },
    {
     "metadata": {},
     "name": "stderr",
     "output_type": "stream",
     "text": [
      "\r",
      " 11%|█████████████▌                                                                                                          | 908/8000 [00:34<04:15, 27.78it/s]"
     ]
    },
    {
     "metadata": {},
     "name": "stderr",
     "output_type": "stream",
     "text": [
      "\r",
      " 11%|█████████████▋                                                                                                          | 911/8000 [00:34<04:14, 27.85it/s]"
     ]
    },
    {
     "metadata": {},
     "name": "stderr",
     "output_type": "stream",
     "text": [
      "\r",
      " 11%|█████████████▋                                                                                                          | 914/8000 [00:35<04:13, 27.95it/s]"
     ]
    },
    {
     "metadata": {},
     "name": "stderr",
     "output_type": "stream",
     "text": [
      "\r",
      " 11%|█████████████▊                                                                                                          | 917/8000 [00:35<04:11, 28.15it/s]"
     ]
    },
    {
     "metadata": {},
     "name": "stderr",
     "output_type": "stream",
     "text": [
      "\r",
      " 12%|█████████████▊                                                                                                          | 920/8000 [00:35<04:09, 28.32it/s]"
     ]
    },
    {
     "metadata": {},
     "name": "stderr",
     "output_type": "stream",
     "text": [
      "\r",
      " 12%|█████████████▊                                                                                                          | 923/8000 [00:35<04:11, 28.12it/s]"
     ]
    },
    {
     "metadata": {},
     "name": "stderr",
     "output_type": "stream",
     "text": [
      "\r",
      " 12%|█████████████▉                                                                                                          | 926/8000 [00:35<04:16, 27.57it/s]"
     ]
    },
    {
     "metadata": {},
     "name": "stderr",
     "output_type": "stream",
     "text": [
      "\r",
      " 12%|█████████████▉                                                                                                          | 929/8000 [00:35<04:15, 27.63it/s]"
     ]
    },
    {
     "metadata": {},
     "name": "stderr",
     "output_type": "stream",
     "text": [
      "\r",
      " 12%|██████████████                                                                                                          | 934/8000 [00:35<03:46, 31.17it/s]"
     ]
    },
    {
     "metadata": {},
     "name": "stderr",
     "output_type": "stream",
     "text": [
      "\r",
      " 12%|██████████████                                                                                                          | 938/8000 [00:35<03:59, 29.45it/s]"
     ]
    },
    {
     "metadata": {},
     "name": "stderr",
     "output_type": "stream",
     "text": [
      "\r",
      " 12%|██████████████                                                                                                          | 941/8000 [00:35<04:18, 27.30it/s]"
     ]
    },
    {
     "metadata": {},
     "name": "stderr",
     "output_type": "stream",
     "text": [
      "\r",
      " 12%|██████████████▏                                                                                                         | 945/8000 [00:36<03:58, 29.52it/s]"
     ]
    },
    {
     "metadata": {},
     "name": "stderr",
     "output_type": "stream",
     "text": [
      "\r",
      " 12%|██████████████▏                                                                                                         | 948/8000 [00:36<03:59, 29.47it/s]"
     ]
    },
    {
     "metadata": {},
     "name": "stderr",
     "output_type": "stream",
     "text": [
      "\r",
      " 12%|██████████████▎                                                                                                         | 951/8000 [00:36<04:00, 29.34it/s]"
     ]
    },
    {
     "metadata": {},
     "name": "stderr",
     "output_type": "stream",
     "text": [
      "\r",
      " 12%|██████████████▎                                                                                                         | 954/8000 [00:36<04:10, 28.09it/s]"
     ]
    },
    {
     "metadata": {},
     "name": "stderr",
     "output_type": "stream",
     "text": [
      "\r",
      " 12%|██████████████▎                                                                                                         | 957/8000 [00:36<04:10, 28.07it/s]"
     ]
    },
    {
     "metadata": {},
     "name": "stderr",
     "output_type": "stream",
     "text": [
      "\r",
      " 12%|██████████████▍                                                                                                         | 960/8000 [00:36<04:13, 27.80it/s]"
     ]
    },
    {
     "metadata": {},
     "name": "stderr",
     "output_type": "stream",
     "text": [
      "\r",
      " 12%|██████████████▍                                                                                                         | 963/8000 [00:36<04:08, 28.27it/s]"
     ]
    },
    {
     "metadata": {},
     "name": "stderr",
     "output_type": "stream",
     "text": [
      "\r",
      " 12%|██████████████▌                                                                                                         | 968/8000 [00:36<03:27, 33.83it/s]"
     ]
    },
    {
     "metadata": {},
     "name": "stderr",
     "output_type": "stream",
     "text": [
      "\r",
      " 12%|██████████████▌                                                                                                         | 973/8000 [00:36<03:08, 37.34it/s]"
     ]
    },
    {
     "metadata": {},
     "name": "stderr",
     "output_type": "stream",
     "text": [
      "\r",
      " 12%|██████████████▋                                                                                                         | 978/8000 [00:37<02:53, 40.36it/s]"
     ]
    },
    {
     "metadata": {},
     "name": "stderr",
     "output_type": "stream",
     "text": [
      "\r",
      " 12%|██████████████▊                                                                                                         | 984/8000 [00:37<02:34, 45.30it/s]"
     ]
    },
    {
     "metadata": {},
     "name": "stderr",
     "output_type": "stream",
     "text": [
      "\r",
      " 12%|██████████████▉                                                                                                         | 993/8000 [00:37<02:04, 56.13it/s]"
     ]
    },
    {
     "metadata": {},
     "name": "stderr",
     "output_type": "stream",
     "text": [
      "\r",
      " 12%|██████████████▉                                                                                                         | 999/8000 [00:37<02:14, 52.06it/s]"
     ]
    },
    {
     "metadata": {},
     "name": "stderr",
     "output_type": "stream",
     "text": [
      "\r",
      " 13%|██████████████▉                                                                                                        | 1005/8000 [00:37<02:32, 45.91it/s]"
     ]
    },
    {
     "metadata": {},
     "name": "stderr",
     "output_type": "stream",
     "text": [
      "\r",
      " 13%|███████████████                                                                                                        | 1011/8000 [00:37<02:24, 48.37it/s]"
     ]
    },
    {
     "metadata": {},
     "name": "stderr",
     "output_type": "stream",
     "text": [
      "\r",
      " 13%|███████████████▏                                                                                                       | 1017/8000 [00:37<02:19, 50.09it/s]"
     ]
    },
    {
     "metadata": {},
     "name": "stderr",
     "output_type": "stream",
     "text": [
      "\r",
      " 13%|███████████████▏                                                                                                       | 1023/8000 [00:37<02:16, 51.23it/s]"
     ]
    },
    {
     "metadata": {},
     "name": "stderr",
     "output_type": "stream",
     "text": [
      "\r",
      " 13%|███████████████▎                                                                                                       | 1029/8000 [00:38<05:03, 22.94it/s]"
     ]
    },
    {
     "metadata": {},
     "name": "stderr",
     "output_type": "stream",
     "text": [
      "\r",
      " 13%|███████████████▎                                                                                                       | 1033/8000 [00:38<06:05, 19.07it/s]"
     ]
    },
    {
     "metadata": {},
     "name": "stderr",
     "output_type": "stream",
     "text": [
      "\r",
      " 13%|███████████████▍                                                                                                       | 1037/8000 [00:38<05:24, 21.47it/s]"
     ]
    },
    {
     "metadata": {},
     "name": "stderr",
     "output_type": "stream",
     "text": [
      "\r",
      " 13%|███████████████▍                                                                                                       | 1041/8000 [00:39<09:32, 12.15it/s]"
     ]
    },
    {
     "metadata": {},
     "name": "stderr",
     "output_type": "stream",
     "text": [
      "\r",
      " 13%|███████████████▌                                                                                                       | 1047/8000 [00:39<06:57, 16.66it/s]"
     ]
    },
    {
     "metadata": {},
     "name": "stderr",
     "output_type": "stream",
     "text": [
      "\r",
      " 13%|███████████████▋                                                                                                       | 1051/8000 [00:40<08:11, 14.15it/s]"
     ]
    },
    {
     "metadata": {},
     "name": "stderr",
     "output_type": "stream",
     "text": [
      "\r",
      " 13%|███████████████▋                                                                                                       | 1054/8000 [00:40<09:24, 12.30it/s]"
     ]
    },
    {
     "metadata": {},
     "name": "stderr",
     "output_type": "stream",
     "text": [
      "\r",
      " 13%|███████████████▊                                                                                                       | 1061/8000 [00:40<06:13, 18.56it/s]"
     ]
    },
    {
     "metadata": {},
     "name": "stderr",
     "output_type": "stream",
     "text": [
      "\r",
      " 13%|███████████████▊                                                                                                       | 1065/8000 [00:40<05:31, 20.89it/s]"
     ]
    },
    {
     "metadata": {},
     "name": "stderr",
     "output_type": "stream",
     "text": [
      "\r",
      " 13%|███████████████▉                                                                                                       | 1069/8000 [00:40<04:53, 23.65it/s]"
     ]
    },
    {
     "metadata": {},
     "name": "stderr",
     "output_type": "stream",
     "text": [
      "\r",
      " 13%|███████████████▉                                                                                                       | 1073/8000 [00:41<04:22, 26.41it/s]"
     ]
    },
    {
     "metadata": {},
     "name": "stderr",
     "output_type": "stream",
     "text": [
      "\r",
      " 13%|████████████████                                                                                                       | 1077/8000 [00:41<04:05, 28.16it/s]"
     ]
    },
    {
     "metadata": {},
     "name": "stderr",
     "output_type": "stream",
     "text": [
      "\r",
      " 14%|████████████████                                                                                                       | 1081/8000 [00:41<03:57, 29.08it/s]"
     ]
    },
    {
     "metadata": {},
     "name": "stderr",
     "output_type": "stream",
     "text": [
      "\r",
      " 14%|████████████████▏                                                                                                      | 1086/8000 [00:41<03:34, 32.29it/s]"
     ]
    },
    {
     "metadata": {},
     "name": "stderr",
     "output_type": "stream",
     "text": [
      "\r",
      " 14%|████████████████▏                                                                                                      | 1091/8000 [00:41<03:17, 34.96it/s]"
     ]
    },
    {
     "metadata": {},
     "name": "stderr",
     "output_type": "stream",
     "text": [
      "\r",
      " 14%|████████████████▎                                                                                                      | 1095/8000 [00:41<03:28, 33.12it/s]"
     ]
    },
    {
     "metadata": {},
     "name": "stderr",
     "output_type": "stream",
     "text": [
      "\r",
      " 14%|████████████████▎                                                                                                      | 1100/8000 [00:41<03:09, 36.40it/s]"
     ]
    },
    {
     "metadata": {},
     "name": "stderr",
     "output_type": "stream",
     "text": [
      "\r",
      " 14%|████████████████▍                                                                                                      | 1107/8000 [00:41<02:36, 43.93it/s]"
     ]
    },
    {
     "metadata": {},
     "name": "stderr",
     "output_type": "stream",
     "text": [
      "\r",
      " 14%|████████████████▌                                                                                                      | 1112/8000 [00:42<02:44, 41.80it/s]"
     ]
    },
    {
     "metadata": {},
     "name": "stderr",
     "output_type": "stream",
     "text": [
      "\r",
      " 14%|████████████████▌                                                                                                      | 1117/8000 [00:42<02:47, 41.18it/s]"
     ]
    },
    {
     "metadata": {},
     "name": "stderr",
     "output_type": "stream",
     "text": [
      "\r",
      " 14%|████████████████▋                                                                                                      | 1122/8000 [00:42<02:41, 42.66it/s]"
     ]
    },
    {
     "metadata": {},
     "name": "stderr",
     "output_type": "stream",
     "text": [
      "\r",
      " 14%|████████████████▊                                                                                                      | 1129/8000 [00:42<02:23, 47.93it/s]"
     ]
    },
    {
     "metadata": {},
     "name": "stderr",
     "output_type": "stream",
     "text": [
      "\r",
      " 14%|████████████████▊                                                                                                      | 1134/8000 [00:42<02:23, 48.01it/s]"
     ]
    },
    {
     "metadata": {},
     "name": "stderr",
     "output_type": "stream",
     "text": [
      "\r",
      " 14%|████████████████▉                                                                                                      | 1140/8000 [00:42<02:19, 49.14it/s]"
     ]
    },
    {
     "metadata": {},
     "name": "stderr",
     "output_type": "stream",
     "text": [
      "\r",
      " 14%|█████████████████                                                                                                      | 1147/8000 [00:42<02:42, 42.22it/s]"
     ]
    },
    {
     "metadata": {},
     "name": "stderr",
     "output_type": "stream",
     "text": [
      "\r",
      " 14%|█████████████████▏                                                                                                     | 1152/8000 [00:43<03:22, 33.78it/s]"
     ]
    },
    {
     "metadata": {},
     "name": "stderr",
     "output_type": "stream",
     "text": [
      "\r",
      " 14%|█████████████████▏                                                                                                     | 1156/8000 [00:43<03:24, 33.40it/s]"
     ]
    },
    {
     "metadata": {},
     "name": "stderr",
     "output_type": "stream",
     "text": [
      "\r",
      " 14%|█████████████████▎                                                                                                     | 1160/8000 [00:43<03:32, 32.24it/s]"
     ]
    },
    {
     "metadata": {},
     "name": "stderr",
     "output_type": "stream",
     "text": [
      "\r",
      " 15%|█████████████████▎                                                                                                     | 1165/8000 [00:43<03:16, 34.84it/s]"
     ]
    },
    {
     "metadata": {},
     "name": "stderr",
     "output_type": "stream",
     "text": [
      "\r",
      " 15%|█████████████████▍                                                                                                     | 1172/8000 [00:43<02:41, 42.21it/s]"
     ]
    },
    {
     "metadata": {},
     "name": "stderr",
     "output_type": "stream",
     "text": [
      "\r",
      " 15%|█████████████████▌                                                                                                     | 1179/8000 [00:43<02:23, 47.51it/s]"
     ]
    },
    {
     "metadata": {},
     "name": "stderr",
     "output_type": "stream",
     "text": [
      "\r",
      " 15%|█████████████████▋                                                                                                     | 1187/8000 [00:43<02:06, 53.97it/s]"
     ]
    },
    {
     "metadata": {},
     "name": "stderr",
     "output_type": "stream",
     "text": [
      "\r",
      " 15%|█████████████████▊                                                                                                     | 1195/8000 [00:43<01:55, 58.83it/s]"
     ]
    },
    {
     "metadata": {},
     "name": "stderr",
     "output_type": "stream",
     "text": [
      "\r",
      " 15%|█████████████████▉                                                                                                     | 1202/8000 [00:43<01:55, 58.72it/s]"
     ]
    },
    {
     "metadata": {},
     "name": "stderr",
     "output_type": "stream",
     "text": [
      "\r",
      " 15%|█████████████████▉                                                                                                     | 1210/8000 [00:44<01:45, 64.27it/s]"
     ]
    },
    {
     "metadata": {},
     "name": "stderr",
     "output_type": "stream",
     "text": [
      "\r",
      " 15%|██████████████████▏                                                                                                    | 1219/8000 [00:44<01:37, 69.28it/s]"
     ]
    },
    {
     "metadata": {},
     "name": "stderr",
     "output_type": "stream",
     "text": [
      "\r",
      " 15%|██████████████████▎                                                                                                    | 1228/8000 [00:44<01:32, 73.00it/s]"
     ]
    },
    {
     "metadata": {},
     "name": "stderr",
     "output_type": "stream",
     "text": [
      "\r",
      " 15%|██████████████████▍                                                                                                    | 1237/8000 [00:44<01:28, 76.34it/s]"
     ]
    },
    {
     "metadata": {},
     "name": "stderr",
     "output_type": "stream",
     "text": [
      "\r",
      " 16%|██████████████████▌                                                                                                    | 1245/8000 [00:44<01:28, 76.75it/s]"
     ]
    },
    {
     "metadata": {},
     "name": "stderr",
     "output_type": "stream",
     "text": [
      "\r",
      " 16%|██████████████████▋                                                                                                    | 1254/8000 [00:44<01:25, 78.86it/s]"
     ]
    },
    {
     "metadata": {},
     "name": "stderr",
     "output_type": "stream",
     "text": [
      "\r",
      " 16%|██████████████████▊                                                                                                    | 1263/8000 [00:44<01:23, 80.26it/s]"
     ]
    },
    {
     "metadata": {},
     "name": "stderr",
     "output_type": "stream",
     "text": [
      "\r",
      " 16%|██████████████████▉                                                                                                    | 1272/8000 [00:44<01:27, 76.65it/s]"
     ]
    },
    {
     "metadata": {},
     "name": "stderr",
     "output_type": "stream",
     "text": [
      "\r",
      " 16%|███████████████████                                                                                                    | 1280/8000 [00:44<01:33, 71.99it/s]"
     ]
    },
    {
     "metadata": {},
     "name": "stderr",
     "output_type": "stream",
     "text": [
      "\r",
      " 16%|███████████████████▏                                                                                                   | 1288/8000 [00:45<01:38, 68.45it/s]"
     ]
    },
    {
     "metadata": {},
     "name": "stderr",
     "output_type": "stream",
     "text": [
      "\r",
      " 16%|███████████████████▎                                                                                                   | 1295/8000 [00:45<01:39, 67.08it/s]"
     ]
    },
    {
     "metadata": {},
     "name": "stderr",
     "output_type": "stream",
     "text": [
      "\r",
      " 16%|███████████████████▎                                                                                                   | 1302/8000 [00:45<02:31, 44.08it/s]"
     ]
    },
    {
     "metadata": {},
     "name": "stderr",
     "output_type": "stream",
     "text": [
      "\r",
      " 16%|███████████████████▍                                                                                                   | 1308/8000 [00:45<02:28, 44.93it/s]"
     ]
    },
    {
     "metadata": {},
     "name": "stderr",
     "output_type": "stream",
     "text": [
      "\r",
      " 16%|███████████████████▌                                                                                                   | 1314/8000 [00:45<02:36, 42.83it/s]"
     ]
    },
    {
     "metadata": {},
     "name": "stderr",
     "output_type": "stream",
     "text": [
      "\r",
      " 16%|███████████████████▌                                                                                                   | 1319/8000 [00:45<02:54, 38.37it/s]"
     ]
    },
    {
     "metadata": {},
     "name": "stderr",
     "output_type": "stream",
     "text": [
      "\r",
      " 17%|███████████████████▋                                                                                                   | 1324/8000 [00:46<03:09, 35.26it/s]"
     ]
    },
    {
     "metadata": {},
     "name": "stderr",
     "output_type": "stream",
     "text": [
      "\r",
      " 17%|███████████████████▊                                                                                                   | 1328/8000 [00:46<03:16, 34.04it/s]"
     ]
    },
    {
     "metadata": {},
     "name": "stderr",
     "output_type": "stream",
     "text": [
      "\r",
      " 17%|███████████████████▊                                                                                                   | 1332/8000 [00:46<03:41, 30.15it/s]"
     ]
    },
    {
     "metadata": {},
     "name": "stderr",
     "output_type": "stream",
     "text": [
      "\r",
      " 17%|███████████████████▊                                                                                                   | 1336/8000 [00:46<03:59, 27.80it/s]"
     ]
    },
    {
     "metadata": {},
     "name": "stderr",
     "output_type": "stream",
     "text": [
      "\r",
      " 17%|███████████████████▉                                                                                                   | 1342/8000 [00:46<03:15, 34.03it/s]"
     ]
    },
    {
     "metadata": {},
     "name": "stderr",
     "output_type": "stream",
     "text": [
      "\r",
      " 17%|████████████████████                                                                                                   | 1348/8000 [00:46<02:51, 38.80it/s]"
     ]
    },
    {
     "metadata": {},
     "name": "stderr",
     "output_type": "stream",
     "text": [
      "\r",
      " 17%|████████████████████▏                                                                                                  | 1353/8000 [00:47<03:12, 34.48it/s]"
     ]
    },
    {
     "metadata": {},
     "name": "stderr",
     "output_type": "stream",
     "text": [
      "\r",
      " 17%|████████████████████▏                                                                                                  | 1358/8000 [00:47<03:07, 35.51it/s]"
     ]
    },
    {
     "metadata": {},
     "name": "stderr",
     "output_type": "stream",
     "text": [
      "\r",
      " 17%|████████████████████▎                                                                                                  | 1362/8000 [00:47<03:22, 32.72it/s]"
     ]
    },
    {
     "metadata": {},
     "name": "stderr",
     "output_type": "stream",
     "text": [
      "\r",
      " 17%|████████████████████▎                                                                                                  | 1366/8000 [00:47<03:33, 31.06it/s]"
     ]
    },
    {
     "metadata": {},
     "name": "stderr",
     "output_type": "stream",
     "text": [
      "\r",
      " 17%|████████████████████▍                                                                                                  | 1370/8000 [00:47<03:35, 30.71it/s]"
     ]
    },
    {
     "metadata": {},
     "name": "stderr",
     "output_type": "stream",
     "text": [
      "\r",
      " 17%|████████████████████▍                                                                                                  | 1374/8000 [00:47<03:39, 30.22it/s]"
     ]
    },
    {
     "metadata": {},
     "name": "stderr",
     "output_type": "stream",
     "text": [
      "\r",
      " 17%|████████████████████▍                                                                                                  | 1378/8000 [00:47<04:39, 23.71it/s]"
     ]
    },
    {
     "metadata": {},
     "name": "stderr",
     "output_type": "stream",
     "text": [
      "\r",
      " 17%|████████████████████▌                                                                                                  | 1381/8000 [00:48<05:18, 20.77it/s]"
     ]
    },
    {
     "metadata": {},
     "name": "stderr",
     "output_type": "stream",
     "text": [
      "\r",
      " 17%|████████████████████▌                                                                                                  | 1384/8000 [00:48<05:50, 18.87it/s]"
     ]
    },
    {
     "metadata": {},
     "name": "stderr",
     "output_type": "stream",
     "text": [
      "\r",
      " 17%|████████████████████▋                                                                                                  | 1387/8000 [00:48<05:50, 18.89it/s]"
     ]
    },
    {
     "metadata": {},
     "name": "stderr",
     "output_type": "stream",
     "text": [
      "\r",
      " 17%|████████████████████▋                                                                                                  | 1390/8000 [00:48<05:18, 20.77it/s]"
     ]
    },
    {
     "metadata": {},
     "name": "stderr",
     "output_type": "stream",
     "text": [
      "\r",
      " 17%|████████████████████▊                                                                                                  | 1396/8000 [00:48<03:50, 28.61it/s]"
     ]
    },
    {
     "metadata": {},
     "name": "stderr",
     "output_type": "stream",
     "text": [
      "\r",
      " 18%|████████████████████▊                                                                                                  | 1400/8000 [00:48<04:07, 26.63it/s]"
     ]
    },
    {
     "metadata": {},
     "name": "stderr",
     "output_type": "stream",
     "text": [
      "\r",
      " 18%|████████████████████▉                                                                                                  | 1404/8000 [00:49<03:46, 29.14it/s]"
     ]
    },
    {
     "metadata": {},
     "name": "stderr",
     "output_type": "stream",
     "text": [
      "\r",
      " 18%|████████████████████▉                                                                                                  | 1408/8000 [00:49<03:57, 27.76it/s]"
     ]
    },
    {
     "metadata": {},
     "name": "stderr",
     "output_type": "stream",
     "text": [
      "\r",
      " 18%|█████████████████████                                                                                                  | 1412/8000 [00:49<03:38, 30.21it/s]"
     ]
    },
    {
     "metadata": {},
     "name": "stderr",
     "output_type": "stream",
     "text": [
      "\r",
      " 18%|█████████████████████                                                                                                  | 1416/8000 [00:49<03:28, 31.61it/s]"
     ]
    },
    {
     "metadata": {},
     "name": "stderr",
     "output_type": "stream",
     "text": [
      "\r",
      " 18%|█████████████████████                                                                                                  | 1420/8000 [00:49<03:34, 30.69it/s]"
     ]
    },
    {
     "metadata": {},
     "name": "stderr",
     "output_type": "stream",
     "text": [
      "\r",
      " 18%|█████████████████████▏                                                                                                 | 1424/8000 [00:49<03:29, 31.43it/s]"
     ]
    },
    {
     "metadata": {},
     "name": "stderr",
     "output_type": "stream",
     "text": [
      "\r",
      " 18%|█████████████████████▏                                                                                                 | 1428/8000 [00:49<04:25, 24.78it/s]"
     ]
    },
    {
     "metadata": {},
     "name": "stderr",
     "output_type": "stream",
     "text": [
      "\r",
      " 18%|█████████████████████▎                                                                                                 | 1431/8000 [00:50<05:23, 20.28it/s]"
     ]
    },
    {
     "metadata": {},
     "name": "stderr",
     "output_type": "stream",
     "text": [
      "\r",
      " 18%|█████████████████████▎                                                                                                 | 1434/8000 [00:50<05:18, 20.59it/s]"
     ]
    },
    {
     "metadata": {},
     "name": "stderr",
     "output_type": "stream",
     "text": [
      "\r",
      " 18%|█████████████████████▍                                                                                                 | 1440/8000 [00:50<03:50, 28.52it/s]"
     ]
    },
    {
     "metadata": {},
     "name": "stderr",
     "output_type": "stream",
     "text": [
      "\r",
      " 18%|█████████████████████▍                                                                                                 | 1444/8000 [00:50<03:57, 27.63it/s]"
     ]
    },
    {
     "metadata": {},
     "name": "stderr",
     "output_type": "stream",
     "text": [
      "\r",
      " 18%|█████████████████████▌                                                                                                 | 1448/8000 [00:50<03:45, 29.04it/s]"
     ]
    },
    {
     "metadata": {},
     "name": "stderr",
     "output_type": "stream",
     "text": [
      "\r",
      " 18%|█████████████████████▋                                                                                                 | 1455/8000 [00:50<02:53, 37.64it/s]"
     ]
    },
    {
     "metadata": {},
     "name": "stderr",
     "output_type": "stream",
     "text": [
      "\r",
      " 18%|█████████████████████▋                                                                                                 | 1460/8000 [00:50<03:07, 34.80it/s]"
     ]
    },
    {
     "metadata": {},
     "name": "stderr",
     "output_type": "stream",
     "text": [
      "\r",
      " 18%|█████████████████████▊                                                                                                 | 1465/8000 [00:51<03:02, 35.80it/s]"
     ]
    },
    {
     "metadata": {},
     "name": "stderr",
     "output_type": "stream",
     "text": [
      "\r",
      " 18%|█████████████████████▉                                                                                                 | 1472/8000 [00:51<02:32, 42.89it/s]"
     ]
    },
    {
     "metadata": {},
     "name": "stderr",
     "output_type": "stream",
     "text": [
      "\r",
      " 18%|█████████████████████▉                                                                                                 | 1478/8000 [00:51<02:23, 45.53it/s]"
     ]
    },
    {
     "metadata": {},
     "name": "stderr",
     "output_type": "stream",
     "text": [
      "\r",
      " 19%|██████████████████████                                                                                                 | 1484/8000 [00:51<02:14, 48.29it/s]"
     ]
    },
    {
     "metadata": {},
     "name": "stderr",
     "output_type": "stream",
     "text": [
      "\r",
      " 19%|██████████████████████▏                                                                                                | 1490/8000 [00:51<02:09, 50.18it/s]"
     ]
    },
    {
     "metadata": {},
     "name": "stderr",
     "output_type": "stream",
     "text": [
      "\r",
      " 19%|██████████████████████▎                                                                                                | 1497/8000 [00:51<02:00, 54.00it/s]"
     ]
    },
    {
     "metadata": {},
     "name": "stderr",
     "output_type": "stream",
     "text": [
      "\r",
      " 19%|██████████████████████▎                                                                                                | 1504/8000 [00:51<01:52, 57.78it/s]"
     ]
    },
    {
     "metadata": {},
     "name": "stderr",
     "output_type": "stream",
     "text": [
      "\r",
      " 19%|██████████████████████▍                                                                                                | 1511/8000 [00:51<01:46, 61.14it/s]"
     ]
    },
    {
     "metadata": {},
     "name": "stderr",
     "output_type": "stream",
     "text": [
      "\r",
      " 19%|██████████████████████▌                                                                                                | 1518/8000 [00:51<01:41, 63.62it/s]"
     ]
    },
    {
     "metadata": {},
     "name": "stderr",
     "output_type": "stream",
     "text": [
      "\r",
      " 19%|██████████████████████▋                                                                                                | 1525/8000 [00:52<01:50, 58.42it/s]"
     ]
    },
    {
     "metadata": {},
     "name": "stderr",
     "output_type": "stream",
     "text": [
      "\r",
      " 19%|██████████████████████▊                                                                                                | 1531/8000 [00:52<02:07, 50.72it/s]"
     ]
    },
    {
     "metadata": {},
     "name": "stderr",
     "output_type": "stream",
     "text": [
      "\r",
      " 19%|██████████████████████▊                                                                                                | 1537/8000 [00:52<02:12, 48.67it/s]"
     ]
    },
    {
     "metadata": {},
     "name": "stderr",
     "output_type": "stream",
     "text": [
      "\r",
      " 19%|██████████████████████▉                                                                                                | 1543/8000 [00:52<02:15, 47.50it/s]"
     ]
    },
    {
     "metadata": {},
     "name": "stderr",
     "output_type": "stream",
     "text": [
      "\r",
      " 19%|███████████████████████                                                                                                | 1550/8000 [00:52<02:04, 51.81it/s]"
     ]
    },
    {
     "metadata": {},
     "name": "stderr",
     "output_type": "stream",
     "text": [
      "\r",
      " 19%|███████████████████████▏                                                                                               | 1557/8000 [00:52<02:00, 53.34it/s]"
     ]
    },
    {
     "metadata": {},
     "name": "stderr",
     "output_type": "stream",
     "text": [
      "\r",
      " 20%|███████████████████████▏                                                                                               | 1563/8000 [00:52<02:29, 43.16it/s]"
     ]
    },
    {
     "metadata": {},
     "name": "stderr",
     "output_type": "stream",
     "text": [
      "\r",
      " 20%|███████████████████████▎                                                                                               | 1568/8000 [00:53<02:36, 41.03it/s]"
     ]
    },
    {
     "metadata": {},
     "name": "stderr",
     "output_type": "stream",
     "text": [
      "\r",
      " 20%|███████████████████████▍                                                                                               | 1573/8000 [00:53<02:43, 39.32it/s]"
     ]
    },
    {
     "metadata": {},
     "name": "stderr",
     "output_type": "stream",
     "text": [
      "\r",
      " 20%|███████████████████████▍                                                                                               | 1578/8000 [00:53<02:35, 41.27it/s]"
     ]
    },
    {
     "metadata": {},
     "name": "stderr",
     "output_type": "stream",
     "text": [
      "\r",
      " 20%|███████████████████████▌                                                                                               | 1583/8000 [00:53<02:35, 41.22it/s]"
     ]
    },
    {
     "metadata": {},
     "name": "stderr",
     "output_type": "stream",
     "text": [
      "\r",
      " 20%|███████████████████████▋                                                                                               | 1590/8000 [00:53<02:14, 47.75it/s]"
     ]
    },
    {
     "metadata": {},
     "name": "stderr",
     "output_type": "stream",
     "text": [
      "\r",
      " 20%|███████████████████████▋                                                                                               | 1595/8000 [00:53<02:12, 48.32it/s]"
     ]
    },
    {
     "metadata": {},
     "name": "stderr",
     "output_type": "stream",
     "text": [
      "\r",
      " 20%|███████████████████████▊                                                                                               | 1602/8000 [00:53<02:02, 52.03it/s]"
     ]
    },
    {
     "metadata": {},
     "name": "stderr",
     "output_type": "stream",
     "text": [
      "\r",
      " 20%|███████████████████████▉                                                                                               | 1608/8000 [00:53<02:01, 52.69it/s]"
     ]
    },
    {
     "metadata": {},
     "name": "stderr",
     "output_type": "stream",
     "text": [
      "\r",
      " 20%|████████████████████████                                                                                               | 1614/8000 [00:54<01:59, 53.22it/s]"
     ]
    },
    {
     "metadata": {},
     "name": "stderr",
     "output_type": "stream",
     "text": [
      "\r",
      " 20%|████████████████████████                                                                                               | 1620/8000 [00:54<01:56, 54.65it/s]"
     ]
    },
    {
     "metadata": {},
     "name": "stderr",
     "output_type": "stream",
     "text": [
      "\r",
      " 20%|████████████████████████▏                                                                                              | 1626/8000 [00:54<01:56, 54.73it/s]"
     ]
    },
    {
     "metadata": {},
     "name": "stderr",
     "output_type": "stream",
     "text": [
      "\r",
      " 20%|████████████████████████▎                                                                                              | 1632/8000 [00:54<01:54, 55.79it/s]"
     ]
    },
    {
     "metadata": {},
     "name": "stderr",
     "output_type": "stream",
     "text": [
      "\r",
      " 20%|████████████████████████▍                                                                                              | 1639/8000 [00:54<01:48, 58.70it/s]"
     ]
    },
    {
     "metadata": {},
     "name": "stderr",
     "output_type": "stream",
     "text": [
      "\r",
      " 21%|████████████████████████▍                                                                                              | 1646/8000 [00:54<01:46, 59.76it/s]"
     ]
    },
    {
     "metadata": {},
     "name": "stderr",
     "output_type": "stream",
     "text": [
      "\r",
      " 21%|████████████████████████▌                                                                                              | 1653/8000 [00:54<01:42, 62.02it/s]"
     ]
    },
    {
     "metadata": {},
     "name": "stderr",
     "output_type": "stream",
     "text": [
      "\r",
      " 21%|████████████████████████▋                                                                                              | 1660/8000 [00:54<01:40, 63.36it/s]"
     ]
    },
    {
     "metadata": {},
     "name": "stderr",
     "output_type": "stream",
     "text": [
      "\r",
      " 21%|████████████████████████▊                                                                                              | 1667/8000 [00:54<01:39, 63.56it/s]"
     ]
    },
    {
     "metadata": {},
     "name": "stderr",
     "output_type": "stream",
     "text": [
      "\r",
      " 21%|████████████████████████▉                                                                                              | 1674/8000 [00:54<01:37, 65.06it/s]"
     ]
    },
    {
     "metadata": {},
     "name": "stderr",
     "output_type": "stream",
     "text": [
      "\r",
      " 21%|█████████████████████████                                                                                              | 1681/8000 [00:55<01:37, 64.80it/s]"
     ]
    },
    {
     "metadata": {},
     "name": "stderr",
     "output_type": "stream",
     "text": [
      "\r",
      " 21%|█████████████████████████                                                                                              | 1688/8000 [00:55<01:35, 65.85it/s]"
     ]
    },
    {
     "metadata": {},
     "name": "stderr",
     "output_type": "stream",
     "text": [
      "\r",
      " 21%|█████████████████████████▏                                                                                             | 1695/8000 [00:55<01:35, 66.18it/s]"
     ]
    },
    {
     "metadata": {},
     "name": "stderr",
     "output_type": "stream",
     "text": [
      "\r",
      " 21%|█████████████████████████▎                                                                                             | 1702/8000 [00:55<01:33, 67.24it/s]"
     ]
    },
    {
     "metadata": {},
     "name": "stderr",
     "output_type": "stream",
     "text": [
      "\r",
      " 21%|█████████████████████████▍                                                                                             | 1709/8000 [00:55<01:35, 65.90it/s]"
     ]
    },
    {
     "metadata": {},
     "name": "stderr",
     "output_type": "stream",
     "text": [
      "\r",
      " 21%|█████████████████████████▌                                                                                             | 1716/8000 [00:55<01:35, 65.76it/s]"
     ]
    },
    {
     "metadata": {},
     "name": "stderr",
     "output_type": "stream",
     "text": [
      "\r",
      " 22%|█████████████████████████▋                                                                                             | 1723/8000 [00:55<01:34, 66.55it/s]"
     ]
    },
    {
     "metadata": {},
     "name": "stderr",
     "output_type": "stream",
     "text": [
      "\r",
      " 22%|█████████████████████████▋                                                                                             | 1730/8000 [00:55<01:33, 67.08it/s]"
     ]
    },
    {
     "metadata": {},
     "name": "stderr",
     "output_type": "stream",
     "text": [
      "\r",
      " 22%|█████████████████████████▊                                                                                             | 1737/8000 [00:55<01:33, 66.68it/s]"
     ]
    },
    {
     "metadata": {},
     "name": "stderr",
     "output_type": "stream",
     "text": [
      "\r",
      " 22%|█████████████████████████▉                                                                                             | 1744/8000 [00:56<01:56, 53.68it/s]"
     ]
    },
    {
     "metadata": {},
     "name": "stderr",
     "output_type": "stream",
     "text": [
      "\r",
      " 22%|██████████████████████████                                                                                             | 1750/8000 [00:56<02:24, 43.33it/s]"
     ]
    },
    {
     "metadata": {},
     "name": "stderr",
     "output_type": "stream",
     "text": [
      "\r",
      " 22%|██████████████████████████                                                                                             | 1755/8000 [00:56<02:19, 44.64it/s]"
     ]
    },
    {
     "metadata": {},
     "name": "stderr",
     "output_type": "stream",
     "text": [
      "\r",
      " 22%|██████████████████████████▏                                                                                            | 1760/8000 [00:56<02:37, 39.66it/s]"
     ]
    },
    {
     "metadata": {},
     "name": "stderr",
     "output_type": "stream",
     "text": [
      "\r",
      " 22%|██████████████████████████▎                                                                                            | 1766/8000 [00:56<02:23, 43.35it/s]"
     ]
    },
    {
     "metadata": {},
     "name": "stderr",
     "output_type": "stream",
     "text": [
      "\r",
      " 22%|██████████████████████████▎                                                                                            | 1771/8000 [00:56<02:23, 43.42it/s]"
     ]
    },
    {
     "metadata": {},
     "name": "stderr",
     "output_type": "stream",
     "text": [
      "\r",
      " 22%|██████████████████████████▍                                                                                            | 1776/8000 [00:56<02:46, 37.42it/s]"
     ]
    },
    {
     "metadata": {},
     "name": "stderr",
     "output_type": "stream",
     "text": [
      "\r",
      " 22%|██████████████████████████▍                                                                                            | 1781/8000 [00:57<02:40, 38.86it/s]"
     ]
    },
    {
     "metadata": {},
     "name": "stderr",
     "output_type": "stream",
     "text": [
      "\r",
      " 22%|██████████████████████████▌                                                                                            | 1786/8000 [00:57<02:34, 40.14it/s]"
     ]
    },
    {
     "metadata": {},
     "name": "stderr",
     "output_type": "stream",
     "text": [
      "\r",
      " 22%|██████████████████████████▋                                                                                            | 1791/8000 [00:57<02:29, 41.59it/s]"
     ]
    },
    {
     "metadata": {},
     "name": "stderr",
     "output_type": "stream",
     "text": [
      "\r",
      " 22%|██████████████████████████▋                                                                                            | 1796/8000 [00:57<02:24, 42.96it/s]"
     ]
    },
    {
     "metadata": {},
     "name": "stderr",
     "output_type": "stream",
     "text": [
      "\r",
      " 23%|██████████████████████████▊                                                                                            | 1801/8000 [00:57<02:56, 35.15it/s]"
     ]
    },
    {
     "metadata": {},
     "name": "stderr",
     "output_type": "stream",
     "text": [
      "\r",
      " 23%|██████████████████████████▉                                                                                            | 1807/8000 [00:57<02:34, 40.07it/s]"
     ]
    },
    {
     "metadata": {},
     "name": "stderr",
     "output_type": "stream",
     "text": [
      "\r",
      " 23%|███████████████████████████                                                                                            | 1816/8000 [00:57<02:07, 48.34it/s]"
     ]
    },
    {
     "metadata": {},
     "name": "stderr",
     "output_type": "stream",
     "text": [
      "\r",
      " 23%|███████████████████████████                                                                                            | 1823/8000 [00:57<01:57, 52.55it/s]"
     ]
    },
    {
     "metadata": {},
     "name": "stderr",
     "output_type": "stream",
     "text": [
      "\r",
      " 23%|███████████████████████████▏                                                                                           | 1829/8000 [00:58<02:07, 48.26it/s]"
     ]
    },
    {
     "metadata": {},
     "name": "stderr",
     "output_type": "stream",
     "text": [
      "\r",
      " 23%|███████████████████████████▎                                                                                           | 1835/8000 [00:58<02:40, 38.31it/s]"
     ]
    },
    {
     "metadata": {},
     "name": "stderr",
     "output_type": "stream",
     "text": [
      "\r",
      " 23%|███████████████████████████▎                                                                                           | 1840/8000 [00:58<04:07, 24.85it/s]"
     ]
    },
    {
     "metadata": {},
     "name": "stderr",
     "output_type": "stream",
     "text": [
      "\r",
      " 23%|███████████████████████████▍                                                                                           | 1844/8000 [00:58<04:12, 24.40it/s]"
     ]
    },
    {
     "metadata": {},
     "name": "stderr",
     "output_type": "stream",
     "text": [
      "\r",
      " 23%|███████████████████████████▌                                                                                           | 1849/8000 [00:59<03:41, 27.81it/s]"
     ]
    },
    {
     "metadata": {},
     "name": "stderr",
     "output_type": "stream",
     "text": [
      "\r",
      " 23%|███████████████████████████▌                                                                                           | 1855/8000 [00:59<03:02, 33.72it/s]"
     ]
    },
    {
     "metadata": {},
     "name": "stderr",
     "output_type": "stream",
     "text": [
      "\r",
      " 23%|███████████████████████████▋                                                                                           | 1860/8000 [00:59<03:59, 25.60it/s]"
     ]
    },
    {
     "metadata": {},
     "name": "stderr",
     "output_type": "stream",
     "text": [
      "\r",
      " 23%|███████████████████████████▊                                                                                           | 1873/8000 [00:59<02:21, 43.23it/s]"
     ]
    },
    {
     "metadata": {},
     "name": "stderr",
     "output_type": "stream",
     "text": [
      "\r",
      " 24%|███████████████████████████▉                                                                                           | 1880/8000 [00:59<02:15, 45.25it/s]"
     ]
    },
    {
     "metadata": {},
     "name": "stderr",
     "output_type": "stream",
     "text": [
      "\r",
      " 24%|████████████████████████████                                                                                           | 1886/8000 [00:59<02:11, 46.49it/s]"
     ]
    },
    {
     "metadata": {},
     "name": "stderr",
     "output_type": "stream",
     "text": [
      "\r",
      " 24%|████████████████████████████▏                                                                                          | 1892/8000 [01:00<03:59, 25.52it/s]"
     ]
    },
    {
     "metadata": {},
     "name": "stderr",
     "output_type": "stream",
     "text": [
      "\r",
      " 24%|████████████████████████████▏                                                                                          | 1897/8000 [01:00<03:36, 28.20it/s]"
     ]
    },
    {
     "metadata": {},
     "name": "stderr",
     "output_type": "stream",
     "text": [
      "\r",
      " 24%|████████████████████████████▎                                                                                          | 1902/8000 [01:00<04:20, 23.42it/s]"
     ]
    },
    {
     "metadata": {},
     "name": "stderr",
     "output_type": "stream",
     "text": [
      "\r",
      " 24%|████████████████████████████▍                                                                                          | 1908/8000 [01:00<03:36, 28.18it/s]"
     ]
    },
    {
     "metadata": {},
     "name": "stderr",
     "output_type": "stream",
     "text": [
      "\r",
      " 24%|████████████████████████████▍                                                                                          | 1912/8000 [01:01<03:36, 28.06it/s]"
     ]
    },
    {
     "metadata": {},
     "name": "stderr",
     "output_type": "stream",
     "text": [
      "\r",
      " 24%|████████████████████████████▌                                                                                          | 1921/8000 [01:01<02:34, 39.22it/s]"
     ]
    },
    {
     "metadata": {},
     "name": "stderr",
     "output_type": "stream",
     "text": [
      "\r",
      " 24%|████████████████████████████▊                                                                                          | 1935/8000 [01:01<01:42, 59.40it/s]"
     ]
    },
    {
     "metadata": {},
     "name": "stderr",
     "output_type": "stream",
     "text": [
      "\r",
      " 24%|████████████████████████████▉                                                                                          | 1946/8000 [01:01<01:27, 69.07it/s]"
     ]
    },
    {
     "metadata": {},
     "name": "stderr",
     "output_type": "stream",
     "text": [
      "\r",
      " 24%|█████████████████████████████                                                                                          | 1955/8000 [01:01<01:23, 72.57it/s]"
     ]
    },
    {
     "metadata": {},
     "name": "stderr",
     "output_type": "stream",
     "text": [
      "\r",
      " 25%|█████████████████████████████▎                                                                                         | 1968/8000 [01:01<01:10, 85.82it/s]"
     ]
    },
    {
     "metadata": {},
     "name": "stderr",
     "output_type": "stream",
     "text": [
      "\r",
      " 25%|█████████████████████████████▍                                                                                         | 1978/8000 [01:01<01:15, 79.55it/s]"
     ]
    },
    {
     "metadata": {},
     "name": "stderr",
     "output_type": "stream",
     "text": [
      "\r",
      " 25%|█████████████████████████████▌                                                                                         | 1987/8000 [01:02<01:44, 57.30it/s]"
     ]
    },
    {
     "metadata": {},
     "name": "stderr",
     "output_type": "stream",
     "text": [
      "\r",
      " 25%|█████████████████████████████▋                                                                                         | 1995/8000 [01:02<02:06, 47.53it/s]"
     ]
    },
    {
     "metadata": {},
     "name": "stderr",
     "output_type": "stream",
     "text": [
      "\r",
      " 25%|█████████████████████████████▊                                                                                         | 2004/8000 [01:02<01:50, 54.45it/s]"
     ]
    },
    {
     "metadata": {},
     "name": "stderr",
     "output_type": "stream",
     "text": [
      "\r",
      " 25%|█████████████████████████████▉                                                                                         | 2015/8000 [01:02<01:33, 64.24it/s]"
     ]
    },
    {
     "metadata": {},
     "name": "stderr",
     "output_type": "stream",
     "text": [
      "\r",
      " 25%|██████████████████████████████                                                                                         | 2024/8000 [01:02<01:27, 67.93it/s]"
     ]
    },
    {
     "metadata": {},
     "name": "stderr",
     "output_type": "stream",
     "text": [
      "\r",
      " 25%|██████████████████████████████▏                                                                                        | 2033/8000 [01:02<01:23, 71.88it/s]"
     ]
    },
    {
     "metadata": {},
     "name": "stderr",
     "output_type": "stream",
     "text": [
      "\r",
      " 26%|██████████████████████████████▎                                                                                        | 2041/8000 [01:02<01:21, 72.80it/s]"
     ]
    },
    {
     "metadata": {},
     "name": "stderr",
     "output_type": "stream",
     "text": [
      "\r",
      " 26%|██████████████████████████████▍                                                                                        | 2049/8000 [01:02<01:20, 74.25it/s]"
     ]
    },
    {
     "metadata": {},
     "name": "stderr",
     "output_type": "stream",
     "text": [
      "\r",
      " 26%|██████████████████████████████▌                                                                                        | 2057/8000 [01:03<01:26, 68.84it/s]"
     ]
    },
    {
     "metadata": {},
     "name": "stderr",
     "output_type": "stream",
     "text": [
      "\r",
      " 26%|██████████████████████████████▋                                                                                        | 2065/8000 [01:03<01:39, 59.72it/s]"
     ]
    },
    {
     "metadata": {},
     "name": "stderr",
     "output_type": "stream",
     "text": [
      "\r",
      " 26%|██████████████████████████████▊                                                                                        | 2075/8000 [01:03<01:25, 68.97it/s]"
     ]
    },
    {
     "metadata": {},
     "name": "stderr",
     "output_type": "stream",
     "text": [
      "\r",
      " 26%|██████████████████████████████▉                                                                                        | 2083/8000 [01:03<01:47, 54.89it/s]"
     ]
    },
    {
     "metadata": {},
     "name": "stderr",
     "output_type": "stream",
     "text": [
      "\r",
      " 26%|███████████████████████████████                                                                                        | 2090/8000 [01:03<01:47, 54.99it/s]"
     ]
    },
    {
     "metadata": {},
     "name": "stderr",
     "output_type": "stream",
     "text": [
      "\r",
      " 26%|███████████████████████████████▏                                                                                       | 2099/8000 [01:03<01:35, 61.99it/s]"
     ]
    },
    {
     "metadata": {},
     "name": "stderr",
     "output_type": "stream",
     "text": [
      "\r",
      " 26%|███████████████████████████████▍                                                                                       | 2111/8000 [01:03<01:17, 75.90it/s]"
     ]
    },
    {
     "metadata": {},
     "name": "stderr",
     "output_type": "stream",
     "text": [
      "\r",
      " 27%|███████████████████████████████▌                                                                                       | 2123/8000 [01:04<01:37, 60.31it/s]"
     ]
    },
    {
     "metadata": {},
     "name": "stderr",
     "output_type": "stream",
     "text": [
      "\r",
      " 27%|███████████████████████████████▋                                                                                       | 2131/8000 [01:04<01:43, 56.65it/s]"
     ]
    },
    {
     "metadata": {},
     "name": "stderr",
     "output_type": "stream",
     "text": [
      "\r",
      " 27%|███████████████████████████████▊                                                                                       | 2138/8000 [01:04<02:37, 37.13it/s]"
     ]
    },
    {
     "metadata": {},
     "name": "stderr",
     "output_type": "stream",
     "text": [
      "\r",
      " 27%|███████████████████████████████▉                                                                                       | 2144/8000 [01:05<03:24, 28.66it/s]"
     ]
    },
    {
     "metadata": {},
     "name": "stderr",
     "output_type": "stream",
     "text": [
      "\r",
      " 27%|███████████████████████████████▉                                                                                       | 2149/8000 [01:05<03:15, 29.97it/s]"
     ]
    },
    {
     "metadata": {},
     "name": "stderr",
     "output_type": "stream",
     "text": [
      "\r",
      " 27%|████████████████████████████████                                                                                       | 2155/8000 [01:05<02:50, 34.33it/s]"
     ]
    },
    {
     "metadata": {},
     "name": "stderr",
     "output_type": "stream",
     "text": [
      "\r",
      " 27%|████████████████████████████████▏                                                                                      | 2160/8000 [01:05<03:00, 32.37it/s]"
     ]
    },
    {
     "metadata": {},
     "name": "stderr",
     "output_type": "stream",
     "text": [
      "\r",
      " 27%|████████████████████████████████▏                                                                                      | 2164/8000 [01:05<03:00, 32.37it/s]"
     ]
    },
    {
     "metadata": {},
     "name": "stderr",
     "output_type": "stream",
     "text": [
      "\r",
      " 27%|████████████████████████████████▎                                                                                      | 2171/8000 [01:05<02:28, 39.26it/s]"
     ]
    },
    {
     "metadata": {},
     "name": "stderr",
     "output_type": "stream",
     "text": [
      "\r",
      " 27%|████████████████████████████████▍                                                                                      | 2178/8000 [01:05<02:07, 45.57it/s]"
     ]
    },
    {
     "metadata": {},
     "name": "stderr",
     "output_type": "stream",
     "text": [
      "\r",
      " 27%|████████████████████████████████▍                                                                                      | 2184/8000 [01:06<02:10, 44.54it/s]"
     ]
    },
    {
     "metadata": {},
     "name": "stderr",
     "output_type": "stream",
     "text": [
      "\r",
      " 27%|████████████████████████████████▋                                                                                      | 2194/8000 [01:06<01:42, 56.53it/s]"
     ]
    },
    {
     "metadata": {},
     "name": "stderr",
     "output_type": "stream",
     "text": [
      "\r",
      " 28%|████████████████████████████████▋                                                                                      | 2201/8000 [01:06<01:44, 55.55it/s]"
     ]
    },
    {
     "metadata": {},
     "name": "stderr",
     "output_type": "stream",
     "text": [
      "\r",
      " 28%|████████████████████████████████▊                                                                                      | 2207/8000 [01:06<02:08, 45.11it/s]"
     ]
    },
    {
     "metadata": {},
     "name": "stderr",
     "output_type": "stream",
     "text": [
      "\r",
      " 28%|████████████████████████████████▉                                                                                      | 2213/8000 [01:06<02:21, 40.83it/s]"
     ]
    },
    {
     "metadata": {},
     "name": "stderr",
     "output_type": "stream",
     "text": [
      "\r",
      " 28%|████████████████████████████████▉                                                                                      | 2218/8000 [01:06<02:52, 33.60it/s]"
     ]
    },
    {
     "metadata": {},
     "name": "stderr",
     "output_type": "stream",
     "text": [
      "\r",
      " 28%|█████████████████████████████████                                                                                      | 2222/8000 [01:06<02:48, 34.38it/s]"
     ]
    },
    {
     "metadata": {},
     "name": "stderr",
     "output_type": "stream",
     "text": [
      "\r",
      " 28%|█████████████████████████████████                                                                                      | 2226/8000 [01:07<02:50, 33.79it/s]"
     ]
    },
    {
     "metadata": {},
     "name": "stderr",
     "output_type": "stream",
     "text": [
      "\r",
      " 28%|█████████████████████████████████▏                                                                                     | 2231/8000 [01:07<02:43, 35.30it/s]"
     ]
    },
    {
     "metadata": {},
     "name": "stderr",
     "output_type": "stream",
     "text": [
      "\r",
      " 28%|█████████████████████████████████▎                                                                                     | 2237/8000 [01:07<02:22, 40.54it/s]"
     ]
    },
    {
     "metadata": {},
     "name": "stderr",
     "output_type": "stream",
     "text": [
      "\r",
      " 28%|█████████████████████████████████▎                                                                                     | 2242/8000 [01:07<02:35, 36.98it/s]"
     ]
    },
    {
     "metadata": {},
     "name": "stderr",
     "output_type": "stream",
     "text": [
      "\r",
      " 28%|█████████████████████████████████▍                                                                                     | 2246/8000 [01:07<02:44, 35.07it/s]"
     ]
    },
    {
     "metadata": {},
     "name": "stderr",
     "output_type": "stream",
     "text": [
      "\r",
      " 28%|█████████████████████████████████▍                                                                                     | 2250/8000 [01:07<02:51, 33.54it/s]"
     ]
    },
    {
     "metadata": {},
     "name": "stderr",
     "output_type": "stream",
     "text": [
      "\r",
      " 28%|█████████████████████████████████▌                                                                                     | 2254/8000 [01:07<02:45, 34.73it/s]"
     ]
    },
    {
     "metadata": {},
     "name": "stderr",
     "output_type": "stream",
     "text": [
      "\r",
      " 28%|█████████████████████████████████▋                                                                                     | 2261/8000 [01:07<02:13, 43.03it/s]"
     ]
    },
    {
     "metadata": {},
     "name": "stderr",
     "output_type": "stream",
     "text": [
      "\r",
      " 28%|█████████████████████████████████▋                                                                                     | 2266/8000 [01:08<02:16, 41.93it/s]"
     ]
    },
    {
     "metadata": {},
     "name": "stderr",
     "output_type": "stream",
     "text": [
      "\r",
      " 28%|█████████████████████████████████▊                                                                                     | 2271/8000 [01:08<02:31, 37.90it/s]"
     ]
    },
    {
     "metadata": {},
     "name": "stderr",
     "output_type": "stream",
     "text": [
      "\r",
      " 28%|█████████████████████████████████▊                                                                                     | 2275/8000 [01:08<02:36, 36.60it/s]"
     ]
    },
    {
     "metadata": {},
     "name": "stderr",
     "output_type": "stream",
     "text": [
      "\r",
      " 28%|█████████████████████████████████▉                                                                                     | 2279/8000 [01:08<02:51, 33.38it/s]"
     ]
    },
    {
     "metadata": {},
     "name": "stderr",
     "output_type": "stream",
     "text": [
      "\r",
      " 29%|█████████████████████████████████▉                                                                                     | 2283/8000 [01:08<02:54, 32.68it/s]"
     ]
    },
    {
     "metadata": {},
     "name": "stderr",
     "output_type": "stream",
     "text": [
      "\r",
      " 29%|██████████████████████████████████                                                                                     | 2287/8000 [01:08<03:03, 31.12it/s]"
     ]
    },
    {
     "metadata": {},
     "name": "stderr",
     "output_type": "stream",
     "text": [
      "\r",
      " 29%|██████████████████████████████████                                                                                     | 2291/8000 [01:08<02:56, 32.30it/s]"
     ]
    },
    {
     "metadata": {},
     "name": "stderr",
     "output_type": "stream",
     "text": [
      "\r",
      " 29%|██████████████████████████████████▏                                                                                    | 2295/8000 [01:09<03:02, 31.24it/s]"
     ]
    },
    {
     "metadata": {},
     "name": "stderr",
     "output_type": "stream",
     "text": [
      "\r",
      " 29%|██████████████████████████████████▏                                                                                    | 2299/8000 [01:09<03:05, 30.77it/s]"
     ]
    },
    {
     "metadata": {},
     "name": "stderr",
     "output_type": "stream",
     "text": [
      "\r",
      " 29%|██████████████████████████████████▎                                                                                    | 2303/8000 [01:09<03:04, 30.89it/s]"
     ]
    },
    {
     "metadata": {},
     "name": "stderr",
     "output_type": "stream",
     "text": [
      "\r",
      " 29%|██████████████████████████████████▎                                                                                    | 2307/8000 [01:09<03:10, 29.94it/s]"
     ]
    },
    {
     "metadata": {},
     "name": "stderr",
     "output_type": "stream",
     "text": [
      "\r",
      " 29%|██████████████████████████████████▍                                                                                    | 2311/8000 [01:09<04:02, 23.50it/s]"
     ]
    },
    {
     "metadata": {},
     "name": "stderr",
     "output_type": "stream",
     "text": [
      "\r",
      " 29%|██████████████████████████████████▍                                                                                    | 2315/8000 [01:09<03:42, 25.59it/s]"
     ]
    },
    {
     "metadata": {},
     "name": "stderr",
     "output_type": "stream",
     "text": [
      "\r",
      " 29%|██████████████████████████████████▌                                                                                    | 2321/8000 [01:09<02:54, 32.62it/s]"
     ]
    },
    {
     "metadata": {},
     "name": "stderr",
     "output_type": "stream",
     "text": [
      "\r",
      " 29%|██████████████████████████████████▌                                                                                    | 2327/8000 [01:10<02:26, 38.62it/s]"
     ]
    },
    {
     "metadata": {},
     "name": "stderr",
     "output_type": "stream",
     "text": [
      "\r",
      " 29%|██████████████████████████████████▋                                                                                    | 2332/8000 [01:10<05:54, 16.00it/s]"
     ]
    },
    {
     "metadata": {},
     "name": "stderr",
     "output_type": "stream",
     "text": [
      "\r",
      " 29%|██████████████████████████████████▋                                                                                    | 2336/8000 [01:11<11:37,  8.12it/s]"
     ]
    },
    {
     "metadata": {},
     "name": "stderr",
     "output_type": "stream",
     "text": [
      "\r",
      " 29%|██████████████████████████████████▊                                                                                    | 2339/8000 [01:13<16:43,  5.64it/s]"
     ]
    },
    {
     "metadata": {},
     "name": "stderr",
     "output_type": "stream",
     "text": [
      "\r",
      " 29%|██████████████████████████████████▉                                                                                    | 2348/8000 [01:13<09:16, 10.16it/s]"
     ]
    },
    {
     "metadata": {},
     "name": "stderr",
     "output_type": "stream",
     "text": [
      "\r",
      " 29%|███████████████████████████████████                                                                                    | 2358/8000 [01:13<05:40, 16.57it/s]"
     ]
    },
    {
     "metadata": {},
     "name": "stderr",
     "output_type": "stream",
     "text": [
      "\r",
      " 30%|███████████████████████████████████▏                                                                                   | 2365/8000 [01:13<04:23, 21.37it/s]"
     ]
    },
    {
     "metadata": {},
     "name": "stderr",
     "output_type": "stream",
     "text": [
      "\r",
      " 30%|███████████████████████████████████▎                                                                                   | 2374/8000 [01:13<03:14, 28.91it/s]"
     ]
    },
    {
     "metadata": {},
     "name": "stderr",
     "output_type": "stream",
     "text": [
      "\r",
      " 30%|███████████████████████████████████▍                                                                                   | 2382/8000 [01:13<02:37, 35.75it/s]"
     ]
    },
    {
     "metadata": {},
     "name": "stderr",
     "output_type": "stream",
     "text": [
      "\r",
      " 30%|███████████████████████████████████▌                                                                                   | 2389/8000 [01:14<03:53, 24.03it/s]"
     ]
    },
    {
     "metadata": {},
     "name": "stderr",
     "output_type": "stream",
     "text": [
      "\r",
      " 30%|███████████████████████████████████▋                                                                                   | 2397/8000 [01:14<03:03, 30.52it/s]"
     ]
    },
    {
     "metadata": {},
     "name": "stderr",
     "output_type": "stream",
     "text": [
      "\r",
      " 30%|███████████████████████████████████▋                                                                                   | 2403/8000 [01:14<02:59, 31.25it/s]"
     ]
    },
    {
     "metadata": {},
     "name": "stderr",
     "output_type": "stream",
     "text": [
      "\r",
      " 30%|███████████████████████████████████▊                                                                                   | 2409/8000 [01:14<03:18, 28.16it/s]"
     ]
    },
    {
     "metadata": {},
     "name": "stderr",
     "output_type": "stream",
     "text": [
      "\r",
      " 30%|███████████████████████████████████▉                                                                                   | 2414/8000 [01:14<03:25, 27.19it/s]"
     ]
    },
    {
     "metadata": {},
     "name": "stderr",
     "output_type": "stream",
     "text": [
      "\r",
      " 30%|███████████████████████████████████▉                                                                                   | 2418/8000 [01:15<03:21, 27.71it/s]"
     ]
    },
    {
     "metadata": {},
     "name": "stderr",
     "output_type": "stream",
     "text": [
      "\r",
      " 30%|████████████████████████████████████                                                                                   | 2422/8000 [01:15<03:28, 26.80it/s]"
     ]
    },
    {
     "metadata": {},
     "name": "stderr",
     "output_type": "stream",
     "text": [
      "\r",
      " 30%|████████████████████████████████████                                                                                   | 2426/8000 [01:15<03:12, 28.89it/s]"
     ]
    },
    {
     "metadata": {},
     "name": "stderr",
     "output_type": "stream",
     "text": [
      "\r",
      " 30%|████████████████████████████████████▏                                                                                  | 2433/8000 [01:15<02:31, 36.80it/s]"
     ]
    },
    {
     "metadata": {},
     "name": "stderr",
     "output_type": "stream",
     "text": [
      "\r",
      " 30%|████████████████████████████████████▎                                                                                  | 2438/8000 [01:15<02:22, 39.16it/s]"
     ]
    },
    {
     "metadata": {},
     "name": "stderr",
     "output_type": "stream",
     "text": [
      "\r",
      " 31%|████████████████████████████████████▎                                                                                  | 2443/8000 [01:15<03:33, 26.06it/s]"
     ]
    },
    {
     "metadata": {},
     "name": "stderr",
     "output_type": "stream",
     "text": [
      "\r",
      " 31%|████████████████████████████████████▌                                                                                  | 2456/8000 [01:16<02:11, 42.12it/s]"
     ]
    },
    {
     "metadata": {},
     "name": "stderr",
     "output_type": "stream",
     "text": [
      "\r",
      " 31%|████████████████████████████████████▌                                                                                  | 2462/8000 [01:16<03:03, 30.17it/s]"
     ]
    },
    {
     "metadata": {},
     "name": "stderr",
     "output_type": "stream",
     "text": [
      "\r",
      " 31%|████████████████████████████████████▊                                                                                  | 2471/8000 [01:16<02:24, 38.36it/s]"
     ]
    },
    {
     "metadata": {},
     "name": "stderr",
     "output_type": "stream",
     "text": [
      "\r",
      " 31%|████████████████████████████████████▊                                                                                  | 2477/8000 [01:16<02:12, 41.70it/s]"
     ]
    },
    {
     "metadata": {},
     "name": "stderr",
     "output_type": "stream",
     "text": [
      "\r",
      " 31%|████████████████████████████████████▉                                                                                  | 2483/8000 [01:16<02:40, 34.46it/s]"
     ]
    },
    {
     "metadata": {},
     "name": "stderr",
     "output_type": "stream",
     "text": [
      "\r",
      " 31%|█████████████████████████████████████                                                                                  | 2488/8000 [01:17<02:32, 36.08it/s]"
     ]
    },
    {
     "metadata": {},
     "name": "stderr",
     "output_type": "stream",
     "text": [
      "\r",
      " 31%|█████████████████████████████████████                                                                                  | 2493/8000 [01:17<03:19, 27.63it/s]"
     ]
    },
    {
     "metadata": {},
     "name": "stderr",
     "output_type": "stream",
     "text": [
      "\r",
      " 31%|█████████████████████████████████████▏                                                                                 | 2497/8000 [01:17<04:05, 22.45it/s]"
     ]
    },
    {
     "metadata": {},
     "name": "stderr",
     "output_type": "stream",
     "text": [
      "\r",
      " 31%|█████████████████████████████████████▏                                                                                 | 2500/8000 [01:17<04:38, 19.72it/s]"
     ]
    },
    {
     "metadata": {},
     "name": "stderr",
     "output_type": "stream",
     "text": [
      "\r",
      " 31%|█████████████████████████████████████▏                                                                                 | 2503/8000 [01:18<05:05, 17.99it/s]"
     ]
    },
    {
     "metadata": {},
     "name": "stderr",
     "output_type": "stream",
     "text": [
      "\r",
      " 31%|█████████████████████████████████████▎                                                                                 | 2506/8000 [01:18<05:25, 16.86it/s]"
     ]
    },
    {
     "metadata": {},
     "name": "stderr",
     "output_type": "stream",
     "text": [
      "\r",
      " 31%|█████████████████████████████████████▎                                                                                 | 2508/8000 [01:18<05:39, 16.18it/s]"
     ]
    },
    {
     "metadata": {},
     "name": "stderr",
     "output_type": "stream",
     "text": [
      "\r",
      " 31%|█████████████████████████████████████▎                                                                                 | 2510/8000 [01:18<05:51, 15.61it/s]"
     ]
    },
    {
     "metadata": {},
     "name": "stderr",
     "output_type": "stream",
     "text": [
      "\r",
      " 31%|█████████████████████████████████████▎                                                                                 | 2512/8000 [01:18<06:10, 14.81it/s]"
     ]
    },
    {
     "metadata": {},
     "name": "stderr",
     "output_type": "stream",
     "text": [
      "\r",
      " 31%|█████████████████████████████████████▍                                                                                 | 2514/8000 [01:18<06:16, 14.58it/s]"
     ]
    },
    {
     "metadata": {},
     "name": "stderr",
     "output_type": "stream",
     "text": [
      "\r",
      " 31%|█████████████████████████████████████▍                                                                                 | 2516/8000 [01:19<06:26, 14.20it/s]"
     ]
    },
    {
     "metadata": {},
     "name": "stderr",
     "output_type": "stream",
     "text": [
      "\r",
      " 31%|█████████████████████████████████████▍                                                                                 | 2518/8000 [01:19<06:30, 14.05it/s]"
     ]
    },
    {
     "metadata": {},
     "name": "stderr",
     "output_type": "stream",
     "text": [
      "\r",
      " 32%|█████████████████████████████████████▍                                                                                 | 2520/8000 [01:19<06:32, 13.96it/s]"
     ]
    },
    {
     "metadata": {},
     "name": "stderr",
     "output_type": "stream",
     "text": [
      "\r",
      " 32%|█████████████████████████████████████▌                                                                                 | 2522/8000 [01:19<06:32, 13.97it/s]"
     ]
    },
    {
     "metadata": {},
     "name": "stderr",
     "output_type": "stream",
     "text": [
      "\r",
      " 32%|█████████████████████████████████████▌                                                                                 | 2524/8000 [01:19<06:35, 13.85it/s]"
     ]
    },
    {
     "metadata": {},
     "name": "stderr",
     "output_type": "stream",
     "text": [
      "\r",
      " 32%|█████████████████████████████████████▌                                                                                 | 2526/8000 [01:19<06:44, 13.54it/s]"
     ]
    },
    {
     "metadata": {},
     "name": "stderr",
     "output_type": "stream",
     "text": [
      "\r",
      " 32%|█████████████████████████████████████▌                                                                                 | 2528/8000 [01:19<06:41, 13.63it/s]"
     ]
    },
    {
     "metadata": {},
     "name": "stderr",
     "output_type": "stream",
     "text": [
      "\r",
      " 32%|█████████████████████████████████████▋                                                                                 | 2530/8000 [01:20<06:57, 13.09it/s]"
     ]
    },
    {
     "metadata": {},
     "name": "stderr",
     "output_type": "stream",
     "text": [
      "\r",
      " 32%|█████████████████████████████████████▋                                                                                 | 2532/8000 [01:20<07:04, 12.87it/s]"
     ]
    },
    {
     "metadata": {},
     "name": "stderr",
     "output_type": "stream",
     "text": [
      "\r",
      " 32%|█████████████████████████████████████▋                                                                                 | 2534/8000 [01:20<06:55, 13.15it/s]"
     ]
    },
    {
     "metadata": {},
     "name": "stderr",
     "output_type": "stream",
     "text": [
      "\r",
      " 32%|█████████████████████████████████████▋                                                                                 | 2536/8000 [01:20<06:49, 13.34it/s]"
     ]
    },
    {
     "metadata": {},
     "name": "stderr",
     "output_type": "stream",
     "text": [
      "\r",
      " 32%|█████████████████████████████████████▊                                                                                 | 2538/8000 [01:20<06:54, 13.18it/s]"
     ]
    },
    {
     "metadata": {},
     "name": "stderr",
     "output_type": "stream",
     "text": [
      "\r",
      " 32%|█████████████████████████████████████▊                                                                                 | 2540/8000 [01:20<06:53, 13.21it/s]"
     ]
    },
    {
     "metadata": {},
     "name": "stderr",
     "output_type": "stream",
     "text": [
      "\r",
      " 32%|█████████████████████████████████████▊                                                                                 | 2542/8000 [01:20<06:52, 13.22it/s]"
     ]
    },
    {
     "metadata": {},
     "name": "stderr",
     "output_type": "stream",
     "text": [
      "\r",
      " 32%|█████████████████████████████████████▊                                                                                 | 2544/8000 [01:21<06:50, 13.28it/s]"
     ]
    },
    {
     "metadata": {},
     "name": "stderr",
     "output_type": "stream",
     "text": [
      "\r",
      " 32%|█████████████████████████████████████▊                                                                                 | 2546/8000 [01:21<07:12, 12.61it/s]"
     ]
    },
    {
     "metadata": {},
     "name": "stderr",
     "output_type": "stream",
     "text": [
      "\r",
      " 32%|█████████████████████████████████████▉                                                                                 | 2548/8000 [01:21<07:18, 12.42it/s]"
     ]
    },
    {
     "metadata": {},
     "name": "stderr",
     "output_type": "stream",
     "text": [
      "\r",
      " 32%|█████████████████████████████████████▉                                                                                 | 2550/8000 [01:21<07:12, 12.61it/s]"
     ]
    },
    {
     "metadata": {},
     "name": "stderr",
     "output_type": "stream",
     "text": [
      "\r",
      " 32%|█████████████████████████████████████▉                                                                                 | 2552/8000 [01:21<07:13, 12.57it/s]"
     ]
    },
    {
     "metadata": {},
     "name": "stderr",
     "output_type": "stream",
     "text": [
      "\r",
      " 32%|█████████████████████████████████████▉                                                                                 | 2554/8000 [01:21<07:26, 12.19it/s]"
     ]
    },
    {
     "metadata": {},
     "name": "stderr",
     "output_type": "stream",
     "text": [
      "\r",
      " 32%|██████████████████████████████████████                                                                                 | 2556/8000 [01:22<06:48, 13.31it/s]"
     ]
    },
    {
     "metadata": {},
     "name": "stderr",
     "output_type": "stream",
     "text": [
      "\r",
      " 32%|██████████████████████████████████████                                                                                 | 2559/8000 [01:22<05:26, 16.68it/s]"
     ]
    },
    {
     "metadata": {},
     "name": "stderr",
     "output_type": "stream",
     "text": [
      "\r",
      " 32%|██████████████████████████████████████                                                                                 | 2561/8000 [01:22<05:11, 17.45it/s]"
     ]
    },
    {
     "metadata": {},
     "name": "stderr",
     "output_type": "stream",
     "text": [
      "\r",
      " 32%|██████████████████████████████████████▏                                                                                | 2569/8000 [01:22<03:01, 29.97it/s]"
     ]
    },
    {
     "metadata": {},
     "name": "stderr",
     "output_type": "stream",
     "text": [
      "\r",
      " 32%|██████████████████████████████████████▎                                                                                | 2572/8000 [01:22<03:07, 28.90it/s]"
     ]
    },
    {
     "metadata": {},
     "name": "stderr",
     "output_type": "stream",
     "text": [
      "\r",
      " 32%|██████████████████████████████████████▎                                                                                | 2575/8000 [01:22<03:14, 27.85it/s]"
     ]
    },
    {
     "metadata": {},
     "name": "stderr",
     "output_type": "stream",
     "text": [
      "\r",
      " 32%|██████████████████████████████████████▎                                                                                | 2578/8000 [01:22<03:35, 25.20it/s]"
     ]
    },
    {
     "metadata": {},
     "name": "stderr",
     "output_type": "stream",
     "text": [
      "\r",
      " 32%|██████████████████████████████████████▍                                                                                | 2581/8000 [01:22<03:41, 24.45it/s]"
     ]
    },
    {
     "metadata": {},
     "name": "stderr",
     "output_type": "stream",
     "text": [
      "\r",
      " 32%|██████████████████████████████████████▍                                                                                | 2584/8000 [01:23<03:36, 24.99it/s]"
     ]
    },
    {
     "metadata": {},
     "name": "stderr",
     "output_type": "stream",
     "text": [
      "\r",
      " 32%|██████████████████████████████████████▍                                                                                | 2587/8000 [01:23<03:33, 25.35it/s]"
     ]
    },
    {
     "metadata": {},
     "name": "stderr",
     "output_type": "stream",
     "text": [
      "\r",
      " 32%|██████████████████████████████████████▌                                                                                | 2590/8000 [01:23<03:30, 25.71it/s]"
     ]
    },
    {
     "metadata": {},
     "name": "stderr",
     "output_type": "stream",
     "text": [
      "\r",
      " 33%|██████████████████████████████████████▋                                                                                | 2602/8000 [01:23<01:51, 48.30it/s]"
     ]
    },
    {
     "metadata": {},
     "name": "stderr",
     "output_type": "stream",
     "text": [
      "\r",
      " 33%|██████████████████████████████████████▊                                                                                | 2607/8000 [01:23<01:54, 47.21it/s]"
     ]
    },
    {
     "metadata": {},
     "name": "stderr",
     "output_type": "stream",
     "text": [
      "\r",
      " 33%|██████████████████████████████████████▊                                                                                | 2612/8000 [01:23<02:59, 30.00it/s]"
     ]
    },
    {
     "metadata": {},
     "name": "stderr",
     "output_type": "stream",
     "text": [
      "\r",
      " 33%|██████████████████████████████████████▉                                                                                | 2618/8000 [01:23<02:31, 35.57it/s]"
     ]
    },
    {
     "metadata": {},
     "name": "stderr",
     "output_type": "stream",
     "text": [
      "\r",
      " 33%|███████████████████████████████████████                                                                                | 2623/8000 [01:24<02:24, 37.29it/s]"
     ]
    },
    {
     "metadata": {},
     "name": "stderr",
     "output_type": "stream",
     "text": [
      "\r",
      " 33%|███████████████████████████████████████                                                                                | 2630/8000 [01:24<02:04, 43.23it/s]"
     ]
    },
    {
     "metadata": {},
     "name": "stderr",
     "output_type": "stream",
     "text": [
      "\r",
      " 33%|███████████████████████████████████████▏                                                                               | 2638/8000 [01:24<01:44, 51.26it/s]"
     ]
    },
    {
     "metadata": {},
     "name": "stderr",
     "output_type": "stream",
     "text": [
      "\r",
      " 33%|███████████████████████████████████████▎                                                                               | 2644/8000 [01:24<01:41, 52.55it/s]"
     ]
    },
    {
     "metadata": {},
     "name": "stderr",
     "output_type": "stream",
     "text": [
      "\r",
      " 33%|███████████████████████████████████████▍                                                                               | 2652/8000 [01:24<01:30, 59.36it/s]"
     ]
    },
    {
     "metadata": {},
     "name": "stderr",
     "output_type": "stream",
     "text": [
      "\r",
      " 33%|███████████████████████████████████████▌                                                                               | 2659/8000 [01:24<01:52, 47.37it/s]"
     ]
    },
    {
     "metadata": {},
     "name": "stderr",
     "output_type": "stream",
     "text": [
      "\r",
      " 33%|███████████████████████████████████████▋                                                                               | 2665/8000 [01:24<01:55, 46.30it/s]"
     ]
    },
    {
     "metadata": {},
     "name": "stderr",
     "output_type": "stream",
     "text": [
      "\r",
      " 33%|███████████████████████████████████████▋                                                                               | 2671/8000 [01:24<01:55, 46.10it/s]"
     ]
    },
    {
     "metadata": {},
     "name": "stderr",
     "output_type": "stream",
     "text": [
      "\r",
      " 33%|███████████████████████████████████████▊                                                                               | 2676/8000 [01:25<02:01, 43.80it/s]"
     ]
    },
    {
     "metadata": {},
     "name": "stderr",
     "output_type": "stream",
     "text": [
      "\r",
      " 34%|███████████████████████████████████████▉                                                                               | 2684/8000 [01:25<01:43, 51.36it/s]"
     ]
    },
    {
     "metadata": {},
     "name": "stderr",
     "output_type": "stream",
     "text": [
      "\r",
      " 34%|████████████████████████████████████████                                                                               | 2690/8000 [01:25<01:40, 52.94it/s]"
     ]
    },
    {
     "metadata": {},
     "name": "stderr",
     "output_type": "stream",
     "text": [
      "\r",
      " 34%|████████████████████████████████████████                                                                               | 2696/8000 [01:25<01:37, 54.25it/s]"
     ]
    },
    {
     "metadata": {},
     "name": "stderr",
     "output_type": "stream",
     "text": [
      "\r",
      " 34%|████████████████████████████████████████▏                                                                              | 2702/8000 [01:25<01:50, 47.87it/s]"
     ]
    },
    {
     "metadata": {},
     "name": "stderr",
     "output_type": "stream",
     "text": [
      "\r",
      " 34%|████████████████████████████████████████▎                                                                              | 2708/8000 [01:25<02:00, 44.02it/s]"
     ]
    },
    {
     "metadata": {},
     "name": "stderr",
     "output_type": "stream",
     "text": [
      "\r",
      " 34%|████████████████████████████████████████▎                                                                              | 2713/8000 [01:25<01:56, 45.20it/s]"
     ]
    },
    {
     "metadata": {},
     "name": "stderr",
     "output_type": "stream",
     "text": [
      "\r",
      " 34%|████████████████████████████████████████▍                                                                              | 2719/8000 [01:25<01:51, 47.43it/s]"
     ]
    },
    {
     "metadata": {},
     "name": "stderr",
     "output_type": "stream",
     "text": [
      "\r",
      " 34%|████████████████████████████████████████▌                                                                              | 2725/8000 [01:26<01:45, 50.05it/s]"
     ]
    },
    {
     "metadata": {},
     "name": "stderr",
     "output_type": "stream",
     "text": [
      "\r",
      " 34%|████████████████████████████████████████▌                                                                              | 2731/8000 [01:26<01:40, 52.41it/s]"
     ]
    },
    {
     "metadata": {},
     "name": "stderr",
     "output_type": "stream",
     "text": [
      "\r",
      " 34%|████████████████████████████████████████▋                                                                              | 2738/8000 [01:26<01:34, 55.71it/s]"
     ]
    },
    {
     "metadata": {},
     "name": "stderr",
     "output_type": "stream",
     "text": [
      "\r",
      " 34%|████████████████████████████████████████▊                                                                              | 2744/8000 [01:26<02:10, 40.28it/s]"
     ]
    },
    {
     "metadata": {},
     "name": "stderr",
     "output_type": "stream",
     "text": [
      "\r",
      " 34%|████████████████████████████████████████▉                                                                              | 2749/8000 [01:26<02:06, 41.54it/s]"
     ]
    },
    {
     "metadata": {},
     "name": "stderr",
     "output_type": "stream",
     "text": [
      "\r",
      " 34%|████████████████████████████████████████▉                                                                              | 2755/8000 [01:26<01:56, 45.00it/s]"
     ]
    },
    {
     "metadata": {},
     "name": "stderr",
     "output_type": "stream",
     "text": [
      "\r",
      " 35%|█████████████████████████████████████████                                                                              | 2761/8000 [01:26<02:07, 40.94it/s]"
     ]
    },
    {
     "metadata": {},
     "name": "stderr",
     "output_type": "stream",
     "text": [
      "\r",
      " 35%|█████████████████████████████████████████▏                                                                             | 2768/8000 [01:27<01:57, 44.50it/s]"
     ]
    },
    {
     "metadata": {},
     "name": "stderr",
     "output_type": "stream",
     "text": [
      "\r",
      " 35%|█████████████████████████████████████████▏                                                                             | 2773/8000 [01:27<02:17, 37.93it/s]"
     ]
    },
    {
     "metadata": {},
     "name": "stderr",
     "output_type": "stream",
     "text": [
      "\r",
      " 35%|█████████████████████████████████████████▎                                                                             | 2778/8000 [01:27<02:32, 34.32it/s]"
     ]
    },
    {
     "metadata": {},
     "name": "stderr",
     "output_type": "stream",
     "text": [
      "\r",
      " 35%|█████████████████████████████████████████▍                                                                             | 2782/8000 [01:27<02:40, 32.43it/s]"
     ]
    },
    {
     "metadata": {},
     "name": "stderr",
     "output_type": "stream",
     "text": [
      "\r",
      " 35%|█████████████████████████████████████████▍                                                                             | 2786/8000 [01:27<02:51, 30.35it/s]"
     ]
    },
    {
     "metadata": {},
     "name": "stderr",
     "output_type": "stream",
     "text": [
      "\r",
      " 35%|█████████████████████████████████████████▌                                                                             | 2790/8000 [01:27<02:57, 29.40it/s]"
     ]
    },
    {
     "metadata": {},
     "name": "stderr",
     "output_type": "stream",
     "text": [
      "\r",
      " 35%|█████████████████████████████████████████▌                                                                             | 2794/8000 [01:28<03:01, 28.76it/s]"
     ]
    },
    {
     "metadata": {},
     "name": "stderr",
     "output_type": "stream",
     "text": [
      "\r",
      " 35%|█████████████████████████████████████████▌                                                                             | 2797/8000 [01:28<03:04, 28.16it/s]"
     ]
    },
    {
     "metadata": {},
     "name": "stderr",
     "output_type": "stream",
     "text": [
      "\r",
      " 35%|█████████████████████████████████████████▋                                                                             | 2800/8000 [01:28<03:08, 27.57it/s]"
     ]
    },
    {
     "metadata": {},
     "name": "stderr",
     "output_type": "stream",
     "text": [
      "\r",
      " 35%|█████████████████████████████████████████▋                                                                             | 2805/8000 [01:28<02:38, 32.76it/s]"
     ]
    },
    {
     "metadata": {},
     "name": "stderr",
     "output_type": "stream",
     "text": [
      "\r",
      " 35%|█████████████████████████████████████████▊                                                                             | 2810/8000 [01:28<02:56, 29.48it/s]"
     ]
    },
    {
     "metadata": {},
     "name": "stderr",
     "output_type": "stream",
     "text": [
      "\r",
      " 35%|█████████████████████████████████████████▊                                                                             | 2815/8000 [01:28<03:15, 26.58it/s]"
     ]
    },
    {
     "metadata": {},
     "name": "stderr",
     "output_type": "stream",
     "text": [
      "\r",
      " 35%|█████████████████████████████████████████▉                                                                             | 2822/8000 [01:28<02:36, 33.09it/s]"
     ]
    },
    {
     "metadata": {},
     "name": "stderr",
     "output_type": "stream",
     "text": [
      "\r",
      " 35%|██████████████████████████████████████████                                                                             | 2826/8000 [01:29<02:40, 32.16it/s]"
     ]
    },
    {
     "metadata": {},
     "name": "stderr",
     "output_type": "stream",
     "text": [
      "\r",
      " 35%|██████████████████████████████████████████▏                                                                            | 2838/8000 [01:29<01:40, 51.37it/s]"
     ]
    },
    {
     "metadata": {},
     "name": "stderr",
     "output_type": "stream",
     "text": [
      "\r",
      " 36%|██████████████████████████████████████████▍                                                                            | 2850/8000 [01:29<01:17, 66.85it/s]"
     ]
    },
    {
     "metadata": {},
     "name": "stderr",
     "output_type": "stream",
     "text": [
      "\r",
      " 36%|██████████████████████████████████████████▌                                                                            | 2858/8000 [01:29<01:14, 69.29it/s]"
     ]
    },
    {
     "metadata": {},
     "name": "stderr",
     "output_type": "stream",
     "text": [
      "\r",
      " 36%|██████████████████████████████████████████▋                                                                            | 2866/8000 [01:29<01:22, 62.42it/s]"
     ]
    },
    {
     "metadata": {},
     "name": "stderr",
     "output_type": "stream",
     "text": [
      "\r",
      " 36%|██████████████████████████████████████████▋                                                                            | 2873/8000 [01:29<01:28, 58.24it/s]"
     ]
    },
    {
     "metadata": {},
     "name": "stderr",
     "output_type": "stream",
     "text": [
      "\r",
      " 36%|██████████████████████████████████████████▊                                                                            | 2880/8000 [01:29<01:33, 54.81it/s]"
     ]
    },
    {
     "metadata": {},
     "name": "stderr",
     "output_type": "stream",
     "text": [
      "\r",
      " 36%|██████████████████████████████████████████▉                                                                            | 2888/8000 [01:29<01:24, 60.66it/s]"
     ]
    },
    {
     "metadata": {},
     "name": "stderr",
     "output_type": "stream",
     "text": [
      "\r",
      " 36%|███████████████████████████████████████████                                                                            | 2895/8000 [01:30<02:28, 34.37it/s]"
     ]
    },
    {
     "metadata": {},
     "name": "stderr",
     "output_type": "stream",
     "text": [
      "\r",
      " 36%|███████████████████████████████████████████▏                                                                           | 2900/8000 [01:30<03:40, 23.12it/s]"
     ]
    },
    {
     "metadata": {},
     "name": "stderr",
     "output_type": "stream",
     "text": [
      "\r",
      " 36%|███████████████████████████████████████████▏                                                                           | 2904/8000 [01:31<03:46, 22.45it/s]"
     ]
    },
    {
     "metadata": {},
     "name": "stderr",
     "output_type": "stream",
     "text": [
      "\r",
      " 36%|███████████████████████████████████████████▎                                                                           | 2911/8000 [01:31<03:50, 22.08it/s]"
     ]
    },
    {
     "metadata": {},
     "name": "stderr",
     "output_type": "stream",
     "text": [
      "\r",
      " 36%|███████████████████████████████████████████▎                                                                           | 2914/8000 [01:32<07:01, 12.08it/s]"
     ]
    },
    {
     "metadata": {},
     "name": "stderr",
     "output_type": "stream",
     "text": [
      "\r",
      " 36%|███████████████████████████████████████████▍                                                                           | 2917/8000 [01:32<10:23,  8.16it/s]"
     ]
    },
    {
     "metadata": {},
     "name": "stderr",
     "output_type": "stream",
     "text": [
      "\r",
      " 36%|███████████████████████████████████████████▍                                                                           | 2919/8000 [01:33<13:14,  6.39it/s]"
     ]
    },
    {
     "metadata": {},
     "name": "stderr",
     "output_type": "stream",
     "text": [
      "\r",
      " 37%|███████████████████████████████████████████▍                                                                           | 2921/8000 [01:34<14:25,  5.87it/s]"
     ]
    },
    {
     "metadata": {},
     "name": "stderr",
     "output_type": "stream",
     "text": [
      "\r",
      " 37%|███████████████████████████████████████████▍                                                                           | 2922/8000 [01:34<13:45,  6.15it/s]"
     ]
    },
    {
     "metadata": {},
     "name": "stderr",
     "output_type": "stream",
     "text": [
      "\r",
      " 37%|███████████████████████████████████████████▌                                                                           | 2931/8000 [01:34<06:04, 13.89it/s]"
     ]
    },
    {
     "metadata": {},
     "name": "stderr",
     "output_type": "stream",
     "text": [
      "\r",
      " 37%|███████████████████████████████████████████▋                                                                           | 2940/8000 [01:34<03:42, 22.69it/s]"
     ]
    },
    {
     "metadata": {},
     "name": "stderr",
     "output_type": "stream",
     "text": [
      "\r",
      " 37%|███████████████████████████████████████████▉                                                                           | 2952/8000 [01:34<02:19, 36.29it/s]"
     ]
    },
    {
     "metadata": {},
     "name": "stderr",
     "output_type": "stream",
     "text": [
      "\r",
      " 37%|████████████████████████████████████████████                                                                           | 2960/8000 [01:34<01:56, 43.08it/s]"
     ]
    },
    {
     "metadata": {},
     "name": "stderr",
     "output_type": "stream",
     "text": [
      "\r",
      " 37%|████████████████████████████████████████████▏                                                                          | 2970/8000 [01:34<01:35, 52.81it/s]"
     ]
    },
    {
     "metadata": {},
     "name": "stderr",
     "output_type": "stream",
     "text": [
      "\r",
      " 37%|████████████████████████████████████████████▎                                                                          | 2978/8000 [01:34<01:29, 56.05it/s]"
     ]
    },
    {
     "metadata": {},
     "name": "stderr",
     "output_type": "stream",
     "text": [
      "\r",
      " 37%|████████████████████████████████████████████▍                                                                          | 2988/8000 [01:34<01:16, 65.47it/s]"
     ]
    },
    {
     "metadata": {},
     "name": "stderr",
     "output_type": "stream",
     "text": [
      "\r",
      " 38%|████████████████████████████████████████████▋                                                                          | 3000/8000 [01:35<01:07, 74.32it/s]"
     ]
    },
    {
     "metadata": {},
     "name": "stderr",
     "output_type": "stream",
     "text": [
      "\r",
      " 38%|████████████████████████████████████████████▊                                                                          | 3011/8000 [01:35<01:00, 82.49it/s]"
     ]
    },
    {
     "metadata": {},
     "name": "stderr",
     "output_type": "stream",
     "text": [
      "\r",
      " 38%|████████████████████████████████████████████▉                                                                          | 3021/8000 [01:35<01:09, 71.50it/s]"
     ]
    },
    {
     "metadata": {},
     "name": "stderr",
     "output_type": "stream",
     "text": [
      "\r",
      " 38%|█████████████████████████████████████████████▏                                                                         | 3035/8000 [01:35<00:57, 86.01it/s]"
     ]
    },
    {
     "metadata": {},
     "name": "stderr",
     "output_type": "stream",
     "text": [
      "\r",
      " 38%|█████████████████████████████████████████████▎                                                                         | 3046/8000 [01:35<00:54, 90.89it/s]"
     ]
    },
    {
     "metadata": {},
     "name": "stderr",
     "output_type": "stream",
     "text": [
      "\r",
      " 38%|█████████████████████████████████████████████▍                                                                         | 3058/8000 [01:35<00:51, 96.90it/s]"
     ]
    },
    {
     "metadata": {},
     "name": "stderr",
     "output_type": "stream",
     "text": [
      "\r",
      " 38%|█████████████████████████████████████████████▋                                                                         | 3070/8000 [01:35<00:54, 91.27it/s]"
     ]
    },
    {
     "metadata": {},
     "name": "stderr",
     "output_type": "stream",
     "text": [
      "\r",
      " 38%|█████████████████████████████████████████████▊                                                                         | 3080/8000 [01:35<00:56, 87.74it/s]"
     ]
    },
    {
     "metadata": {},
     "name": "stderr",
     "output_type": "stream",
     "text": [
      "\r",
      " 39%|██████████████████████████████████████████████                                                                         | 3094/8000 [01:36<00:49, 99.29it/s]"
     ]
    },
    {
     "metadata": {},
     "name": "stderr",
     "output_type": "stream",
     "text": [
      "\r",
      " 39%|█████████████████████████████████████████████▊                                                                        | 3106/8000 [01:36<00:47, 103.98it/s]"
     ]
    },
    {
     "metadata": {},
     "name": "stderr",
     "output_type": "stream",
     "text": [
      "\r",
      " 39%|██████████████████████████████████████████████▎                                                                        | 3117/8000 [01:36<01:00, 80.62it/s]"
     ]
    },
    {
     "metadata": {},
     "name": "stderr",
     "output_type": "stream",
     "text": [
      "\r",
      " 39%|██████████████████████████████████████████████▌                                                                        | 3127/8000 [01:36<01:09, 69.64it/s]"
     ]
    },
    {
     "metadata": {},
     "name": "stderr",
     "output_type": "stream",
     "text": [
      "\r",
      " 39%|██████████████████████████████████████████████▋                                                                        | 3135/8000 [01:36<01:12, 67.35it/s]"
     ]
    },
    {
     "metadata": {},
     "name": "stderr",
     "output_type": "stream",
     "text": [
      "\r",
      " 39%|██████████████████████████████████████████████▊                                                                        | 3148/8000 [01:36<01:00, 80.16it/s]"
     ]
    },
    {
     "metadata": {},
     "name": "stderr",
     "output_type": "stream",
     "text": [
      "\r",
      " 40%|███████████████████████████████████████████████                                                                        | 3161/8000 [01:36<00:52, 91.57it/s]"
     ]
    },
    {
     "metadata": {},
     "name": "stderr",
     "output_type": "stream",
     "text": [
      "\r",
      " 40%|███████████████████████████████████████████████▏                                                                       | 3172/8000 [01:37<01:04, 75.40it/s]"
     ]
    },
    {
     "metadata": {},
     "name": "stderr",
     "output_type": "stream",
     "text": [
      "\r",
      " 40%|███████████████████████████████████████████████▎                                                                       | 3181/8000 [01:37<01:13, 65.43it/s]"
     ]
    },
    {
     "metadata": {},
     "name": "stderr",
     "output_type": "stream",
     "text": [
      "\r",
      " 40%|███████████████████████████████████████████████▍                                                                       | 3189/8000 [01:37<01:17, 62.24it/s]"
     ]
    },
    {
     "metadata": {},
     "name": "stderr",
     "output_type": "stream",
     "text": [
      "\r",
      " 40%|███████████████████████████████████████████████▌                                                                       | 3196/8000 [01:38<02:33, 31.28it/s]"
     ]
    },
    {
     "metadata": {},
     "name": "stderr",
     "output_type": "stream",
     "text": [
      "\r",
      " 40%|███████████████████████████████████████████████▋                                                                       | 3209/8000 [01:38<01:48, 43.98it/s]"
     ]
    },
    {
     "metadata": {},
     "name": "stderr",
     "output_type": "stream",
     "text": [
      "\r",
      " 40%|███████████████████████████████████████████████▊                                                                       | 3217/8000 [01:38<02:10, 36.62it/s]"
     ]
    },
    {
     "metadata": {},
     "name": "stderr",
     "output_type": "stream",
     "text": [
      "\r",
      " 40%|████████████████████████████████████████████████                                                                       | 3228/8000 [01:38<01:42, 46.48it/s]"
     ]
    },
    {
     "metadata": {},
     "name": "stderr",
     "output_type": "stream",
     "text": [
      "\r",
      " 40%|████████████████████████████████████████████████▏                                                                      | 3238/8000 [01:39<02:05, 38.04it/s]"
     ]
    },
    {
     "metadata": {},
     "name": "stderr",
     "output_type": "stream",
     "text": [
      "\r",
      " 41%|████████████████████████████████████████████████▎                                                                      | 3247/8000 [01:39<01:45, 44.94it/s]"
     ]
    },
    {
     "metadata": {},
     "name": "stderr",
     "output_type": "stream",
     "text": [
      "\r",
      " 41%|████████████████████████████████████████████████▍                                                                      | 3254/8000 [01:39<01:40, 47.28it/s]"
     ]
    },
    {
     "metadata": {},
     "name": "stderr",
     "output_type": "stream",
     "text": [
      "\r",
      " 41%|████████████████████████████████████████████████▌                                                                      | 3261/8000 [01:39<01:49, 43.33it/s]"
     ]
    },
    {
     "metadata": {},
     "name": "stderr",
     "output_type": "stream",
     "text": [
      "\r",
      " 41%|████████████████████████████████████████████████▋                                                                      | 3269/8000 [01:39<01:35, 49.36it/s]"
     ]
    },
    {
     "metadata": {},
     "name": "stderr",
     "output_type": "stream",
     "text": [
      "\r",
      " 41%|████████████████████████████████████████████████▋                                                                      | 3276/8000 [01:39<01:47, 44.09it/s]"
     ]
    },
    {
     "metadata": {},
     "name": "stderr",
     "output_type": "stream",
     "text": [
      "\r",
      " 41%|████████████████████████████████████████████████▉                                                                      | 3288/8000 [01:39<01:20, 58.72it/s]"
     ]
    },
    {
     "metadata": {},
     "name": "stderr",
     "output_type": "stream",
     "text": [
      "\r",
      " 41%|█████████████████████████████████████████████████                                                                      | 3296/8000 [01:39<01:18, 59.61it/s]"
     ]
    },
    {
     "metadata": {},
     "name": "stderr",
     "output_type": "stream",
     "text": [
      "\r",
      " 41%|█████████████████████████████████████████████████▏                                                                     | 3303/8000 [01:40<01:27, 53.63it/s]"
     ]
    },
    {
     "metadata": {},
     "name": "stderr",
     "output_type": "stream",
     "text": [
      "\r",
      " 41%|█████████████████████████████████████████████████▏                                                                     | 3310/8000 [01:40<01:34, 49.45it/s]"
     ]
    },
    {
     "metadata": {},
     "name": "stderr",
     "output_type": "stream",
     "text": [
      "\r",
      " 41%|█████████████████████████████████████████████████▎                                                                     | 3318/8000 [01:40<02:10, 35.79it/s]"
     ]
    },
    {
     "metadata": {},
     "name": "stderr",
     "output_type": "stream",
     "text": [
      "\r",
      " 42%|█████████████████████████████████████████████████▍                                                                     | 3323/8000 [01:40<02:04, 37.63it/s]"
     ]
    },
    {
     "metadata": {},
     "name": "stderr",
     "output_type": "stream",
     "text": [
      "\r",
      " 42%|█████████████████████████████████████████████████▌                                                                     | 3328/8000 [01:40<02:10, 35.70it/s]"
     ]
    },
    {
     "metadata": {},
     "name": "stderr",
     "output_type": "stream",
     "text": [
      "\r",
      " 42%|█████████████████████████████████████████████████▌                                                                     | 3333/8000 [01:41<02:07, 36.54it/s]"
     ]
    },
    {
     "metadata": {},
     "name": "stderr",
     "output_type": "stream",
     "text": [
      "\r",
      " 42%|█████████████████████████████████████████████████▋                                                                     | 3338/8000 [01:41<03:31, 22.02it/s]"
     ]
    },
    {
     "metadata": {},
     "name": "stderr",
     "output_type": "stream",
     "text": [
      "\r",
      " 42%|█████████████████████████████████████████████████▋                                                                     | 3342/8000 [01:41<03:27, 22.50it/s]"
     ]
    },
    {
     "metadata": {},
     "name": "stderr",
     "output_type": "stream",
     "text": [
      "\r",
      " 42%|█████████████████████████████████████████████████▊                                                                     | 3345/8000 [01:42<04:35, 16.90it/s]"
     ]
    },
    {
     "metadata": {},
     "name": "stderr",
     "output_type": "stream",
     "text": [
      "\r",
      " 42%|█████████████████████████████████████████████████▊                                                                     | 3348/8000 [01:42<04:24, 17.59it/s]"
     ]
    },
    {
     "metadata": {},
     "name": "stderr",
     "output_type": "stream",
     "text": [
      "\r",
      " 42%|█████████████████████████████████████████████████▊                                                                     | 3351/8000 [01:42<03:58, 19.49it/s]"
     ]
    },
    {
     "metadata": {},
     "name": "stderr",
     "output_type": "stream",
     "text": [
      "\r",
      " 42%|█████████████████████████████████████████████████▉                                                                     | 3357/8000 [01:42<02:55, 26.38it/s]"
     ]
    },
    {
     "metadata": {},
     "name": "stderr",
     "output_type": "stream",
     "text": [
      "\r",
      " 42%|█████████████████████████████████████████████████▉                                                                     | 3361/8000 [01:42<03:27, 22.39it/s]"
     ]
    },
    {
     "metadata": {},
     "name": "stderr",
     "output_type": "stream",
     "text": [
      "\r",
      " 42%|██████████████████████████████████████████████████                                                                     | 3364/8000 [01:42<04:18, 17.96it/s]"
     ]
    },
    {
     "metadata": {},
     "name": "stderr",
     "output_type": "stream",
     "text": [
      "\r",
      " 42%|██████████████████████████████████████████████████                                                                     | 3367/8000 [01:43<03:55, 19.68it/s]"
     ]
    },
    {
     "metadata": {},
     "name": "stderr",
     "output_type": "stream",
     "text": [
      "\r",
      " 42%|██████████████████████████████████████████████████▏                                                                    | 3370/8000 [01:43<03:43, 20.74it/s]"
     ]
    },
    {
     "metadata": {},
     "name": "stderr",
     "output_type": "stream",
     "text": [
      "\r",
      " 42%|██████████████████████████████████████████████████▏                                                                    | 3376/8000 [01:43<02:41, 28.57it/s]"
     ]
    },
    {
     "metadata": {},
     "name": "stderr",
     "output_type": "stream",
     "text": [
      "\r",
      " 42%|██████████████████████████████████████████████████▎                                                                    | 3383/8000 [01:43<02:05, 36.69it/s]"
     ]
    },
    {
     "metadata": {},
     "name": "stderr",
     "output_type": "stream",
     "text": [
      "\r",
      " 42%|██████████████████████████████████████████████████▍                                                                    | 3389/8000 [01:43<02:01, 37.97it/s]"
     ]
    },
    {
     "metadata": {},
     "name": "stderr",
     "output_type": "stream",
     "text": [
      "\r",
      " 42%|██████████████████████████████████████████████████▍                                                                    | 3394/8000 [01:43<01:56, 39.64it/s]"
     ]
    },
    {
     "metadata": {},
     "name": "stderr",
     "output_type": "stream",
     "text": [
      "\r",
      " 43%|██████████████████████████████████████████████████▋                                                                    | 3404/8000 [01:43<01:26, 53.43it/s]"
     ]
    },
    {
     "metadata": {},
     "name": "stderr",
     "output_type": "stream",
     "text": [
      "\r",
      " 43%|██████████████████████████████████████████████████▊                                                                    | 3416/8000 [01:43<01:06, 69.00it/s]"
     ]
    },
    {
     "metadata": {},
     "name": "stderr",
     "output_type": "stream",
     "text": [
      "\r",
      " 43%|███████████████████████████████████████████████████                                                                    | 3429/8000 [01:43<00:54, 84.55it/s]"
     ]
    },
    {
     "metadata": {},
     "name": "stderr",
     "output_type": "stream",
     "text": [
      "\r",
      " 43%|███████████████████████████████████████████████████▏                                                                   | 3442/8000 [01:44<00:47, 96.90it/s]"
     ]
    },
    {
     "metadata": {},
     "name": "stderr",
     "output_type": "stream",
     "text": [
      "\r",
      " 43%|███████████████████████████████████████████████████▎                                                                   | 3453/8000 [01:44<00:45, 99.15it/s]"
     ]
    },
    {
     "metadata": {},
     "name": "stderr",
     "output_type": "stream",
     "text": [
      "\r",
      " 43%|███████████████████████████████████████████████████▌                                                                   | 3464/8000 [01:44<01:03, 71.25it/s]"
     ]
    },
    {
     "metadata": {},
     "name": "stderr",
     "output_type": "stream",
     "text": [
      "\r",
      " 43%|███████████████████████████████████████████████████▋                                                                   | 3473/8000 [01:44<01:21, 55.67it/s]"
     ]
    },
    {
     "metadata": {},
     "name": "stderr",
     "output_type": "stream",
     "text": [
      "\r",
      " 44%|███████████████████████████████████████████████████▊                                                                   | 3482/8000 [01:44<01:13, 61.59it/s]"
     ]
    },
    {
     "metadata": {},
     "name": "stderr",
     "output_type": "stream",
     "text": [
      "\r",
      " 44%|███████████████████████████████████████████████████▉                                                                   | 3490/8000 [01:44<01:20, 56.05it/s]"
     ]
    },
    {
     "metadata": {},
     "name": "stderr",
     "output_type": "stream",
     "text": [
      "\r",
      " 44%|████████████████████████████████████████████████████                                                                   | 3497/8000 [01:45<01:18, 57.07it/s]"
     ]
    },
    {
     "metadata": {},
     "name": "stderr",
     "output_type": "stream",
     "text": [
      "\r",
      " 44%|████████████████████████████████████████████████████                                                                   | 3504/8000 [01:45<01:16, 59.04it/s]"
     ]
    },
    {
     "metadata": {},
     "name": "stderr",
     "output_type": "stream",
     "text": [
      "\r",
      " 44%|████████████████████████████████████████████████████▎                                                                  | 3514/8000 [01:45<01:08, 65.68it/s]"
     ]
    },
    {
     "metadata": {},
     "name": "stderr",
     "output_type": "stream",
     "text": [
      "\r",
      " 44%|████████████████████████████████████████████████████▍                                                                  | 3522/8000 [01:45<01:26, 51.51it/s]"
     ]
    },
    {
     "metadata": {},
     "name": "stderr",
     "output_type": "stream",
     "text": [
      "\r",
      " 44%|████████████████████████████████████████████████████▍                                                                  | 3528/8000 [01:45<01:39, 44.99it/s]"
     ]
    },
    {
     "metadata": {},
     "name": "stderr",
     "output_type": "stream",
     "text": [
      "\r",
      " 44%|████████████████████████████████████████████████████▌                                                                  | 3534/8000 [01:45<01:38, 45.47it/s]"
     ]
    },
    {
     "metadata": {},
     "name": "stderr",
     "output_type": "stream",
     "text": [
      "\r",
      " 44%|████████████████████████████████████████████████████▋                                                                  | 3539/8000 [01:46<03:07, 23.82it/s]"
     ]
    },
    {
     "metadata": {},
     "name": "stderr",
     "output_type": "stream",
     "text": [
      "\r",
      " 44%|████████████████████████████████████████████████████▋                                                                  | 3543/8000 [01:46<03:10, 23.40it/s]"
     ]
    },
    {
     "metadata": {},
     "name": "stderr",
     "output_type": "stream",
     "text": [
      "\r",
      " 44%|████████████████████████████████████████████████████▊                                                                  | 3547/8000 [01:46<03:00, 24.71it/s]"
     ]
    },
    {
     "metadata": {},
     "name": "stderr",
     "output_type": "stream",
     "text": [
      "\r",
      " 44%|████████████████████████████████████████████████████▊                                                                  | 3551/8000 [01:46<02:44, 26.99it/s]"
     ]
    },
    {
     "metadata": {},
     "name": "stderr",
     "output_type": "stream",
     "text": [
      "\r",
      " 44%|████████████████████████████████████████████████████▉                                                                  | 3555/8000 [01:47<02:46, 26.66it/s]"
     ]
    },
    {
     "metadata": {},
     "name": "stderr",
     "output_type": "stream",
     "text": [
      "\r",
      " 45%|████████████████████████████████████████████████████▉                                                                  | 3561/8000 [01:47<02:20, 31.49it/s]"
     ]
    },
    {
     "metadata": {},
     "name": "stderr",
     "output_type": "stream",
     "text": [
      "\r",
      " 45%|█████████████████████████████████████████████████████                                                                  | 3565/8000 [01:47<03:15, 22.68it/s]"
     ]
    },
    {
     "metadata": {},
     "name": "stderr",
     "output_type": "stream",
     "text": [
      "\r",
      " 45%|█████████████████████████████████████████████████████                                                                  | 3568/8000 [01:47<04:00, 18.43it/s]"
     ]
    },
    {
     "metadata": {},
     "name": "stderr",
     "output_type": "stream",
     "text": [
      "\r",
      " 45%|█████████████████████████████████████████████████████                                                                  | 3571/8000 [01:48<04:45, 15.49it/s]"
     ]
    },
    {
     "metadata": {},
     "name": "stderr",
     "output_type": "stream",
     "text": [
      "\r",
      " 45%|█████████████████████████████████████████████████████▏                                                                 | 3573/8000 [01:48<05:10, 14.24it/s]"
     ]
    },
    {
     "metadata": {},
     "name": "stderr",
     "output_type": "stream",
     "text": [
      "\r",
      " 45%|█████████████████████████████████████████████████████▏                                                                 | 3575/8000 [01:48<05:54, 12.50it/s]"
     ]
    },
    {
     "metadata": {},
     "name": "stderr",
     "output_type": "stream",
     "text": [
      "\r",
      " 45%|█████████████████████████████████████████████████████▏                                                                 | 3577/8000 [01:48<06:09, 11.96it/s]"
     ]
    },
    {
     "metadata": {},
     "name": "stderr",
     "output_type": "stream",
     "text": [
      "\r",
      " 45%|█████████████████████████████████████████████████████▏                                                                 | 3579/8000 [01:48<06:50, 10.76it/s]"
     ]
    },
    {
     "metadata": {},
     "name": "stderr",
     "output_type": "stream",
     "text": [
      "\r",
      " 45%|█████████████████████████████████████████████████████▎                                                                 | 3581/8000 [01:49<06:57, 10.59it/s]"
     ]
    },
    {
     "metadata": {},
     "name": "stderr",
     "output_type": "stream",
     "text": [
      "\r",
      " 45%|█████████████████████████████████████████████████████▎                                                                 | 3583/8000 [01:49<07:03, 10.42it/s]"
     ]
    },
    {
     "metadata": {},
     "name": "stderr",
     "output_type": "stream",
     "text": [
      "\r",
      " 45%|█████████████████████████████████████████████████████▎                                                                 | 3585/8000 [01:49<06:10, 11.91it/s]"
     ]
    },
    {
     "metadata": {},
     "name": "stderr",
     "output_type": "stream",
     "text": [
      "\r",
      " 45%|█████████████████████████████████████████████████████▍                                                                 | 3590/8000 [01:49<03:53, 18.91it/s]"
     ]
    },
    {
     "metadata": {},
     "name": "stderr",
     "output_type": "stream",
     "text": [
      "\r",
      " 45%|█████████████████████████████████████████████████████▍                                                                 | 3594/8000 [01:49<03:09, 23.27it/s]"
     ]
    },
    {
     "metadata": {},
     "name": "stderr",
     "output_type": "stream",
     "text": [
      "\r",
      " 45%|█████████████████████████████████████████████████████▌                                                                 | 3597/8000 [01:49<02:57, 24.75it/s]"
     ]
    },
    {
     "metadata": {},
     "name": "stderr",
     "output_type": "stream",
     "text": [
      "\r",
      " 45%|█████████████████████████████████████████████████████▌                                                                 | 3600/8000 [01:50<05:21, 13.70it/s]"
     ]
    },
    {
     "metadata": {},
     "name": "stderr",
     "output_type": "stream",
     "text": [
      "\r",
      " 45%|█████████████████████████████████████████████████████▌                                                                 | 3603/8000 [01:51<10:12,  7.18it/s]"
     ]
    },
    {
     "metadata": {},
     "name": "stderr",
     "output_type": "stream",
     "text": [
      "\r",
      " 45%|█████████████████████████████████████████████████████▌                                                                 | 3605/8000 [01:51<12:26,  5.89it/s]"
     ]
    },
    {
     "metadata": {},
     "name": "stderr",
     "output_type": "stream",
     "text": [
      "\r",
      " 45%|█████████████████████████████████████████████████████▋                                                                 | 3607/8000 [01:52<14:30,  5.04it/s]"
     ]
    },
    {
     "metadata": {},
     "name": "stderr",
     "output_type": "stream",
     "text": [
      "\r",
      " 45%|█████████████████████████████████████████████████████▋                                                                 | 3608/8000 [01:52<15:55,  4.60it/s]"
     ]
    },
    {
     "metadata": {},
     "name": "stderr",
     "output_type": "stream",
     "text": [
      "\r",
      " 45%|█████████████████████████████████████████████████████▋                                                                 | 3609/8000 [01:52<17:01,  4.30it/s]"
     ]
    },
    {
     "metadata": {},
     "name": "stderr",
     "output_type": "stream",
     "text": [
      "\r",
      " 45%|█████████████████████████████████████████████████████▋                                                                 | 3610/8000 [01:53<19:02,  3.84it/s]"
     ]
    },
    {
     "metadata": {},
     "name": "stderr",
     "output_type": "stream",
     "text": [
      "\r",
      " 45%|█████████████████████████████████████████████████████▋                                                                 | 3611/8000 [01:53<20:32,  3.56it/s]"
     ]
    },
    {
     "metadata": {},
     "name": "stderr",
     "output_type": "stream",
     "text": [
      "\r",
      " 45%|█████████████████████████████████████████████████████▋                                                                 | 3612/8000 [01:53<21:28,  3.41it/s]"
     ]
    },
    {
     "metadata": {},
     "name": "stderr",
     "output_type": "stream",
     "text": [
      "\r",
      " 45%|█████████████████████████████████████████████████████▋                                                                 | 3613/8000 [01:54<22:00,  3.32it/s]"
     ]
    },
    {
     "metadata": {},
     "name": "stderr",
     "output_type": "stream",
     "text": [
      "\r",
      " 45%|█████████████████████████████████████████████████████▊                                                                 | 3614/8000 [01:54<22:28,  3.25it/s]"
     ]
    },
    {
     "metadata": {},
     "name": "stderr",
     "output_type": "stream",
     "text": [
      "\r",
      " 45%|█████████████████████████████████████████████████████▊                                                                 | 3615/8000 [01:54<23:33,  3.10it/s]"
     ]
    },
    {
     "metadata": {},
     "name": "stderr",
     "output_type": "stream",
     "text": [
      "\r",
      " 45%|█████████████████████████████████████████████████████▊                                                                 | 3616/8000 [01:55<23:29,  3.11it/s]"
     ]
    },
    {
     "metadata": {},
     "name": "stderr",
     "output_type": "stream",
     "text": [
      "\r",
      " 45%|█████████████████████████████████████████████████████▊                                                                 | 3617/8000 [01:55<22:55,  3.19it/s]"
     ]
    },
    {
     "metadata": {},
     "name": "stderr",
     "output_type": "stream",
     "text": [
      "\r",
      " 45%|█████████████████████████████████████████████████████▊                                                                 | 3618/8000 [01:55<22:07,  3.30it/s]"
     ]
    },
    {
     "metadata": {},
     "name": "stderr",
     "output_type": "stream",
     "text": [
      "\r",
      " 45%|█████████████████████████████████████████████████████▊                                                                 | 3619/8000 [01:56<22:17,  3.28it/s]"
     ]
    },
    {
     "metadata": {},
     "name": "stderr",
     "output_type": "stream",
     "text": [
      "\r",
      " 45%|█████████████████████████████████████████████████████▊                                                                 | 3620/8000 [01:56<22:47,  3.20it/s]"
     ]
    },
    {
     "metadata": {},
     "name": "stderr",
     "output_type": "stream",
     "text": [
      "\r",
      " 45%|█████████████████████████████████████████████████████▊                                                                 | 3621/8000 [01:56<22:10,  3.29it/s]"
     ]
    },
    {
     "metadata": {},
     "name": "stderr",
     "output_type": "stream",
     "text": [
      "\r",
      " 45%|█████████████████████████████████████████████████████▉                                                                 | 3622/8000 [01:57<22:12,  3.28it/s]"
     ]
    },
    {
     "metadata": {},
     "name": "stderr",
     "output_type": "stream",
     "text": [
      "\r",
      " 45%|█████████████████████████████████████████████████████▉                                                                 | 3626/8000 [01:57<09:58,  7.31it/s]"
     ]
    },
    {
     "metadata": {},
     "name": "stderr",
     "output_type": "stream",
     "text": [
      "\r",
      " 45%|██████████████████████████████████████████████████████                                                                 | 3632/8000 [01:57<05:37, 12.94it/s]"
     ]
    },
    {
     "metadata": {},
     "name": "stderr",
     "output_type": "stream",
     "text": [
      "\r",
      " 45%|██████████████████████████████████████████████████████                                                                 | 3635/8000 [01:57<04:56, 14.71it/s]"
     ]
    },
    {
     "metadata": {},
     "name": "stderr",
     "output_type": "stream",
     "text": [
      "\r",
      " 45%|██████████████████████████████████████████████████████                                                                 | 3637/8000 [01:57<04:43, 15.41it/s]"
     ]
    },
    {
     "metadata": {},
     "name": "stderr",
     "output_type": "stream",
     "text": [
      "\r",
      " 46%|██████████████████████████████████████████████████████▏                                                                | 3640/8000 [01:57<04:30, 16.10it/s]"
     ]
    },
    {
     "metadata": {},
     "name": "stderr",
     "output_type": "stream",
     "text": [
      "\r",
      " 46%|██████████████████████████████████████████████████████▏                                                                | 3645/8000 [01:57<03:15, 22.30it/s]"
     ]
    },
    {
     "metadata": {},
     "name": "stderr",
     "output_type": "stream",
     "text": [
      "\r",
      " 46%|██████████████████████████████████████████████████████▎                                                                | 3652/8000 [01:58<02:13, 32.53it/s]"
     ]
    },
    {
     "metadata": {},
     "name": "stderr",
     "output_type": "stream",
     "text": [
      "\r",
      " 46%|██████████████████████████████████████████████████████▍                                                                | 3658/8000 [01:58<01:52, 38.60it/s]"
     ]
    },
    {
     "metadata": {},
     "name": "stderr",
     "output_type": "stream",
     "text": [
      "\r",
      " 46%|██████████████████████████████████████████████████████▌                                                                | 3665/8000 [01:58<01:36, 44.84it/s]"
     ]
    },
    {
     "metadata": {},
     "name": "stderr",
     "output_type": "stream",
     "text": [
      "\r",
      " 46%|██████████████████████████████████████████████████████▌                                                                | 3670/8000 [01:58<02:00, 35.99it/s]"
     ]
    },
    {
     "metadata": {},
     "name": "stderr",
     "output_type": "stream",
     "text": [
      "\r",
      " 46%|██████████████████████████████████████████████████████▋                                                                | 3675/8000 [01:58<02:53, 24.91it/s]"
     ]
    },
    {
     "metadata": {},
     "name": "stderr",
     "output_type": "stream",
     "text": [
      "\r",
      " 46%|██████████████████████████████████████████████████████▋                                                                | 3679/8000 [01:58<02:47, 25.76it/s]"
     ]
    },
    {
     "metadata": {},
     "name": "stderr",
     "output_type": "stream",
     "text": [
      "\r",
      " 46%|██████████████████████████████████████████████████████▊                                                                | 3683/8000 [01:59<03:16, 21.98it/s]"
     ]
    },
    {
     "metadata": {},
     "name": "stderr",
     "output_type": "stream",
     "text": [
      "\r",
      " 46%|██████████████████████████████████████████████████████▊                                                                | 3686/8000 [01:59<03:10, 22.68it/s]"
     ]
    },
    {
     "metadata": {},
     "name": "stderr",
     "output_type": "stream",
     "text": [
      "\r",
      " 46%|███████████████████████████████████████████████████████                                                                | 3699/8000 [01:59<01:40, 42.86it/s]"
     ]
    },
    {
     "metadata": {},
     "name": "stderr",
     "output_type": "stream",
     "text": [
      "\r",
      " 46%|███████████████████████████████████████████████████████                                                                | 3705/8000 [02:00<04:55, 14.52it/s]"
     ]
    },
    {
     "metadata": {},
     "name": "stderr",
     "output_type": "stream",
     "text": [
      "\r",
      " 46%|███████████████████████████████████████████████████████▏                                                               | 3710/8000 [02:01<06:43, 10.64it/s]"
     ]
    },
    {
     "metadata": {},
     "name": "stderr",
     "output_type": "stream",
     "text": [
      "\r",
      " 46%|███████████████████████████████████████████████████████▏                                                               | 3714/8000 [02:02<10:02,  7.12it/s]"
     ]
    },
    {
     "metadata": {},
     "name": "stderr",
     "output_type": "stream",
     "text": [
      "\r",
      " 46%|███████████████████████████████████████████████████████▎                                                               | 3717/8000 [02:03<11:58,  5.96it/s]"
     ]
    },
    {
     "metadata": {},
     "name": "stderr",
     "output_type": "stream",
     "text": [
      "\r",
      " 46%|███████████████████████████████████████████████████████▎                                                               | 3719/8000 [02:04<13:13,  5.40it/s]"
     ]
    },
    {
     "metadata": {},
     "name": "stderr",
     "output_type": "stream",
     "text": [
      "\r",
      " 47%|███████████████████████████████████████████████████████▎                                                               | 3721/8000 [02:04<14:24,  4.95it/s]"
     ]
    },
    {
     "metadata": {},
     "name": "stderr",
     "output_type": "stream",
     "text": [
      "\r",
      " 47%|███████████████████████████████████████████████████████▍                                                               | 3723/8000 [02:05<15:36,  4.57it/s]"
     ]
    },
    {
     "metadata": {},
     "name": "stderr",
     "output_type": "stream",
     "text": [
      "\r",
      " 47%|███████████████████████████████████████████████████████▍                                                               | 3724/8000 [02:05<16:16,  4.38it/s]"
     ]
    },
    {
     "metadata": {},
     "name": "stderr",
     "output_type": "stream",
     "text": [
      "\r",
      " 47%|███████████████████████████████████████████████████████▍                                                               | 3725/8000 [02:05<16:48,  4.24it/s]"
     ]
    },
    {
     "metadata": {},
     "name": "stderr",
     "output_type": "stream",
     "text": [
      "\r",
      " 47%|███████████████████████████████████████████████████████▍                                                               | 3726/8000 [02:06<17:37,  4.04it/s]"
     ]
    },
    {
     "metadata": {},
     "name": "stderr",
     "output_type": "stream",
     "text": [
      "\r",
      " 47%|███████████████████████████████████████████████████████▍                                                               | 3727/8000 [02:06<18:14,  3.90it/s]"
     ]
    },
    {
     "metadata": {},
     "name": "stderr",
     "output_type": "stream",
     "text": [
      "\r",
      " 47%|███████████████████████████████████████████████████████▍                                                               | 3728/8000 [02:06<18:52,  3.77it/s]"
     ]
    },
    {
     "metadata": {},
     "name": "stderr",
     "output_type": "stream",
     "text": [
      "\r",
      " 47%|███████████████████████████████████████████████████████▍                                                               | 3729/8000 [02:06<19:40,  3.62it/s]"
     ]
    },
    {
     "metadata": {},
     "name": "stderr",
     "output_type": "stream",
     "text": [
      "\r",
      " 47%|███████████████████████████████████████████████████████▍                                                               | 3730/8000 [02:07<20:05,  3.54it/s]"
     ]
    },
    {
     "metadata": {},
     "name": "stderr",
     "output_type": "stream",
     "text": [
      "\r",
      " 47%|███████████████████████████████████████████████████████▍                                                               | 3731/8000 [02:07<20:57,  3.40it/s]"
     ]
    },
    {
     "metadata": {},
     "name": "stderr",
     "output_type": "stream",
     "text": [
      "\r",
      " 47%|███████████████████████████████████████████████████████▌                                                               | 3732/8000 [02:07<21:12,  3.36it/s]"
     ]
    },
    {
     "metadata": {},
     "name": "stderr",
     "output_type": "stream",
     "text": [
      "\r",
      " 47%|███████████████████████████████████████████████████████▌                                                               | 3733/8000 [02:08<21:57,  3.24it/s]"
     ]
    },
    {
     "metadata": {},
     "name": "stderr",
     "output_type": "stream",
     "text": [
      "\r",
      " 47%|███████████████████████████████████████████████████████▌                                                               | 3734/8000 [02:08<22:33,  3.15it/s]"
     ]
    },
    {
     "metadata": {},
     "name": "stderr",
     "output_type": "stream",
     "text": [
      "\r",
      " 47%|███████████████████████████████████████████████████████▌                                                               | 3735/8000 [02:08<23:00,  3.09it/s]"
     ]
    },
    {
     "metadata": {},
     "name": "stderr",
     "output_type": "stream",
     "text": [
      "\r",
      " 47%|███████████████████████████████████████████████████████▌                                                               | 3736/8000 [02:09<23:29,  3.02it/s]"
     ]
    },
    {
     "metadata": {},
     "name": "stderr",
     "output_type": "stream",
     "text": [
      "\r",
      " 47%|███████████████████████████████████████████████████████▌                                                               | 3737/8000 [02:09<23:38,  3.01it/s]"
     ]
    },
    {
     "metadata": {},
     "name": "stderr",
     "output_type": "stream",
     "text": [
      "\r",
      " 47%|███████████████████████████████████████████████████████▌                                                               | 3738/8000 [02:09<23:52,  2.98it/s]"
     ]
    },
    {
     "metadata": {},
     "name": "stderr",
     "output_type": "stream",
     "text": [
      "\r",
      " 47%|███████████████████████████████████████████████████████▌                                                               | 3739/8000 [02:10<24:16,  2.93it/s]"
     ]
    },
    {
     "metadata": {},
     "name": "stderr",
     "output_type": "stream",
     "text": [
      "\r",
      " 47%|███████████████████████████████████████████████████████▋                                                               | 3740/8000 [02:10<24:38,  2.88it/s]"
     ]
    },
    {
     "metadata": {},
     "name": "stderr",
     "output_type": "stream",
     "text": [
      "\r",
      " 47%|███████████████████████████████████████████████████████▋                                                               | 3741/8000 [02:11<25:10,  2.82it/s]"
     ]
    },
    {
     "metadata": {},
     "name": "stderr",
     "output_type": "stream",
     "text": [
      "\r",
      " 47%|███████████████████████████████████████████████████████▋                                                               | 3742/8000 [02:11<24:38,  2.88it/s]"
     ]
    },
    {
     "metadata": {},
     "name": "stderr",
     "output_type": "stream",
     "text": [
      "\r",
      " 47%|███████████████████████████████████████████████████████▋                                                               | 3743/8000 [02:11<23:04,  3.07it/s]"
     ]
    },
    {
     "metadata": {},
     "name": "stderr",
     "output_type": "stream",
     "text": [
      "\r",
      " 47%|███████████████████████████████████████████████████████▋                                                               | 3744/8000 [02:11<22:02,  3.22it/s]"
     ]
    },
    {
     "metadata": {},
     "name": "stderr",
     "output_type": "stream",
     "text": [
      "\r",
      " 47%|███████████████████████████████████████████████████████▋                                                               | 3745/8000 [02:12<21:34,  3.29it/s]"
     ]
    },
    {
     "metadata": {},
     "name": "stderr",
     "output_type": "stream",
     "text": [
      "\r",
      " 47%|███████████████████████████████████████████████████████▋                                                               | 3746/8000 [02:12<21:22,  3.32it/s]"
     ]
    },
    {
     "metadata": {},
     "name": "stderr",
     "output_type": "stream",
     "text": [
      "\r",
      " 47%|███████████████████████████████████████████████████████▋                                                               | 3747/8000 [02:12<23:47,  2.98it/s]"
     ]
    },
    {
     "metadata": {},
     "name": "stderr",
     "output_type": "stream",
     "text": [
      "\r",
      " 47%|███████████████████████████████████████████████████████▊                                                               | 3748/8000 [02:13<23:00,  3.08it/s]"
     ]
    },
    {
     "metadata": {},
     "name": "stderr",
     "output_type": "stream",
     "text": [
      "\r",
      " 47%|███████████████████████████████████████████████████████▊                                                               | 3749/8000 [02:13<22:10,  3.19it/s]"
     ]
    },
    {
     "metadata": {},
     "name": "stderr",
     "output_type": "stream",
     "text": [
      "\r",
      " 47%|███████████████████████████████████████████████████████▊                                                               | 3750/8000 [02:13<21:34,  3.28it/s]"
     ]
    },
    {
     "metadata": {},
     "name": "stderr",
     "output_type": "stream",
     "text": [
      "\r",
      " 47%|███████████████████████████████████████████████████████▊                                                               | 3751/8000 [02:14<21:02,  3.37it/s]"
     ]
    },
    {
     "metadata": {},
     "name": "stderr",
     "output_type": "stream",
     "text": [
      "\r",
      " 47%|███████████████████████████████████████████████████████▊                                                               | 3752/8000 [02:14<21:22,  3.31it/s]"
     ]
    },
    {
     "metadata": {},
     "name": "stderr",
     "output_type": "stream",
     "text": [
      "\r",
      " 47%|███████████████████████████████████████████████████████▊                                                               | 3753/8000 [02:14<21:19,  3.32it/s]"
     ]
    },
    {
     "metadata": {},
     "name": "stderr",
     "output_type": "stream",
     "text": [
      "\r",
      " 47%|███████████████████████████████████████████████████████▊                                                               | 3754/8000 [02:14<20:47,  3.40it/s]"
     ]
    },
    {
     "metadata": {},
     "name": "stderr",
     "output_type": "stream",
     "text": [
      "\r",
      " 47%|███████████████████████████████████████████████████████▊                                                               | 3755/8000 [02:15<20:52,  3.39it/s]"
     ]
    },
    {
     "metadata": {},
     "name": "stderr",
     "output_type": "stream",
     "text": [
      "\r",
      " 47%|███████████████████████████████████████████████████████▊                                                               | 3756/8000 [02:15<20:32,  3.44it/s]"
     ]
    },
    {
     "metadata": {},
     "name": "stderr",
     "output_type": "stream",
     "text": [
      "\r",
      " 47%|███████████████████████████████████████████████████████▉                                                               | 3757/8000 [02:15<20:17,  3.49it/s]"
     ]
    },
    {
     "metadata": {},
     "name": "stderr",
     "output_type": "stream",
     "text": [
      "\r",
      " 47%|███████████████████████████████████████████████████████▉                                                               | 3758/8000 [02:16<20:04,  3.52it/s]"
     ]
    },
    {
     "metadata": {},
     "name": "stderr",
     "output_type": "stream",
     "text": [
      "\r",
      " 47%|███████████████████████████████████████████████████████▉                                                               | 3759/8000 [02:16<20:15,  3.49it/s]"
     ]
    },
    {
     "metadata": {},
     "name": "stderr",
     "output_type": "stream",
     "text": [
      "\r",
      " 47%|███████████████████████████████████████████████████████▉                                                               | 3760/8000 [02:16<20:09,  3.51it/s]"
     ]
    },
    {
     "metadata": {},
     "name": "stderr",
     "output_type": "stream",
     "text": [
      "\r",
      " 47%|███████████████████████████████████████████████████████▉                                                               | 3761/8000 [02:16<19:53,  3.55it/s]"
     ]
    },
    {
     "metadata": {},
     "name": "stderr",
     "output_type": "stream",
     "text": [
      "\r",
      " 47%|███████████████████████████████████████████████████████▉                                                               | 3762/8000 [02:17<19:52,  3.55it/s]"
     ]
    },
    {
     "metadata": {},
     "name": "stderr",
     "output_type": "stream",
     "text": [
      "\r",
      " 47%|███████████████████████████████████████████████████████▉                                                               | 3763/8000 [02:17<19:51,  3.56it/s]"
     ]
    },
    {
     "metadata": {},
     "name": "stderr",
     "output_type": "stream",
     "text": [
      "\r",
      " 47%|███████████████████████████████████████████████████████▉                                                               | 3764/8000 [02:17<19:47,  3.57it/s]"
     ]
    },
    {
     "metadata": {},
     "name": "stderr",
     "output_type": "stream",
     "text": [
      "\r",
      " 47%|████████████████████████████████████████████████████████                                                               | 3765/8000 [02:18<19:42,  3.58it/s]"
     ]
    },
    {
     "metadata": {},
     "name": "stderr",
     "output_type": "stream",
     "text": [
      "\r",
      " 47%|████████████████████████████████████████████████████████                                                               | 3766/8000 [02:18<19:49,  3.56it/s]"
     ]
    },
    {
     "metadata": {},
     "name": "stderr",
     "output_type": "stream",
     "text": [
      "\r",
      " 47%|████████████████████████████████████████████████████████                                                               | 3767/8000 [02:18<19:45,  3.57it/s]"
     ]
    },
    {
     "metadata": {},
     "name": "stderr",
     "output_type": "stream",
     "text": [
      "\r",
      " 47%|████████████████████████████████████████████████████████                                                               | 3768/8000 [02:18<19:45,  3.57it/s]"
     ]
    },
    {
     "metadata": {},
     "name": "stderr",
     "output_type": "stream",
     "text": [
      "\r",
      " 47%|████████████████████████████████████████████████████████                                                               | 3769/8000 [02:19<19:57,  3.53it/s]"
     ]
    },
    {
     "metadata": {},
     "name": "stderr",
     "output_type": "stream",
     "text": [
      "\r",
      " 47%|████████████████████████████████████████████████████████                                                               | 3770/8000 [02:19<19:59,  3.53it/s]"
     ]
    },
    {
     "metadata": {},
     "name": "stderr",
     "output_type": "stream",
     "text": [
      "\r",
      " 47%|████████████████████████████████████████████████████████                                                               | 3771/8000 [02:19<19:50,  3.55it/s]"
     ]
    },
    {
     "metadata": {},
     "name": "stderr",
     "output_type": "stream",
     "text": [
      "\r",
      " 47%|████████████████████████████████████████████████████████                                                               | 3772/8000 [02:20<20:09,  3.50it/s]"
     ]
    },
    {
     "metadata": {},
     "name": "stderr",
     "output_type": "stream",
     "text": [
      "\r",
      " 47%|████████████████████████████████████████████████████████                                                               | 3773/8000 [02:20<20:46,  3.39it/s]"
     ]
    },
    {
     "metadata": {},
     "name": "stderr",
     "output_type": "stream",
     "text": [
      "\r",
      " 47%|████████████████████████████████████████████████████████▏                                                              | 3774/8000 [02:20<20:41,  3.40it/s]"
     ]
    },
    {
     "metadata": {},
     "name": "stderr",
     "output_type": "stream",
     "text": [
      "\r",
      " 47%|████████████████████████████████████████████████████████▏                                                              | 3775/8000 [02:20<20:26,  3.44it/s]"
     ]
    },
    {
     "metadata": {},
     "name": "stderr",
     "output_type": "stream",
     "text": [
      "\r",
      " 47%|████████████████████████████████████████████████████████▏                                                              | 3776/8000 [02:21<20:22,  3.46it/s]"
     ]
    },
    {
     "metadata": {},
     "name": "stderr",
     "output_type": "stream",
     "text": [
      "\r",
      " 47%|████████████████████████████████████████████████████████▏                                                              | 3777/8000 [02:21<20:07,  3.50it/s]"
     ]
    },
    {
     "metadata": {},
     "name": "stderr",
     "output_type": "stream",
     "text": [
      "\r",
      " 47%|████████████████████████████████████████████████████████▏                                                              | 3778/8000 [02:21<20:00,  3.52it/s]"
     ]
    },
    {
     "metadata": {},
     "name": "stderr",
     "output_type": "stream",
     "text": [
      "\r",
      " 47%|████████████████████████████████████████████████████████▏                                                              | 3779/8000 [02:22<19:59,  3.52it/s]"
     ]
    },
    {
     "metadata": {},
     "name": "stderr",
     "output_type": "stream",
     "text": [
      "\r",
      " 47%|████████████████████████████████████████████████████████▏                                                              | 3780/8000 [02:22<21:28,  3.28it/s]"
     ]
    },
    {
     "metadata": {},
     "name": "stderr",
     "output_type": "stream",
     "text": [
      "\r",
      " 47%|████████████████████████████████████████████████████████▏                                                              | 3781/8000 [02:22<22:00,  3.20it/s]"
     ]
    },
    {
     "metadata": {},
     "name": "stderr",
     "output_type": "stream",
     "text": [
      "\r",
      " 47%|████████████████████████████████████████████████████████▎                                                              | 3782/8000 [02:23<23:20,  3.01it/s]"
     ]
    },
    {
     "metadata": {},
     "name": "stderr",
     "output_type": "stream",
     "text": [
      "\r",
      " 47%|████████████████████████████████████████████████████████▎                                                              | 3783/8000 [02:23<23:25,  3.00it/s]"
     ]
    },
    {
     "metadata": {},
     "name": "stderr",
     "output_type": "stream",
     "text": [
      "\r",
      " 47%|████████████████████████████████████████████████████████▎                                                              | 3784/8000 [02:23<22:35,  3.11it/s]"
     ]
    },
    {
     "metadata": {},
     "name": "stderr",
     "output_type": "stream",
     "text": [
      "\r",
      " 47%|████████████████████████████████████████████████████████▎                                                              | 3785/8000 [02:24<21:37,  3.25it/s]"
     ]
    },
    {
     "metadata": {},
     "name": "stderr",
     "output_type": "stream",
     "text": [
      "\r",
      " 47%|████████████████████████████████████████████████████████▎                                                              | 3786/8000 [02:24<21:29,  3.27it/s]"
     ]
    },
    {
     "metadata": {},
     "name": "stderr",
     "output_type": "stream",
     "text": [
      "\r",
      " 47%|████████████████████████████████████████████████████████▎                                                              | 3787/8000 [02:24<21:14,  3.31it/s]"
     ]
    },
    {
     "metadata": {},
     "name": "stderr",
     "output_type": "stream",
     "text": [
      "\r",
      " 47%|████████████████████████████████████████████████████████▎                                                              | 3788/8000 [02:24<20:46,  3.38it/s]"
     ]
    },
    {
     "metadata": {},
     "name": "stderr",
     "output_type": "stream",
     "text": [
      "\r",
      " 47%|████████████████████████████████████████████████████████▎                                                              | 3789/8000 [02:25<20:22,  3.45it/s]"
     ]
    },
    {
     "metadata": {},
     "name": "stderr",
     "output_type": "stream",
     "text": [
      "\r",
      " 47%|████████████████████████████████████████████████████████▍                                                              | 3790/8000 [02:25<20:13,  3.47it/s]"
     ]
    },
    {
     "metadata": {},
     "name": "stderr",
     "output_type": "stream",
     "text": [
      "\r",
      " 47%|████████████████████████████████████████████████████████▍                                                              | 3791/8000 [02:25<20:39,  3.40it/s]"
     ]
    },
    {
     "metadata": {},
     "name": "stderr",
     "output_type": "stream",
     "text": [
      "\r",
      " 47%|████████████████████████████████████████████████████████▍                                                              | 3792/8000 [02:26<20:36,  3.40it/s]"
     ]
    },
    {
     "metadata": {},
     "name": "stderr",
     "output_type": "stream",
     "text": [
      "\r",
      " 47%|████████████████████████████████████████████████████████▍                                                              | 3793/8000 [02:26<20:35,  3.41it/s]"
     ]
    },
    {
     "metadata": {},
     "name": "stderr",
     "output_type": "stream",
     "text": [
      "\r",
      " 47%|████████████████████████████████████████████████████████▍                                                              | 3794/8000 [02:26<20:16,  3.46it/s]"
     ]
    },
    {
     "metadata": {},
     "name": "stderr",
     "output_type": "stream",
     "text": [
      "\r",
      " 47%|████████████████████████████████████████████████████████▍                                                              | 3795/8000 [02:26<20:06,  3.48it/s]"
     ]
    },
    {
     "metadata": {},
     "name": "stderr",
     "output_type": "stream",
     "text": [
      "\r",
      " 47%|████████████████████████████████████████████████████████▍                                                              | 3796/8000 [02:27<19:51,  3.53it/s]"
     ]
    },
    {
     "metadata": {},
     "name": "stderr",
     "output_type": "stream",
     "text": [
      "\r",
      " 47%|████████████████████████████████████████████████████████▍                                                              | 3797/8000 [02:27<19:52,  3.53it/s]"
     ]
    },
    {
     "metadata": {},
     "name": "stderr",
     "output_type": "stream",
     "text": [
      "\r",
      " 47%|████████████████████████████████████████████████████████▍                                                              | 3798/8000 [02:27<19:37,  3.57it/s]"
     ]
    },
    {
     "metadata": {},
     "name": "stderr",
     "output_type": "stream",
     "text": [
      "\r",
      " 47%|████████████████████████████████████████████████████████▌                                                              | 3799/8000 [02:28<19:45,  3.54it/s]"
     ]
    },
    {
     "metadata": {},
     "name": "stderr",
     "output_type": "stream",
     "text": [
      "\r",
      " 48%|████████████████████████████████████████████████████████▌                                                              | 3800/8000 [02:28<19:43,  3.55it/s]"
     ]
    },
    {
     "metadata": {},
     "name": "stderr",
     "output_type": "stream",
     "text": [
      "\r",
      " 48%|████████████████████████████████████████████████████████▋                                                              | 3813/8000 [02:28<03:27, 20.14it/s]"
     ]
    },
    {
     "metadata": {},
     "name": "stderr",
     "output_type": "stream",
     "text": [
      "\r",
      " 48%|████████████████████████████████████████████████████████▉                                                              | 3826/8000 [02:28<01:57, 35.42it/s]"
     ]
    },
    {
     "metadata": {},
     "name": "stderr",
     "output_type": "stream",
     "text": [
      "\r",
      " 48%|█████████████████████████████████████████████████████████                                                              | 3832/8000 [02:29<03:33, 19.55it/s]"
     ]
    },
    {
     "metadata": {},
     "name": "stderr",
     "output_type": "stream",
     "text": [
      "\r",
      " 48%|█████████████████████████████████████████████████████████                                                              | 3837/8000 [02:29<03:18, 20.94it/s]"
     ]
    },
    {
     "metadata": {},
     "name": "stderr",
     "output_type": "stream",
     "text": [
      "\r",
      " 48%|█████████████████████████████████████████████████████████▏                                                             | 3844/8000 [02:29<03:23, 20.39it/s]"
     ]
    },
    {
     "metadata": {},
     "name": "stderr",
     "output_type": "stream",
     "text": [
      "\r",
      " 48%|█████████████████████████████████████████████████████████▎                                                             | 3849/8000 [02:29<02:55, 23.66it/s]"
     ]
    },
    {
     "metadata": {},
     "name": "stderr",
     "output_type": "stream",
     "text": [
      "\r",
      " 48%|█████████████████████████████████████████████████████████▎                                                             | 3856/8000 [02:29<02:17, 30.06it/s]"
     ]
    },
    {
     "metadata": {},
     "name": "stderr",
     "output_type": "stream",
     "text": [
      "\r",
      " 48%|█████████████████████████████████████████████████████████▍                                                             | 3862/8000 [02:30<04:00, 17.19it/s]"
     ]
    },
    {
     "metadata": {},
     "name": "stderr",
     "output_type": "stream",
     "text": [
      "\r",
      " 48%|█████████████████████████████████████████████████████████▌                                                             | 3866/8000 [02:31<07:31,  9.16it/s]"
     ]
    },
    {
     "metadata": {},
     "name": "stderr",
     "output_type": "stream",
     "text": [
      "\r",
      " 48%|█████████████████████████████████████████████████████████▌                                                             | 3869/8000 [02:32<10:04,  6.83it/s]"
     ]
    },
    {
     "metadata": {},
     "name": "stderr",
     "output_type": "stream",
     "text": [
      "\r",
      " 48%|█████████████████████████████████████████████████████████▌                                                             | 3871/8000 [02:33<11:35,  5.94it/s]"
     ]
    },
    {
     "metadata": {},
     "name": "stderr",
     "output_type": "stream",
     "text": [
      "\r",
      " 48%|█████████████████████████████████████████████████████████▌                                                             | 3873/8000 [02:33<13:01,  5.28it/s]"
     ]
    },
    {
     "metadata": {},
     "name": "stderr",
     "output_type": "stream",
     "text": [
      "\r",
      " 48%|█████████████████████████████████████████████████████████▋                                                             | 3875/8000 [02:34<14:26,  4.76it/s]"
     ]
    },
    {
     "metadata": {},
     "name": "stderr",
     "output_type": "stream",
     "text": [
      "\r",
      " 49%|█████████████████████████████████████████████████████████▋                                                             | 3882/8000 [02:34<07:40,  8.94it/s]"
     ]
    },
    {
     "metadata": {},
     "name": "stderr",
     "output_type": "stream",
     "text": [
      "\r",
      " 49%|█████████████████████████████████████████████████████████▊                                                             | 3889/8000 [02:34<04:53, 13.99it/s]"
     ]
    },
    {
     "metadata": {},
     "name": "stderr",
     "output_type": "stream",
     "text": [
      "\r",
      " 49%|█████████████████████████████████████████████████████████▉                                                             | 3898/8000 [02:34<03:12, 21.33it/s]"
     ]
    },
    {
     "metadata": {},
     "name": "stderr",
     "output_type": "stream",
     "text": [
      "\r",
      " 49%|██████████████████████████████████████████████████████████                                                             | 3903/8000 [02:34<02:44, 24.88it/s]"
     ]
    },
    {
     "metadata": {},
     "name": "stderr",
     "output_type": "stream",
     "text": [
      "\r",
      " 49%|██████████████████████████████████████████████████████████▏                                                            | 3914/8000 [02:35<01:47, 37.84it/s]"
     ]
    },
    {
     "metadata": {},
     "name": "stderr",
     "output_type": "stream",
     "text": [
      "\r",
      " 49%|██████████████████████████████████████████████████████████▎                                                            | 3924/8000 [02:35<01:24, 48.46it/s]"
     ]
    },
    {
     "metadata": {},
     "name": "stderr",
     "output_type": "stream",
     "text": [
      "\r",
      " 49%|██████████████████████████████████████████████████████████▍                                                            | 3932/8000 [02:35<01:16, 53.24it/s]"
     ]
    },
    {
     "metadata": {},
     "name": "stderr",
     "output_type": "stream",
     "text": [
      "\r",
      " 49%|██████████████████████████████████████████████████████████▌                                                            | 3940/8000 [02:35<01:12, 55.76it/s]"
     ]
    },
    {
     "metadata": {},
     "name": "stderr",
     "output_type": "stream",
     "text": [
      "\r",
      " 49%|██████████████████████████████████████████████████████████▋                                                            | 3947/8000 [02:35<01:49, 36.92it/s]"
     ]
    },
    {
     "metadata": {},
     "name": "stderr",
     "output_type": "stream",
     "text": [
      "\r",
      " 49%|██████████████████████████████████████████████████████████▊                                                            | 3956/8000 [02:35<01:29, 45.23it/s]"
     ]
    },
    {
     "metadata": {},
     "name": "stderr",
     "output_type": "stream",
     "text": [
      "\r",
      " 50%|██████████████████████████████████████████████████████████▉                                                            | 3964/8000 [02:36<01:17, 51.82it/s]"
     ]
    },
    {
     "metadata": {},
     "name": "stderr",
     "output_type": "stream",
     "text": [
      "\r",
      " 50%|███████████████████████████████████████████████████████████                                                            | 3973/8000 [02:36<01:07, 59.67it/s]"
     ]
    },
    {
     "metadata": {},
     "name": "stderr",
     "output_type": "stream",
     "text": [
      "\r",
      " 50%|███████████████████████████████████████████████████████████▎                                                           | 3984/8000 [02:36<00:57, 70.27it/s]"
     ]
    },
    {
     "metadata": {},
     "name": "stderr",
     "output_type": "stream",
     "text": [
      "\r",
      " 50%|███████████████████████████████████████████████████████████▍                                                           | 3994/8000 [02:36<00:52, 76.76it/s]"
     ]
    },
    {
     "metadata": {},
     "name": "stderr",
     "output_type": "stream",
     "text": [
      "\r",
      " 50%|███████████████████████████████████████████████████████████▌                                                           | 4006/8000 [02:36<00:45, 86.97it/s]"
     ]
    },
    {
     "metadata": {},
     "name": "stderr",
     "output_type": "stream",
     "text": [
      "\r",
      " 50%|███████████████████████████████████████████████████████████▊                                                           | 4019/8000 [02:36<00:41, 96.47it/s]"
     ]
    },
    {
     "metadata": {},
     "name": "stderr",
     "output_type": "stream",
     "text": [
      "\r",
      " 50%|███████████████████████████████████████████████████████████▍                                                          | 4032/8000 [02:36<00:38, 104.01it/s]"
     ]
    },
    {
     "metadata": {},
     "name": "stderr",
     "output_type": "stream",
     "text": [
      "\r",
      " 51%|███████████████████████████████████████████████████████████▋                                                          | 4045/8000 [02:36<00:36, 109.48it/s]"
     ]
    },
    {
     "metadata": {},
     "name": "stderr",
     "output_type": "stream",
     "text": [
      "\r",
      " 51%|████████████████████████████████████████████████████████████▎                                                          | 4057/8000 [02:36<00:45, 86.72it/s]"
     ]
    },
    {
     "metadata": {},
     "name": "stderr",
     "output_type": "stream",
     "text": [
      "\r",
      " 51%|████████████████████████████████████████████████████████████▍                                                          | 4067/8000 [02:37<00:50, 77.86it/s]"
     ]
    },
    {
     "metadata": {},
     "name": "stderr",
     "output_type": "stream",
     "text": [
      "\r",
      " 51%|████████████████████████████████████████████████████████████▋                                                          | 4076/8000 [02:37<01:08, 57.45it/s]"
     ]
    },
    {
     "metadata": {},
     "name": "stderr",
     "output_type": "stream",
     "text": [
      "\r",
      " 51%|████████████████████████████████████████████████████████████▋                                                          | 4084/8000 [02:37<01:04, 60.73it/s]"
     ]
    },
    {
     "metadata": {},
     "name": "stderr",
     "output_type": "stream",
     "text": [
      "\r",
      " 51%|████████████████████████████████████████████████████████████▊                                                          | 4092/8000 [02:37<01:01, 63.82it/s]"
     ]
    },
    {
     "metadata": {},
     "name": "stderr",
     "output_type": "stream",
     "text": [
      "\r",
      " 51%|████████████████████████████████████████████████████████████▉                                                          | 4100/8000 [02:37<01:09, 55.97it/s]"
     ]
    },
    {
     "metadata": {},
     "name": "stderr",
     "output_type": "stream",
     "text": [
      "\r",
      " 51%|█████████████████████████████████████████████████████████████                                                          | 4107/8000 [02:38<01:43, 37.74it/s]"
     ]
    },
    {
     "metadata": {},
     "name": "stderr",
     "output_type": "stream",
     "text": [
      "\r",
      " 51%|█████████████████████████████████████████████████████████████▏                                                         | 4112/8000 [02:38<02:00, 32.32it/s]"
     ]
    },
    {
     "metadata": {},
     "name": "stderr",
     "output_type": "stream",
     "text": [
      "\r",
      " 51%|█████████████████████████████████████████████████████████████▏                                                         | 4117/8000 [02:38<01:58, 32.77it/s]"
     ]
    },
    {
     "metadata": {},
     "name": "stderr",
     "output_type": "stream",
     "text": [
      "\r",
      " 52%|█████████████████████████████████████████████████████████████▎                                                         | 4126/8000 [02:38<01:32, 41.77it/s]"
     ]
    },
    {
     "metadata": {},
     "name": "stderr",
     "output_type": "stream",
     "text": [
      "\r",
      " 52%|█████████████████████████████████████████████████████████████▍                                                         | 4132/8000 [02:39<03:01, 21.31it/s]"
     ]
    },
    {
     "metadata": {},
     "name": "stderr",
     "output_type": "stream",
     "text": [
      "\r",
      " 52%|█████████████████████████████████████████████████████████████▌                                                         | 4136/8000 [02:39<03:48, 16.93it/s]"
     ]
    },
    {
     "metadata": {},
     "name": "stderr",
     "output_type": "stream",
     "text": [
      "\r",
      " 52%|█████████████████████████████████████████████████████████████▌                                                         | 4142/8000 [02:39<03:00, 21.32it/s]"
     ]
    },
    {
     "metadata": {},
     "name": "stderr",
     "output_type": "stream",
     "text": [
      "\r",
      " 52%|█████████████████████████████████████████████████████████████▊                                                         | 4152/8000 [02:40<02:02, 31.34it/s]"
     ]
    },
    {
     "metadata": {},
     "name": "stderr",
     "output_type": "stream",
     "text": [
      "\r",
      " 52%|█████████████████████████████████████████████████████████████▉                                                         | 4161/8000 [02:40<01:37, 39.45it/s]"
     ]
    },
    {
     "metadata": {},
     "name": "stderr",
     "output_type": "stream",
     "text": [
      "\r",
      " 52%|█████████████████████████████████████████████████████████████▉                                                         | 4168/8000 [02:40<01:30, 42.52it/s]"
     ]
    },
    {
     "metadata": {},
     "name": "stderr",
     "output_type": "stream",
     "text": [
      "\r",
      " 52%|██████████████████████████████████████████████████████████████                                                         | 4175/8000 [02:40<01:22, 46.25it/s]"
     ]
    },
    {
     "metadata": {},
     "name": "stderr",
     "output_type": "stream",
     "text": [
      "\r",
      " 52%|██████████████████████████████████████████████████████████████▏                                                        | 4181/8000 [02:41<04:01, 15.81it/s]"
     ]
    },
    {
     "metadata": {},
     "name": "stderr",
     "output_type": "stream",
     "text": [
      "\r",
      " 52%|██████████████████████████████████████████████████████████████▎                                                        | 4186/8000 [02:43<08:28,  7.50it/s]"
     ]
    },
    {
     "metadata": {},
     "name": "stderr",
     "output_type": "stream",
     "text": [
      "\r",
      " 52%|██████████████████████████████████████████████████████████████▎                                                        | 4190/8000 [02:43<08:59,  7.06it/s]"
     ]
    },
    {
     "metadata": {},
     "name": "stderr",
     "output_type": "stream",
     "text": [
      "\r",
      " 52%|██████████████████████████████████████████████████████████████▍                                                        | 4200/8000 [02:44<05:24, 11.73it/s]"
     ]
    },
    {
     "metadata": {},
     "name": "stderr",
     "output_type": "stream",
     "text": [
      "\r",
      " 53%|██████████████████████████████████████████████████████████████▌                                                        | 4205/8000 [02:44<04:40, 13.52it/s]"
     ]
    },
    {
     "metadata": {},
     "name": "stderr",
     "output_type": "stream",
     "text": [
      "\r",
      " 53%|██████████████████████████████████████████████████████████████▋                                                        | 4216/8000 [02:44<02:56, 21.45it/s]"
     ]
    },
    {
     "metadata": {},
     "name": "stderr",
     "output_type": "stream",
     "text": [
      "\r",
      " 53%|██████████████████████████████████████████████████████████████▉                                                        | 4229/8000 [02:44<01:55, 32.73it/s]"
     ]
    },
    {
     "metadata": {},
     "name": "stderr",
     "output_type": "stream",
     "text": [
      "\r",
      " 53%|███████████████████████████████████████████████████████████████                                                        | 4241/8000 [02:44<01:25, 44.04it/s]"
     ]
    },
    {
     "metadata": {},
     "name": "stderr",
     "output_type": "stream",
     "text": [
      "\r",
      " 53%|███████████████████████████████████████████████████████████████▏                                                       | 4250/8000 [02:44<01:18, 47.76it/s]"
     ]
    },
    {
     "metadata": {},
     "name": "stderr",
     "output_type": "stream",
     "text": [
      "\r",
      " 53%|███████████████████████████████████████████████████████████████▎                                                       | 4259/8000 [02:44<01:16, 48.91it/s]"
     ]
    },
    {
     "metadata": {},
     "name": "stderr",
     "output_type": "stream",
     "text": [
      "\r",
      " 53%|███████████████████████████████████████████████████████████████▍                                                       | 4267/8000 [02:45<01:16, 49.04it/s]"
     ]
    },
    {
     "metadata": {},
     "name": "stderr",
     "output_type": "stream",
     "text": [
      "\r",
      " 53%|███████████████████████████████████████████████████████████████▌                                                       | 4274/8000 [02:45<01:16, 48.89it/s]"
     ]
    },
    {
     "metadata": {},
     "name": "stderr",
     "output_type": "stream",
     "text": [
      "\r",
      " 54%|███████████████████████████████████████████████████████████████▋                                                       | 4283/8000 [02:45<01:05, 57.01it/s]"
     ]
    },
    {
     "metadata": {},
     "name": "stderr",
     "output_type": "stream",
     "text": [
      "\r",
      " 54%|███████████████████████████████████████████████████████████████▊                                                       | 4294/8000 [02:45<00:54, 68.39it/s]"
     ]
    },
    {
     "metadata": {},
     "name": "stderr",
     "output_type": "stream",
     "text": [
      "\r",
      " 54%|████████████████████████████████████████████████████████████████                                                       | 4306/8000 [02:45<00:45, 80.70it/s]"
     ]
    },
    {
     "metadata": {},
     "name": "stderr",
     "output_type": "stream",
     "text": [
      "\r",
      " 54%|████████████████████████████████████████████████████████████████▏                                                      | 4316/8000 [02:45<01:14, 49.59it/s]"
     ]
    },
    {
     "metadata": {},
     "name": "stderr",
     "output_type": "stream",
     "text": [
      "\r",
      " 54%|████████████████████████████████████████████████████████████████▎                                                      | 4324/8000 [02:47<03:47, 16.19it/s]"
     ]
    },
    {
     "metadata": {},
     "name": "stderr",
     "output_type": "stream",
     "text": [
      "\r",
      " 54%|████████████████████████████████████████████████████████████████▍                                                      | 4330/8000 [02:48<05:00, 12.20it/s]"
     ]
    },
    {
     "metadata": {},
     "name": "stderr",
     "output_type": "stream",
     "text": [
      "\r",
      " 54%|████████████████████████████████████████████████████████████████▍                                                      | 4334/8000 [02:48<04:48, 12.71it/s]"
     ]
    },
    {
     "metadata": {},
     "name": "stderr",
     "output_type": "stream",
     "text": [
      "\r",
      " 54%|████████████████████████████████████████████████████████████████▌                                                      | 4338/8000 [02:48<04:33, 13.39it/s]"
     ]
    },
    {
     "metadata": {},
     "name": "stderr",
     "output_type": "stream",
     "text": [
      "\r",
      " 54%|████████████████████████████████████████████████████████████████▌                                                      | 4341/8000 [02:48<04:26, 13.75it/s]"
     ]
    },
    {
     "metadata": {},
     "name": "stderr",
     "output_type": "stream",
     "text": [
      "\r",
      " 54%|████████████████████████████████████████████████████████████████▌                                                      | 4344/8000 [02:49<04:19, 14.06it/s]"
     ]
    },
    {
     "metadata": {},
     "name": "stderr",
     "output_type": "stream",
     "text": [
      "\r",
      " 54%|████████████████████████████████████████████████████████████████▋                                                      | 4347/8000 [02:49<04:14, 14.36it/s]"
     ]
    },
    {
     "metadata": {},
     "name": "stderr",
     "output_type": "stream",
     "text": [
      "\r",
      " 54%|████████████████████████████████████████████████████████████████▋                                                      | 4349/8000 [02:49<04:22, 13.90it/s]"
     ]
    },
    {
     "metadata": {},
     "name": "stderr",
     "output_type": "stream",
     "text": [
      "\r",
      " 54%|████████████████████████████████████████████████████████████████▋                                                      | 4351/8000 [02:49<04:16, 14.24it/s]"
     ]
    },
    {
     "metadata": {},
     "name": "stderr",
     "output_type": "stream",
     "text": [
      "\r",
      " 54%|████████████████████████████████████████████████████████████████▊                                                      | 4353/8000 [02:49<04:11, 14.53it/s]"
     ]
    },
    {
     "metadata": {},
     "name": "stderr",
     "output_type": "stream",
     "text": [
      "\r",
      " 54%|████████████████████████████████████████████████████████████████▊                                                      | 4355/8000 [02:49<04:13, 14.39it/s]"
     ]
    },
    {
     "metadata": {},
     "name": "stderr",
     "output_type": "stream",
     "text": [
      "\r",
      " 54%|████████████████████████████████████████████████████████████████▊                                                      | 4357/8000 [02:50<04:15, 14.27it/s]"
     ]
    },
    {
     "metadata": {},
     "name": "stderr",
     "output_type": "stream",
     "text": [
      "\r",
      " 54%|████████████████████████████████████████████████████████████████▊                                                      | 4359/8000 [02:50<07:51,  7.72it/s]"
     ]
    },
    {
     "metadata": {},
     "name": "stderr",
     "output_type": "stream",
     "text": [
      "\r",
      " 55%|████████████████████████████████████████████████████████████████▊                                                      | 4361/8000 [02:51<10:40,  5.69it/s]"
     ]
    },
    {
     "metadata": {},
     "name": "stderr",
     "output_type": "stream",
     "text": [
      "\r",
      " 55%|████████████████████████████████████████████████████████████████▉                                                      | 4365/8000 [02:51<06:40,  9.09it/s]"
     ]
    },
    {
     "metadata": {},
     "name": "stderr",
     "output_type": "stream",
     "text": [
      "\r",
      " 55%|████████████████████████████████████████████████████████████████▉                                                      | 4367/8000 [02:51<06:06,  9.91it/s]"
     ]
    },
    {
     "metadata": {},
     "name": "stderr",
     "output_type": "stream",
     "text": [
      "\r",
      " 55%|████████████████████████████████████████████████████████████████▉                                                      | 4369/8000 [02:51<06:02, 10.01it/s]"
     ]
    },
    {
     "metadata": {},
     "name": "stderr",
     "output_type": "stream",
     "text": [
      "\r",
      " 55%|█████████████████████████████████████████████████████████████████                                                      | 4371/8000 [02:51<05:42, 10.59it/s]"
     ]
    },
    {
     "metadata": {},
     "name": "stderr",
     "output_type": "stream",
     "text": [
      "\r",
      " 55%|█████████████████████████████████████████████████████████████████                                                      | 4373/8000 [02:52<05:33, 10.89it/s]"
     ]
    },
    {
     "metadata": {},
     "name": "stderr",
     "output_type": "stream",
     "text": [
      "\r",
      " 55%|█████████████████████████████████████████████████████████████████▏                                                     | 4382/8000 [02:52<02:51, 21.05it/s]"
     ]
    },
    {
     "metadata": {},
     "name": "stderr",
     "output_type": "stream",
     "text": [
      "\r",
      " 55%|█████████████████████████████████████████████████████████████████▏                                                     | 4385/8000 [02:52<04:35, 13.14it/s]"
     ]
    },
    {
     "metadata": {},
     "name": "stderr",
     "output_type": "stream",
     "text": [
      "\r",
      " 55%|█████████████████████████████████████████████████████████████████▎                                                     | 4387/8000 [02:52<04:59, 12.05it/s]"
     ]
    },
    {
     "metadata": {},
     "name": "stderr",
     "output_type": "stream",
     "text": [
      "\r",
      " 55%|█████████████████████████████████████████████████████████████████▎                                                     | 4389/8000 [02:53<04:39, 12.90it/s]"
     ]
    },
    {
     "metadata": {},
     "name": "stderr",
     "output_type": "stream",
     "text": [
      "\r",
      " 55%|█████████████████████████████████████████████████████████████████▎                                                     | 4394/8000 [02:53<03:24, 17.59it/s]"
     ]
    },
    {
     "metadata": {},
     "name": "stderr",
     "output_type": "stream",
     "text": [
      "\r",
      " 55%|█████████████████████████████████████████████████████████████████▍                                                     | 4397/8000 [02:53<03:22, 17.79it/s]"
     ]
    },
    {
     "metadata": {},
     "name": "stderr",
     "output_type": "stream",
     "text": [
      "\r",
      " 55%|█████████████████████████████████████████████████████████████████▍                                                     | 4400/8000 [02:53<03:42, 16.20it/s]"
     ]
    },
    {
     "metadata": {},
     "name": "stderr",
     "output_type": "stream",
     "text": [
      "\r",
      " 55%|█████████████████████████████████████████████████████████████████▍                                                     | 4402/8000 [02:53<03:37, 16.58it/s]"
     ]
    },
    {
     "metadata": {},
     "name": "stderr",
     "output_type": "stream",
     "text": [
      "\r",
      " 55%|█████████████████████████████████████████████████████████████████▌                                                     | 4404/8000 [02:53<03:34, 16.80it/s]"
     ]
    },
    {
     "metadata": {},
     "name": "stderr",
     "output_type": "stream",
     "text": [
      "\r",
      " 55%|█████████████████████████████████████████████████████████████████▌                                                     | 4406/8000 [02:53<03:29, 17.16it/s]"
     ]
    },
    {
     "metadata": {},
     "name": "stderr",
     "output_type": "stream",
     "text": [
      "\r",
      " 55%|█████████████████████████████████████████████████████████████████▌                                                     | 4408/8000 [02:54<03:27, 17.29it/s]"
     ]
    },
    {
     "metadata": {},
     "name": "stderr",
     "output_type": "stream",
     "text": [
      "\r",
      " 55%|█████████████████████████████████████████████████████████████████▌                                                     | 4410/8000 [02:54<03:27, 17.27it/s]"
     ]
    },
    {
     "metadata": {},
     "name": "stderr",
     "output_type": "stream",
     "text": [
      "\r",
      " 55%|█████████████████████████████████████████████████████████████████▋                                                     | 4412/8000 [02:54<03:28, 17.24it/s]"
     ]
    },
    {
     "metadata": {},
     "name": "stderr",
     "output_type": "stream",
     "text": [
      "\r",
      " 55%|█████████████████████████████████████████████████████████████████▋                                                     | 4414/8000 [02:54<03:26, 17.37it/s]"
     ]
    },
    {
     "metadata": {},
     "name": "stderr",
     "output_type": "stream",
     "text": [
      "\r",
      " 55%|█████████████████████████████████████████████████████████████████▋                                                     | 4416/8000 [02:54<03:37, 16.49it/s]"
     ]
    },
    {
     "metadata": {},
     "name": "stderr",
     "output_type": "stream",
     "text": [
      "\r",
      " 55%|█████████████████████████████████████████████████████████████████▋                                                     | 4418/8000 [02:54<03:33, 16.77it/s]"
     ]
    },
    {
     "metadata": {},
     "name": "stderr",
     "output_type": "stream",
     "text": [
      "\r",
      " 55%|█████████████████████████████████████████████████████████████████▋                                                     | 4420/8000 [02:54<03:43, 16.05it/s]"
     ]
    },
    {
     "metadata": {},
     "name": "stderr",
     "output_type": "stream",
     "text": [
      "\r",
      " 55%|█████████████████████████████████████████████████████████████████▊                                                     | 4422/8000 [02:54<03:46, 15.81it/s]"
     ]
    },
    {
     "metadata": {},
     "name": "stderr",
     "output_type": "stream",
     "text": [
      "\r",
      " 55%|█████████████████████████████████████████████████████████████████▊                                                     | 4424/8000 [02:55<03:45, 15.87it/s]"
     ]
    },
    {
     "metadata": {},
     "name": "stderr",
     "output_type": "stream",
     "text": [
      "\r",
      " 55%|█████████████████████████████████████████████████████████████████▊                                                     | 4426/8000 [02:55<03:42, 16.05it/s]"
     ]
    },
    {
     "metadata": {},
     "name": "stderr",
     "output_type": "stream",
     "text": [
      "\r",
      " 55%|█████████████████████████████████████████████████████████████████▊                                                     | 4428/8000 [02:55<03:39, 16.25it/s]"
     ]
    },
    {
     "metadata": {},
     "name": "stderr",
     "output_type": "stream",
     "text": [
      "\r",
      " 55%|█████████████████████████████████████████████████████████████████▉                                                     | 4430/8000 [02:55<03:33, 16.71it/s]"
     ]
    },
    {
     "metadata": {},
     "name": "stderr",
     "output_type": "stream",
     "text": [
      "\r",
      " 55%|█████████████████████████████████████████████████████████████████▉                                                     | 4432/8000 [02:55<03:33, 16.70it/s]"
     ]
    },
    {
     "metadata": {},
     "name": "stderr",
     "output_type": "stream",
     "text": [
      "\r",
      " 55%|█████████████████████████████████████████████████████████████████▉                                                     | 4434/8000 [02:55<03:28, 17.09it/s]"
     ]
    },
    {
     "metadata": {},
     "name": "stderr",
     "output_type": "stream",
     "text": [
      "\r",
      " 55%|█████████████████████████████████████████████████████████████████▉                                                     | 4436/8000 [02:55<03:26, 17.27it/s]"
     ]
    },
    {
     "metadata": {},
     "name": "stderr",
     "output_type": "stream",
     "text": [
      "\r",
      " 55%|██████████████████████████████████████████████████████████████████                                                     | 4438/8000 [02:55<03:26, 17.25it/s]"
     ]
    },
    {
     "metadata": {},
     "name": "stderr",
     "output_type": "stream",
     "text": [
      "\r",
      " 56%|██████████████████████████████████████████████████████████████████                                                     | 4440/8000 [02:55<03:22, 17.56it/s]"
     ]
    },
    {
     "metadata": {},
     "name": "stderr",
     "output_type": "stream",
     "text": [
      "\r",
      " 56%|██████████████████████████████████████████████████████████████████                                                     | 4442/8000 [02:56<03:23, 17.46it/s]"
     ]
    },
    {
     "metadata": {},
     "name": "stderr",
     "output_type": "stream",
     "text": [
      "\r",
      " 56%|██████████████████████████████████████████████████████████████████                                                     | 4444/8000 [02:56<03:26, 17.25it/s]"
     ]
    },
    {
     "metadata": {},
     "name": "stderr",
     "output_type": "stream",
     "text": [
      "\r",
      " 56%|██████████████████████████████████████████████████████████████████▏                                                    | 4446/8000 [02:56<03:25, 17.33it/s]"
     ]
    },
    {
     "metadata": {},
     "name": "stderr",
     "output_type": "stream",
     "text": [
      "\r",
      " 56%|██████████████████████████████████████████████████████████████████▏                                                    | 4448/8000 [02:56<03:40, 16.14it/s]"
     ]
    },
    {
     "metadata": {},
     "name": "stderr",
     "output_type": "stream",
     "text": [
      "\r",
      " 56%|██████████████████████████████████████████████████████████████████▏                                                    | 4450/8000 [02:56<03:53, 15.22it/s]"
     ]
    },
    {
     "metadata": {},
     "name": "stderr",
     "output_type": "stream",
     "text": [
      "\r",
      " 56%|██████████████████████████████████████████████████████████████████▏                                                    | 4452/8000 [02:56<03:47, 15.59it/s]"
     ]
    },
    {
     "metadata": {},
     "name": "stderr",
     "output_type": "stream",
     "text": [
      "\r",
      " 56%|██████████████████████████████████████████████████████████████████▎                                                    | 4454/8000 [02:56<03:39, 16.12it/s]"
     ]
    },
    {
     "metadata": {},
     "name": "stderr",
     "output_type": "stream",
     "text": [
      "\r",
      " 56%|██████████████████████████████████████████████████████████████████▎                                                    | 4456/8000 [02:56<03:35, 16.47it/s]"
     ]
    },
    {
     "metadata": {},
     "name": "stderr",
     "output_type": "stream",
     "text": [
      "\r",
      " 56%|██████████████████████████████████████████████████████████████████▎                                                    | 4458/8000 [02:57<03:30, 16.81it/s]"
     ]
    },
    {
     "metadata": {},
     "name": "stderr",
     "output_type": "stream",
     "text": [
      "\r",
      " 56%|██████████████████████████████████████████████████████████████████▎                                                    | 4460/8000 [02:57<03:26, 17.11it/s]"
     ]
    },
    {
     "metadata": {},
     "name": "stderr",
     "output_type": "stream",
     "text": [
      "\r",
      " 56%|██████████████████████████████████████████████████████████████████▎                                                    | 4462/8000 [02:57<03:24, 17.28it/s]"
     ]
    },
    {
     "metadata": {},
     "name": "stderr",
     "output_type": "stream",
     "text": [
      "\r",
      " 56%|██████████████████████████████████████████████████████████████████▍                                                    | 4464/8000 [02:57<03:21, 17.53it/s]"
     ]
    },
    {
     "metadata": {},
     "name": "stderr",
     "output_type": "stream",
     "text": [
      "\r",
      " 56%|██████████████████████████████████████████████████████████████████▍                                                    | 4466/8000 [02:57<03:26, 17.11it/s]"
     ]
    },
    {
     "metadata": {},
     "name": "stderr",
     "output_type": "stream",
     "text": [
      "\r",
      " 56%|██████████████████████████████████████████████████████████████████▍                                                    | 4468/8000 [02:57<03:24, 17.25it/s]"
     ]
    },
    {
     "metadata": {},
     "name": "stderr",
     "output_type": "stream",
     "text": [
      "\r",
      " 56%|██████████████████████████████████████████████████████████████████▍                                                    | 4470/8000 [02:57<03:23, 17.32it/s]"
     ]
    },
    {
     "metadata": {},
     "name": "stderr",
     "output_type": "stream",
     "text": [
      "\r",
      " 56%|██████████████████████████████████████████████████████████████████▌                                                    | 4472/8000 [02:57<03:22, 17.45it/s]"
     ]
    },
    {
     "metadata": {},
     "name": "stderr",
     "output_type": "stream",
     "text": [
      "\r",
      " 56%|██████████████████████████████████████████████████████████████████▌                                                    | 4474/8000 [02:57<03:21, 17.51it/s]"
     ]
    },
    {
     "metadata": {},
     "name": "stderr",
     "output_type": "stream",
     "text": [
      "\r",
      " 56%|██████████████████████████████████████████████████████████████████▌                                                    | 4476/8000 [02:58<03:21, 17.52it/s]"
     ]
    },
    {
     "metadata": {},
     "name": "stderr",
     "output_type": "stream",
     "text": [
      "\r",
      " 56%|██████████████████████████████████████████████████████████████████▌                                                    | 4478/8000 [02:58<03:20, 17.53it/s]"
     ]
    },
    {
     "metadata": {},
     "name": "stderr",
     "output_type": "stream",
     "text": [
      "\r",
      " 56%|██████████████████████████████████████████████████████████████████▋                                                    | 4480/8000 [02:58<03:21, 17.49it/s]"
     ]
    },
    {
     "metadata": {},
     "name": "stderr",
     "output_type": "stream",
     "text": [
      "\r",
      " 56%|██████████████████████████████████████████████████████████████████▋                                                    | 4482/8000 [02:58<03:20, 17.54it/s]"
     ]
    },
    {
     "metadata": {},
     "name": "stderr",
     "output_type": "stream",
     "text": [
      "\r",
      " 56%|██████████████████████████████████████████████████████████████████▋                                                    | 4484/8000 [02:58<03:25, 17.10it/s]"
     ]
    },
    {
     "metadata": {},
     "name": "stderr",
     "output_type": "stream",
     "text": [
      "\r",
      " 56%|██████████████████████████████████████████████████████████████████▋                                                    | 4486/8000 [02:58<03:26, 17.00it/s]"
     ]
    },
    {
     "metadata": {},
     "name": "stderr",
     "output_type": "stream",
     "text": [
      "\r",
      " 56%|██████████████████████████████████████████████████████████████████▊                                                    | 4488/8000 [02:58<03:28, 16.83it/s]"
     ]
    },
    {
     "metadata": {},
     "name": "stderr",
     "output_type": "stream",
     "text": [
      "\r",
      " 56%|██████████████████████████████████████████████████████████████████▊                                                    | 4490/8000 [02:58<03:29, 16.78it/s]"
     ]
    },
    {
     "metadata": {},
     "name": "stderr",
     "output_type": "stream",
     "text": [
      "\r",
      " 56%|██████████████████████████████████████████████████████████████████▊                                                    | 4492/8000 [02:59<03:29, 16.73it/s]"
     ]
    },
    {
     "metadata": {},
     "name": "stderr",
     "output_type": "stream",
     "text": [
      "\r",
      " 56%|██████████████████████████████████████████████████████████████████▊                                                    | 4494/8000 [02:59<03:30, 16.69it/s]"
     ]
    },
    {
     "metadata": {},
     "name": "stderr",
     "output_type": "stream",
     "text": [
      "\r",
      " 56%|██████████████████████████████████████████████████████████████████▉                                                    | 4496/8000 [02:59<03:30, 16.68it/s]"
     ]
    },
    {
     "metadata": {},
     "name": "stderr",
     "output_type": "stream",
     "text": [
      "\r",
      " 56%|██████████████████████████████████████████████████████████████████▉                                                    | 4498/8000 [02:59<03:34, 16.35it/s]"
     ]
    },
    {
     "metadata": {},
     "name": "stderr",
     "output_type": "stream",
     "text": [
      "\r",
      " 56%|██████████████████████████████████████████████████████████████████▉                                                    | 4500/8000 [02:59<03:40, 15.88it/s]"
     ]
    },
    {
     "metadata": {},
     "name": "stderr",
     "output_type": "stream",
     "text": [
      "\r",
      " 56%|██████████████████████████████████████████████████████████████████▉                                                    | 4502/8000 [02:59<03:37, 16.08it/s]"
     ]
    },
    {
     "metadata": {},
     "name": "stderr",
     "output_type": "stream",
     "text": [
      "\r",
      " 56%|██████████████████████████████████████████████████████████████████▉                                                    | 4504/8000 [02:59<03:36, 16.18it/s]"
     ]
    },
    {
     "metadata": {},
     "name": "stderr",
     "output_type": "stream",
     "text": [
      "\r",
      " 56%|███████████████████████████████████████████████████████████████████                                                    | 4506/8000 [02:59<03:37, 16.08it/s]"
     ]
    },
    {
     "metadata": {},
     "name": "stderr",
     "output_type": "stream",
     "text": [
      "\r",
      " 56%|███████████████████████████████████████████████████████████████████                                                    | 4508/8000 [03:00<03:37, 16.04it/s]"
     ]
    },
    {
     "metadata": {},
     "name": "stderr",
     "output_type": "stream",
     "text": [
      "\r",
      " 56%|███████████████████████████████████████████████████████████████████                                                    | 4510/8000 [03:00<03:39, 15.89it/s]"
     ]
    },
    {
     "metadata": {},
     "name": "stderr",
     "output_type": "stream",
     "text": [
      "\r",
      " 56%|███████████████████████████████████████████████████████████████████                                                    | 4512/8000 [03:00<03:39, 15.86it/s]"
     ]
    },
    {
     "metadata": {},
     "name": "stderr",
     "output_type": "stream",
     "text": [
      "\r",
      " 56%|███████████████████████████████████████████████████████████████████▏                                                   | 4514/8000 [03:00<03:38, 15.94it/s]"
     ]
    },
    {
     "metadata": {},
     "name": "stderr",
     "output_type": "stream",
     "text": [
      "\r",
      " 56%|███████████████████████████████████████████████████████████████████▏                                                   | 4516/8000 [03:00<03:46, 15.41it/s]"
     ]
    },
    {
     "metadata": {},
     "name": "stderr",
     "output_type": "stream",
     "text": [
      "\r",
      " 56%|███████████████████████████████████████████████████████████████████▏                                                   | 4519/8000 [03:00<03:22, 17.17it/s]"
     ]
    },
    {
     "metadata": {},
     "name": "stderr",
     "output_type": "stream",
     "text": [
      "\r",
      " 57%|███████████████████████████████████████████████████████████████████▏                                                   | 4521/8000 [03:00<03:49, 15.19it/s]"
     ]
    },
    {
     "metadata": {},
     "name": "stderr",
     "output_type": "stream",
     "text": [
      "\r",
      " 57%|███████████████████████████████████████████████████████████████████▎                                                   | 4523/8000 [03:01<03:48, 15.24it/s]"
     ]
    },
    {
     "metadata": {},
     "name": "stderr",
     "output_type": "stream",
     "text": [
      "\r",
      " 57%|███████████████████████████████████████████████████████████████████▎                                                   | 4525/8000 [03:01<03:48, 15.21it/s]"
     ]
    },
    {
     "metadata": {},
     "name": "stderr",
     "output_type": "stream",
     "text": [
      "\r",
      " 57%|███████████████████████████████████████████████████████████████████▎                                                   | 4527/8000 [03:01<03:44, 15.44it/s]"
     ]
    },
    {
     "metadata": {},
     "name": "stderr",
     "output_type": "stream",
     "text": [
      "\r",
      " 57%|███████████████████████████████████████████████████████████████████▎                                                   | 4529/8000 [03:01<03:35, 16.12it/s]"
     ]
    },
    {
     "metadata": {},
     "name": "stderr",
     "output_type": "stream",
     "text": [
      "\r",
      " 57%|███████████████████████████████████████████████████████████████████▍                                                   | 4531/8000 [03:01<03:38, 15.85it/s]"
     ]
    },
    {
     "metadata": {},
     "name": "stderr",
     "output_type": "stream",
     "text": [
      "\r",
      " 57%|███████████████████████████████████████████████████████████████████▍                                                   | 4533/8000 [03:01<03:37, 15.91it/s]"
     ]
    },
    {
     "metadata": {},
     "name": "stderr",
     "output_type": "stream",
     "text": [
      "\r",
      " 57%|███████████████████████████████████████████████████████████████████▍                                                   | 4535/8000 [03:01<03:38, 15.82it/s]"
     ]
    },
    {
     "metadata": {},
     "name": "stderr",
     "output_type": "stream",
     "text": [
      "\r",
      " 57%|███████████████████████████████████████████████████████████████████▍                                                   | 4537/8000 [03:01<03:39, 15.78it/s]"
     ]
    },
    {
     "metadata": {},
     "name": "stderr",
     "output_type": "stream",
     "text": [
      "\r",
      " 57%|███████████████████████████████████████████████████████████████████▌                                                   | 4539/8000 [03:01<03:33, 16.20it/s]"
     ]
    },
    {
     "metadata": {},
     "name": "stderr",
     "output_type": "stream",
     "text": [
      "\r",
      " 57%|███████████████████████████████████████████████████████████████████▌                                                   | 4541/8000 [03:02<03:34, 16.14it/s]"
     ]
    },
    {
     "metadata": {},
     "name": "stderr",
     "output_type": "stream",
     "text": [
      "\r",
      " 57%|███████████████████████████████████████████████████████████████████▌                                                   | 4543/8000 [03:02<03:51, 14.93it/s]"
     ]
    },
    {
     "metadata": {},
     "name": "stderr",
     "output_type": "stream",
     "text": [
      "\r",
      " 57%|███████████████████████████████████████████████████████████████████▌                                                   | 4545/8000 [03:02<03:41, 15.63it/s]"
     ]
    },
    {
     "metadata": {},
     "name": "stderr",
     "output_type": "stream",
     "text": [
      "\r",
      " 57%|███████████████████████████████████████████████████████████████████▋                                                   | 4547/8000 [03:02<03:40, 15.64it/s]"
     ]
    },
    {
     "metadata": {},
     "name": "stderr",
     "output_type": "stream",
     "text": [
      "\r",
      " 57%|███████████████████████████████████████████████████████████████████▋                                                   | 4549/8000 [03:02<03:37, 15.83it/s]"
     ]
    },
    {
     "metadata": {},
     "name": "stderr",
     "output_type": "stream",
     "text": [
      "\r",
      " 57%|███████████████████████████████████████████████████████████████████▋                                                   | 4551/8000 [03:02<03:34, 16.09it/s]"
     ]
    },
    {
     "metadata": {},
     "name": "stderr",
     "output_type": "stream",
     "text": [
      "\r",
      " 57%|███████████████████████████████████████████████████████████████████▋                                                   | 4553/8000 [03:02<03:31, 16.32it/s]"
     ]
    },
    {
     "metadata": {},
     "name": "stderr",
     "output_type": "stream",
     "text": [
      "\r",
      " 57%|███████████████████████████████████████████████████████████████████▊                                                   | 4555/8000 [03:02<03:26, 16.64it/s]"
     ]
    },
    {
     "metadata": {},
     "name": "stderr",
     "output_type": "stream",
     "text": [
      "\r",
      " 57%|███████████████████████████████████████████████████████████████████▊                                                   | 4557/8000 [03:03<03:25, 16.73it/s]"
     ]
    },
    {
     "metadata": {},
     "name": "stderr",
     "output_type": "stream",
     "text": [
      "\r",
      " 57%|███████████████████████████████████████████████████████████████████▊                                                   | 4559/8000 [03:03<03:24, 16.79it/s]"
     ]
    },
    {
     "metadata": {},
     "name": "stderr",
     "output_type": "stream",
     "text": [
      "\r",
      " 57%|███████████████████████████████████████████████████████████████████▊                                                   | 4561/8000 [03:03<03:28, 16.48it/s]"
     ]
    },
    {
     "metadata": {},
     "name": "stderr",
     "output_type": "stream",
     "text": [
      "\r",
      " 57%|███████████████████████████████████████████████████████████████████▊                                                   | 4563/8000 [03:03<03:31, 16.24it/s]"
     ]
    },
    {
     "metadata": {},
     "name": "stderr",
     "output_type": "stream",
     "text": [
      "\r",
      " 57%|███████████████████████████████████████████████████████████████████▉                                                   | 4565/8000 [03:03<03:31, 16.24it/s]"
     ]
    },
    {
     "metadata": {},
     "name": "stderr",
     "output_type": "stream",
     "text": [
      "\r",
      " 57%|███████████████████████████████████████████████████████████████████▉                                                   | 4567/8000 [03:03<03:26, 16.63it/s]"
     ]
    },
    {
     "metadata": {},
     "name": "stderr",
     "output_type": "stream",
     "text": [
      "\r",
      " 57%|███████████████████████████████████████████████████████████████████▉                                                   | 4569/8000 [03:03<03:23, 16.84it/s]"
     ]
    },
    {
     "metadata": {},
     "name": "stderr",
     "output_type": "stream",
     "text": [
      "\r",
      " 57%|███████████████████████████████████████████████████████████████████▉                                                   | 4571/8000 [03:03<03:21, 16.99it/s]"
     ]
    },
    {
     "metadata": {},
     "name": "stderr",
     "output_type": "stream",
     "text": [
      "\r",
      " 57%|████████████████████████████████████████████████████████████████████                                                   | 4573/8000 [03:04<03:23, 16.83it/s]"
     ]
    },
    {
     "metadata": {},
     "name": "stderr",
     "output_type": "stream",
     "text": [
      "\r",
      " 57%|████████████████████████████████████████████████████████████████████                                                   | 4575/8000 [03:04<03:21, 17.03it/s]"
     ]
    },
    {
     "metadata": {},
     "name": "stderr",
     "output_type": "stream",
     "text": [
      "\r",
      " 57%|████████████████████████████████████████████████████████████████████                                                   | 4577/8000 [03:04<03:22, 16.91it/s]"
     ]
    },
    {
     "metadata": {},
     "name": "stderr",
     "output_type": "stream",
     "text": [
      "\r",
      " 57%|████████████████████████████████████████████████████████████████████                                                   | 4579/8000 [03:04<03:22, 16.93it/s]"
     ]
    },
    {
     "metadata": {},
     "name": "stderr",
     "output_type": "stream",
     "text": [
      "\r",
      " 57%|████████████████████████████████████████████████████████████████████▏                                                  | 4581/8000 [03:04<03:33, 15.99it/s]"
     ]
    },
    {
     "metadata": {},
     "name": "stderr",
     "output_type": "stream",
     "text": [
      "\r",
      " 57%|████████████████████████████████████████████████████████████████████▏                                                  | 4583/8000 [03:04<03:50, 14.84it/s]"
     ]
    },
    {
     "metadata": {},
     "name": "stderr",
     "output_type": "stream",
     "text": [
      "\r",
      " 57%|████████████████████████████████████████████████████████████████████▏                                                  | 4585/8000 [03:04<03:46, 15.09it/s]"
     ]
    },
    {
     "metadata": {},
     "name": "stderr",
     "output_type": "stream",
     "text": [
      "\r",
      " 57%|████████████████████████████████████████████████████████████████████▏                                                  | 4587/8000 [03:04<03:45, 15.13it/s]"
     ]
    },
    {
     "metadata": {},
     "name": "stderr",
     "output_type": "stream",
     "text": [
      "\r",
      " 57%|████████████████████████████████████████████████████████████████████▎                                                  | 4589/8000 [03:05<04:03, 13.99it/s]"
     ]
    },
    {
     "metadata": {},
     "name": "stderr",
     "output_type": "stream",
     "text": [
      "\r",
      " 57%|████████████████████████████████████████████████████████████████████▎                                                  | 4591/8000 [03:05<04:07, 13.78it/s]"
     ]
    },
    {
     "metadata": {},
     "name": "stderr",
     "output_type": "stream",
     "text": [
      "\r",
      " 57%|████████████████████████████████████████████████████████████████████▎                                                  | 4593/8000 [03:05<04:10, 13.62it/s]"
     ]
    },
    {
     "metadata": {},
     "name": "stderr",
     "output_type": "stream",
     "text": [
      "\r",
      " 57%|████████████████████████████████████████████████████████████████████▎                                                  | 4595/8000 [03:05<04:28, 12.70it/s]"
     ]
    },
    {
     "metadata": {},
     "name": "stderr",
     "output_type": "stream",
     "text": [
      "\r",
      " 57%|████████████████████████████████████████████████████████████████████▍                                                  | 4597/8000 [03:05<04:33, 12.44it/s]"
     ]
    },
    {
     "metadata": {},
     "name": "stderr",
     "output_type": "stream",
     "text": [
      "\r",
      " 57%|████████████████████████████████████████████████████████████████████▍                                                  | 4599/8000 [03:05<04:37, 12.28it/s]"
     ]
    },
    {
     "metadata": {},
     "name": "stderr",
     "output_type": "stream",
     "text": [
      "\r",
      " 58%|████████████████████████████████████████████████████████████████████▍                                                  | 4601/8000 [03:06<04:40, 12.13it/s]"
     ]
    },
    {
     "metadata": {},
     "name": "stderr",
     "output_type": "stream",
     "text": [
      "\r",
      " 58%|████████████████████████████████████████████████████████████████████▍                                                  | 4603/8000 [03:06<04:31, 12.51it/s]"
     ]
    },
    {
     "metadata": {},
     "name": "stderr",
     "output_type": "stream",
     "text": [
      "\r",
      " 58%|████████████████████████████████████████████████████████████████████▌                                                  | 4606/8000 [03:06<03:46, 15.01it/s]"
     ]
    },
    {
     "metadata": {},
     "name": "stderr",
     "output_type": "stream",
     "text": [
      "\r",
      " 58%|████████████████████████████████████████████████████████████████████▌                                                  | 4608/8000 [03:06<03:43, 15.20it/s]"
     ]
    },
    {
     "metadata": {},
     "name": "stderr",
     "output_type": "stream",
     "text": [
      "\r",
      " 58%|████████████████████████████████████████████████████████████████████▌                                                  | 4610/8000 [03:06<03:38, 15.50it/s]"
     ]
    },
    {
     "metadata": {},
     "name": "stderr",
     "output_type": "stream",
     "text": [
      "\r",
      " 58%|████████████████████████████████████████████████████████████████████▌                                                  | 4612/8000 [03:06<03:34, 15.79it/s]"
     ]
    },
    {
     "metadata": {},
     "name": "stderr",
     "output_type": "stream",
     "text": [
      "\r",
      " 58%|████████████████████████████████████████████████████████████████████▋                                                  | 4614/8000 [03:06<03:31, 16.04it/s]"
     ]
    },
    {
     "metadata": {},
     "name": "stderr",
     "output_type": "stream",
     "text": [
      "\r",
      " 58%|████████████████████████████████████████████████████████████████████▋                                                  | 4616/8000 [03:07<03:27, 16.31it/s]"
     ]
    },
    {
     "metadata": {},
     "name": "stderr",
     "output_type": "stream",
     "text": [
      "\r",
      " 58%|████████████████████████████████████████████████████████████████████▋                                                  | 4618/8000 [03:07<03:25, 16.42it/s]"
     ]
    },
    {
     "metadata": {},
     "name": "stderr",
     "output_type": "stream",
     "text": [
      "\r",
      " 58%|████████████████████████████████████████████████████████████████████▋                                                  | 4620/8000 [03:07<03:20, 16.83it/s]"
     ]
    },
    {
     "metadata": {},
     "name": "stderr",
     "output_type": "stream",
     "text": [
      "\r",
      " 58%|████████████████████████████████████████████████████████████████████▊                                                  | 4622/8000 [03:07<03:18, 17.04it/s]"
     ]
    },
    {
     "metadata": {},
     "name": "stderr",
     "output_type": "stream",
     "text": [
      "\r",
      " 58%|████████████████████████████████████████████████████████████████████▊                                                  | 4626/8000 [03:07<02:50, 19.78it/s]"
     ]
    },
    {
     "metadata": {},
     "name": "stderr",
     "output_type": "stream",
     "text": [
      "\r",
      " 58%|████████████████████████████████████████████████████████████████████▊                                                  | 4628/8000 [03:07<03:02, 18.43it/s]"
     ]
    },
    {
     "metadata": {},
     "name": "stderr",
     "output_type": "stream",
     "text": [
      "\r",
      " 58%|████████████████████████████████████████████████████████████████████▊                                                  | 4630/8000 [03:08<07:59,  7.03it/s]"
     ]
    },
    {
     "metadata": {},
     "name": "stderr",
     "output_type": "stream",
     "text": [
      "\r",
      " 58%|████████████████████████████████████████████████████████████████████▉                                                  | 4632/8000 [03:09<11:50,  4.74it/s]"
     ]
    },
    {
     "metadata": {},
     "name": "stderr",
     "output_type": "stream",
     "text": [
      "\r",
      " 58%|████████████████████████████████████████████████████████████████████▉                                                  | 4634/8000 [03:10<15:20,  3.66it/s]"
     ]
    },
    {
     "metadata": {},
     "name": "stderr",
     "output_type": "stream",
     "text": [
      "\r",
      " 58%|████████████████████████████████████████████████████████████████████▉                                                  | 4635/8000 [03:10<18:09,  3.09it/s]"
     ]
    },
    {
     "metadata": {},
     "name": "stderr",
     "output_type": "stream",
     "text": [
      "\r",
      " 58%|████████████████████████████████████████████████████████████████████▉                                                  | 4636/8000 [03:11<21:29,  2.61it/s]"
     ]
    },
    {
     "metadata": {},
     "name": "stderr",
     "output_type": "stream",
     "text": [
      "\r",
      " 58%|████████████████████████████████████████████████████████████████████▉                                                  | 4637/8000 [03:11<23:58,  2.34it/s]"
     ]
    },
    {
     "metadata": {},
     "name": "stderr",
     "output_type": "stream",
     "text": [
      "\r",
      " 58%|████████████████████████████████████████████████████████████████████▉                                                  | 4638/8000 [03:12<23:51,  2.35it/s]"
     ]
    },
    {
     "metadata": {},
     "name": "stderr",
     "output_type": "stream",
     "text": [
      "\r",
      " 58%|█████████████████████████████████████████████████████████████████████                                                  | 4639/8000 [03:12<22:40,  2.47it/s]"
     ]
    },
    {
     "metadata": {},
     "name": "stderr",
     "output_type": "stream",
     "text": [
      "\r",
      " 58%|█████████████████████████████████████████████████████████████████████                                                  | 4640/8000 [03:12<21:12,  2.64it/s]"
     ]
    },
    {
     "metadata": {},
     "name": "stderr",
     "output_type": "stream",
     "text": [
      "\r",
      " 58%|█████████████████████████████████████████████████████████████████████                                                  | 4641/8000 [03:13<21:33,  2.60it/s]"
     ]
    },
    {
     "metadata": {},
     "name": "stderr",
     "output_type": "stream",
     "text": [
      "\r",
      " 58%|█████████████████████████████████████████████████████████████████████                                                  | 4642/8000 [03:13<21:15,  2.63it/s]"
     ]
    },
    {
     "metadata": {},
     "name": "stderr",
     "output_type": "stream",
     "text": [
      "\r",
      " 58%|█████████████████████████████████████████████████████████████████████                                                  | 4643/8000 [03:14<20:12,  2.77it/s]"
     ]
    },
    {
     "metadata": {},
     "name": "stderr",
     "output_type": "stream",
     "text": [
      "\r",
      " 58%|█████████████████████████████████████████████████████████████████████                                                  | 4644/8000 [03:14<25:06,  2.23it/s]"
     ]
    },
    {
     "metadata": {},
     "name": "stderr",
     "output_type": "stream",
     "text": [
      "\r",
      " 58%|█████████████████████████████████████████████████████████████████████                                                  | 4645/8000 [03:15<23:37,  2.37it/s]"
     ]
    },
    {
     "metadata": {},
     "name": "stderr",
     "output_type": "stream",
     "text": [
      "\r",
      " 58%|█████████████████████████████████████████████████████████████████████▏                                                 | 4648/8000 [03:15<13:44,  4.07it/s]"
     ]
    },
    {
     "metadata": {},
     "name": "stderr",
     "output_type": "stream",
     "text": [
      "\r",
      " 58%|█████████████████████████████████████████████████████████████████████▏                                                 | 4652/8000 [03:15<07:23,  7.55it/s]"
     ]
    },
    {
     "metadata": {},
     "name": "stderr",
     "output_type": "stream",
     "text": [
      "\r",
      " 58%|█████████████████████████████████████████████████████████████████████▎                                                 | 4656/8000 [03:15<05:08, 10.83it/s]"
     ]
    },
    {
     "metadata": {},
     "name": "stderr",
     "output_type": "stream",
     "text": [
      "\r",
      " 58%|█████████████████████████████████████████████████████████████████████▎                                                 | 4660/8000 [03:15<03:50, 14.48it/s]"
     ]
    },
    {
     "metadata": {},
     "name": "stderr",
     "output_type": "stream",
     "text": [
      "\r",
      " 58%|█████████████████████████████████████████████████████████████████████▍                                                 | 4664/8000 [03:15<03:03, 18.15it/s]"
     ]
    },
    {
     "metadata": {},
     "name": "stderr",
     "output_type": "stream",
     "text": [
      "\r",
      " 58%|█████████████████████████████████████████████████████████████████████▍                                                 | 4668/8000 [03:16<02:35, 21.48it/s]"
     ]
    },
    {
     "metadata": {},
     "name": "stderr",
     "output_type": "stream",
     "text": [
      "\r",
      " 58%|█████████████████████████████████████████████████████████████████████▍                                                 | 4671/8000 [03:16<02:43, 20.38it/s]"
     ]
    },
    {
     "metadata": {},
     "name": "stderr",
     "output_type": "stream",
     "text": [
      "\r",
      " 58%|█████████████████████████████████████████████████████████████████████▌                                                 | 4674/8000 [03:16<03:03, 18.13it/s]"
     ]
    },
    {
     "metadata": {},
     "name": "stderr",
     "output_type": "stream",
     "text": [
      "\r",
      " 58%|█████████████████████████████████████████████████████████████████████▌                                                 | 4677/8000 [03:16<03:17, 16.80it/s]"
     ]
    },
    {
     "metadata": {},
     "name": "stderr",
     "output_type": "stream",
     "text": [
      "\r",
      " 58%|█████████████████████████████████████████████████████████████████████▌                                                 | 4679/8000 [03:16<03:34, 15.46it/s]"
     ]
    },
    {
     "metadata": {},
     "name": "stderr",
     "output_type": "stream",
     "text": [
      "\r",
      " 59%|█████████████████████████████████████████████████████████████████████▋                                                 | 4681/8000 [03:16<03:41, 15.01it/s]"
     ]
    },
    {
     "metadata": {},
     "name": "stderr",
     "output_type": "stream",
     "text": [
      "\r",
      " 59%|█████████████████████████████████████████████████████████████████████▋                                                 | 4683/8000 [03:17<03:46, 14.65it/s]"
     ]
    },
    {
     "metadata": {},
     "name": "stderr",
     "output_type": "stream",
     "text": [
      "\r",
      " 59%|█████████████████████████████████████████████████████████████████████▋                                                 | 4685/8000 [03:17<03:51, 14.30it/s]"
     ]
    },
    {
     "metadata": {},
     "name": "stderr",
     "output_type": "stream",
     "text": [
      "\r",
      " 59%|█████████████████████████████████████████████████████████████████████▋                                                 | 4687/8000 [03:17<03:54, 14.16it/s]"
     ]
    },
    {
     "metadata": {},
     "name": "stderr",
     "output_type": "stream",
     "text": [
      "\r",
      " 59%|█████████████████████████████████████████████████████████████████████▋                                                 | 4689/8000 [03:17<03:50, 14.35it/s]"
     ]
    },
    {
     "metadata": {},
     "name": "stderr",
     "output_type": "stream",
     "text": [
      "\r",
      " 59%|█████████████████████████████████████████████████████████████████████▊                                                 | 4691/8000 [03:17<03:55, 14.03it/s]"
     ]
    },
    {
     "metadata": {},
     "name": "stderr",
     "output_type": "stream",
     "text": [
      "\r",
      " 59%|█████████████████████████████████████████████████████████████████████▊                                                 | 4693/8000 [03:17<03:56, 13.99it/s]"
     ]
    },
    {
     "metadata": {},
     "name": "stderr",
     "output_type": "stream",
     "text": [
      "\r",
      " 59%|█████████████████████████████████████████████████████████████████████▊                                                 | 4695/8000 [03:18<07:41,  7.15it/s]"
     ]
    },
    {
     "metadata": {},
     "name": "stderr",
     "output_type": "stream",
     "text": [
      "\r",
      " 59%|█████████████████████████████████████████████████████████████████████▊                                                 | 4697/8000 [03:18<08:12,  6.71it/s]"
     ]
    },
    {
     "metadata": {},
     "name": "stderr",
     "output_type": "stream",
     "text": [
      "\r",
      " 59%|█████████████████████████████████████████████████████████████████████▉                                                 | 4701/8000 [03:18<05:11, 10.59it/s]"
     ]
    },
    {
     "metadata": {},
     "name": "stderr",
     "output_type": "stream",
     "text": [
      "\r",
      " 59%|██████████████████████████████████████████████████████████████████████                                                 | 4708/8000 [03:19<02:59, 18.39it/s]"
     ]
    },
    {
     "metadata": {},
     "name": "stderr",
     "output_type": "stream",
     "text": [
      "\r",
      " 59%|██████████████████████████████████████████████████████████████████████                                                 | 4714/8000 [03:19<02:11, 24.98it/s]"
     ]
    },
    {
     "metadata": {},
     "name": "stderr",
     "output_type": "stream",
     "text": [
      "\r",
      " 59%|██████████████████████████████████████████████████████████████████████▏                                                | 4722/8000 [03:19<01:35, 34.21it/s]"
     ]
    },
    {
     "metadata": {},
     "name": "stderr",
     "output_type": "stream",
     "text": [
      "\r",
      " 59%|██████████████████████████████████████████████████████████████████████▎                                                | 4729/8000 [03:19<01:18, 41.41it/s]"
     ]
    },
    {
     "metadata": {},
     "name": "stderr",
     "output_type": "stream",
     "text": [
      "\r",
      " 59%|██████████████████████████████████████████████████████████████████████▍                                                | 4735/8000 [03:20<04:42, 11.56it/s]"
     ]
    },
    {
     "metadata": {},
     "name": "stderr",
     "output_type": "stream",
     "text": [
      "\r",
      " 59%|██████████████████████████████████████████████████████████████████████▍                                                | 4739/8000 [03:21<05:30,  9.87it/s]"
     ]
    },
    {
     "metadata": {},
     "name": "stderr",
     "output_type": "stream",
     "text": [
      "\r",
      " 59%|██████████████████████████████████████████████████████████████████████▋                                                | 4750/8000 [03:21<03:10, 17.08it/s]"
     ]
    },
    {
     "metadata": {},
     "name": "stderr",
     "output_type": "stream",
     "text": [
      "\r",
      " 59%|██████████████████████████████████████████████████████████████████████▊                                                | 4757/8000 [03:21<02:27, 22.00it/s]"
     ]
    },
    {
     "metadata": {},
     "name": "stderr",
     "output_type": "stream",
     "text": [
      "\r",
      " 60%|██████████████████████████████████████████████████████████████████████▉                                                | 4767/8000 [03:21<01:44, 30.85it/s]"
     ]
    },
    {
     "metadata": {},
     "name": "stderr",
     "output_type": "stream",
     "text": [
      "\r",
      " 60%|███████████████████████████████████████████████████████████████████████                                                | 4776/8000 [03:21<01:22, 38.87it/s]"
     ]
    },
    {
     "metadata": {},
     "name": "stderr",
     "output_type": "stream",
     "text": [
      "\r",
      " 60%|███████████████████████████████████████████████████████████████████████▏                                               | 4784/8000 [03:22<02:54, 18.43it/s]"
     ]
    },
    {
     "metadata": {},
     "name": "stderr",
     "output_type": "stream",
     "text": [
      "\r",
      " 60%|███████████████████████████████████████████████████████████████████████▎                                               | 4790/8000 [03:24<04:53, 10.94it/s]"
     ]
    },
    {
     "metadata": {},
     "name": "stderr",
     "output_type": "stream",
     "text": [
      "\r",
      " 60%|███████████████████████████████████████████████████████████████████████▎                                               | 4794/8000 [03:24<05:41,  9.38it/s]"
     ]
    },
    {
     "metadata": {},
     "name": "stderr",
     "output_type": "stream",
     "text": [
      "\r",
      " 60%|███████████████████████████████████████████████████████████████████████▎                                               | 4797/8000 [03:25<05:58,  8.92it/s]"
     ]
    },
    {
     "metadata": {},
     "name": "stderr",
     "output_type": "stream",
     "text": [
      "\r",
      " 60%|███████████████████████████████████████████████████████████████████████▍                                               | 4800/8000 [03:25<06:13,  8.57it/s]"
     ]
    },
    {
     "metadata": {},
     "name": "stderr",
     "output_type": "stream",
     "text": [
      "\r",
      " 60%|███████████████████████████████████████████████████████████████████████▍                                               | 4802/8000 [03:26<07:51,  6.78it/s]"
     ]
    },
    {
     "metadata": {},
     "name": "stderr",
     "output_type": "stream",
     "text": [
      "\r",
      " 60%|███████████████████████████████████████████████████████████████████████▍                                               | 4804/8000 [03:26<07:01,  7.59it/s]"
     ]
    },
    {
     "metadata": {},
     "name": "stderr",
     "output_type": "stream",
     "text": [
      "\r",
      " 60%|███████████████████████████████████████████████████████████████████████▍                                               | 4806/8000 [03:26<08:54,  5.97it/s]"
     ]
    },
    {
     "metadata": {},
     "name": "stderr",
     "output_type": "stream",
     "text": [
      "\r",
      " 60%|███████████████████████████████████████████████████████████████████████▌                                               | 4808/8000 [03:27<07:59,  6.65it/s]"
     ]
    },
    {
     "metadata": {},
     "name": "stderr",
     "output_type": "stream",
     "text": [
      "\r",
      " 60%|███████████████████████████████████████████████████████████████████████▌                                               | 4810/8000 [03:27<09:43,  5.46it/s]"
     ]
    },
    {
     "metadata": {},
     "name": "stderr",
     "output_type": "stream",
     "text": [
      "\r",
      " 60%|███████████████████████████████████████████████████████████████████████▌                                               | 4812/8000 [03:27<08:04,  6.57it/s]"
     ]
    },
    {
     "metadata": {},
     "name": "stderr",
     "output_type": "stream",
     "text": [
      "\r",
      " 60%|███████████████████████████████████████████████████████████████████████▌                                               | 4814/8000 [03:28<11:13,  4.73it/s]"
     ]
    },
    {
     "metadata": {},
     "name": "stderr",
     "output_type": "stream",
     "text": [
      "\r",
      " 60%|███████████████████████████████████████████████████████████████████████▋                                               | 4816/8000 [03:28<09:07,  5.81it/s]"
     ]
    },
    {
     "metadata": {},
     "name": "stderr",
     "output_type": "stream",
     "text": [
      "\r",
      " 60%|███████████████████████████████████████████████████████████████████████▋                                               | 4818/8000 [03:29<11:17,  4.70it/s]"
     ]
    },
    {
     "metadata": {},
     "name": "stderr",
     "output_type": "stream",
     "text": [
      "\r",
      " 60%|███████████████████████████████████████████████████████████████████████▋                                               | 4820/8000 [03:29<08:51,  5.98it/s]"
     ]
    },
    {
     "metadata": {},
     "name": "stderr",
     "output_type": "stream",
     "text": [
      "\r",
      " 60%|███████████████████████████████████████████████████████████████████████▋                                               | 4822/8000 [03:29<10:37,  4.99it/s]"
     ]
    },
    {
     "metadata": {},
     "name": "stderr",
     "output_type": "stream",
     "text": [
      "\r",
      " 60%|███████████████████████████████████████████████████████████████████████▊                                               | 4824/8000 [03:30<08:29,  6.23it/s]"
     ]
    },
    {
     "metadata": {},
     "name": "stderr",
     "output_type": "stream",
     "text": [
      "\r",
      " 60%|███████████████████████████████████████████████████████████████████████▊                                               | 4826/8000 [03:30<10:28,  5.05it/s]"
     ]
    },
    {
     "metadata": {},
     "name": "stderr",
     "output_type": "stream",
     "text": [
      "\r",
      " 60%|███████████████████████████████████████████████████████████████████████▊                                               | 4828/8000 [03:30<08:16,  6.38it/s]"
     ]
    },
    {
     "metadata": {},
     "name": "stderr",
     "output_type": "stream",
     "text": [
      "\r",
      " 60%|███████████████████████████████████████████████████████████████████████▊                                               | 4830/8000 [03:31<11:30,  4.59it/s]"
     ]
    },
    {
     "metadata": {},
     "name": "stderr",
     "output_type": "stream",
     "text": [
      "\r",
      " 60%|███████████████████████████████████████████████████████████████████████▉                                               | 4832/8000 [03:31<09:12,  5.74it/s]"
     ]
    },
    {
     "metadata": {},
     "name": "stderr",
     "output_type": "stream",
     "text": [
      "\r",
      " 60%|███████████████████████████████████████████████████████████████████████▉                                               | 4834/8000 [03:32<12:02,  4.38it/s]"
     ]
    },
    {
     "metadata": {},
     "name": "stderr",
     "output_type": "stream",
     "text": [
      "\r",
      " 60%|███████████████████████████████████████████████████████████████████████▉                                               | 4836/8000 [03:32<09:29,  5.56it/s]"
     ]
    },
    {
     "metadata": {},
     "name": "stderr",
     "output_type": "stream",
     "text": [
      "\r",
      " 60%|███████████████████████████████████████████████████████████████████████▉                                               | 4838/8000 [03:33<11:58,  4.40it/s]"
     ]
    },
    {
     "metadata": {},
     "name": "stderr",
     "output_type": "stream",
     "text": [
      "\r",
      " 60%|███████████████████████████████████████████████████████████████████████▉                                               | 4840/8000 [03:33<09:21,  5.62it/s]"
     ]
    },
    {
     "metadata": {},
     "name": "stderr",
     "output_type": "stream",
     "text": [
      "\r",
      " 61%|████████████████████████████████████████████████████████████████████████                                               | 4842/8000 [03:33<11:07,  4.73it/s]"
     ]
    },
    {
     "metadata": {},
     "name": "stderr",
     "output_type": "stream",
     "text": [
      "\r",
      " 61%|████████████████████████████████████████████████████████████████████████                                               | 4844/8000 [03:33<08:41,  6.05it/s]"
     ]
    },
    {
     "metadata": {},
     "name": "stderr",
     "output_type": "stream",
     "text": [
      "\r",
      " 61%|████████████████████████████████████████████████████████████████████████                                               | 4846/8000 [03:34<10:30,  5.01it/s]"
     ]
    },
    {
     "metadata": {},
     "name": "stderr",
     "output_type": "stream",
     "text": [
      "\r",
      " 61%|████████████████████████████████████████████████████████████████████████                                               | 4848/8000 [03:34<08:20,  6.29it/s]"
     ]
    },
    {
     "metadata": {},
     "name": "stderr",
     "output_type": "stream",
     "text": [
      "\r",
      " 61%|████████████████████████████████████████████████████████████████████████▏                                              | 4850/8000 [03:35<10:15,  5.11it/s]"
     ]
    },
    {
     "metadata": {},
     "name": "stderr",
     "output_type": "stream",
     "text": [
      "\r",
      " 61%|████████████████████████████████████████████████████████████████████████▏                                              | 4852/8000 [03:35<08:11,  6.41it/s]"
     ]
    },
    {
     "metadata": {},
     "name": "stderr",
     "output_type": "stream",
     "text": [
      "\r",
      " 61%|████████████████████████████████████████████████████████████████████████▏                                              | 4854/8000 [03:36<10:59,  4.77it/s]"
     ]
    },
    {
     "metadata": {},
     "name": "stderr",
     "output_type": "stream",
     "text": [
      "\r",
      " 61%|████████████████████████████████████████████████████████████████████████▏                                              | 4856/8000 [03:36<08:59,  5.83it/s]"
     ]
    },
    {
     "metadata": {},
     "name": "stderr",
     "output_type": "stream",
     "text": [
      "\r",
      " 61%|████████████████████████████████████████████████████████████████████████▏                                              | 4857/8000 [03:36<10:22,  5.05it/s]"
     ]
    },
    {
     "metadata": {},
     "name": "stderr",
     "output_type": "stream",
     "text": [
      "\r",
      " 61%|████████████████████████████████████████████████████████████████████████▎                                              | 4858/8000 [03:36<11:21,  4.61it/s]"
     ]
    },
    {
     "metadata": {},
     "name": "stderr",
     "output_type": "stream",
     "text": [
      "\r",
      " 61%|████████████████████████████████████████████████████████████████████████▎                                              | 4860/8000 [03:36<08:27,  6.19it/s]"
     ]
    },
    {
     "metadata": {},
     "name": "stderr",
     "output_type": "stream",
     "text": [
      "\r",
      " 61%|████████████████████████████████████████████████████████████████████████▎                                              | 4861/8000 [03:37<10:27,  5.00it/s]"
     ]
    },
    {
     "metadata": {},
     "name": "stderr",
     "output_type": "stream",
     "text": [
      "\r",
      " 61%|████████████████████████████████████████████████████████████████████████▎                                              | 4862/8000 [03:37<11:50,  4.42it/s]"
     ]
    },
    {
     "metadata": {},
     "name": "stderr",
     "output_type": "stream",
     "text": [
      "\r",
      " 61%|████████████████████████████████████████████████████████████████████████▎                                              | 4864/8000 [03:37<08:25,  6.20it/s]"
     ]
    },
    {
     "metadata": {},
     "name": "stderr",
     "output_type": "stream",
     "text": [
      "\r",
      " 61%|████████████████████████████████████████████████████████████████████████▍                                              | 4868/8000 [03:38<06:39,  7.83it/s]"
     ]
    },
    {
     "metadata": {},
     "name": "stderr",
     "output_type": "stream",
     "text": [
      "\r",
      " 61%|████████████████████████████████████████████████████████████████████████▍                                              | 4869/8000 [03:38<08:23,  6.22it/s]"
     ]
    },
    {
     "metadata": {},
     "name": "stderr",
     "output_type": "stream",
     "text": [
      "\r",
      " 61%|████████████████████████████████████████████████████████████████████████▌                                              | 4876/8000 [03:38<03:43, 13.95it/s]"
     ]
    },
    {
     "metadata": {},
     "name": "stderr",
     "output_type": "stream",
     "text": [
      "\r",
      " 61%|████████████████████████████████████████████████████████████████████████▌                                              | 4880/8000 [03:38<03:00, 17.25it/s]"
     ]
    },
    {
     "metadata": {},
     "name": "stderr",
     "output_type": "stream",
     "text": [
      "\r",
      " 61%|████████████████████████████████████████████████████████████████████████▋                                              | 4884/8000 [03:38<02:30, 20.77it/s]"
     ]
    },
    {
     "metadata": {},
     "name": "stderr",
     "output_type": "stream",
     "text": [
      "\r",
      " 61%|████████████████████████████████████████████████████████████████████████▋                                              | 4887/8000 [03:39<06:31,  7.95it/s]"
     ]
    },
    {
     "metadata": {},
     "name": "stderr",
     "output_type": "stream",
     "text": [
      "\r",
      " 61%|████████████████████████████████████████████████████████████████████████▋                                              | 4890/8000 [03:40<06:32,  7.92it/s]"
     ]
    },
    {
     "metadata": {},
     "name": "stderr",
     "output_type": "stream",
     "text": [
      "\r",
      " 61%|████████████████████████████████████████████████████████████████████████▊                                              | 4897/8000 [03:40<03:47, 13.62it/s]"
     ]
    },
    {
     "metadata": {},
     "name": "stderr",
     "output_type": "stream",
     "text": [
      "\r",
      " 61%|█████████████████████████████████████████████████████████████████████████                                              | 4908/8000 [03:40<02:05, 24.68it/s]"
     ]
    },
    {
     "metadata": {},
     "name": "stderr",
     "output_type": "stream",
     "text": [
      "\r",
      " 61%|█████████████████████████████████████████████████████████████████████████▏                                             | 4916/8000 [03:40<01:36, 32.05it/s]"
     ]
    },
    {
     "metadata": {},
     "name": "stderr",
     "output_type": "stream",
     "text": [
      "\r",
      " 62%|█████████████████████████████████████████████████████████████████████████▏                                             | 4923/8000 [03:41<02:30, 20.46it/s]"
     ]
    },
    {
     "metadata": {},
     "name": "stderr",
     "output_type": "stream",
     "text": [
      "\r",
      " 62%|█████████████████████████████████████████████████████████████████████████▎                                             | 4928/8000 [03:41<02:34, 19.91it/s]"
     ]
    },
    {
     "metadata": {},
     "name": "stderr",
     "output_type": "stream",
     "text": [
      "\r",
      " 62%|█████████████████████████████████████████████████████████████████████████▍                                             | 4935/8000 [03:41<02:37, 19.50it/s]"
     ]
    },
    {
     "metadata": {},
     "name": "stderr",
     "output_type": "stream",
     "text": [
      "\r",
      " 62%|█████████████████████████████████████████████████████████████████████████▌                                             | 4944/8000 [03:41<01:51, 27.32it/s]"
     ]
    },
    {
     "metadata": {},
     "name": "stderr",
     "output_type": "stream",
     "text": [
      "\r",
      " 62%|█████████████████████████████████████████████████████████████████████████▋                                             | 4956/8000 [03:42<01:15, 40.15it/s]"
     ]
    },
    {
     "metadata": {},
     "name": "stderr",
     "output_type": "stream",
     "text": [
      "\r",
      " 62%|█████████████████████████████████████████████████████████████████████████▊                                             | 4963/8000 [03:42<01:18, 38.60it/s]"
     ]
    },
    {
     "metadata": {},
     "name": "stderr",
     "output_type": "stream",
     "text": [
      "\r",
      " 62%|█████████████████████████████████████████████████████████████████████████▉                                             | 4972/8000 [03:42<01:04, 46.76it/s]"
     ]
    },
    {
     "metadata": {},
     "name": "stderr",
     "output_type": "stream",
     "text": [
      "\r",
      " 62%|██████████████████████████████████████████████████████████████████████████                                             | 4982/8000 [03:42<01:10, 42.66it/s]"
     ]
    },
    {
     "metadata": {},
     "name": "stderr",
     "output_type": "stream",
     "text": [
      "\r",
      " 62%|██████████████████████████████████████████████████████████████████████████▏                                            | 4988/8000 [03:43<02:00, 24.97it/s]"
     ]
    },
    {
     "metadata": {},
     "name": "stderr",
     "output_type": "stream",
     "text": [
      "\r",
      " 62%|██████████████████████████████████████████████████████████████████████████▎                                            | 4995/8000 [03:43<01:39, 30.07it/s]"
     ]
    },
    {
     "metadata": {},
     "name": "stderr",
     "output_type": "stream",
     "text": [
      "\r",
      " 63%|██████████████████████████████████████████████████████████████████████████▍                                            | 5001/8000 [03:43<01:34, 31.73it/s]"
     ]
    },
    {
     "metadata": {},
     "name": "stderr",
     "output_type": "stream",
     "text": [
      "\r",
      " 63%|██████████████████████████████████████████████████████████████████████████▌                                            | 5009/8000 [03:43<01:16, 39.15it/s]"
     ]
    },
    {
     "metadata": {},
     "name": "stderr",
     "output_type": "stream",
     "text": [
      "\r",
      " 63%|██████████████████████████████████████████████████████████████████████████▋                                            | 5022/8000 [03:43<00:53, 55.43it/s]"
     ]
    },
    {
     "metadata": {},
     "name": "stderr",
     "output_type": "stream",
     "text": [
      "\r",
      " 63%|██████████████████████████████████████████████████████████████████████████▉                                            | 5035/8000 [03:43<00:44, 66.79it/s]"
     ]
    },
    {
     "metadata": {},
     "name": "stderr",
     "output_type": "stream",
     "text": [
      "\r",
      " 63%|███████████████████████████████████████████████████████████████████████████                                            | 5044/8000 [03:44<00:59, 50.10it/s]"
     ]
    },
    {
     "metadata": {},
     "name": "stderr",
     "output_type": "stream",
     "text": [
      "\r",
      " 63%|███████████████████████████████████████████████████████████████████████████▏                                           | 5057/8000 [03:44<00:46, 63.92it/s]"
     ]
    },
    {
     "metadata": {},
     "name": "stderr",
     "output_type": "stream",
     "text": [
      "\r",
      " 63%|███████████████████████████████████████████████████████████████████████████▎                                           | 5066/8000 [03:44<01:18, 37.58it/s]"
     ]
    },
    {
     "metadata": {},
     "name": "stderr",
     "output_type": "stream",
     "text": [
      "\r",
      " 63%|███████████████████████████████████████████████████████████████████████████▍                                           | 5073/8000 [03:45<01:31, 31.82it/s]"
     ]
    },
    {
     "metadata": {},
     "name": "stderr",
     "output_type": "stream",
     "text": [
      "\r",
      " 63%|███████████████████████████████████████████████████████████████████████████▌                                           | 5079/8000 [03:45<01:27, 33.56it/s]"
     ]
    },
    {
     "metadata": {},
     "name": "stderr",
     "output_type": "stream",
     "text": [
      "\r",
      " 64%|███████████████████████████████████████████████████████████████████████████▋                                           | 5085/8000 [03:45<01:20, 36.19it/s]"
     ]
    },
    {
     "metadata": {},
     "name": "stderr",
     "output_type": "stream",
     "text": [
      "\r",
      " 64%|███████████████████████████████████████████████████████████████████████████▋                                           | 5090/8000 [03:45<01:29, 32.66it/s]"
     ]
    },
    {
     "metadata": {},
     "name": "stderr",
     "output_type": "stream",
     "text": [
      "\r",
      " 64%|███████████████████████████████████████████████████████████████████████████▉                                           | 5103/8000 [03:45<00:59, 49.08it/s]"
     ]
    },
    {
     "metadata": {},
     "name": "stderr",
     "output_type": "stream",
     "text": [
      "\r",
      " 64%|████████████████████████████████████████████████████████████████████████████                                           | 5110/8000 [03:45<00:54, 52.84it/s]"
     ]
    },
    {
     "metadata": {},
     "name": "stderr",
     "output_type": "stream",
     "text": [
      "\r",
      " 64%|████████████████████████████████████████████████████████████████████████████                                           | 5117/8000 [03:46<01:24, 34.06it/s]"
     ]
    },
    {
     "metadata": {},
     "name": "stderr",
     "output_type": "stream",
     "text": [
      "\r",
      " 64%|████████████████████████████████████████████████████████████████████████████▏                                          | 5123/8000 [03:46<01:47, 26.88it/s]"
     ]
    },
    {
     "metadata": {},
     "name": "stderr",
     "output_type": "stream",
     "text": [
      "\r",
      " 64%|████████████████████████████████████████████████████████████████████████████▎                                          | 5128/8000 [03:46<01:59, 24.13it/s]"
     ]
    },
    {
     "metadata": {},
     "name": "stderr",
     "output_type": "stream",
     "text": [
      "\r",
      " 64%|████████████████████████████████████████████████████████████████████████████▎                                          | 5132/8000 [03:46<01:54, 25.10it/s]"
     ]
    },
    {
     "metadata": {},
     "name": "stderr",
     "output_type": "stream",
     "text": [
      "\r",
      " 64%|████████████████████████████████████████████████████████████████████████████▍                                          | 5136/8000 [03:47<02:43, 17.56it/s]"
     ]
    },
    {
     "metadata": {},
     "name": "stderr",
     "output_type": "stream",
     "text": [
      "\r",
      " 64%|████████████████████████████████████████████████████████████████████████████▍                                          | 5139/8000 [03:47<03:06, 15.33it/s]"
     ]
    },
    {
     "metadata": {},
     "name": "stderr",
     "output_type": "stream",
     "text": [
      "\r",
      " 64%|████████████████████████████████████████████████████████████████████████████▌                                          | 5143/8000 [03:47<02:40, 17.79it/s]"
     ]
    },
    {
     "metadata": {},
     "name": "stderr",
     "output_type": "stream",
     "text": [
      "\r",
      " 64%|████████████████████████████████████████████████████████████████████████████▋                                          | 5156/8000 [03:47<01:23, 34.13it/s]"
     ]
    },
    {
     "metadata": {},
     "name": "stderr",
     "output_type": "stream",
     "text": [
      "\r",
      " 65%|████████████████████████████████████████████████████████████████████████████▊                                          | 5168/8000 [03:48<00:58, 48.80it/s]"
     ]
    },
    {
     "metadata": {},
     "name": "stderr",
     "output_type": "stream",
     "text": [
      "\r",
      " 65%|█████████████████████████████████████████████████████████████████████████████                                          | 5181/8000 [03:48<00:43, 64.34it/s]"
     ]
    },
    {
     "metadata": {},
     "name": "stderr",
     "output_type": "stream",
     "text": [
      "\r",
      " 65%|█████████████████████████████████████████████████████████████████████████████▏                                         | 5193/8000 [03:48<00:36, 76.07it/s]"
     ]
    },
    {
     "metadata": {},
     "name": "stderr",
     "output_type": "stream",
     "text": [
      "\r",
      " 65%|█████████████████████████████████████████████████████████████████████████████▍                                         | 5203/8000 [03:48<00:34, 81.14it/s]"
     ]
    },
    {
     "metadata": {},
     "name": "stderr",
     "output_type": "stream",
     "text": [
      "\r",
      " 65%|█████████████████████████████████████████████████████████████████████████████▌                                         | 5214/8000 [03:48<00:31, 87.75it/s]"
     ]
    },
    {
     "metadata": {},
     "name": "stderr",
     "output_type": "stream",
     "text": [
      "\r",
      " 65%|█████████████████████████████████████████████████████████████████████████████▊                                         | 5227/8000 [03:48<00:28, 97.37it/s]"
     ]
    },
    {
     "metadata": {},
     "name": "stderr",
     "output_type": "stream",
     "text": [
      "\r",
      " 65%|█████████████████████████████████████████████████████████████████████████████▎                                        | 5238/8000 [03:48<00:27, 100.68it/s]"
     ]
    },
    {
     "metadata": {},
     "name": "stderr",
     "output_type": "stream",
     "text": [
      "\r",
      " 66%|█████████████████████████████████████████████████████████████████████████████▍                                        | 5249/8000 [03:48<00:26, 102.00it/s]"
     ]
    },
    {
     "metadata": {},
     "name": "stderr",
     "output_type": "stream",
     "text": [
      "\r",
      " 66%|██████████████████████████████████████████████████████████████████████████████▏                                        | 5260/8000 [03:48<00:38, 72.07it/s]"
     ]
    },
    {
     "metadata": {},
     "name": "stderr",
     "output_type": "stream",
     "text": [
      "\r",
      " 66%|██████████████████████████████████████████████████████████████████████████████▍                                        | 5269/8000 [03:49<01:10, 38.80it/s]"
     ]
    },
    {
     "metadata": {},
     "name": "stderr",
     "output_type": "stream",
     "text": [
      "\r",
      " 66%|██████████████████████████████████████████████████████████████████████████████▍                                        | 5276/8000 [03:49<01:30, 30.17it/s]"
     ]
    },
    {
     "metadata": {},
     "name": "stderr",
     "output_type": "stream",
     "text": [
      "\r",
      " 66%|██████████████████████████████████████████████████████████████████████████████▌                                        | 5282/8000 [03:50<01:43, 26.31it/s]"
     ]
    },
    {
     "metadata": {},
     "name": "stderr",
     "output_type": "stream",
     "text": [
      "\r",
      " 66%|██████████████████████████████████████████████████████████████████████████████▋                                        | 5287/8000 [03:50<01:52, 24.04it/s]"
     ]
    },
    {
     "metadata": {},
     "name": "stderr",
     "output_type": "stream",
     "text": [
      "\r",
      " 66%|██████████████████████████████████████████████████████████████████████████████▋                                        | 5291/8000 [03:50<02:00, 22.43it/s]"
     ]
    },
    {
     "metadata": {},
     "name": "stderr",
     "output_type": "stream",
     "text": [
      "\r",
      " 66%|██████████████████████████████████████████████████████████████████████████████▋                                        | 5294/8000 [03:50<02:07, 21.22it/s]"
     ]
    },
    {
     "metadata": {},
     "name": "stderr",
     "output_type": "stream",
     "text": [
      "\r",
      " 66%|██████████████████████████████████████████████████████████████████████████████▊                                        | 5297/8000 [03:51<02:11, 20.58it/s]"
     ]
    },
    {
     "metadata": {},
     "name": "stderr",
     "output_type": "stream",
     "text": [
      "\r",
      " 66%|██████████████████████████████████████████████████████████████████████████████▊                                        | 5300/8000 [03:51<02:18, 19.55it/s]"
     ]
    },
    {
     "metadata": {},
     "name": "stderr",
     "output_type": "stream",
     "text": [
      "\r",
      " 66%|██████████████████████████████████████████████████████████████████████████████▉                                        | 5303/8000 [03:51<02:28, 18.12it/s]"
     ]
    },
    {
     "metadata": {},
     "name": "stderr",
     "output_type": "stream",
     "text": [
      "\r",
      " 66%|██████████████████████████████████████████████████████████████████████████████▉                                        | 5305/8000 [03:51<02:33, 17.61it/s]"
     ]
    },
    {
     "metadata": {},
     "name": "stderr",
     "output_type": "stream",
     "text": [
      "\r",
      " 66%|██████████████████████████████████████████████████████████████████████████████▉                                        | 5307/8000 [03:51<02:37, 17.15it/s]"
     ]
    },
    {
     "metadata": {},
     "name": "stderr",
     "output_type": "stream",
     "text": [
      "\r",
      " 66%|██████████████████████████████████████████████████████████████████████████████▉                                        | 5309/8000 [03:51<02:37, 17.09it/s]"
     ]
    },
    {
     "metadata": {},
     "name": "stderr",
     "output_type": "stream",
     "text": [
      "\r",
      " 66%|███████████████████████████████████████████████████████████████████████████████                                        | 5311/8000 [03:52<02:39, 16.83it/s]"
     ]
    },
    {
     "metadata": {},
     "name": "stderr",
     "output_type": "stream",
     "text": [
      "\r",
      " 66%|███████████████████████████████████████████████████████████████████████████████                                        | 5313/8000 [03:52<02:39, 16.80it/s]"
     ]
    },
    {
     "metadata": {},
     "name": "stderr",
     "output_type": "stream",
     "text": [
      "\r",
      " 66%|███████████████████████████████████████████████████████████████████████████████                                        | 5315/8000 [03:52<02:42, 16.52it/s]"
     ]
    },
    {
     "metadata": {},
     "name": "stderr",
     "output_type": "stream",
     "text": [
      "\r",
      " 66%|███████████████████████████████████████████████████████████████████████████████                                        | 5317/8000 [03:52<02:39, 16.83it/s]"
     ]
    },
    {
     "metadata": {},
     "name": "stderr",
     "output_type": "stream",
     "text": [
      "\r",
      " 66%|███████████████████████████████████████████████████████████████████████████████                                        | 5319/8000 [03:52<02:36, 17.15it/s]"
     ]
    },
    {
     "metadata": {},
     "name": "stderr",
     "output_type": "stream",
     "text": [
      "\r",
      " 67%|███████████████████████████████████████████████████████████████████████████████▏                                       | 5321/8000 [03:52<02:34, 17.36it/s]"
     ]
    },
    {
     "metadata": {},
     "name": "stderr",
     "output_type": "stream",
     "text": [
      "\r",
      " 67%|███████████████████████████████████████████████████████████████████████████████▏                                       | 5323/8000 [03:52<02:32, 17.57it/s]"
     ]
    },
    {
     "metadata": {},
     "name": "stderr",
     "output_type": "stream",
     "text": [
      "\r",
      " 67%|███████████████████████████████████████████████████████████████████████████████▏                                       | 5325/8000 [03:52<02:30, 17.79it/s]"
     ]
    },
    {
     "metadata": {},
     "name": "stderr",
     "output_type": "stream",
     "text": [
      "\r",
      " 67%|███████████████████████████████████████████████████████████████████████████████▏                                       | 5327/8000 [03:52<02:29, 17.91it/s]"
     ]
    },
    {
     "metadata": {},
     "name": "stderr",
     "output_type": "stream",
     "text": [
      "\r",
      " 67%|███████████████████████████████████████████████████████████████████████████████▎                                       | 5329/8000 [03:53<02:35, 17.13it/s]"
     ]
    },
    {
     "metadata": {},
     "name": "stderr",
     "output_type": "stream",
     "text": [
      "\r",
      " 67%|███████████████████████████████████████████████████████████████████████████████▎                                       | 5331/8000 [03:53<02:39, 16.69it/s]"
     ]
    },
    {
     "metadata": {},
     "name": "stderr",
     "output_type": "stream",
     "text": [
      "\r",
      " 67%|███████████████████████████████████████████████████████████████████████████████▎                                       | 5333/8000 [03:53<02:44, 16.18it/s]"
     ]
    },
    {
     "metadata": {},
     "name": "stderr",
     "output_type": "stream",
     "text": [
      "\r",
      " 67%|███████████████████████████████████████████████████████████████████████████████▎                                       | 5335/8000 [03:53<02:46, 15.97it/s]"
     ]
    },
    {
     "metadata": {},
     "name": "stderr",
     "output_type": "stream",
     "text": [
      "\r",
      " 67%|███████████████████████████████████████████████████████████████████████████████▍                                       | 5337/8000 [03:53<02:48, 15.81it/s]"
     ]
    },
    {
     "metadata": {},
     "name": "stderr",
     "output_type": "stream",
     "text": [
      "\r",
      " 67%|███████████████████████████████████████████████████████████████████████████████▍                                       | 5339/8000 [03:53<02:47, 15.88it/s]"
     ]
    },
    {
     "metadata": {},
     "name": "stderr",
     "output_type": "stream",
     "text": [
      "\r",
      " 67%|███████████████████████████████████████████████████████████████████████████████▍                                       | 5341/8000 [03:53<02:42, 16.34it/s]"
     ]
    },
    {
     "metadata": {},
     "name": "stderr",
     "output_type": "stream",
     "text": [
      "\r",
      " 67%|███████████████████████████████████████████████████████████████████████████████▍                                       | 5343/8000 [03:53<02:38, 16.74it/s]"
     ]
    },
    {
     "metadata": {},
     "name": "stderr",
     "output_type": "stream",
     "text": [
      "\r",
      " 67%|███████████████████████████████████████████████████████████████████████████████▌                                       | 5345/8000 [03:54<02:41, 16.48it/s]"
     ]
    },
    {
     "metadata": {},
     "name": "stderr",
     "output_type": "stream",
     "text": [
      "\r",
      " 67%|███████████████████████████████████████████████████████████████████████████████▌                                       | 5347/8000 [03:54<02:38, 16.79it/s]"
     ]
    },
    {
     "metadata": {},
     "name": "stderr",
     "output_type": "stream",
     "text": [
      "\r",
      " 67%|███████████████████████████████████████████████████████████████████████████████▌                                       | 5349/8000 [03:54<02:38, 16.71it/s]"
     ]
    },
    {
     "metadata": {},
     "name": "stderr",
     "output_type": "stream",
     "text": [
      "\r",
      " 67%|███████████████████████████████████████████████████████████████████████████████▌                                       | 5351/8000 [03:54<02:37, 16.84it/s]"
     ]
    },
    {
     "metadata": {},
     "name": "stderr",
     "output_type": "stream",
     "text": [
      "\r",
      " 67%|███████████████████████████████████████████████████████████████████████████████▋                                       | 5353/8000 [03:54<02:33, 17.21it/s]"
     ]
    },
    {
     "metadata": {},
     "name": "stderr",
     "output_type": "stream",
     "text": [
      "\r",
      " 67%|███████████████████████████████████████████████████████████████████████████████▋                                       | 5355/8000 [03:54<02:32, 17.39it/s]"
     ]
    },
    {
     "metadata": {},
     "name": "stderr",
     "output_type": "stream",
     "text": [
      "\r",
      " 67%|███████████████████████████████████████████████████████████████████████████████▋                                       | 5357/8000 [03:54<02:31, 17.49it/s]"
     ]
    },
    {
     "metadata": {},
     "name": "stderr",
     "output_type": "stream",
     "text": [
      "\r",
      " 67%|███████████████████████████████████████████████████████████████████████████████▋                                       | 5359/8000 [03:54<02:30, 17.53it/s]"
     ]
    },
    {
     "metadata": {},
     "name": "stderr",
     "output_type": "stream",
     "text": [
      "\r",
      " 67%|███████████████████████████████████████████████████████████████████████████████▋                                       | 5361/8000 [03:54<02:28, 17.79it/s]"
     ]
    },
    {
     "metadata": {},
     "name": "stderr",
     "output_type": "stream",
     "text": [
      "\r",
      " 67%|███████████████████████████████████████████████████████████████████████████████▊                                       | 5363/8000 [03:55<02:32, 17.28it/s]"
     ]
    },
    {
     "metadata": {},
     "name": "stderr",
     "output_type": "stream",
     "text": [
      "\r",
      " 67%|███████████████████████████████████████████████████████████████████████████████▊                                       | 5365/8000 [03:55<02:30, 17.54it/s]"
     ]
    },
    {
     "metadata": {},
     "name": "stderr",
     "output_type": "stream",
     "text": [
      "\r",
      " 67%|███████████████████████████████████████████████████████████████████████████████▊                                       | 5367/8000 [03:55<02:27, 17.81it/s]"
     ]
    },
    {
     "metadata": {},
     "name": "stderr",
     "output_type": "stream",
     "text": [
      "\r",
      " 67%|███████████████████████████████████████████████████████████████████████████████▊                                       | 5369/8000 [03:55<02:30, 17.46it/s]"
     ]
    },
    {
     "metadata": {},
     "name": "stderr",
     "output_type": "stream",
     "text": [
      "\r",
      " 67%|███████████████████████████████████████████████████████████████████████████████▉                                       | 5371/8000 [03:55<02:29, 17.62it/s]"
     ]
    },
    {
     "metadata": {},
     "name": "stderr",
     "output_type": "stream",
     "text": [
      "\r",
      " 67%|███████████████████████████████████████████████████████████████████████████████▉                                       | 5375/8000 [03:55<01:58, 22.21it/s]"
     ]
    },
    {
     "metadata": {},
     "name": "stderr",
     "output_type": "stream",
     "text": [
      "\r",
      " 67%|████████████████████████████████████████████████████████████████████████████████                                       | 5381/8000 [03:55<01:22, 31.88it/s]"
     ]
    },
    {
     "metadata": {},
     "name": "stderr",
     "output_type": "stream",
     "text": [
      "\r",
      " 67%|████████████████████████████████████████████████████████████████████████████████▎                                      | 5395/8000 [03:55<00:43, 60.44it/s]"
     ]
    },
    {
     "metadata": {},
     "name": "stderr",
     "output_type": "stream",
     "text": [
      "\r",
      " 68%|████████████████████████████████████████████████████████████████████████████████▍                                      | 5406/8000 [03:55<00:37, 69.87it/s]"
     ]
    },
    {
     "metadata": {},
     "name": "stderr",
     "output_type": "stream",
     "text": [
      "\r",
      " 68%|████████████████████████████████████████████████████████████████████████████████▌                                      | 5414/8000 [03:56<00:41, 61.79it/s]"
     ]
    },
    {
     "metadata": {},
     "name": "stderr",
     "output_type": "stream",
     "text": [
      "\r",
      " 68%|████████████████████████████████████████████████████████████████████████████████▋                                      | 5421/8000 [03:56<00:40, 62.95it/s]"
     ]
    },
    {
     "metadata": {},
     "name": "stderr",
     "output_type": "stream",
     "text": [
      "\r",
      " 68%|████████████████████████████████████████████████████████████████████████████████▊                                      | 5430/8000 [03:56<00:36, 69.49it/s]"
     ]
    },
    {
     "metadata": {},
     "name": "stderr",
     "output_type": "stream",
     "text": [
      "\r",
      " 68%|████████████████████████████████████████████████████████████████████████████████▉                                      | 5443/8000 [03:56<00:30, 84.26it/s]"
     ]
    },
    {
     "metadata": {},
     "name": "stderr",
     "output_type": "stream",
     "text": [
      "\r",
      " 68%|█████████████████████████████████████████████████████████████████████████████████                                      | 5452/8000 [03:57<01:13, 34.79it/s]"
     ]
    },
    {
     "metadata": {},
     "name": "stderr",
     "output_type": "stream",
     "text": [
      "\r",
      " 68%|█████████████████████████████████████████████████████████████████████████████████▎                                     | 5466/8000 [03:57<00:51, 48.80it/s]"
     ]
    },
    {
     "metadata": {},
     "name": "stderr",
     "output_type": "stream",
     "text": [
      "\r",
      " 68%|█████████████████████████████████████████████████████████████████████████████████▌                                     | 5479/8000 [03:57<00:40, 61.89it/s]"
     ]
    },
    {
     "metadata": {},
     "name": "stderr",
     "output_type": "stream",
     "text": [
      "\r",
      " 69%|█████████████████████████████████████████████████████████████████████████████████▋                                     | 5492/8000 [03:57<00:33, 73.85it/s]"
     ]
    },
    {
     "metadata": {},
     "name": "stderr",
     "output_type": "stream",
     "text": [
      "\r",
      " 69%|█████████████████████████████████████████████████████████████████████████████████▉                                     | 5505/8000 [03:57<00:29, 84.84it/s]"
     ]
    },
    {
     "metadata": {},
     "name": "stderr",
     "output_type": "stream",
     "text": [
      "\r",
      " 69%|██████████████████████████████████████████████████████████████████████████████████                                     | 5519/8000 [03:57<00:25, 95.60it/s]"
     ]
    },
    {
     "metadata": {},
     "name": "stderr",
     "output_type": "stream",
     "text": [
      "\r",
      " 69%|██████████████████████████████████████████████████████████████████████████████████▎                                    | 5531/8000 [03:57<00:31, 77.33it/s]"
     ]
    },
    {
     "metadata": {},
     "name": "stderr",
     "output_type": "stream",
     "text": [
      "\r",
      " 69%|██████████████████████████████████████████████████████████████████████████████████▍                                    | 5541/8000 [03:58<00:58, 42.10it/s]"
     ]
    },
    {
     "metadata": {},
     "name": "stderr",
     "output_type": "stream",
     "text": [
      "\r",
      " 69%|██████████████████████████████████████████████████████████████████████████████████▌                                    | 5549/8000 [03:58<01:15, 32.53it/s]"
     ]
    },
    {
     "metadata": {},
     "name": "stderr",
     "output_type": "stream",
     "text": [
      "\r",
      " 69%|██████████████████████████████████████████████████████████████████████████████████▋                                    | 5555/8000 [03:59<01:27, 27.92it/s]"
     ]
    },
    {
     "metadata": {},
     "name": "stderr",
     "output_type": "stream",
     "text": [
      "\r",
      " 70%|██████████████████████████████████████████████████████████████████████████████████▋                                    | 5560/8000 [03:59<01:35, 25.45it/s]"
     ]
    },
    {
     "metadata": {},
     "name": "stderr",
     "output_type": "stream",
     "text": [
      "\r",
      " 70%|██████████████████████████████████████████████████████████████████████████████████▊                                    | 5564/8000 [03:59<01:44, 23.26it/s]"
     ]
    },
    {
     "metadata": {},
     "name": "stderr",
     "output_type": "stream",
     "text": [
      "\r",
      " 70%|██████████████████████████████████████████████████████████████████████████████████▊                                    | 5568/8000 [03:59<01:52, 21.69it/s]"
     ]
    },
    {
     "metadata": {},
     "name": "stderr",
     "output_type": "stream",
     "text": [
      "\r",
      " 70%|██████████████████████████████████████████████████████████████████████████████████▊                                    | 5571/8000 [04:00<02:01, 20.00it/s]"
     ]
    },
    {
     "metadata": {},
     "name": "stderr",
     "output_type": "stream",
     "text": [
      "\r",
      " 70%|██████████████████████████████████████████████████████████████████████████████████▉                                    | 5574/8000 [04:00<02:10, 18.65it/s]"
     ]
    },
    {
     "metadata": {},
     "name": "stderr",
     "output_type": "stream",
     "text": [
      "\r",
      " 70%|██████████████████████████████████████████████████████████████████████████████████▉                                    | 5577/8000 [04:00<02:18, 17.51it/s]"
     ]
    },
    {
     "metadata": {},
     "name": "stderr",
     "output_type": "stream",
     "text": [
      "\r",
      " 70%|██████████████████████████████████████████████████████████████████████████████████▉                                    | 5579/8000 [04:00<02:23, 16.90it/s]"
     ]
    },
    {
     "metadata": {},
     "name": "stderr",
     "output_type": "stream",
     "text": [
      "\r",
      " 70%|███████████████████████████████████████████████████████████████████████████████████                                    | 5581/8000 [04:00<02:27, 16.41it/s]"
     ]
    },
    {
     "metadata": {},
     "name": "stderr",
     "output_type": "stream",
     "text": [
      "\r",
      " 70%|███████████████████████████████████████████████████████████████████████████████████                                    | 5583/8000 [04:00<02:30, 16.03it/s]"
     ]
    },
    {
     "metadata": {},
     "name": "stderr",
     "output_type": "stream",
     "text": [
      "\r",
      " 70%|███████████████████████████████████████████████████████████████████████████████████                                    | 5585/8000 [04:01<02:40, 15.08it/s]"
     ]
    },
    {
     "metadata": {},
     "name": "stderr",
     "output_type": "stream",
     "text": [
      "\r",
      " 70%|███████████████████████████████████████████████████████████████████████████████████                                    | 5587/8000 [04:01<02:43, 14.79it/s]"
     ]
    },
    {
     "metadata": {},
     "name": "stderr",
     "output_type": "stream",
     "text": [
      "\r",
      " 70%|███████████████████████████████████████████████████████████████████████████████████▏                                   | 5589/8000 [04:01<02:53, 13.93it/s]"
     ]
    },
    {
     "metadata": {},
     "name": "stderr",
     "output_type": "stream",
     "text": [
      "\r",
      " 70%|███████████████████████████████████████████████████████████████████████████████████▏                                   | 5591/8000 [04:01<02:57, 13.60it/s]"
     ]
    },
    {
     "metadata": {},
     "name": "stderr",
     "output_type": "stream",
     "text": [
      "\r",
      " 70%|███████████████████████████████████████████████████████████████████████████████████▏                                   | 5593/8000 [04:01<02:57, 13.59it/s]"
     ]
    },
    {
     "metadata": {},
     "name": "stderr",
     "output_type": "stream",
     "text": [
      "\r",
      " 70%|███████████████████████████████████████████████████████████████████████████████████▏                                   | 5595/8000 [04:01<02:54, 13.80it/s]"
     ]
    },
    {
     "metadata": {},
     "name": "stderr",
     "output_type": "stream",
     "text": [
      "\r",
      " 70%|███████████████████████████████████████████████████████████████████████████████████▎                                   | 5597/8000 [04:01<02:46, 14.43it/s]"
     ]
    },
    {
     "metadata": {},
     "name": "stderr",
     "output_type": "stream",
     "text": [
      "\r",
      " 70%|███████████████████████████████████████████████████████████████████████████████████▎                                   | 5599/8000 [04:02<02:52, 13.92it/s]"
     ]
    },
    {
     "metadata": {},
     "name": "stderr",
     "output_type": "stream",
     "text": [
      "\r",
      " 70%|███████████████████████████████████████████████████████████████████████████████████▎                                   | 5601/8000 [04:02<02:48, 14.25it/s]"
     ]
    },
    {
     "metadata": {},
     "name": "stderr",
     "output_type": "stream",
     "text": [
      "\r",
      " 70%|███████████████████████████████████████████████████████████████████████████████████▎                                   | 5603/8000 [04:02<02:44, 14.57it/s]"
     ]
    },
    {
     "metadata": {},
     "name": "stderr",
     "output_type": "stream",
     "text": [
      "\r",
      " 70%|███████████████████████████████████████████████████████████████████████████████████▎                                   | 5605/8000 [04:02<02:41, 14.87it/s]"
     ]
    },
    {
     "metadata": {},
     "name": "stderr",
     "output_type": "stream",
     "text": [
      "\r",
      " 70%|███████████████████████████████████████████████████████████████████████████████████▍                                   | 5607/8000 [04:02<02:36, 15.25it/s]"
     ]
    },
    {
     "metadata": {},
     "name": "stderr",
     "output_type": "stream",
     "text": [
      "\r",
      " 70%|███████████████████████████████████████████████████████████████████████████████████▍                                   | 5609/8000 [04:02<02:33, 15.60it/s]"
     ]
    },
    {
     "metadata": {},
     "name": "stderr",
     "output_type": "stream",
     "text": [
      "\r",
      " 70%|███████████████████████████████████████████████████████████████████████████████████▍                                   | 5611/8000 [04:02<02:31, 15.76it/s]"
     ]
    },
    {
     "metadata": {},
     "name": "stderr",
     "output_type": "stream",
     "text": [
      "\r",
      " 70%|███████████████████████████████████████████████████████████████████████████████████▍                                   | 5613/8000 [04:03<02:27, 16.13it/s]"
     ]
    },
    {
     "metadata": {},
     "name": "stderr",
     "output_type": "stream",
     "text": [
      "\r",
      " 70%|███████████████████████████████████████████████████████████████████████████████████▌                                   | 5615/8000 [04:03<02:50, 14.02it/s]"
     ]
    },
    {
     "metadata": {},
     "name": "stderr",
     "output_type": "stream",
     "text": [
      "\r",
      " 70%|███████████████████████████████████████████████████████████████████████████████████▌                                   | 5617/8000 [04:03<02:57, 13.43it/s]"
     ]
    },
    {
     "metadata": {},
     "name": "stderr",
     "output_type": "stream",
     "text": [
      "\r",
      " 70%|███████████████████████████████████████████████████████████████████████████████████▌                                   | 5619/8000 [04:03<02:51, 13.88it/s]"
     ]
    },
    {
     "metadata": {},
     "name": "stderr",
     "output_type": "stream",
     "text": [
      "\r",
      " 70%|███████████████████████████████████████████████████████████████████████████████████▌                                   | 5621/8000 [04:03<02:43, 14.56it/s]"
     ]
    },
    {
     "metadata": {},
     "name": "stderr",
     "output_type": "stream",
     "text": [
      "\r",
      " 70%|███████████████████████████████████████████████████████████████████████████████████▋                                   | 5623/8000 [04:03<02:36, 15.18it/s]"
     ]
    },
    {
     "metadata": {},
     "name": "stderr",
     "output_type": "stream",
     "text": [
      "\r",
      " 70%|███████████████████████████████████████████████████████████████████████████████████▋                                   | 5625/8000 [04:03<02:31, 15.63it/s]"
     ]
    },
    {
     "metadata": {},
     "name": "stderr",
     "output_type": "stream",
     "text": [
      "\r",
      " 70%|███████████████████████████████████████████████████████████████████████████████████▋                                   | 5627/8000 [04:03<02:28, 15.98it/s]"
     ]
    },
    {
     "metadata": {},
     "name": "stderr",
     "output_type": "stream",
     "text": [
      "\r",
      " 70%|███████████████████████████████████████████████████████████████████████████████████▋                                   | 5629/8000 [04:04<02:33, 15.45it/s]"
     ]
    },
    {
     "metadata": {},
     "name": "stderr",
     "output_type": "stream",
     "text": [
      "\r",
      " 70%|███████████████████████████████████████████████████████████████████████████████████▊                                   | 5631/8000 [04:04<02:31, 15.68it/s]"
     ]
    },
    {
     "metadata": {},
     "name": "stderr",
     "output_type": "stream",
     "text": [
      "\r",
      " 70%|███████████████████████████████████████████████████████████████████████████████████▊                                   | 5633/8000 [04:04<02:27, 16.07it/s]"
     ]
    },
    {
     "metadata": {},
     "name": "stderr",
     "output_type": "stream",
     "text": [
      "\r",
      " 70%|███████████████████████████████████████████████████████████████████████████████████▊                                   | 5635/8000 [04:04<02:26, 16.12it/s]"
     ]
    },
    {
     "metadata": {},
     "name": "stderr",
     "output_type": "stream",
     "text": [
      "\r",
      " 70%|███████████████████████████████████████████████████████████████████████████████████▊                                   | 5637/8000 [04:04<02:25, 16.25it/s]"
     ]
    },
    {
     "metadata": {},
     "name": "stderr",
     "output_type": "stream",
     "text": [
      "\r",
      " 70%|███████████████████████████████████████████████████████████████████████████████████▉                                   | 5639/8000 [04:04<02:36, 15.06it/s]"
     ]
    },
    {
     "metadata": {},
     "name": "stderr",
     "output_type": "stream",
     "text": [
      "\r",
      " 71%|███████████████████████████████████████████████████████████████████████████████████▉                                   | 5641/8000 [04:04<02:38, 14.88it/s]"
     ]
    },
    {
     "metadata": {},
     "name": "stderr",
     "output_type": "stream",
     "text": [
      "\r",
      " 71%|███████████████████████████████████████████████████████████████████████████████████▉                                   | 5643/8000 [04:05<02:32, 15.49it/s]"
     ]
    },
    {
     "metadata": {},
     "name": "stderr",
     "output_type": "stream",
     "text": [
      "\r",
      " 71%|███████████████████████████████████████████████████████████████████████████████████▉                                   | 5645/8000 [04:05<02:36, 15.06it/s]"
     ]
    },
    {
     "metadata": {},
     "name": "stderr",
     "output_type": "stream",
     "text": [
      "\r",
      " 71%|████████████████████████████████████████████████████████████████████████████████████                                   | 5651/8000 [04:05<01:31, 25.81it/s]"
     ]
    },
    {
     "metadata": {},
     "name": "stderr",
     "output_type": "stream",
     "text": [
      "\r",
      " 71%|████████████████████████████████████████████████████████████████████████████████████                                   | 5654/8000 [04:05<03:19, 11.78it/s]"
     ]
    },
    {
     "metadata": {},
     "name": "stderr",
     "output_type": "stream",
     "text": [
      "\r",
      " 71%|████████████████████████████████████████████████████████████████████████████████████▏                                  | 5657/8000 [04:06<03:28, 11.22it/s]"
     ]
    },
    {
     "metadata": {},
     "name": "stderr",
     "output_type": "stream",
     "text": [
      "\r",
      " 71%|████████████████████████████████████████████████████████████████████████████████████▏                                  | 5659/8000 [04:06<05:07,  7.62it/s]"
     ]
    },
    {
     "metadata": {},
     "name": "stderr",
     "output_type": "stream",
     "text": [
      "\r",
      " 71%|████████████████████████████████████████████████████████████████████████████████████▏                                  | 5661/8000 [04:07<06:45,  5.77it/s]"
     ]
    },
    {
     "metadata": {},
     "name": "stderr",
     "output_type": "stream",
     "text": [
      "\r",
      " 71%|████████████████████████████████████████████████████████████████████████████████████▏                                  | 5663/8000 [04:08<09:08,  4.26it/s]"
     ]
    },
    {
     "metadata": {},
     "name": "stderr",
     "output_type": "stream",
     "text": [
      "\r",
      " 71%|████████████████████████████████████████████████████████████████████████████████████▎                                  | 5664/8000 [04:08<09:40,  4.03it/s]"
     ]
    },
    {
     "metadata": {},
     "name": "stderr",
     "output_type": "stream",
     "text": [
      "\r",
      " 71%|████████████████████████████████████████████████████████████████████████████████████▎                                  | 5665/8000 [04:08<10:18,  3.77it/s]"
     ]
    },
    {
     "metadata": {},
     "name": "stderr",
     "output_type": "stream",
     "text": [
      "\r",
      " 71%|████████████████████████████████████████████████████████████████████████████████████▎                                  | 5666/8000 [04:09<11:28,  3.39it/s]"
     ]
    },
    {
     "metadata": {},
     "name": "stderr",
     "output_type": "stream",
     "text": [
      "\r",
      " 71%|████████████████████████████████████████████████████████████████████████████████████▍                                  | 5676/8000 [04:09<03:13, 11.99it/s]"
     ]
    },
    {
     "metadata": {},
     "name": "stderr",
     "output_type": "stream",
     "text": [
      "\r",
      " 71%|████████████████████████████████████████████████████████████████████████████████████▍                                  | 5680/8000 [04:10<04:31,  8.55it/s]"
     ]
    },
    {
     "metadata": {},
     "name": "stderr",
     "output_type": "stream",
     "text": [
      "\r",
      " 71%|████████████████████████████████████████████████████████████████████████████████████▌                                  | 5683/8000 [04:10<04:19,  8.93it/s]"
     ]
    },
    {
     "metadata": {},
     "name": "stderr",
     "output_type": "stream",
     "text": [
      "\r",
      " 71%|████████████████████████████████████████████████████████████████████████████████████▌                                  | 5689/8000 [04:10<02:49, 13.61it/s]"
     ]
    },
    {
     "metadata": {},
     "name": "stderr",
     "output_type": "stream",
     "text": [
      "\r",
      " 71%|████████████████████████████████████████████████████████████████████████████████████▋                                  | 5695/8000 [04:10<02:02, 18.82it/s]"
     ]
    },
    {
     "metadata": {},
     "name": "stderr",
     "output_type": "stream",
     "text": [
      "\r",
      " 71%|████████████████████████████████████████████████████████████████████████████████████▊                                  | 5700/8000 [04:11<02:31, 15.23it/s]"
     ]
    },
    {
     "metadata": {},
     "name": "stderr",
     "output_type": "stream",
     "text": [
      "\r",
      " 71%|████████████████████████████████████████████████████████████████████████████████████▊                                  | 5703/8000 [04:11<03:16, 11.69it/s]"
     ]
    },
    {
     "metadata": {},
     "name": "stderr",
     "output_type": "stream",
     "text": [
      "\r",
      " 71%|████████████████████████████████████████████████████████████████████████████████████▉                                  | 5706/8000 [04:11<02:51, 13.36it/s]"
     ]
    },
    {
     "metadata": {},
     "name": "stderr",
     "output_type": "stream",
     "text": [
      "\r",
      " 71%|████████████████████████████████████████████████████████████████████████████████████▉                                  | 5709/8000 [04:12<03:41, 10.32it/s]"
     ]
    },
    {
     "metadata": {},
     "name": "stderr",
     "output_type": "stream",
     "text": [
      "\r",
      " 72%|█████████████████████████████████████████████████████████████████████████████████████                                  | 5720/8000 [04:12<01:48, 21.04it/s]"
     ]
    },
    {
     "metadata": {},
     "name": "stderr",
     "output_type": "stream",
     "text": [
      "\r",
      " 72%|█████████████████████████████████████████████████████████████████████████████████████▎                                 | 5733/8000 [04:12<01:04, 35.36it/s]"
     ]
    },
    {
     "metadata": {},
     "name": "stderr",
     "output_type": "stream",
     "text": [
      "\r",
      " 72%|█████████████████████████████████████████████████████████████████████████████████████▍                                 | 5746/8000 [04:12<00:44, 50.29it/s]"
     ]
    },
    {
     "metadata": {},
     "name": "stderr",
     "output_type": "stream",
     "text": [
      "\r",
      " 72%|█████████████████████████████████████████████████████████████████████████████████████▋                                 | 5757/8000 [04:12<00:36, 60.63it/s]"
     ]
    },
    {
     "metadata": {},
     "name": "stderr",
     "output_type": "stream",
     "text": [
      "\r",
      " 72%|█████████████████████████████████████████████████████████████████████████████████████▊                                 | 5767/8000 [04:12<00:34, 64.97it/s]"
     ]
    },
    {
     "metadata": {},
     "name": "stderr",
     "output_type": "stream",
     "text": [
      "\r",
      " 72%|█████████████████████████████████████████████████████████████████████████████████████▉                                 | 5776/8000 [04:12<00:32, 68.59it/s]"
     ]
    },
    {
     "metadata": {},
     "name": "stderr",
     "output_type": "stream",
     "text": [
      "\r",
      " 72%|██████████████████████████████████████████████████████████████████████████████████████                                 | 5785/8000 [04:12<00:30, 71.89it/s]"
     ]
    },
    {
     "metadata": {},
     "name": "stderr",
     "output_type": "stream",
     "text": [
      "\r",
      " 72%|██████████████████████████████████████████████████████████████████████████████████████▏                                | 5794/8000 [04:13<00:58, 37.46it/s]"
     ]
    },
    {
     "metadata": {},
     "name": "stderr",
     "output_type": "stream",
     "text": [
      "\r",
      " 73%|██████████████████████████████████████████████████████████████████████████████████████▎                                | 5801/8000 [04:13<00:56, 38.78it/s]"
     ]
    },
    {
     "metadata": {},
     "name": "stderr",
     "output_type": "stream",
     "text": [
      "\r",
      " 73%|██████████████████████████████████████████████████████████████████████████████████████▍                                | 5807/8000 [04:13<00:56, 39.10it/s]"
     ]
    },
    {
     "metadata": {},
     "name": "stderr",
     "output_type": "stream",
     "text": [
      "\r",
      " 73%|██████████████████████████████████████████████████████████████████████████████████████▌                                | 5816/8000 [04:14<01:09, 31.23it/s]"
     ]
    },
    {
     "metadata": {},
     "name": "stderr",
     "output_type": "stream",
     "text": [
      "\r",
      " 73%|██████████████████████████████████████████████████████████████████████████████████████▌                                | 5821/8000 [04:14<01:25, 25.54it/s]"
     ]
    },
    {
     "metadata": {},
     "name": "stderr",
     "output_type": "stream",
     "text": [
      "\r",
      " 73%|██████████████████████████████████████████████████████████████████████████████████████▋                                | 5827/8000 [04:14<01:15, 28.62it/s]"
     ]
    },
    {
     "metadata": {},
     "name": "stderr",
     "output_type": "stream",
     "text": [
      "\r",
      " 73%|██████████████████████████████████████████████████████████████████████████████████████▋                                | 5831/8000 [04:14<01:20, 27.06it/s]"
     ]
    },
    {
     "metadata": {},
     "name": "stderr",
     "output_type": "stream",
     "text": [
      "\r",
      " 73%|██████████████████████████████████████████████████████████████████████████████████████▊                                | 5835/8000 [04:15<01:47, 20.13it/s]"
     ]
    },
    {
     "metadata": {},
     "name": "stderr",
     "output_type": "stream",
     "text": [
      "\r",
      " 73%|██████████████████████████████████████████████████████████████████████████████████████▊                                | 5838/8000 [04:15<02:09, 16.64it/s]"
     ]
    },
    {
     "metadata": {},
     "name": "stderr",
     "output_type": "stream",
     "text": [
      "\r",
      " 73%|██████████████████████████████████████████████████████████████████████████████████████▉                                | 5841/8000 [04:15<02:35, 13.85it/s]"
     ]
    },
    {
     "metadata": {},
     "name": "stderr",
     "output_type": "stream",
     "text": [
      "\r",
      " 73%|██████████████████████████████████████████████████████████████████████████████████████▉                                | 5843/8000 [04:16<03:26, 10.45it/s]"
     ]
    },
    {
     "metadata": {},
     "name": "stderr",
     "output_type": "stream",
     "text": [
      "\r",
      " 73%|██████████████████████████████████████████████████████████████████████████████████████▉                                | 5845/8000 [04:16<03:19, 10.79it/s]"
     ]
    },
    {
     "metadata": {},
     "name": "stderr",
     "output_type": "stream",
     "text": [
      "\r",
      " 73%|██████████████████████████████████████████████████████████████████████████████████████▉                                | 5847/8000 [04:16<03:39,  9.80it/s]"
     ]
    },
    {
     "metadata": {},
     "name": "stderr",
     "output_type": "stream",
     "text": [
      "\r",
      " 73%|███████████████████████████████████████████████████████████████████████████████████████                                | 5849/8000 [04:17<04:08,  8.65it/s]"
     ]
    },
    {
     "metadata": {},
     "name": "stderr",
     "output_type": "stream",
     "text": [
      "\r",
      " 73%|███████████████████████████████████████████████████████████████████████████████████████                                | 5850/8000 [04:17<04:32,  7.88it/s]"
     ]
    },
    {
     "metadata": {},
     "name": "stderr",
     "output_type": "stream",
     "text": [
      "\r",
      " 73%|███████████████████████████████████████████████████████████████████████████████████████                                | 5851/8000 [04:17<04:41,  7.64it/s]"
     ]
    },
    {
     "metadata": {},
     "name": "stderr",
     "output_type": "stream",
     "text": [
      "\r",
      " 73%|███████████████████████████████████████████████████████████████████████████████████████                                | 5852/8000 [04:17<04:39,  7.67it/s]"
     ]
    },
    {
     "metadata": {},
     "name": "stderr",
     "output_type": "stream",
     "text": [
      "\r",
      " 73%|███████████████████████████████████████████████████████████████████████████████████████                                | 5853/8000 [04:17<04:39,  7.69it/s]"
     ]
    },
    {
     "metadata": {},
     "name": "stderr",
     "output_type": "stream",
     "text": [
      "\r",
      " 73%|███████████████████████████████████████████████████████████████████████████████████████                                | 5854/8000 [04:17<04:36,  7.76it/s]"
     ]
    },
    {
     "metadata": {},
     "name": "stderr",
     "output_type": "stream",
     "text": [
      "\r",
      " 73%|███████████████████████████████████████████████████████████████████████████████████████                                | 5855/8000 [04:17<04:32,  7.86it/s]"
     ]
    },
    {
     "metadata": {},
     "name": "stderr",
     "output_type": "stream",
     "text": [
      "\r",
      " 73%|███████████████████████████████████████████████████████████████████████████████████████                                | 5856/8000 [04:18<04:32,  7.88it/s]"
     ]
    },
    {
     "metadata": {},
     "name": "stderr",
     "output_type": "stream",
     "text": [
      "\r",
      " 73%|███████████████████████████████████████████████████████████████████████████████████████                                | 5857/8000 [04:18<04:46,  7.49it/s]"
     ]
    },
    {
     "metadata": {},
     "name": "stderr",
     "output_type": "stream",
     "text": [
      "\r",
      " 73%|███████████████████████████████████████████████████████████████████████████████████████▏                               | 5858/8000 [04:18<04:43,  7.57it/s]"
     ]
    },
    {
     "metadata": {},
     "name": "stderr",
     "output_type": "stream",
     "text": [
      "\r",
      " 73%|███████████████████████████████████████████████████████████████████████████████████████▏                               | 5859/8000 [04:18<05:03,  7.06it/s]"
     ]
    },
    {
     "metadata": {},
     "name": "stderr",
     "output_type": "stream",
     "text": [
      "\r",
      " 73%|███████████████████████████████████████████████████████████████████████████████████████▏                               | 5860/8000 [04:18<05:01,  7.10it/s]"
     ]
    },
    {
     "metadata": {},
     "name": "stderr",
     "output_type": "stream",
     "text": [
      "\r",
      " 73%|███████████████████████████████████████████████████████████████████████████████████████▎                               | 5872/8000 [04:18<01:05, 32.45it/s]"
     ]
    },
    {
     "metadata": {},
     "name": "stderr",
     "output_type": "stream",
     "text": [
      "\r",
      " 73%|███████████████████████████████████████████████████████████████████████████████████████▍                               | 5878/8000 [04:18<00:57, 36.89it/s]"
     ]
    },
    {
     "metadata": {},
     "name": "stderr",
     "output_type": "stream",
     "text": [
      "\r",
      " 74%|███████████████████████████████████████████████████████████████████████████████████████▌                               | 5883/8000 [04:18<00:55, 38.04it/s]"
     ]
    },
    {
     "metadata": {},
     "name": "stderr",
     "output_type": "stream",
     "text": [
      "\r",
      " 74%|███████████████████████████████████████████████████████████████████████████████████████▌                               | 5888/8000 [04:19<01:02, 33.95it/s]"
     ]
    },
    {
     "metadata": {},
     "name": "stderr",
     "output_type": "stream",
     "text": [
      "\r",
      " 74%|███████████████████████████████████████████████████████████████████████████████████████▋                               | 5892/8000 [04:20<02:48, 12.50it/s]"
     ]
    },
    {
     "metadata": {},
     "name": "stderr",
     "output_type": "stream",
     "text": [
      "\r",
      " 74%|███████████████████████████████████████████████████████████████████████████████████████▊                               | 5900/8000 [04:20<01:57, 17.84it/s]"
     ]
    },
    {
     "metadata": {},
     "name": "stderr",
     "output_type": "stream",
     "text": [
      "\r",
      " 74%|███████████████████████████████████████████████████████████████████████████████████████▊                               | 5904/8000 [04:21<03:48,  9.16it/s]"
     ]
    },
    {
     "metadata": {},
     "name": "stderr",
     "output_type": "stream",
     "text": [
      "\r",
      " 74%|███████████████████████████████████████████████████████████████████████████████████████▊                               | 5907/8000 [04:22<05:11,  6.72it/s]"
     ]
    },
    {
     "metadata": {},
     "name": "stderr",
     "output_type": "stream",
     "text": [
      "\r",
      " 74%|███████████████████████████████████████████████████████████████████████████████████████▉                               | 5909/8000 [04:23<06:43,  5.18it/s]"
     ]
    },
    {
     "metadata": {},
     "name": "stderr",
     "output_type": "stream",
     "text": [
      "\r",
      " 74%|███████████████████████████████████████████████████████████████████████████████████████▉                               | 5911/8000 [04:23<07:08,  4.87it/s]"
     ]
    },
    {
     "metadata": {},
     "name": "stderr",
     "output_type": "stream",
     "text": [
      "\r",
      " 74%|███████████████████████████████████████████████████████████████████████████████████████▉                               | 5913/8000 [04:24<07:27,  4.67it/s]"
     ]
    },
    {
     "metadata": {},
     "name": "stderr",
     "output_type": "stream",
     "text": [
      "\r",
      " 74%|███████████████████████████████████████████████████████████████████████████████████████▉                               | 5915/8000 [04:24<07:08,  4.87it/s]"
     ]
    },
    {
     "metadata": {},
     "name": "stderr",
     "output_type": "stream",
     "text": [
      "\r",
      " 74%|████████████████████████████████████████████████████████████████████████████████████████                               | 5916/8000 [04:24<07:36,  4.57it/s]"
     ]
    },
    {
     "metadata": {},
     "name": "stderr",
     "output_type": "stream",
     "text": [
      "\r",
      " 74%|████████████████████████████████████████████████████████████████████████████████████████                               | 5917/8000 [04:25<08:02,  4.32it/s]"
     ]
    },
    {
     "metadata": {},
     "name": "stderr",
     "output_type": "stream",
     "text": [
      "\r",
      " 74%|████████████████████████████████████████████████████████████████████████████████████████                               | 5918/8000 [04:25<08:19,  4.17it/s]"
     ]
    },
    {
     "metadata": {},
     "name": "stderr",
     "output_type": "stream",
     "text": [
      "\r",
      " 74%|████████████████████████████████████████████████████████████████████████████████████████                               | 5919/8000 [04:25<08:25,  4.12it/s]"
     ]
    },
    {
     "metadata": {},
     "name": "stderr",
     "output_type": "stream",
     "text": [
      "\r",
      " 74%|████████████████████████████████████████████████████████████████████████████████████████                               | 5920/8000 [04:25<08:34,  4.05it/s]"
     ]
    },
    {
     "metadata": {},
     "name": "stderr",
     "output_type": "stream",
     "text": [
      "\r",
      " 74%|████████████████████████████████████████████████████████████████████████████████████████                               | 5921/8000 [04:26<08:53,  3.90it/s]"
     ]
    },
    {
     "metadata": {},
     "name": "stderr",
     "output_type": "stream",
     "text": [
      "\r",
      " 74%|████████████████████████████████████████████████████████████████████████████████████████                               | 5922/8000 [04:26<09:14,  3.75it/s]"
     ]
    },
    {
     "metadata": {},
     "name": "stderr",
     "output_type": "stream",
     "text": [
      "\r",
      " 74%|████████████████████████████████████████████████████████████████████████████████████████                               | 5923/8000 [04:26<09:17,  3.72it/s]"
     ]
    },
    {
     "metadata": {},
     "name": "stderr",
     "output_type": "stream",
     "text": [
      "\r",
      " 74%|████████████████████████████████████████████████████████████████████████████████████████                               | 5924/8000 [04:27<09:15,  3.74it/s]"
     ]
    },
    {
     "metadata": {},
     "name": "stderr",
     "output_type": "stream",
     "text": [
      "\r",
      " 74%|████████████████████████████████████████████████████████████████████████████████████████▏                              | 5925/8000 [04:27<09:15,  3.74it/s]"
     ]
    },
    {
     "metadata": {},
     "name": "stderr",
     "output_type": "stream",
     "text": [
      "\r",
      " 74%|████████████████████████████████████████████████████████████████████████████████████████▏                              | 5926/8000 [04:27<09:07,  3.79it/s]"
     ]
    },
    {
     "metadata": {},
     "name": "stderr",
     "output_type": "stream",
     "text": [
      "\r",
      " 74%|████████████████████████████████████████████████████████████████████████████████████████▏                              | 5927/8000 [04:27<09:00,  3.83it/s]"
     ]
    },
    {
     "metadata": {},
     "name": "stderr",
     "output_type": "stream",
     "text": [
      "\r",
      " 74%|████████████████████████████████████████████████████████████████████████████████████████▏                              | 5928/8000 [04:28<09:00,  3.83it/s]"
     ]
    },
    {
     "metadata": {},
     "name": "stderr",
     "output_type": "stream",
     "text": [
      "\r",
      " 74%|████████████████████████████████████████████████████████████████████████████████████████▏                              | 5929/8000 [04:28<09:09,  3.77it/s]"
     ]
    },
    {
     "metadata": {},
     "name": "stderr",
     "output_type": "stream",
     "text": [
      "\r",
      " 74%|████████████████████████████████████████████████████████████████████████████████████████▏                              | 5930/8000 [04:28<09:08,  3.77it/s]"
     ]
    },
    {
     "metadata": {},
     "name": "stderr",
     "output_type": "stream",
     "text": [
      "\r",
      " 74%|████████████████████████████████████████████████████████████████████████████████████████▏                              | 5931/8000 [04:28<09:05,  3.79it/s]"
     ]
    },
    {
     "metadata": {},
     "name": "stderr",
     "output_type": "stream",
     "text": [
      "\r",
      " 74%|████████████████████████████████████████████████████████████████████████████████████████▏                              | 5932/8000 [04:29<09:03,  3.80it/s]"
     ]
    },
    {
     "metadata": {},
     "name": "stderr",
     "output_type": "stream",
     "text": [
      "\r",
      " 74%|████████████████████████████████████████████████████████████████████████████████████████▍                              | 5944/8000 [04:29<01:43, 19.92it/s]"
     ]
    },
    {
     "metadata": {},
     "name": "stderr",
     "output_type": "stream",
     "text": [
      "\r",
      " 74%|████████████████████████████████████████████████████████████████████████████████████████▌                              | 5955/8000 [04:29<00:59, 34.36it/s]"
     ]
    },
    {
     "metadata": {},
     "name": "stderr",
     "output_type": "stream",
     "text": [
      "\r",
      " 75%|████████████████████████████████████████████████████████████████████████████████████████▋                              | 5961/8000 [04:29<00:54, 37.17it/s]"
     ]
    },
    {
     "metadata": {},
     "name": "stderr",
     "output_type": "stream",
     "text": [
      "\r",
      " 75%|████████████████████████████████████████████████████████████████████████████████████████▊                              | 5967/8000 [04:29<01:10, 28.90it/s]"
     ]
    },
    {
     "metadata": {},
     "name": "stderr",
     "output_type": "stream",
     "text": [
      "\r",
      " 75%|████████████████████████████████████████████████████████████████████████████████████████▊                              | 5972/8000 [04:30<01:26, 23.55it/s]"
     ]
    },
    {
     "metadata": {},
     "name": "stderr",
     "output_type": "stream",
     "text": [
      "\r",
      " 75%|████████████████████████████████████████████████████████████████████████████████████████▉                              | 5977/8000 [04:30<01:38, 20.61it/s]"
     ]
    },
    {
     "metadata": {},
     "name": "stderr",
     "output_type": "stream",
     "text": [
      "\r",
      " 75%|████████████████████████████████████████████████████████████████████████████████████████▉                              | 5980/8000 [04:30<01:55, 17.49it/s]"
     ]
    },
    {
     "metadata": {},
     "name": "stderr",
     "output_type": "stream",
     "text": [
      "\r",
      " 75%|█████████████████████████████████████████████████████████████████████████████████████████▏                             | 5992/8000 [04:30<01:06, 30.40it/s]"
     ]
    },
    {
     "metadata": {},
     "name": "stderr",
     "output_type": "stream",
     "text": [
      "\r",
      " 75%|█████████████████████████████████████████████████████████████████████████████████████████▎                             | 6005/8000 [04:30<00:43, 45.59it/s]"
     ]
    },
    {
     "metadata": {},
     "name": "stderr",
     "output_type": "stream",
     "text": [
      "\r",
      " 75%|█████████████████████████████████████████████████████████████████████████████████████████▍                             | 6014/8000 [04:31<00:42, 46.62it/s]"
     ]
    },
    {
     "metadata": {},
     "name": "stderr",
     "output_type": "stream",
     "text": [
      "\r",
      " 75%|█████████████████████████████████████████████████████████████████████████████████████████▌                             | 6021/8000 [04:31<01:30, 21.85it/s]"
     ]
    },
    {
     "metadata": {},
     "name": "stderr",
     "output_type": "stream",
     "text": [
      "\r",
      " 75%|█████████████████████████████████████████████████████████████████████████████████████████▋                             | 6026/8000 [04:32<02:00, 16.44it/s]"
     ]
    },
    {
     "metadata": {},
     "name": "stderr",
     "output_type": "stream",
     "text": [
      "\r",
      " 75%|█████████████████████████████████████████████████████████████████████████████████████████▋                             | 6030/8000 [04:33<02:21, 13.97it/s]"
     ]
    },
    {
     "metadata": {},
     "name": "stderr",
     "output_type": "stream",
     "text": [
      "\r",
      " 75%|█████████████████████████████████████████████████████████████████████████████████████████▋                             | 6033/8000 [04:33<02:38, 12.44it/s]"
     ]
    },
    {
     "metadata": {},
     "name": "stderr",
     "output_type": "stream",
     "text": [
      "\r",
      " 76%|█████████████████████████████████████████████████████████████████████████████████████████▉                             | 6043/8000 [04:33<01:38, 19.85it/s]"
     ]
    },
    {
     "metadata": {},
     "name": "stderr",
     "output_type": "stream",
     "text": [
      "\r",
      " 76%|█████████████████████████████████████████████████████████████████████████████████████████▉                             | 6047/8000 [04:33<01:33, 20.98it/s]"
     ]
    },
    {
     "metadata": {},
     "name": "stderr",
     "output_type": "stream",
     "text": [
      "\r",
      " 76%|██████████████████████████████████████████████████████████████████████████████████████████                             | 6051/8000 [04:33<01:46, 18.38it/s]"
     ]
    },
    {
     "metadata": {},
     "name": "stderr",
     "output_type": "stream",
     "text": [
      "\r",
      " 76%|██████████████████████████████████████████████████████████████████████████████████████████                             | 6054/8000 [04:34<03:14, 10.01it/s]"
     ]
    },
    {
     "metadata": {},
     "name": "stderr",
     "output_type": "stream",
     "text": [
      "\r",
      " 76%|██████████████████████████████████████████████████████████████████████████████████████████▏                            | 6059/8000 [04:35<02:32, 12.73it/s]"
     ]
    },
    {
     "metadata": {},
     "name": "stderr",
     "output_type": "stream",
     "text": [
      "\r",
      " 76%|██████████████████████████████████████████████████████████████████████████████████████████▏                            | 6062/8000 [04:35<02:19, 13.85it/s]"
     ]
    },
    {
     "metadata": {},
     "name": "stderr",
     "output_type": "stream",
     "text": [
      "\r",
      " 76%|██████████████████████████████████████████████████████████████████████████████████████████▏                            | 6067/8000 [04:35<01:53, 17.07it/s]"
     ]
    },
    {
     "metadata": {},
     "name": "stderr",
     "output_type": "stream",
     "text": [
      "\r",
      " 76%|██████████████████████████████████████████████████████████████████████████████████████████▎                            | 6070/8000 [04:35<01:47, 18.01it/s]"
     ]
    },
    {
     "metadata": {},
     "name": "stderr",
     "output_type": "stream",
     "text": [
      "\r",
      " 76%|██████████████████████████████████████████████████████████████████████████████████████████▍                            | 6082/8000 [04:35<00:55, 34.30it/s]"
     ]
    },
    {
     "metadata": {},
     "name": "stderr",
     "output_type": "stream",
     "text": [
      "\r",
      " 76%|██████████████████████████████████████████████████████████████████████████████████████████▌                            | 6088/8000 [04:36<02:12, 14.47it/s]"
     ]
    },
    {
     "metadata": {},
     "name": "stderr",
     "output_type": "stream",
     "text": [
      "\r",
      " 76%|██████████████████████████████████████████████████████████████████████████████████████████▌                            | 6092/8000 [04:37<02:36, 12.17it/s]"
     ]
    },
    {
     "metadata": {},
     "name": "stderr",
     "output_type": "stream",
     "text": [
      "\r",
      " 76%|██████████████████████████████████████████████████████████████████████████████████████████▋                            | 6096/8000 [04:37<02:14, 14.11it/s]"
     ]
    },
    {
     "metadata": {},
     "name": "stderr",
     "output_type": "stream",
     "text": [
      "\r",
      " 76%|██████████████████████████████████████████████████████████████████████████████████████████▋                            | 6099/8000 [04:37<02:05, 15.20it/s]"
     ]
    },
    {
     "metadata": {},
     "name": "stderr",
     "output_type": "stream",
     "text": [
      "\r",
      " 76%|██████████████████████████████████████████████████████████████████████████████████████████▊                            | 6102/8000 [04:37<01:55, 16.45it/s]"
     ]
    },
    {
     "metadata": {},
     "name": "stderr",
     "output_type": "stream",
     "text": [
      "\r",
      " 76%|██████████████████████████████████████████████████████████████████████████████████████████▊                            | 6105/8000 [04:37<01:48, 17.54it/s]"
     ]
    },
    {
     "metadata": {},
     "name": "stderr",
     "output_type": "stream",
     "text": [
      "\r",
      " 76%|██████████████████████████████████████████████████████████████████████████████████████████▊                            | 6108/8000 [04:37<01:41, 18.57it/s]"
     ]
    },
    {
     "metadata": {},
     "name": "stderr",
     "output_type": "stream",
     "text": [
      "\r",
      " 76%|██████████████████████████████████████████████████████████████████████████████████████████▉                            | 6111/8000 [04:37<01:35, 19.68it/s]"
     ]
    },
    {
     "metadata": {},
     "name": "stderr",
     "output_type": "stream",
     "text": [
      "\r",
      " 76%|██████████████████████████████████████████████████████████████████████████████████████████▉                            | 6114/8000 [04:38<01:31, 20.61it/s]"
     ]
    },
    {
     "metadata": {},
     "name": "stderr",
     "output_type": "stream",
     "text": [
      "\r",
      " 76%|██████████████████████████████████████████████████████████████████████████████████████████▉                            | 6117/8000 [04:38<01:27, 21.40it/s]"
     ]
    },
    {
     "metadata": {},
     "name": "stderr",
     "output_type": "stream",
     "text": [
      "\r",
      " 76%|███████████████████████████████████████████████████████████████████████████████████████████                            | 6120/8000 [04:38<01:25, 21.92it/s]"
     ]
    },
    {
     "metadata": {},
     "name": "stderr",
     "output_type": "stream",
     "text": [
      "\r",
      " 77%|███████████████████████████████████████████████████████████████████████████████████████████                            | 6123/8000 [04:38<01:24, 22.15it/s]"
     ]
    },
    {
     "metadata": {},
     "name": "stderr",
     "output_type": "stream",
     "text": [
      "\r",
      " 77%|███████████████████████████████████████████████████████████████████████████████████████████                            | 6126/8000 [04:38<01:23, 22.52it/s]"
     ]
    },
    {
     "metadata": {},
     "name": "stderr",
     "output_type": "stream",
     "text": [
      "\r",
      " 77%|███████████████████████████████████████████████████████████████████████████████████████████▏                           | 6129/8000 [04:38<01:22, 22.65it/s]"
     ]
    },
    {
     "metadata": {},
     "name": "stderr",
     "output_type": "stream",
     "text": [
      "\r",
      " 77%|███████████████████████████████████████████████████████████████████████████████████████████▏                           | 6132/8000 [04:38<01:19, 23.60it/s]"
     ]
    },
    {
     "metadata": {},
     "name": "stderr",
     "output_type": "stream",
     "text": [
      "\r",
      " 77%|███████████████████████████████████████████████████████████████████████████████████████████▎                           | 6135/8000 [04:38<01:16, 24.45it/s]"
     ]
    },
    {
     "metadata": {},
     "name": "stderr",
     "output_type": "stream",
     "text": [
      "\r",
      " 77%|███████████████████████████████████████████████████████████████████████████████████████████▎                           | 6138/8000 [04:39<01:14, 24.91it/s]"
     ]
    },
    {
     "metadata": {},
     "name": "stderr",
     "output_type": "stream",
     "text": [
      "\r",
      " 77%|███████████████████████████████████████████████████████████████████████████████████████████▎                           | 6141/8000 [04:39<01:13, 25.38it/s]"
     ]
    },
    {
     "metadata": {},
     "name": "stderr",
     "output_type": "stream",
     "text": [
      "\r",
      " 77%|███████████████████████████████████████████████████████████████████████████████████████████▍                           | 6144/8000 [04:39<01:12, 25.59it/s]"
     ]
    },
    {
     "metadata": {},
     "name": "stderr",
     "output_type": "stream",
     "text": [
      "\r",
      " 77%|███████████████████████████████████████████████████████████████████████████████████████████▍                           | 6147/8000 [04:39<01:13, 25.14it/s]"
     ]
    },
    {
     "metadata": {},
     "name": "stderr",
     "output_type": "stream",
     "text": [
      "\r",
      " 77%|███████████████████████████████████████████████████████████████████████████████████████████▍                           | 6150/8000 [04:39<01:12, 25.50it/s]"
     ]
    },
    {
     "metadata": {},
     "name": "stderr",
     "output_type": "stream",
     "text": [
      "\r",
      " 77%|███████████████████████████████████████████████████████████████████████████████████████████▌                           | 6153/8000 [04:39<01:11, 25.79it/s]"
     ]
    },
    {
     "metadata": {},
     "name": "stderr",
     "output_type": "stream",
     "text": [
      "\r",
      " 77%|███████████████████████████████████████████████████████████████████████████████████████████▌                           | 6156/8000 [04:39<01:10, 25.98it/s]"
     ]
    },
    {
     "metadata": {},
     "name": "stderr",
     "output_type": "stream",
     "text": [
      "\r",
      " 77%|███████████████████████████████████████████████████████████████████████████████████████████▌                           | 6159/8000 [04:39<01:10, 26.12it/s]"
     ]
    },
    {
     "metadata": {},
     "name": "stderr",
     "output_type": "stream",
     "text": [
      "\r",
      " 77%|███████████████████████████████████████████████████████████████████████████████████████████▋                           | 6162/8000 [04:39<01:10, 26.19it/s]"
     ]
    },
    {
     "metadata": {},
     "name": "stderr",
     "output_type": "stream",
     "text": [
      "\r",
      " 77%|███████████████████████████████████████████████████████████████████████████████████████████▋                           | 6165/8000 [04:40<01:09, 26.27it/s]"
     ]
    },
    {
     "metadata": {},
     "name": "stderr",
     "output_type": "stream",
     "text": [
      "\r",
      " 77%|███████████████████████████████████████████████████████████████████████████████████████████▋                           | 6168/8000 [04:40<01:09, 26.38it/s]"
     ]
    },
    {
     "metadata": {},
     "name": "stderr",
     "output_type": "stream",
     "text": [
      "\r",
      " 77%|███████████████████████████████████████████████████████████████████████████████████████████▊                           | 6171/8000 [04:40<01:09, 26.46it/s]"
     ]
    },
    {
     "metadata": {},
     "name": "stderr",
     "output_type": "stream",
     "text": [
      "\r",
      " 77%|███████████████████████████████████████████████████████████████████████████████████████████▊                           | 6174/8000 [04:40<01:10, 26.08it/s]"
     ]
    },
    {
     "metadata": {},
     "name": "stderr",
     "output_type": "stream",
     "text": [
      "\r",
      " 77%|███████████████████████████████████████████████████████████████████████████████████████████▉                           | 6180/8000 [04:40<00:53, 33.90it/s]"
     ]
    },
    {
     "metadata": {},
     "name": "stderr",
     "output_type": "stream",
     "text": [
      "\r",
      " 77%|███████████████████████████████████████████████████████████████████████████████████████████▉                           | 6184/8000 [04:40<00:54, 33.35it/s]"
     ]
    },
    {
     "metadata": {},
     "name": "stderr",
     "output_type": "stream",
     "text": [
      "\r",
      " 77%|████████████████████████████████████████████████████████████████████████████████████████████                           | 6188/8000 [04:40<00:54, 33.37it/s]"
     ]
    },
    {
     "metadata": {},
     "name": "stderr",
     "output_type": "stream",
     "text": [
      "\r",
      " 77%|████████████████████████████████████████████████████████████████████████████████████████████                           | 6193/8000 [04:40<00:47, 37.66it/s]"
     ]
    },
    {
     "metadata": {},
     "name": "stderr",
     "output_type": "stream",
     "text": [
      "\r",
      " 77%|████████████████████████████████████████████████████████████████████████████████████████████▏                          | 6198/8000 [04:40<00:47, 38.03it/s]"
     ]
    },
    {
     "metadata": {},
     "name": "stderr",
     "output_type": "stream",
     "text": [
      "\r",
      " 78%|████████████████████████████████████████████████████████████████████████████████████████████▎                          | 6202/8000 [04:41<00:49, 36.47it/s]"
     ]
    },
    {
     "metadata": {},
     "name": "stderr",
     "output_type": "stream",
     "text": [
      "\r",
      " 78%|████████████████████████████████████████████████████████████████████████████████████████████▎                          | 6206/8000 [04:41<00:54, 33.16it/s]"
     ]
    },
    {
     "metadata": {},
     "name": "stderr",
     "output_type": "stream",
     "text": [
      "\r",
      " 78%|████████████████████████████████████████████████████████████████████████████████████████████▎                          | 6210/8000 [04:41<00:58, 30.84it/s]"
     ]
    },
    {
     "metadata": {},
     "name": "stderr",
     "output_type": "stream",
     "text": [
      "\r",
      " 78%|████████████████████████████████████████████████████████████████████████████████████████████▍                          | 6214/8000 [04:41<00:56, 31.49it/s]"
     ]
    },
    {
     "metadata": {},
     "name": "stderr",
     "output_type": "stream",
     "text": [
      "\r",
      " 78%|████████████████████████████████████████████████████████████████████████████████████████████▌                          | 6219/8000 [04:41<00:52, 33.61it/s]"
     ]
    },
    {
     "metadata": {},
     "name": "stderr",
     "output_type": "stream",
     "text": [
      "\r",
      " 78%|████████████████████████████████████████████████████████████████████████████████████████████▌                          | 6223/8000 [04:41<00:51, 34.57it/s]"
     ]
    },
    {
     "metadata": {},
     "name": "stderr",
     "output_type": "stream",
     "text": [
      "\r",
      " 78%|████████████████████████████████████████████████████████████████████████████████████████████▋                          | 6227/8000 [04:41<00:52, 33.67it/s]"
     ]
    },
    {
     "metadata": {},
     "name": "stderr",
     "output_type": "stream",
     "text": [
      "\r",
      " 78%|████████████████████████████████████████████████████████████████████████████████████████████▋                          | 6231/8000 [04:42<02:06, 13.94it/s]"
     ]
    },
    {
     "metadata": {},
     "name": "stderr",
     "output_type": "stream",
     "text": [
      "\r",
      " 78%|████████████████████████████████████████████████████████████████████████████████████████████▋                          | 6234/8000 [04:43<03:24,  8.62it/s]"
     ]
    },
    {
     "metadata": {},
     "name": "stderr",
     "output_type": "stream",
     "text": [
      "\r",
      " 78%|████████████████████████████████████████████████████████████████████████████████████████████▊                          | 6236/8000 [04:43<03:51,  7.62it/s]"
     ]
    },
    {
     "metadata": {},
     "name": "stderr",
     "output_type": "stream",
     "text": [
      "\r",
      " 78%|████████████████████████████████████████████████████████████████████████████████████████████▊                          | 6238/8000 [04:44<04:18,  6.82it/s]"
     ]
    },
    {
     "metadata": {},
     "name": "stderr",
     "output_type": "stream",
     "text": [
      "\r",
      " 78%|████████████████████████████████████████████████████████████████████████████████████████████▊                          | 6240/8000 [04:44<05:54,  4.96it/s]"
     ]
    },
    {
     "metadata": {},
     "name": "stderr",
     "output_type": "stream",
     "text": [
      "\r",
      " 78%|████████████████████████████████████████████████████████████████████████████████████████████▊                          | 6241/8000 [04:45<06:38,  4.41it/s]"
     ]
    },
    {
     "metadata": {},
     "name": "stderr",
     "output_type": "stream",
     "text": [
      "\r",
      " 78%|████████████████████████████████████████████████████████████████████████████████████████████▊                          | 6243/8000 [04:45<06:22,  4.60it/s]"
     ]
    },
    {
     "metadata": {},
     "name": "stderr",
     "output_type": "stream",
     "text": [
      "\r",
      " 78%|████████████████████████████████████████████████████████████████████████████████████████████▉                          | 6245/8000 [04:46<06:10,  4.74it/s]"
     ]
    },
    {
     "metadata": {},
     "name": "stderr",
     "output_type": "stream",
     "text": [
      "\r",
      " 78%|████████████████████████████████████████████████████████████████████████████████████████████▉                          | 6247/8000 [04:46<06:04,  4.81it/s]"
     ]
    },
    {
     "metadata": {},
     "name": "stderr",
     "output_type": "stream",
     "text": [
      "\r",
      " 78%|████████████████████████████████████████████████████████████████████████████████████████████▉                          | 6248/8000 [04:46<06:25,  4.54it/s]"
     ]
    },
    {
     "metadata": {},
     "name": "stderr",
     "output_type": "stream",
     "text": [
      "\r",
      " 78%|████████████████████████████████████████████████████████████████████████████████████████████▉                          | 6249/8000 [04:47<06:44,  4.33it/s]"
     ]
    },
    {
     "metadata": {},
     "name": "stderr",
     "output_type": "stream",
     "text": [
      "\r",
      " 78%|████████████████████████████████████████████████████████████████████████████████████████████▉                          | 6250/8000 [04:47<07:03,  4.13it/s]"
     ]
    },
    {
     "metadata": {},
     "name": "stderr",
     "output_type": "stream",
     "text": [
      "\r",
      " 78%|████████████████████████████████████████████████████████████████████████████████████████████▉                          | 6251/8000 [04:47<08:01,  3.63it/s]"
     ]
    },
    {
     "metadata": {},
     "name": "stderr",
     "output_type": "stream",
     "text": [
      "\r",
      " 78%|████████████████████████████████████████████████████████████████████████████████████████████▉                          | 6252/8000 [04:48<08:46,  3.32it/s]"
     ]
    },
    {
     "metadata": {},
     "name": "stderr",
     "output_type": "stream",
     "text": [
      "\r",
      " 78%|█████████████████████████████████████████████████████████████████████████████████████████████                          | 6253/8000 [04:48<09:23,  3.10it/s]"
     ]
    },
    {
     "metadata": {},
     "name": "stderr",
     "output_type": "stream",
     "text": [
      "\r",
      " 78%|█████████████████████████████████████████████████████████████████████████████████████████████                          | 6254/8000 [04:48<09:45,  2.98it/s]"
     ]
    },
    {
     "metadata": {},
     "name": "stderr",
     "output_type": "stream",
     "text": [
      "\r",
      " 78%|█████████████████████████████████████████████████████████████████████████████████████████████                          | 6255/8000 [04:49<10:03,  2.89it/s]"
     ]
    },
    {
     "metadata": {},
     "name": "stderr",
     "output_type": "stream",
     "text": [
      "\r",
      " 78%|█████████████████████████████████████████████████████████████████████████████████████████████                          | 6256/8000 [04:49<10:17,  2.82it/s]"
     ]
    },
    {
     "metadata": {},
     "name": "stderr",
     "output_type": "stream",
     "text": [
      "\r",
      " 78%|█████████████████████████████████████████████████████████████████████████████████████████████▏                         | 6267/8000 [04:49<02:40, 10.82it/s]"
     ]
    },
    {
     "metadata": {},
     "name": "stderr",
     "output_type": "stream",
     "text": [
      "\r",
      " 78%|█████████████████████████████████████████████████████████████████████████████████████████████▎                         | 6269/8000 [04:50<02:59,  9.64it/s]"
     ]
    },
    {
     "metadata": {},
     "name": "stderr",
     "output_type": "stream",
     "text": [
      "\r",
      " 79%|█████████████████████████████████████████████████████████████████████████████████████████████▍                         | 6281/8000 [04:50<01:20, 21.45it/s]"
     ]
    },
    {
     "metadata": {},
     "name": "stderr",
     "output_type": "stream",
     "text": [
      "\r",
      " 79%|█████████████████████████████████████████████████████████████████████████████████████████████▌                         | 6293/8000 [04:50<00:49, 34.38it/s]"
     ]
    },
    {
     "metadata": {},
     "name": "stderr",
     "output_type": "stream",
     "text": [
      "\r",
      " 79%|█████████████████████████████████████████████████████████████████████████████████████████████▊                         | 6305/8000 [04:50<00:35, 47.95it/s]"
     ]
    },
    {
     "metadata": {},
     "name": "stderr",
     "output_type": "stream",
     "text": [
      "\r",
      " 79%|█████████████████████████████████████████████████████████████████████████████████████████████▉                         | 6314/8000 [04:50<00:37, 44.83it/s]"
     ]
    },
    {
     "metadata": {},
     "name": "stderr",
     "output_type": "stream",
     "text": [
      "\r",
      " 79%|██████████████████████████████████████████████████████████████████████████████████████████████                         | 6321/8000 [04:51<00:53, 31.49it/s]"
     ]
    },
    {
     "metadata": {},
     "name": "stderr",
     "output_type": "stream",
     "text": [
      "\r",
      " 79%|██████████████████████████████████████████████████████████████████████████████████████████████                         | 6327/8000 [04:51<01:04, 25.96it/s]"
     ]
    },
    {
     "metadata": {},
     "name": "stderr",
     "output_type": "stream",
     "text": [
      "\r",
      " 79%|██████████████████████████████████████████████████████████████████████████████████████████████▏                        | 6332/8000 [04:51<01:11, 23.19it/s]"
     ]
    },
    {
     "metadata": {},
     "name": "stderr",
     "output_type": "stream",
     "text": [
      "\r",
      " 79%|██████████████████████████████████████████████████████████████████████████████████████████████▏                        | 6336/8000 [04:52<01:17, 21.50it/s]"
     ]
    },
    {
     "metadata": {},
     "name": "stderr",
     "output_type": "stream",
     "text": [
      "\r",
      " 79%|██████████████████████████████████████████████████████████████████████████████████████████████▎                        | 6339/8000 [04:52<01:21, 20.49it/s]"
     ]
    },
    {
     "metadata": {},
     "name": "stderr",
     "output_type": "stream",
     "text": [
      "\r",
      " 79%|██████████████████████████████████████████████████████████████████████████████████████████████▎                        | 6342/8000 [04:52<01:25, 19.36it/s]"
     ]
    },
    {
     "metadata": {},
     "name": "stderr",
     "output_type": "stream",
     "text": [
      "\r",
      " 79%|██████████████████████████████████████████████████████████████████████████████████████████████▍                        | 6345/8000 [04:52<01:28, 18.72it/s]"
     ]
    },
    {
     "metadata": {},
     "name": "stderr",
     "output_type": "stream",
     "text": [
      "\r",
      " 79%|██████████████████████████████████████████████████████████████████████████████████████████████▍                        | 6348/8000 [04:52<01:30, 18.23it/s]"
     ]
    },
    {
     "metadata": {},
     "name": "stderr",
     "output_type": "stream",
     "text": [
      "\r",
      " 79%|██████████████████████████████████████████████████████████████████████████████████████████████▌                        | 6353/8000 [04:52<01:10, 23.20it/s]"
     ]
    },
    {
     "metadata": {},
     "name": "stderr",
     "output_type": "stream",
     "text": [
      "\r",
      " 79%|██████████████████████████████████████████████████████████████████████████████████████████████▌                        | 6358/8000 [04:53<01:24, 19.33it/s]"
     ]
    },
    {
     "metadata": {},
     "name": "stderr",
     "output_type": "stream",
     "text": [
      "\r",
      " 80%|██████████████████████████████████████████████████████████████████████████████████████████████▌                        | 6361/8000 [04:53<01:46, 15.45it/s]"
     ]
    },
    {
     "metadata": {},
     "name": "stderr",
     "output_type": "stream",
     "text": [
      "\r",
      " 80%|██████████████████████████████████████████████████████████████████████████████████████████████▊                        | 6373/8000 [04:53<00:53, 30.23it/s]"
     ]
    },
    {
     "metadata": {},
     "name": "stderr",
     "output_type": "stream",
     "text": [
      "\r",
      " 80%|██████████████████████████████████████████████████████████████████████████████████████████████▉                        | 6379/8000 [04:54<01:05, 24.85it/s]"
     ]
    },
    {
     "metadata": {},
     "name": "stderr",
     "output_type": "stream",
     "text": [
      "\r",
      " 80%|██████████████████████████████████████████████████████████████████████████████████████████████▉                        | 6384/8000 [04:54<00:59, 27.27it/s]"
     ]
    },
    {
     "metadata": {},
     "name": "stderr",
     "output_type": "stream",
     "text": [
      "\r",
      " 80%|███████████████████████████████████████████████████████████████████████████████████████████████                        | 6388/8000 [04:54<01:03, 25.39it/s]"
     ]
    },
    {
     "metadata": {},
     "name": "stderr",
     "output_type": "stream",
     "text": [
      "\r",
      " 80%|███████████████████████████████████████████████████████████████████████████████████████████████▏                       | 6396/8000 [04:54<00:46, 34.29it/s]"
     ]
    },
    {
     "metadata": {},
     "name": "stderr",
     "output_type": "stream",
     "text": [
      "\r",
      " 80%|███████████████████████████████████████████████████████████████████████████████████████████████▏                       | 6401/8000 [04:55<01:23, 19.25it/s]"
     ]
    },
    {
     "metadata": {},
     "name": "stderr",
     "output_type": "stream",
     "text": [
      "\r",
      " 80%|███████████████████████████████████████████████████████████████████████████████████████████████▎                       | 6405/8000 [04:55<01:57, 13.63it/s]"
     ]
    },
    {
     "metadata": {},
     "name": "stderr",
     "output_type": "stream",
     "text": [
      "\r",
      " 80%|███████████████████████████████████████████████████████████████████████████████████████████████▍                       | 6417/8000 [04:55<01:05, 24.25it/s]"
     ]
    },
    {
     "metadata": {},
     "name": "stderr",
     "output_type": "stream",
     "text": [
      "\r",
      " 80%|███████████████████████████████████████████████████████████████████████████████████████████████▌                       | 6427/8000 [04:55<00:46, 33.54it/s]"
     ]
    },
    {
     "metadata": {},
     "name": "stderr",
     "output_type": "stream",
     "text": [
      "\r",
      " 80%|███████████████████████████████████████████████████████████████████████████████████████████████▋                       | 6434/8000 [04:56<00:41, 37.91it/s]"
     ]
    },
    {
     "metadata": {},
     "name": "stderr",
     "output_type": "stream",
     "text": [
      "\r",
      " 81%|███████████████████████████████████████████████████████████████████████████████████████████████▊                       | 6441/8000 [04:56<00:51, 30.37it/s]"
     ]
    },
    {
     "metadata": {},
     "name": "stderr",
     "output_type": "stream",
     "text": [
      "\r",
      " 81%|███████████████████████████████████████████████████████████████████████████████████████████████▉                       | 6448/8000 [04:56<00:43, 36.08it/s]"
     ]
    },
    {
     "metadata": {},
     "name": "stderr",
     "output_type": "stream",
     "text": [
      "\r",
      " 81%|████████████████████████████████████████████████████████████████████████████████████████████████                       | 6456/8000 [04:56<00:35, 42.90it/s]"
     ]
    },
    {
     "metadata": {},
     "name": "stderr",
     "output_type": "stream",
     "text": [
      "\r",
      " 81%|████████████████████████████████████████████████████████████████████████████████████████████████▏                      | 6466/8000 [04:56<00:28, 53.81it/s]"
     ]
    },
    {
     "metadata": {},
     "name": "stderr",
     "output_type": "stream",
     "text": [
      "\r",
      " 81%|████████████████████████████████████████████████████████████████████████████████████████████████▍                      | 6479/8000 [04:56<00:21, 69.39it/s]"
     ]
    },
    {
     "metadata": {},
     "name": "stderr",
     "output_type": "stream",
     "text": [
      "\r",
      " 81%|████████████████████████████████████████████████████████████████████████████████████████████████▌                      | 6491/8000 [04:56<00:18, 81.10it/s]"
     ]
    },
    {
     "metadata": {},
     "name": "stderr",
     "output_type": "stream",
     "text": [
      "\r",
      " 81%|████████████████████████████████████████████████████████████████████████████████████████████████▋                      | 6503/8000 [04:57<00:16, 90.68it/s]"
     ]
    },
    {
     "metadata": {},
     "name": "stderr",
     "output_type": "stream",
     "text": [
      "\r",
      " 81%|████████████████████████████████████████████████████████████████████████████████████████████████▉                      | 6516/8000 [04:57<00:15, 98.91it/s]"
     ]
    },
    {
     "metadata": {},
     "name": "stderr",
     "output_type": "stream",
     "text": [
      "\r",
      " 82%|█████████████████████████████████████████████████████████████████████████████████████████████████                      | 6527/8000 [04:57<00:32, 45.44it/s]"
     ]
    },
    {
     "metadata": {},
     "name": "stderr",
     "output_type": "stream",
     "text": [
      "\r",
      " 82%|█████████████████████████████████████████████████████████████████████████████████████████████████▏                     | 6536/8000 [04:58<00:41, 34.96it/s]"
     ]
    },
    {
     "metadata": {},
     "name": "stderr",
     "output_type": "stream",
     "text": [
      "\r",
      " 82%|█████████████████████████████████████████████████████████████████████████████████████████████████▎                     | 6543/8000 [04:58<01:02, 23.39it/s]"
     ]
    },
    {
     "metadata": {},
     "name": "stderr",
     "output_type": "stream",
     "text": [
      "\r",
      " 82%|█████████████████████████████████████████████████████████████████████████████████████████████████▍                     | 6548/8000 [04:59<01:09, 20.87it/s]"
     ]
    },
    {
     "metadata": {},
     "name": "stderr",
     "output_type": "stream",
     "text": [
      "\r",
      " 82%|█████████████████████████████████████████████████████████████████████████████████████████████████▌                     | 6560/8000 [04:59<00:47, 30.55it/s]"
     ]
    },
    {
     "metadata": {},
     "name": "stderr",
     "output_type": "stream",
     "text": [
      "\r",
      " 82%|█████████████████████████████████████████████████████████████████████████████████████████████████▊                     | 6573/8000 [04:59<00:33, 42.36it/s]"
     ]
    },
    {
     "metadata": {},
     "name": "stderr",
     "output_type": "stream",
     "text": [
      "\r",
      " 82%|█████████████████████████████████████████████████████████████████████████████████████████████████▉                     | 6585/8000 [04:59<00:26, 53.79it/s]"
     ]
    },
    {
     "metadata": {},
     "name": "stderr",
     "output_type": "stream",
     "text": [
      "\r",
      " 82%|██████████████████████████████████████████████████████████████████████████████████████████████████▏                    | 6597/8000 [04:59<00:21, 64.80it/s]"
     ]
    },
    {
     "metadata": {},
     "name": "stderr",
     "output_type": "stream",
     "text": [
      "\r",
      " 83%|██████████████████████████████████████████████████████████████████████████████████████████████████▎                    | 6610/8000 [04:59<00:18, 76.60it/s]"
     ]
    },
    {
     "metadata": {},
     "name": "stderr",
     "output_type": "stream",
     "text": [
      "\r",
      " 83%|██████████████████████████████████████████████████████████████████████████████████████████████████▌                    | 6622/8000 [04:59<00:16, 85.80it/s]"
     ]
    },
    {
     "metadata": {},
     "name": "stderr",
     "output_type": "stream",
     "text": [
      "\r",
      " 83%|██████████████████████████████████████████████████████████████████████████████████████████████████▋                    | 6635/8000 [04:59<00:14, 94.46it/s]"
     ]
    },
    {
     "metadata": {},
     "name": "stderr",
     "output_type": "stream",
     "text": [
      "\r",
      " 83%|██████████████████████████████████████████████████████████████████████████████████████████████████                    | 6648/8000 [04:59<00:13, 101.27it/s]"
     ]
    },
    {
     "metadata": {},
     "name": "stderr",
     "output_type": "stream",
     "text": [
      "\r",
      " 83%|██████████████████████████████████████████████████████████████████████████████████████████████████▏                   | 6661/8000 [05:00<00:12, 106.66it/s]"
     ]
    },
    {
     "metadata": {},
     "name": "stderr",
     "output_type": "stream",
     "text": [
      "\r",
      " 83%|██████████████████████████████████████████████████████████████████████████████████████████████████▍                   | 6673/8000 [05:00<00:12, 110.19it/s]"
     ]
    },
    {
     "metadata": {},
     "name": "stderr",
     "output_type": "stream",
     "text": [
      "\r",
      " 84%|███████████████████████████████████████████████████████████████████████████████████████████████████▍                   | 6685/8000 [05:00<00:25, 52.04it/s]"
     ]
    },
    {
     "metadata": {},
     "name": "stderr",
     "output_type": "stream",
     "text": [
      "\r",
      " 84%|███████████████████████████████████████████████████████████████████████████████████████████████████▌                   | 6694/8000 [05:02<01:10, 18.62it/s]"
     ]
    },
    {
     "metadata": {},
     "name": "stderr",
     "output_type": "stream",
     "text": [
      "\r",
      " 84%|███████████████████████████████████████████████████████████████████████████████████████████████████▋                   | 6701/8000 [05:02<00:59, 21.97it/s]"
     ]
    },
    {
     "metadata": {},
     "name": "stderr",
     "output_type": "stream",
     "text": [
      "\r",
      " 84%|███████████████████████████████████████████████████████████████████████████████████████████████████▊                   | 6709/8000 [05:02<00:47, 26.92it/s]"
     ]
    },
    {
     "metadata": {},
     "name": "stderr",
     "output_type": "stream",
     "text": [
      "\r",
      " 84%|███████████████████████████████████████████████████████████████████████████████████████████████████▉                   | 6717/8000 [05:02<00:39, 32.50it/s]"
     ]
    },
    {
     "metadata": {},
     "name": "stderr",
     "output_type": "stream",
     "text": [
      "\r",
      " 84%|████████████████████████████████████████████████████████████████████████████████████████████████████                   | 6725/8000 [05:02<00:32, 38.64it/s]"
     ]
    },
    {
     "metadata": {},
     "name": "stderr",
     "output_type": "stream",
     "text": [
      "\r",
      " 84%|████████████████████████████████████████████████████████████████████████████████████████████████████▏                  | 6733/8000 [05:02<00:28, 44.82it/s]"
     ]
    },
    {
     "metadata": {},
     "name": "stderr",
     "output_type": "stream",
     "text": [
      "\r",
      " 84%|████████████████████████████████████████████████████████████████████████████████████████████████████▎                  | 6741/8000 [05:02<00:24, 50.68it/s]"
     ]
    },
    {
     "metadata": {},
     "name": "stderr",
     "output_type": "stream",
     "text": [
      "\r",
      " 84%|████████████████████████████████████████████████████████████████████████████████████████████████████▍                  | 6749/8000 [05:02<00:22, 56.41it/s]"
     ]
    },
    {
     "metadata": {},
     "name": "stderr",
     "output_type": "stream",
     "text": [
      "\r",
      " 84%|████████████████████████████████████████████████████████████████████████████████████████████████████▌                  | 6757/8000 [05:02<00:20, 61.46it/s]"
     ]
    },
    {
     "metadata": {},
     "name": "stderr",
     "output_type": "stream",
     "text": [
      "\r",
      " 85%|████████████████████████████████████████████████████████████████████████████████████████████████████▋                  | 6765/8000 [05:03<00:18, 65.31it/s]"
     ]
    },
    {
     "metadata": {},
     "name": "stderr",
     "output_type": "stream",
     "text": [
      "\r",
      " 85%|████████████████████████████████████████████████████████████████████████████████████████████████████▋                  | 6773/8000 [05:03<00:17, 68.53it/s]"
     ]
    },
    {
     "metadata": {},
     "name": "stderr",
     "output_type": "stream",
     "text": [
      "\r",
      " 85%|████████████████████████████████████████████████████████████████████████████████████████████████████▊                  | 6781/8000 [05:03<00:17, 70.23it/s]"
     ]
    },
    {
     "metadata": {},
     "name": "stderr",
     "output_type": "stream",
     "text": [
      "\r",
      " 85%|████████████████████████████████████████████████████████████████████████████████████████████████████▉                  | 6789/8000 [05:03<00:16, 71.98it/s]"
     ]
    },
    {
     "metadata": {},
     "name": "stderr",
     "output_type": "stream",
     "text": [
      "\r",
      " 85%|█████████████████████████████████████████████████████████████████████████████████████████████████████                  | 6797/8000 [05:03<00:16, 71.49it/s]"
     ]
    },
    {
     "metadata": {},
     "name": "stderr",
     "output_type": "stream",
     "text": [
      "\r",
      " 85%|█████████████████████████████████████████████████████████████████████████████████████████████████████▏                 | 6805/8000 [05:03<00:16, 73.41it/s]"
     ]
    },
    {
     "metadata": {},
     "name": "stderr",
     "output_type": "stream",
     "text": [
      "\r",
      " 85%|█████████████████████████████████████████████████████████████████████████████████████████████████████▎                 | 6813/8000 [05:03<00:17, 66.35it/s]"
     ]
    },
    {
     "metadata": {},
     "name": "stderr",
     "output_type": "stream",
     "text": [
      "\r",
      " 85%|█████████████████████████████████████████████████████████████████████████████████████████████████████▍                 | 6820/8000 [05:03<00:17, 66.36it/s]"
     ]
    },
    {
     "metadata": {},
     "name": "stderr",
     "output_type": "stream",
     "text": [
      "\r",
      " 85%|█████████████████████████████████████████████████████████████████████████████████████████████████████▌                 | 6831/8000 [05:03<00:15, 77.82it/s]"
     ]
    },
    {
     "metadata": {},
     "name": "stderr",
     "output_type": "stream",
     "text": [
      "\r",
      " 86%|█████████████████████████████████████████████████████████████████████████████████████████████████████▋                 | 6840/8000 [05:04<00:16, 70.48it/s]"
     ]
    },
    {
     "metadata": {},
     "name": "stderr",
     "output_type": "stream",
     "text": [
      "\r",
      " 86%|█████████████████████████████████████████████████████████████████████████████████████████████████████▊                 | 6848/8000 [05:04<00:27, 42.23it/s]"
     ]
    },
    {
     "metadata": {},
     "name": "stderr",
     "output_type": "stream",
     "text": [
      "\r",
      " 86%|██████████████████████████████████████████████████████████████████████████████████████████████████████                 | 6859/8000 [05:04<00:21, 53.76it/s]"
     ]
    },
    {
     "metadata": {},
     "name": "stderr",
     "output_type": "stream",
     "text": [
      "\r",
      " 86%|██████████████████████████████████████████████████████████████████████████████████████████████████████▏                | 6867/8000 [05:04<00:25, 44.05it/s]"
     ]
    },
    {
     "metadata": {},
     "name": "stderr",
     "output_type": "stream",
     "text": [
      "\r",
      " 86%|██████████████████████████████████████████████████████████████████████████████████████████████████████▎                | 6879/8000 [05:04<00:19, 57.25it/s]"
     ]
    },
    {
     "metadata": {},
     "name": "stderr",
     "output_type": "stream",
     "text": [
      "\r",
      " 86%|██████████████████████████████████████████████████████████████████████████████████████████████████████▍                | 6887/8000 [05:05<00:27, 39.98it/s]"
     ]
    },
    {
     "metadata": {},
     "name": "stderr",
     "output_type": "stream",
     "text": [
      "\r",
      " 86%|██████████████████████████████████████████████████████████████████████████████████████████████████████▌                | 6894/8000 [05:05<00:34, 32.15it/s]"
     ]
    },
    {
     "metadata": {},
     "name": "stderr",
     "output_type": "stream",
     "text": [
      "\r",
      " 86%|██████████████████████████████████████████████████████████████████████████████████████████████████████▌                | 6899/8000 [05:06<00:42, 25.69it/s]"
     ]
    },
    {
     "metadata": {},
     "name": "stderr",
     "output_type": "stream",
     "text": [
      "\r",
      " 86%|██████████████████████████████████████████████████████████████████████████████████████████████████████▋                | 6903/8000 [05:06<00:40, 26.89it/s]"
     ]
    },
    {
     "metadata": {},
     "name": "stderr",
     "output_type": "stream",
     "text": [
      "\r",
      " 86%|██████████████████████████████████████████████████████████████████████████████████████████████████████▋                | 6907/8000 [05:06<00:58, 18.76it/s]"
     ]
    },
    {
     "metadata": {},
     "name": "stderr",
     "output_type": "stream",
     "text": [
      "\r",
      " 86%|██████████████████████████████████████████████████████████████████████████████████████████████████████▊                | 6910/8000 [05:06<01:06, 16.35it/s]"
     ]
    },
    {
     "metadata": {},
     "name": "stderr",
     "output_type": "stream",
     "text": [
      "\r",
      " 86%|██████████████████████████████████████████████████████████████████████████████████████████████████████▊                | 6913/8000 [05:07<01:31, 11.88it/s]"
     ]
    },
    {
     "metadata": {},
     "name": "stderr",
     "output_type": "stream",
     "text": [
      "\r",
      " 86%|██████████████████████████████████████████████████████████████████████████████████████████████████████▉                | 6916/8000 [05:07<01:29, 12.16it/s]"
     ]
    },
    {
     "metadata": {},
     "name": "stderr",
     "output_type": "stream",
     "text": [
      "\r",
      " 86%|██████████████████████████████████████████████████████████████████████████████████████████████████████▉                | 6918/8000 [05:08<01:51,  9.71it/s]"
     ]
    },
    {
     "metadata": {},
     "name": "stderr",
     "output_type": "stream",
     "text": [
      "\r",
      " 86%|██████████████████████████████████████████████████████████████████████████████████████████████████████▉                | 6920/8000 [05:08<02:11,  8.18it/s]"
     ]
    },
    {
     "metadata": {},
     "name": "stderr",
     "output_type": "stream",
     "text": [
      "\r",
      " 87%|██████████████████████████████████████████████████████████████████████████████████████████████████████▉                | 6922/8000 [05:08<02:30,  7.14it/s]"
     ]
    },
    {
     "metadata": {},
     "name": "stderr",
     "output_type": "stream",
     "text": [
      "\r",
      " 87%|██████████████████████████████████████████████████████████████████████████████████████████████████████▉                | 6923/8000 [05:09<02:39,  6.75it/s]"
     ]
    },
    {
     "metadata": {},
     "name": "stderr",
     "output_type": "stream",
     "text": [
      "\r",
      " 87%|██████████████████████████████████████████████████████████████████████████████████████████████████████▉                | 6924/8000 [05:09<02:47,  6.41it/s]"
     ]
    },
    {
     "metadata": {},
     "name": "stderr",
     "output_type": "stream",
     "text": [
      "\r",
      " 87%|███████████████████████████████████████████████████████████████████████████████████████████████████████                | 6925/8000 [05:09<02:56,  6.10it/s]"
     ]
    },
    {
     "metadata": {},
     "name": "stderr",
     "output_type": "stream",
     "text": [
      "\r",
      " 87%|███████████████████████████████████████████████████████████████████████████████████████████████████████                | 6926/8000 [05:09<03:04,  5.82it/s]"
     ]
    },
    {
     "metadata": {},
     "name": "stderr",
     "output_type": "stream",
     "text": [
      "\r",
      " 87%|███████████████████████████████████████████████████████████████████████████████████████████████████████                | 6927/8000 [05:09<03:10,  5.63it/s]"
     ]
    },
    {
     "metadata": {},
     "name": "stderr",
     "output_type": "stream",
     "text": [
      "\r",
      " 87%|███████████████████████████████████████████████████████████████████████████████████████████████████████                | 6928/8000 [05:10<03:14,  5.50it/s]"
     ]
    },
    {
     "metadata": {},
     "name": "stderr",
     "output_type": "stream",
     "text": [
      "\r",
      " 87%|███████████████████████████████████████████████████████████████████████████████████████████████████████                | 6929/8000 [05:10<03:24,  5.24it/s]"
     ]
    },
    {
     "metadata": {},
     "name": "stderr",
     "output_type": "stream",
     "text": [
      "\r",
      " 87%|███████████████████████████████████████████████████████████████████████████████████████████████████████                | 6930/8000 [05:10<03:26,  5.19it/s]"
     ]
    },
    {
     "metadata": {},
     "name": "stderr",
     "output_type": "stream",
     "text": [
      "\r",
      " 87%|███████████████████████████████████████████████████████████████████████████████████████████████████████                | 6931/8000 [05:10<03:31,  5.05it/s]"
     ]
    },
    {
     "metadata": {},
     "name": "stderr",
     "output_type": "stream",
     "text": [
      "\r",
      " 87%|███████████████████████████████████████████████████████████████████████████████████████████████████████                | 6932/8000 [05:10<03:31,  5.06it/s]"
     ]
    },
    {
     "metadata": {},
     "name": "stderr",
     "output_type": "stream",
     "text": [
      "\r",
      " 87%|███████████████████████████████████████████████████████████████████████████████████████████████████████▏               | 6933/8000 [05:11<03:30,  5.07it/s]"
     ]
    },
    {
     "metadata": {},
     "name": "stderr",
     "output_type": "stream",
     "text": [
      "\r",
      " 87%|███████████████████████████████████████████████████████████████████████████████████████████████████████▏               | 6934/8000 [05:11<03:29,  5.08it/s]"
     ]
    },
    {
     "metadata": {},
     "name": "stderr",
     "output_type": "stream",
     "text": [
      "\r",
      " 87%|███████████████████████████████████████████████████████████████████████████████████████████████████████▏               | 6935/8000 [05:11<03:30,  5.07it/s]"
     ]
    },
    {
     "metadata": {},
     "name": "stderr",
     "output_type": "stream",
     "text": [
      "\r",
      " 87%|███████████████████████████████████████████████████████████████████████████████████████████████████████▏               | 6936/8000 [05:11<03:33,  4.98it/s]"
     ]
    },
    {
     "metadata": {},
     "name": "stderr",
     "output_type": "stream",
     "text": [
      "\r",
      " 87%|███████████████████████████████████████████████████████████████████████████████████████████████████████▏               | 6937/8000 [05:11<03:32,  5.01it/s]"
     ]
    },
    {
     "metadata": {},
     "name": "stderr",
     "output_type": "stream",
     "text": [
      "\r",
      " 87%|███████████████████████████████████████████████████████████████████████████████████████████████████████▏               | 6938/8000 [05:12<03:29,  5.07it/s]"
     ]
    },
    {
     "metadata": {},
     "name": "stderr",
     "output_type": "stream",
     "text": [
      "\r",
      " 87%|███████████████████████████████████████████████████████████████████████████████████████████████████████▏               | 6939/8000 [05:12<03:42,  4.77it/s]"
     ]
    },
    {
     "metadata": {},
     "name": "stderr",
     "output_type": "stream",
     "text": [
      "\r",
      " 87%|███████████████████████████████████████████████████████████████████████████████████████████████████████▏               | 6940/8000 [05:12<04:22,  4.04it/s]"
     ]
    },
    {
     "metadata": {},
     "name": "stderr",
     "output_type": "stream",
     "text": [
      "\r",
      " 87%|███████████████████████████████████████████████████████████████████████████████████████████████████████▏               | 6941/8000 [05:12<04:33,  3.87it/s]"
     ]
    },
    {
     "metadata": {},
     "name": "stderr",
     "output_type": "stream",
     "text": [
      "\r",
      " 87%|███████████████████████████████████████████████████████████████████████████████████████████████████████▎               | 6942/8000 [05:13<04:30,  3.92it/s]"
     ]
    },
    {
     "metadata": {},
     "name": "stderr",
     "output_type": "stream",
     "text": [
      "\r",
      " 87%|███████████████████████████████████████████████████████████████████████████████████████████████████████▎               | 6943/8000 [05:13<04:19,  4.07it/s]"
     ]
    },
    {
     "metadata": {},
     "name": "stderr",
     "output_type": "stream",
     "text": [
      "\r",
      " 87%|███████████████████████████████████████████████████████████████████████████████████████████████████████▎               | 6944/8000 [05:13<04:28,  3.94it/s]"
     ]
    },
    {
     "metadata": {},
     "name": "stderr",
     "output_type": "stream",
     "text": [
      "\r",
      " 87%|███████████████████████████████████████████████████████████████████████████████████████████████████████▎               | 6945/8000 [05:13<04:16,  4.11it/s]"
     ]
    },
    {
     "metadata": {},
     "name": "stderr",
     "output_type": "stream",
     "text": [
      "\r",
      " 87%|███████████████████████████████████████████████████████████████████████████████████████████████████████▎               | 6946/8000 [05:14<04:50,  3.63it/s]"
     ]
    },
    {
     "metadata": {},
     "name": "stderr",
     "output_type": "stream",
     "text": [
      "\r",
      " 87%|███████████████████████████████████████████████████████████████████████████████████████████████████████▎               | 6947/8000 [05:14<05:13,  3.36it/s]"
     ]
    },
    {
     "metadata": {},
     "name": "stderr",
     "output_type": "stream",
     "text": [
      "\r",
      " 87%|███████████████████████████████████████████████████████████████████████████████████████████████████████▎               | 6949/8000 [05:14<03:28,  5.05it/s]"
     ]
    },
    {
     "metadata": {},
     "name": "stderr",
     "output_type": "stream",
     "text": [
      "\r",
      " 87%|███████████████████████████████████████████████████████████████████████████████████████████████████████▍               | 6951/8000 [05:14<02:50,  6.14it/s]"
     ]
    },
    {
     "metadata": {},
     "name": "stderr",
     "output_type": "stream",
     "text": [
      "\r",
      " 87%|███████████████████████████████████████████████████████████████████████████████████████████████████████▍               | 6952/8000 [05:15<02:45,  6.32it/s]"
     ]
    },
    {
     "metadata": {},
     "name": "stderr",
     "output_type": "stream",
     "text": [
      "\r",
      " 87%|███████████████████████████████████████████████████████████████████████████████████████████████████████▌               | 6963/8000 [05:15<00:44, 23.22it/s]"
     ]
    },
    {
     "metadata": {},
     "name": "stderr",
     "output_type": "stream",
     "text": [
      "\r",
      " 87%|███████████████████████████████████████████████████████████████████████████████████████████████████████▋               | 6973/8000 [05:15<00:40, 25.64it/s]"
     ]
    },
    {
     "metadata": {},
     "name": "stderr",
     "output_type": "stream",
     "text": [
      "\r",
      " 87%|███████████████████████████████████████████████████████████████████████████████████████████████████████▊               | 6977/8000 [05:16<01:24, 12.09it/s]"
     ]
    },
    {
     "metadata": {},
     "name": "stderr",
     "output_type": "stream",
     "text": [
      "\r",
      " 87%|███████████████████████████████████████████████████████████████████████████████████████████████████████▊               | 6980/8000 [05:17<01:53,  9.00it/s]"
     ]
    },
    {
     "metadata": {},
     "name": "stderr",
     "output_type": "stream",
     "text": [
      "\r",
      " 87%|███████████████████████████████████████████████████████████████████████████████████████████████████████▊               | 6982/8000 [05:17<02:11,  7.75it/s]"
     ]
    },
    {
     "metadata": {},
     "name": "stderr",
     "output_type": "stream",
     "text": [
      "\r",
      " 87%|███████████████████████████████████████████████████████████████████████████████████████████████████████▉               | 6984/8000 [05:18<02:26,  6.91it/s]"
     ]
    },
    {
     "metadata": {},
     "name": "stderr",
     "output_type": "stream",
     "text": [
      "\r",
      " 87%|███████████████████████████████████████████████████████████████████████████████████████████████████████▉               | 6986/8000 [05:18<02:45,  6.14it/s]"
     ]
    },
    {
     "metadata": {},
     "name": "stderr",
     "output_type": "stream",
     "text": [
      "\r",
      " 87%|███████████████████████████████████████████████████████████████████████████████████████████████████████▉               | 6987/8000 [05:18<02:53,  5.85it/s]"
     ]
    },
    {
     "metadata": {},
     "name": "stderr",
     "output_type": "stream",
     "text": [
      "\r",
      " 87%|███████████████████████████████████████████████████████████████████████████████████████████████████████▉               | 6988/8000 [05:19<03:14,  5.21it/s]"
     ]
    },
    {
     "metadata": {},
     "name": "stderr",
     "output_type": "stream",
     "text": [
      "\r",
      " 87%|███████████████████████████████████████████████████████████████████████████████████████████████████████▉               | 6989/8000 [05:19<03:39,  4.60it/s]"
     ]
    },
    {
     "metadata": {},
     "name": "stderr",
     "output_type": "stream",
     "text": [
      "\r",
      " 87%|███████████████████████████████████████████████████████████████████████████████████████████████████████▉               | 6990/8000 [05:19<04:07,  4.08it/s]"
     ]
    },
    {
     "metadata": {},
     "name": "stderr",
     "output_type": "stream",
     "text": [
      "\r",
      " 87%|███████████████████████████████████████████████████████████████████████████████████████████████████████▉               | 6991/8000 [05:20<04:24,  3.81it/s]"
     ]
    },
    {
     "metadata": {},
     "name": "stderr",
     "output_type": "stream",
     "text": [
      "\r",
      " 87%|████████████████████████████████████████████████████████████████████████████████████████████████████████               | 6992/8000 [05:20<04:38,  3.62it/s]"
     ]
    },
    {
     "metadata": {},
     "name": "stderr",
     "output_type": "stream",
     "text": [
      "\r",
      " 87%|████████████████████████████████████████████████████████████████████████████████████████████████████████               | 6993/8000 [05:20<04:57,  3.38it/s]"
     ]
    },
    {
     "metadata": {},
     "name": "stderr",
     "output_type": "stream",
     "text": [
      "\r",
      " 87%|████████████████████████████████████████████████████████████████████████████████████████████████████████               | 6994/8000 [05:21<05:02,  3.32it/s]"
     ]
    },
    {
     "metadata": {},
     "name": "stderr",
     "output_type": "stream",
     "text": [
      "\r",
      " 87%|████████████████████████████████████████████████████████████████████████████████████████████████████████               | 6995/8000 [05:21<05:03,  3.31it/s]"
     ]
    },
    {
     "metadata": {},
     "name": "stderr",
     "output_type": "stream",
     "text": [
      "\r",
      " 87%|████████████████████████████████████████████████████████████████████████████████████████████████████████               | 6996/8000 [05:21<05:51,  2.86it/s]"
     ]
    },
    {
     "metadata": {},
     "name": "stderr",
     "output_type": "stream",
     "text": [
      "\r",
      " 87%|████████████████████████████████████████████████████████████████████████████████████████████████████████               | 6997/8000 [05:22<06:22,  2.62it/s]"
     ]
    },
    {
     "metadata": {},
     "name": "stderr",
     "output_type": "stream",
     "text": [
      "\r",
      " 87%|████████████████████████████████████████████████████████████████████████████████████████████████████████               | 6998/8000 [05:22<05:32,  3.01it/s]"
     ]
    },
    {
     "metadata": {},
     "name": "stderr",
     "output_type": "stream",
     "text": [
      "\r",
      " 87%|████████████████████████████████████████████████████████████████████████████████████████████████████████               | 6999/8000 [05:23<06:27,  2.58it/s]"
     ]
    },
    {
     "metadata": {},
     "name": "stderr",
     "output_type": "stream",
     "text": [
      "\r",
      " 88%|████████████████████████████████████████████████████████████████████████████████████████████████████████▏              | 7000/8000 [05:23<05:06,  3.27it/s]"
     ]
    },
    {
     "metadata": {},
     "name": "stderr",
     "output_type": "stream",
     "text": [
      "\r",
      " 88%|████████████████████████████████████████████████████████████████████████████████████████████████████████▏              | 7001/8000 [05:23<05:37,  2.96it/s]"
     ]
    },
    {
     "metadata": {},
     "name": "stderr",
     "output_type": "stream",
     "text": [
      "\r",
      " 88%|████████████████████████████████████████████████████████████████████████████████████████████████████████▏              | 7002/8000 [05:23<04:57,  3.35it/s]"
     ]
    },
    {
     "metadata": {},
     "name": "stderr",
     "output_type": "stream",
     "text": [
      "\r",
      " 88%|████████████████████████████████████████████████████████████████████████████████████████████████████████▏              | 7003/8000 [05:23<04:28,  3.71it/s]"
     ]
    },
    {
     "metadata": {},
     "name": "stderr",
     "output_type": "stream",
     "text": [
      "\r",
      " 88%|████████████████████████████████████████████████████████████████████████████████████████████████████████▏              | 7004/8000 [05:24<04:13,  3.92it/s]"
     ]
    },
    {
     "metadata": {},
     "name": "stderr",
     "output_type": "stream",
     "text": [
      "\r",
      " 88%|████████████████████████████████████████████████████████████████████████████████████████████████████████▏              | 7005/8000 [05:24<03:57,  4.19it/s]"
     ]
    },
    {
     "metadata": {},
     "name": "stderr",
     "output_type": "stream",
     "text": [
      "\r",
      " 88%|████████████████████████████████████████████████████████████████████████████████████████████████████████▏              | 7006/8000 [05:24<03:50,  4.31it/s]"
     ]
    },
    {
     "metadata": {},
     "name": "stderr",
     "output_type": "stream",
     "text": [
      "\r",
      " 88%|████████████████████████████████████████████████████████████████████████████████████████████████████████▏              | 7007/8000 [05:24<03:41,  4.48it/s]"
     ]
    },
    {
     "metadata": {},
     "name": "stderr",
     "output_type": "stream",
     "text": [
      "\r",
      " 88%|████████████████████████████████████████████████████████████████████████████████████████████████████████▏              | 7008/8000 [05:25<03:34,  4.62it/s]"
     ]
    },
    {
     "metadata": {},
     "name": "stderr",
     "output_type": "stream",
     "text": [
      "\r",
      " 88%|████████████████████████████████████████████████████████████████████████████████████████████████████████▎              | 7009/8000 [05:25<03:29,  4.72it/s]"
     ]
    },
    {
     "metadata": {},
     "name": "stderr",
     "output_type": "stream",
     "text": [
      "\r",
      " 88%|████████████████████████████████████████████████████████████████████████████████████████████████████████▎              | 7010/8000 [05:25<03:27,  4.78it/s]"
     ]
    },
    {
     "metadata": {},
     "name": "stderr",
     "output_type": "stream",
     "text": [
      "\r",
      " 88%|████████████████████████████████████████████████████████████████████████████████████████████████████████▎              | 7011/8000 [05:25<03:28,  4.73it/s]"
     ]
    },
    {
     "metadata": {},
     "name": "stderr",
     "output_type": "stream",
     "text": [
      "\r",
      " 88%|████████████████████████████████████████████████████████████████████████████████████████████████████████▎              | 7012/8000 [05:25<03:27,  4.77it/s]"
     ]
    },
    {
     "metadata": {},
     "name": "stderr",
     "output_type": "stream",
     "text": [
      "\r",
      " 88%|████████████████████████████████████████████████████████████████████████████████████████████████████████▎              | 7013/8000 [05:26<03:26,  4.78it/s]"
     ]
    },
    {
     "metadata": {},
     "name": "stderr",
     "output_type": "stream",
     "text": [
      "\r",
      " 88%|████████████████████████████████████████████████████████████████████████████████████████████████████████▎              | 7014/8000 [05:26<03:50,  4.27it/s]"
     ]
    },
    {
     "metadata": {},
     "name": "stderr",
     "output_type": "stream",
     "text": [
      "\r",
      " 88%|████████████████████████████████████████████████████████████████████████████████████████████████████████▎              | 7015/8000 [05:26<04:10,  3.93it/s]"
     ]
    },
    {
     "metadata": {},
     "name": "stderr",
     "output_type": "stream",
     "text": [
      "\r",
      " 88%|████████████████████████████████████████████████████████████████████████████████████████████████████████▎              | 7016/8000 [05:26<03:55,  4.18it/s]"
     ]
    },
    {
     "metadata": {},
     "name": "stderr",
     "output_type": "stream",
     "text": [
      "\r",
      " 88%|████████████████████████████████████████████████████████████████████████████████████████████████████████▍              | 7017/8000 [05:27<04:20,  3.77it/s]"
     ]
    },
    {
     "metadata": {},
     "name": "stderr",
     "output_type": "stream",
     "text": [
      "\r",
      " 88%|████████████████████████████████████████████████████████████████████████████████████████████████████████▍              | 7018/8000 [05:27<05:07,  3.20it/s]"
     ]
    },
    {
     "metadata": {},
     "name": "stderr",
     "output_type": "stream",
     "text": [
      "\r",
      " 88%|████████████████████████████████████████████████████████████████████████████████████████████████████████▍              | 7019/8000 [05:27<05:20,  3.06it/s]"
     ]
    },
    {
     "metadata": {},
     "name": "stderr",
     "output_type": "stream",
     "text": [
      "\r",
      " 88%|████████████████████████████████████████████████████████████████████████████████████████████████████████▍              | 7020/8000 [05:28<04:54,  3.33it/s]"
     ]
    },
    {
     "metadata": {},
     "name": "stderr",
     "output_type": "stream",
     "text": [
      "\r",
      " 88%|████████████████████████████████████████████████████████████████████████████████████████████████████████▌              | 7032/8000 [05:28<00:54, 17.76it/s]"
     ]
    },
    {
     "metadata": {},
     "name": "stderr",
     "output_type": "stream",
     "text": [
      "\r",
      " 88%|████████████████████████████████████████████████████████████████████████████████████████████████████████▋              | 7040/8000 [05:28<00:37, 25.39it/s]"
     ]
    },
    {
     "metadata": {},
     "name": "stderr",
     "output_type": "stream",
     "text": [
      "\r",
      " 88%|████████████████████████████████████████████████████████████████████████████████████████████████████████▊              | 7045/8000 [05:28<00:34, 27.64it/s]"
     ]
    },
    {
     "metadata": {},
     "name": "stderr",
     "output_type": "stream",
     "text": [
      "\r",
      " 88%|████████████████████████████████████████████████████████████████████████████████████████████████████████▉              | 7054/8000 [05:28<00:36, 25.57it/s]"
     ]
    },
    {
     "metadata": {},
     "name": "stderr",
     "output_type": "stream",
     "text": [
      "\r",
      " 88%|████████████████████████████████████████████████████████████████████████████████████████████████████████▉              | 7058/8000 [05:30<01:29, 10.49it/s]"
     ]
    },
    {
     "metadata": {},
     "name": "stderr",
     "output_type": "stream",
     "text": [
      "\r",
      " 88%|█████████████████████████████████████████████████████████████████████████████████████████████████████████              | 7061/8000 [05:31<02:14,  6.99it/s]"
     ]
    },
    {
     "metadata": {},
     "name": "stderr",
     "output_type": "stream",
     "text": [
      "\r",
      " 88%|█████████████████████████████████████████████████████████████████████████████████████████████████████████              | 7063/8000 [05:31<02:32,  6.15it/s]"
     ]
    },
    {
     "metadata": {},
     "name": "stderr",
     "output_type": "stream",
     "text": [
      "\r",
      " 88%|█████████████████████████████████████████████████████████████████████████████████████████████████████████              | 7065/8000 [05:32<02:53,  5.38it/s]"
     ]
    },
    {
     "metadata": {},
     "name": "stderr",
     "output_type": "stream",
     "text": [
      "\r",
      " 88%|█████████████████████████████████████████████████████████████████████████████████████████████████████████              | 7067/8000 [05:32<03:13,  4.82it/s]"
     ]
    },
    {
     "metadata": {},
     "name": "stderr",
     "output_type": "stream",
     "text": [
      "\r",
      " 88%|█████████████████████████████████████████████████████████████████████████████████████████████████████████▏             | 7068/8000 [05:33<03:23,  4.58it/s]"
     ]
    },
    {
     "metadata": {},
     "name": "stderr",
     "output_type": "stream",
     "text": [
      "\r",
      " 88%|█████████████████████████████████████████████████████████████████████████████████████████████████████████▏             | 7069/8000 [05:33<03:36,  4.30it/s]"
     ]
    },
    {
     "metadata": {},
     "name": "stderr",
     "output_type": "stream",
     "text": [
      "\r",
      " 88%|█████████████████████████████████████████████████████████████████████████████████████████████████████████▏             | 7070/8000 [05:33<03:50,  4.04it/s]"
     ]
    },
    {
     "metadata": {},
     "name": "stderr",
     "output_type": "stream",
     "text": [
      "\r",
      " 88%|█████████████████████████████████████████████████████████████████████████████████████████████████████████▏             | 7071/8000 [05:34<03:56,  3.92it/s]"
     ]
    },
    {
     "metadata": {},
     "name": "stderr",
     "output_type": "stream",
     "text": [
      "\r",
      " 88%|█████████████████████████████████████████████████████████████████████████████████████████████████████████▏             | 7072/8000 [05:34<04:04,  3.79it/s]"
     ]
    },
    {
     "metadata": {},
     "name": "stderr",
     "output_type": "stream",
     "text": [
      "\r",
      " 88%|█████████████████████████████████████████████████████████████████████████████████████████████████████████▏             | 7073/8000 [05:34<04:13,  3.65it/s]"
     ]
    },
    {
     "metadata": {},
     "name": "stderr",
     "output_type": "stream",
     "text": [
      "\r",
      " 88%|█████████████████████████████████████████████████████████████████████████████████████████████████████████▏             | 7074/8000 [05:35<04:24,  3.50it/s]"
     ]
    },
    {
     "metadata": {},
     "name": "stderr",
     "output_type": "stream",
     "text": [
      "\r",
      " 88%|█████████████████████████████████████████████████████████████████████████████████████████████████████████▏             | 7075/8000 [05:35<04:44,  3.25it/s]"
     ]
    },
    {
     "metadata": {},
     "name": "stderr",
     "output_type": "stream",
     "text": [
      "\r",
      " 88%|█████████████████████████████████████████████████████████████████████████████████████████████████████████▎             | 7076/8000 [05:35<05:10,  2.98it/s]"
     ]
    },
    {
     "metadata": {},
     "name": "stderr",
     "output_type": "stream",
     "text": [
      "\r",
      " 89%|█████████████████████████████████████████████████████████████████████████████████████████████████████████▍             | 7086/8000 [05:35<01:09, 13.18it/s]"
     ]
    },
    {
     "metadata": {},
     "name": "stderr",
     "output_type": "stream",
     "text": [
      "\r",
      " 89%|█████████████████████████████████████████████████████████████████████████████████████████████████████████▌             | 7094/8000 [05:36<00:41, 21.70it/s]"
     ]
    },
    {
     "metadata": {},
     "name": "stderr",
     "output_type": "stream",
     "text": [
      "\r",
      " 89%|█████████████████████████████████████████████████████████████████████████████████████████████████████████▋             | 7104/8000 [05:36<00:26, 33.73it/s]"
     ]
    },
    {
     "metadata": {},
     "name": "stderr",
     "output_type": "stream",
     "text": [
      "\r",
      " 89%|█████████████████████████████████████████████████████████████████████████████████████████████████████████▊             | 7116/8000 [05:36<00:18, 48.71it/s]"
     ]
    },
    {
     "metadata": {},
     "name": "stderr",
     "output_type": "stream",
     "text": [
      "\r",
      " 89%|██████████████████████████████████████████████████████████████████████████████████████████████████████████             | 7128/8000 [05:36<00:13, 62.31it/s]"
     ]
    },
    {
     "metadata": {},
     "name": "stderr",
     "output_type": "stream",
     "text": [
      "\r",
      " 89%|██████████████████████████████████████████████████████████████████████████████████████████████████████████▏            | 7137/8000 [05:36<00:21, 40.55it/s]"
     ]
    },
    {
     "metadata": {},
     "name": "stderr",
     "output_type": "stream",
     "text": [
      "\r",
      " 89%|██████████████████████████████████████████████████████████████████████████████████████████████████████████▎            | 7144/8000 [05:36<00:19, 43.99it/s]"
     ]
    },
    {
     "metadata": {},
     "name": "stderr",
     "output_type": "stream",
     "text": [
      "\r",
      " 89%|██████████████████████████████████████████████████████████████████████████████████████████████████████████▎            | 7151/8000 [05:37<00:35, 23.69it/s]"
     ]
    },
    {
     "metadata": {},
     "name": "stderr",
     "output_type": "stream",
     "text": [
      "\r",
      " 89%|██████████████████████████████████████████████████████████████████████████████████████████████████████████▍            | 7156/8000 [05:38<00:50, 16.75it/s]"
     ]
    },
    {
     "metadata": {},
     "name": "stderr",
     "output_type": "stream",
     "text": [
      "\r",
      " 90%|██████████████████████████████████████████████████████████████████████████████████████████████████████████▌            | 7160/8000 [05:38<00:46, 17.92it/s]"
     ]
    },
    {
     "metadata": {},
     "name": "stderr",
     "output_type": "stream",
     "text": [
      "\r",
      " 90%|██████████████████████████████████████████████████████████████████████████████████████████████████████████▋            | 7169/8000 [05:38<00:32, 25.71it/s]"
     ]
    },
    {
     "metadata": {},
     "name": "stderr",
     "output_type": "stream",
     "text": [
      "\r",
      " 90%|██████████████████████████████████████████████████████████████████████████████████████████████████████████▊            | 7178/8000 [05:38<00:24, 33.92it/s]"
     ]
    },
    {
     "metadata": {},
     "name": "stderr",
     "output_type": "stream",
     "text": [
      "\r",
      " 90%|██████████████████████████████████████████████████████████████████████████████████████████████████████████▊            | 7184/8000 [05:38<00:21, 38.05it/s]"
     ]
    },
    {
     "metadata": {},
     "name": "stderr",
     "output_type": "stream",
     "text": [
      "\r",
      " 90%|██████████████████████████████████████████████████████████████████████████████████████████████████████████▉            | 7193/8000 [05:38<00:17, 47.29it/s]"
     ]
    },
    {
     "metadata": {},
     "name": "stderr",
     "output_type": "stream",
     "text": [
      "\r",
      " 90%|███████████████████████████████████████████████████████████████████████████████████████████████████████████▏           | 7204/8000 [05:38<00:13, 59.85it/s]"
     ]
    },
    {
     "metadata": {},
     "name": "stderr",
     "output_type": "stream",
     "text": [
      "\r",
      " 90%|███████████████████████████████████████████████████████████████████████████████████████████████████████████▎           | 7212/8000 [05:39<00:17, 46.35it/s]"
     ]
    },
    {
     "metadata": {},
     "name": "stderr",
     "output_type": "stream",
     "text": [
      "\r",
      " 90%|███████████████████████████████████████████████████████████████████████████████████████████████████████████▍           | 7219/8000 [05:39<00:17, 44.17it/s]"
     ]
    },
    {
     "metadata": {},
     "name": "stderr",
     "output_type": "stream",
     "text": [
      "\r",
      " 90%|███████████████████████████████████████████████████████████████████████████████████████████████████████████▍           | 7225/8000 [05:39<00:16, 46.64it/s]"
     ]
    },
    {
     "metadata": {},
     "name": "stderr",
     "output_type": "stream",
     "text": [
      "\r",
      " 90%|███████████████████████████████████████████████████████████████████████████████████████████████████████████▌           | 7235/8000 [05:39<00:13, 57.29it/s]"
     ]
    },
    {
     "metadata": {},
     "name": "stderr",
     "output_type": "stream",
     "text": [
      "\r",
      " 91%|███████████████████████████████████████████████████████████████████████████████████████████████████████████▋           | 7243/8000 [05:39<00:12, 61.62it/s]"
     ]
    },
    {
     "metadata": {},
     "name": "stderr",
     "output_type": "stream",
     "text": [
      "\r",
      " 91%|███████████████████████████████████████████████████████████████████████████████████████████████████████████▊           | 7251/8000 [05:40<00:25, 28.98it/s]"
     ]
    },
    {
     "metadata": {},
     "name": "stderr",
     "output_type": "stream",
     "text": [
      "\r",
      " 91%|███████████████████████████████████████████████████████████████████████████████████████████████████████████▉           | 7257/8000 [05:41<00:43, 17.23it/s]"
     ]
    },
    {
     "metadata": {},
     "name": "stderr",
     "output_type": "stream",
     "text": [
      "\r",
      " 91%|████████████████████████████████████████████████████████████████████████████████████████████████████████████           | 7264/8000 [05:41<00:33, 21.83it/s]"
     ]
    },
    {
     "metadata": {},
     "name": "stderr",
     "output_type": "stream",
     "text": [
      "\r",
      " 91%|████████████████████████████████████████████████████████████████████████████████████████████████████████████▏          | 7269/8000 [05:41<00:30, 24.32it/s]"
     ]
    },
    {
     "metadata": {},
     "name": "stderr",
     "output_type": "stream",
     "text": [
      "\r",
      " 91%|████████████████████████████████████████████████████████████████████████████████████████████████████████████▏          | 7274/8000 [05:41<00:29, 24.85it/s]"
     ]
    },
    {
     "metadata": {},
     "name": "stderr",
     "output_type": "stream",
     "text": [
      "\r",
      " 91%|████████████████████████████████████████████████████████████████████████████████████████████████████████████▎          | 7278/8000 [05:41<00:39, 18.19it/s]"
     ]
    },
    {
     "metadata": {},
     "name": "stderr",
     "output_type": "stream",
     "text": [
      "\r",
      " 91%|████████████████████████████████████████████████████████████████████████████████████████████████████████████▎          | 7282/8000 [05:42<00:45, 15.87it/s]"
     ]
    },
    {
     "metadata": {},
     "name": "stderr",
     "output_type": "stream",
     "text": [
      "\r",
      " 91%|████████████████████████████████████████████████████████████████████████████████████████████████████████████▍          | 7286/8000 [05:42<00:39, 18.18it/s]"
     ]
    },
    {
     "metadata": {},
     "name": "stderr",
     "output_type": "stream",
     "text": [
      "\r",
      " 91%|████████████████████████████████████████████████████████████████████████████████████████████████████████████▍          | 7289/8000 [05:43<01:03, 11.27it/s]"
     ]
    },
    {
     "metadata": {},
     "name": "stderr",
     "output_type": "stream",
     "text": [
      "\r",
      " 91%|████████████████████████████████████████████████████████████████████████████████████████████████████████████▍          | 7294/8000 [05:43<00:48, 14.52it/s]"
     ]
    },
    {
     "metadata": {},
     "name": "stderr",
     "output_type": "stream",
     "text": [
      "\r",
      " 91%|████████████████████████████████████████████████████████████████████████████████████████████████████████████▌          | 7297/8000 [05:43<00:44, 15.66it/s]"
     ]
    },
    {
     "metadata": {},
     "name": "stderr",
     "output_type": "stream",
     "text": [
      "\r",
      " 91%|████████████████████████████████████████████████████████████████████████████████████████████████████████████▌          | 7300/8000 [05:43<00:46, 15.19it/s]"
     ]
    },
    {
     "metadata": {},
     "name": "stderr",
     "output_type": "stream",
     "text": [
      "\r",
      " 91%|████████████████████████████████████████████████████████████████████████████████████████████████████████████▋          | 7303/8000 [05:43<00:45, 15.37it/s]"
     ]
    },
    {
     "metadata": {},
     "name": "stderr",
     "output_type": "stream",
     "text": [
      "\r",
      " 91%|████████████████████████████████████████████████████████████████████████████████████████████████████████████▋          | 7305/8000 [05:44<01:01, 11.26it/s]"
     ]
    },
    {
     "metadata": {},
     "name": "stderr",
     "output_type": "stream",
     "text": [
      "\r",
      " 91%|████████████████████████████████████████████████████████████████████████████████████████████████████████████▋          | 7307/8000 [05:44<01:00, 11.39it/s]"
     ]
    },
    {
     "metadata": {},
     "name": "stderr",
     "output_type": "stream",
     "text": [
      "\r",
      " 91%|████████████████████████████████████████████████████████████████████████████████████████████████████████████▋          | 7309/8000 [05:45<01:44,  6.61it/s]"
     ]
    },
    {
     "metadata": {},
     "name": "stderr",
     "output_type": "stream",
     "text": [
      "\r",
      " 91%|████████████████████████████████████████████████████████████████████████████████████████████████████████████▊          | 7311/8000 [05:45<01:47,  6.38it/s]"
     ]
    },
    {
     "metadata": {},
     "name": "stderr",
     "output_type": "stream",
     "text": [
      "\r",
      " 91%|████████████████████████████████████████████████████████████████████████████████████████████████████████████▊          | 7314/8000 [05:45<01:18,  8.77it/s]"
     ]
    },
    {
     "metadata": {},
     "name": "stderr",
     "output_type": "stream",
     "text": [
      "\r",
      " 92%|████████████████████████████████████████████████████████████████████████████████████████████████████████████▉          | 7323/8000 [05:45<00:35, 19.16it/s]"
     ]
    },
    {
     "metadata": {},
     "name": "stderr",
     "output_type": "stream",
     "text": [
      "\r",
      " 92%|█████████████████████████████████████████████████████████████████████████████████████████████████████████████          | 7332/8000 [05:45<00:22, 29.14it/s]"
     ]
    },
    {
     "metadata": {},
     "name": "stderr",
     "output_type": "stream",
     "text": [
      "\r",
      " 92%|█████████████████████████████████████████████████████████████████████████████████████████████████████████████▏         | 7337/8000 [05:46<00:32, 20.17it/s]"
     ]
    },
    {
     "metadata": {},
     "name": "stderr",
     "output_type": "stream",
     "text": [
      "\r",
      " 92%|█████████████████████████████████████████████████████████████████████████████████████████████████████████████▎         | 7349/8000 [05:46<00:19, 33.26it/s]"
     ]
    },
    {
     "metadata": {},
     "name": "stderr",
     "output_type": "stream",
     "text": [
      "\r",
      " 92%|█████████████████████████████████████████████████████████████████████████████████████████████████████████████▍         | 7355/8000 [05:46<00:24, 25.90it/s]"
     ]
    },
    {
     "metadata": {},
     "name": "stderr",
     "output_type": "stream",
     "text": [
      "\r",
      " 92%|█████████████████████████████████████████████████████████████████████████████████████████████████████████████▍         | 7360/8000 [05:47<00:32, 19.62it/s]"
     ]
    },
    {
     "metadata": {},
     "name": "stderr",
     "output_type": "stream",
     "text": [
      "\r",
      " 92%|█████████████████████████████████████████████████████████████████████████████████████████████████████████████▌         | 7364/8000 [05:47<00:30, 21.10it/s]"
     ]
    },
    {
     "metadata": {},
     "name": "stderr",
     "output_type": "stream",
     "text": [
      "\r",
      " 92%|█████████████████████████████████████████████████████████████████████████████████████████████████████████████▌         | 7368/8000 [05:47<00:38, 16.52it/s]"
     ]
    },
    {
     "metadata": {},
     "name": "stderr",
     "output_type": "stream",
     "text": [
      "\r",
      " 92%|█████████████████████████████████████████████████████████████████████████████████████████████████████████████▋         | 7371/8000 [05:47<00:38, 16.30it/s]"
     ]
    },
    {
     "metadata": {},
     "name": "stderr",
     "output_type": "stream",
     "text": [
      "\r",
      " 92%|█████████████████████████████████████████████████████████████████████████████████████████████████████████████▋         | 7374/8000 [05:48<00:47, 13.27it/s]"
     ]
    },
    {
     "metadata": {},
     "name": "stderr",
     "output_type": "stream",
     "text": [
      "\r",
      " 92%|█████████████████████████████████████████████████████████████████████████████████████████████████████████████▋         | 7376/8000 [05:48<00:53, 11.57it/s]"
     ]
    },
    {
     "metadata": {},
     "name": "stderr",
     "output_type": "stream",
     "text": [
      "\r",
      " 92%|█████████████████████████████████████████████████████████████████████████████████████████████████████████████▊         | 7379/8000 [05:48<01:01, 10.16it/s]"
     ]
    },
    {
     "metadata": {},
     "name": "stderr",
     "output_type": "stream",
     "text": [
      "\r",
      " 92%|█████████████████████████████████████████████████████████████████████████████████████████████████████████████▊         | 7381/8000 [05:49<01:18,  7.84it/s]"
     ]
    },
    {
     "metadata": {},
     "name": "stderr",
     "output_type": "stream",
     "text": [
      "\r",
      " 92%|█████████████████████████████████████████████████████████████████████████████████████████████████████████████▊         | 7385/8000 [05:49<01:00, 10.14it/s]"
     ]
    },
    {
     "metadata": {},
     "name": "stderr",
     "output_type": "stream",
     "text": [
      "\r",
      " 92%|█████████████████████████████████████████████████████████████████████████████████████████████████████████████▉         | 7388/8000 [05:49<00:54, 11.23it/s]"
     ]
    },
    {
     "metadata": {},
     "name": "stderr",
     "output_type": "stream",
     "text": [
      "\r",
      " 92%|█████████████████████████████████████████████████████████████████████████████████████████████████████████████▉         | 7390/8000 [05:50<01:17,  7.87it/s]"
     ]
    },
    {
     "metadata": {},
     "name": "stderr",
     "output_type": "stream",
     "text": [
      "\r",
      " 92%|█████████████████████████████████████████████████████████████████████████████████████████████████████████████▉         | 7392/8000 [05:50<01:27,  6.98it/s]"
     ]
    },
    {
     "metadata": {},
     "name": "stderr",
     "output_type": "stream",
     "text": [
      "\r",
      " 92%|█████████████████████████████████████████████████████████████████████████████████████████████████████████████▉         | 7393/8000 [05:51<01:45,  5.73it/s]"
     ]
    },
    {
     "metadata": {},
     "name": "stderr",
     "output_type": "stream",
     "text": [
      "\r",
      " 92%|█████████████████████████████████████████████████████████████████████████████████████████████████████████████▉         | 7394/8000 [05:51<02:08,  4.70it/s]"
     ]
    },
    {
     "metadata": {},
     "name": "stderr",
     "output_type": "stream",
     "text": [
      "\r",
      " 92%|██████████████████████████████████████████████████████████████████████████████████████████████████████████████         | 7395/8000 [05:51<02:26,  4.13it/s]"
     ]
    },
    {
     "metadata": {},
     "name": "stderr",
     "output_type": "stream",
     "text": [
      "\r",
      " 92%|██████████████████████████████████████████████████████████████████████████████████████████████████████████████         | 7396/8000 [05:52<02:48,  3.59it/s]"
     ]
    },
    {
     "metadata": {},
     "name": "stderr",
     "output_type": "stream",
     "text": [
      "\r",
      " 92%|██████████████████████████████████████████████████████████████████████████████████████████████████████████████         | 7397/8000 [05:52<03:07,  3.21it/s]"
     ]
    },
    {
     "metadata": {},
     "name": "stderr",
     "output_type": "stream",
     "text": [
      "\r",
      " 92%|██████████████████████████████████████████████████████████████████████████████████████████████████████████████         | 7398/8000 [05:53<03:18,  3.03it/s]"
     ]
    },
    {
     "metadata": {},
     "name": "stderr",
     "output_type": "stream",
     "text": [
      "\r",
      " 92%|██████████████████████████████████████████████████████████████████████████████████████████████████████████████         | 7399/8000 [05:53<03:17,  3.04it/s]"
     ]
    },
    {
     "metadata": {},
     "name": "stderr",
     "output_type": "stream",
     "text": [
      "\r",
      " 92%|██████████████████████████████████████████████████████████████████████████████████████████████████████████████         | 7400/8000 [05:53<03:16,  3.06it/s]"
     ]
    },
    {
     "metadata": {},
     "name": "stderr",
     "output_type": "stream",
     "text": [
      "\r",
      " 93%|██████████████████████████████████████████████████████████████████████████████████████████████████████████████         | 7401/8000 [05:54<03:16,  3.05it/s]"
     ]
    },
    {
     "metadata": {},
     "name": "stderr",
     "output_type": "stream",
     "text": [
      "\r",
      " 93%|██████████████████████████████████████████████████████████████████████████████████████████████████████████████         | 7402/8000 [05:54<03:14,  3.07it/s]"
     ]
    },
    {
     "metadata": {},
     "name": "stderr",
     "output_type": "stream",
     "text": [
      "\r",
      " 93%|██████████████████████████████████████████████████████████████████████████████████████████████████████████████         | 7403/8000 [05:54<03:13,  3.09it/s]"
     ]
    },
    {
     "metadata": {},
     "name": "stderr",
     "output_type": "stream",
     "text": [
      "\r",
      " 93%|██████████████████████████████████████████████████████████████████████████████████████████████████████████████▏        | 7410/8000 [05:54<00:55, 10.65it/s]"
     ]
    },
    {
     "metadata": {},
     "name": "stderr",
     "output_type": "stream",
     "text": [
      "\r",
      " 93%|██████████████████████████████████████████████████████████████████████████████████████████████████████████████▎        | 7420/8000 [05:54<00:25, 22.84it/s]"
     ]
    },
    {
     "metadata": {},
     "name": "stderr",
     "output_type": "stream",
     "text": [
      "\r",
      " 93%|██████████████████████████████████████████████████████████████████████████████████████████████████████████████▌        | 7429/8000 [05:54<00:16, 33.63it/s]"
     ]
    },
    {
     "metadata": {},
     "name": "stderr",
     "output_type": "stream",
     "text": [
      "\r",
      " 93%|██████████████████████████████████████████████████████████████████████████████████████████████████████████████▋        | 7439/8000 [05:55<00:12, 45.91it/s]"
     ]
    },
    {
     "metadata": {},
     "name": "stderr",
     "output_type": "stream",
     "text": [
      "\r",
      " 93%|██████████████████████████████████████████████████████████████████████████████████████████████████████████████▊        | 7450/8000 [05:55<00:09, 58.72it/s]"
     ]
    },
    {
     "metadata": {},
     "name": "stderr",
     "output_type": "stream",
     "text": [
      "\r",
      " 93%|██████████████████████████████████████████████████████████████████████████████████████████████████████████████▉        | 7458/8000 [05:56<00:22, 23.86it/s]"
     ]
    },
    {
     "metadata": {},
     "name": "stderr",
     "output_type": "stream",
     "text": [
      "\r",
      " 93%|███████████████████████████████████████████████████████████████████████████████████████████████████████████████        | 7464/8000 [05:56<00:29, 18.15it/s]"
     ]
    },
    {
     "metadata": {},
     "name": "stderr",
     "output_type": "stream",
     "text": [
      "\r",
      " 93%|███████████████████████████████████████████████████████████████████████████████████████████████████████████████        | 7469/8000 [05:56<00:25, 20.80it/s]"
     ]
    },
    {
     "metadata": {},
     "name": "stderr",
     "output_type": "stream",
     "text": [
      "\r",
      " 93%|███████████████████████████████████████████████████████████████████████████████████████████████████████████████▏       | 7474/8000 [05:57<00:35, 14.95it/s]"
     ]
    },
    {
     "metadata": {},
     "name": "stderr",
     "output_type": "stream",
     "text": [
      "\r",
      " 93%|███████████████████████████████████████████████████████████████████████████████████████████████████████████████▏       | 7478/8000 [05:58<00:49, 10.63it/s]"
     ]
    },
    {
     "metadata": {},
     "name": "stderr",
     "output_type": "stream",
     "text": [
      "\r",
      " 94%|███████████████████████████████████████████████████████████████████████████████████████████████████████████████▎       | 7481/8000 [05:58<00:47, 10.86it/s]"
     ]
    },
    {
     "metadata": {},
     "name": "stderr",
     "output_type": "stream",
     "text": [
      "\r",
      " 94%|███████████████████████████████████████████████████████████████████████████████████████████████████████████████▎       | 7484/8000 [05:58<00:43, 11.75it/s]"
     ]
    },
    {
     "metadata": {},
     "name": "stderr",
     "output_type": "stream",
     "text": [
      "\r",
      " 94%|███████████████████████████████████████████████████████████████████████████████████████████████████████████████▍       | 7488/8000 [05:58<00:35, 14.60it/s]"
     ]
    },
    {
     "metadata": {},
     "name": "stderr",
     "output_type": "stream",
     "text": [
      "\r",
      " 94%|███████████████████████████████████████████████████████████████████████████████████████████████████████████████▍       | 7491/8000 [05:58<00:37, 13.51it/s]"
     ]
    },
    {
     "metadata": {},
     "name": "stderr",
     "output_type": "stream",
     "text": [
      "\r",
      " 94%|███████████████████████████████████████████████████████████████████████████████████████████████████████████████▍       | 7494/8000 [05:59<00:40, 12.62it/s]"
     ]
    },
    {
     "metadata": {},
     "name": "stderr",
     "output_type": "stream",
     "text": [
      "\r",
      " 94%|███████████████████████████████████████████████████████████████████████████████████████████████████████████████▌       | 7496/8000 [05:59<00:37, 13.52it/s]"
     ]
    },
    {
     "metadata": {},
     "name": "stderr",
     "output_type": "stream",
     "text": [
      "\r",
      " 94%|███████████████████████████████████████████████████████████████████████████████████████████████████████████████▌       | 7502/8000 [05:59<00:24, 19.99it/s]"
     ]
    },
    {
     "metadata": {},
     "name": "stderr",
     "output_type": "stream",
     "text": [
      "\r",
      " 94%|███████████████████████████████████████████████████████████████████████████████████████████████████████████████▋       | 7505/8000 [05:59<00:28, 17.59it/s]"
     ]
    },
    {
     "metadata": {},
     "name": "stderr",
     "output_type": "stream",
     "text": [
      "\r",
      " 94%|███████████████████████████████████████████████████████████████████████████████████████████████████████████████▋       | 7511/8000 [05:59<00:20, 23.68it/s]"
     ]
    },
    {
     "metadata": {},
     "name": "stderr",
     "output_type": "stream",
     "text": [
      "\r",
      " 94%|███████████████████████████████████████████████████████████████████████████████████████████████████████████████▊       | 7514/8000 [06:00<00:23, 20.64it/s]"
     ]
    },
    {
     "metadata": {},
     "name": "stderr",
     "output_type": "stream",
     "text": [
      "\r",
      " 94%|███████████████████████████████████████████████████████████████████████████████████████████████████████████████▊       | 7517/8000 [06:00<00:25, 18.87it/s]"
     ]
    },
    {
     "metadata": {},
     "name": "stderr",
     "output_type": "stream",
     "text": [
      "\r",
      " 94%|███████████████████████████████████████████████████████████████████████████████████████████████████████████████▊       | 7520/8000 [06:00<00:24, 19.40it/s]"
     ]
    },
    {
     "metadata": {},
     "name": "stderr",
     "output_type": "stream",
     "text": [
      "\r",
      " 94%|███████████████████████████████████████████████████████████████████████████████████████████████████████████████▉       | 7523/8000 [06:00<00:26, 18.17it/s]"
     ]
    },
    {
     "metadata": {},
     "name": "stderr",
     "output_type": "stream",
     "text": [
      "\r",
      " 94%|███████████████████████████████████████████████████████████████████████████████████████████████████████████████▉       | 7525/8000 [06:01<00:44, 10.78it/s]"
     ]
    },
    {
     "metadata": {},
     "name": "stderr",
     "output_type": "stream",
     "text": [
      "\r",
      " 94%|███████████████████████████████████████████████████████████████████████████████████████████████████████████████▉       | 7527/8000 [06:01<01:18,  6.02it/s]"
     ]
    },
    {
     "metadata": {},
     "name": "stderr",
     "output_type": "stream",
     "text": [
      "\r",
      " 94%|████████████████████████████████████████████████████████████████████████████████████████████████████████████████       | 7530/8000 [06:01<00:58,  8.01it/s]"
     ]
    },
    {
     "metadata": {},
     "name": "stderr",
     "output_type": "stream",
     "text": [
      "\r",
      " 94%|████████████████████████████████████████████████████████████████████████████████████████████████████████████████       | 7533/8000 [06:02<00:47,  9.93it/s]"
     ]
    },
    {
     "metadata": {},
     "name": "stderr",
     "output_type": "stream",
     "text": [
      "\r",
      " 94%|████████████████████████████████████████████████████████████████████████████████████████████████████████████████       | 7535/8000 [06:02<00:43, 10.75it/s]"
     ]
    },
    {
     "metadata": {},
     "name": "stderr",
     "output_type": "stream",
     "text": [
      "\r",
      " 94%|████████████████████████████████████████████████████████████████████████████████████████████████████████████████       | 7537/8000 [06:02<00:40, 11.48it/s]"
     ]
    },
    {
     "metadata": {},
     "name": "stderr",
     "output_type": "stream",
     "text": [
      "\r",
      " 94%|████████████████████████████████████████████████████████████████████████████████████████████████████████████████▏      | 7539/8000 [06:02<00:37, 12.15it/s]"
     ]
    },
    {
     "metadata": {},
     "name": "stderr",
     "output_type": "stream",
     "text": [
      "\r",
      " 94%|████████████████████████████████████████████████████████████████████████████████████████████████████████████████▏      | 7543/8000 [06:02<00:29, 15.65it/s]"
     ]
    },
    {
     "metadata": {},
     "name": "stderr",
     "output_type": "stream",
     "text": [
      "\r",
      " 94%|████████████████████████████████████████████████████████████████████████████████████████████████████████████████▏      | 7545/8000 [06:03<01:07,  6.75it/s]"
     ]
    },
    {
     "metadata": {},
     "name": "stderr",
     "output_type": "stream",
     "text": [
      "\r",
      " 94%|████████████████████████████████████████████████████████████████████████████████████████████████████████████████▎      | 7547/8000 [06:03<01:03,  7.08it/s]"
     ]
    },
    {
     "metadata": {},
     "name": "stderr",
     "output_type": "stream",
     "text": [
      "\r",
      " 94%|████████████████████████████████████████████████████████████████████████████████████████████████████████████████▎      | 7549/8000 [06:03<00:54,  8.20it/s]"
     ]
    },
    {
     "metadata": {},
     "name": "stderr",
     "output_type": "stream",
     "text": [
      "\r",
      " 94%|████████████████████████████████████████████████████████████████████████████████████████████████████████████████▍      | 7560/8000 [06:04<00:20, 21.80it/s]"
     ]
    },
    {
     "metadata": {},
     "name": "stderr",
     "output_type": "stream",
     "text": [
      "\r",
      " 95%|████████████████████████████████████████████████████████████████████████████████████████████████████████████████▋      | 7572/8000 [06:04<00:11, 37.03it/s]"
     ]
    },
    {
     "metadata": {},
     "name": "stderr",
     "output_type": "stream",
     "text": [
      "\r",
      " 95%|████████████████████████████████████████████████████████████████████████████████████████████████████████████████▊      | 7584/8000 [06:04<00:08, 51.57it/s]"
     ]
    },
    {
     "metadata": {},
     "name": "stderr",
     "output_type": "stream",
     "text": [
      "\r",
      " 95%|████████████████████████████████████████████████████████████████████████████████████████████████████████████████▉      | 7596/8000 [06:04<00:06, 64.86it/s]"
     ]
    },
    {
     "metadata": {},
     "name": "stderr",
     "output_type": "stream",
     "text": [
      "\r",
      " 95%|█████████████████████████████████████████████████████████████████████████████████████████████████████████████████▏     | 7608/8000 [06:04<00:05, 76.23it/s]"
     ]
    },
    {
     "metadata": {},
     "name": "stderr",
     "output_type": "stream",
     "text": [
      "\r",
      " 95%|█████████████████████████████████████████████████████████████████████████████████████████████████████████████████▎     | 7620/8000 [06:04<00:04, 85.45it/s]"
     ]
    },
    {
     "metadata": {},
     "name": "stderr",
     "output_type": "stream",
     "text": [
      "\r",
      " 95%|█████████████████████████████████████████████████████████████████████████████████████████████████████████████████▌     | 7632/8000 [06:04<00:03, 92.53it/s]"
     ]
    },
    {
     "metadata": {},
     "name": "stderr",
     "output_type": "stream",
     "text": [
      "\r",
      " 96%|█████████████████████████████████████████████████████████████████████████████████████████████████████████████████▋     | 7644/8000 [06:04<00:03, 97.57it/s]"
     ]
    },
    {
     "metadata": {},
     "name": "stderr",
     "output_type": "stream",
     "text": [
      "\r",
      " 96%|█████████████████████████████████████████████████████████████████████████████████████████████████████████████████▊     | 7655/8000 [06:05<00:09, 37.30it/s]"
     ]
    },
    {
     "metadata": {},
     "name": "stderr",
     "output_type": "stream",
     "text": [
      "\r",
      " 96%|█████████████████████████████████████████████████████████████████████████████████████████████████████████████████▉     | 7663/8000 [06:05<00:08, 38.19it/s]"
     ]
    },
    {
     "metadata": {},
     "name": "stderr",
     "output_type": "stream",
     "text": [
      "\r",
      " 96%|██████████████████████████████████████████████████████████████████████████████████████████████████████████████████     | 7670/8000 [06:06<00:17, 18.90it/s]"
     ]
    },
    {
     "metadata": {},
     "name": "stderr",
     "output_type": "stream",
     "text": [
      "\r",
      " 96%|██████████████████████████████████████████████████████████████████████████████████████████████████████████████████▏    | 7675/8000 [06:07<00:18, 17.54it/s]"
     ]
    },
    {
     "metadata": {},
     "name": "stderr",
     "output_type": "stream",
     "text": [
      "\r",
      " 96%|██████████████████████████████████████████████████████████████████████████████████████████████████████████████████▏    | 7679/8000 [06:07<00:20, 15.91it/s]"
     ]
    },
    {
     "metadata": {},
     "name": "stderr",
     "output_type": "stream",
     "text": [
      "\r",
      " 96%|██████████████████████████████████████████████████████████████████████████████████████████████████████████████████▎    | 7683/8000 [06:07<00:21, 14.75it/s]"
     ]
    },
    {
     "metadata": {},
     "name": "stderr",
     "output_type": "stream",
     "text": [
      "\r",
      " 96%|██████████████████████████████████████████████████████████████████████████████████████████████████████████████████▍    | 7695/8000 [06:08<00:13, 22.23it/s]"
     ]
    },
    {
     "metadata": {},
     "name": "stderr",
     "output_type": "stream",
     "text": [
      "\r",
      " 96%|██████████████████████████████████████████████████████████████████████████████████████████████████████████████████▌    | 7699/8000 [06:08<00:16, 18.17it/s]"
     ]
    },
    {
     "metadata": {},
     "name": "stderr",
     "output_type": "stream",
     "text": [
      "\r",
      " 96%|██████████████████████████████████████████████████████████████████████████████████████████████████████████████████▌    | 7702/8000 [06:08<00:16, 18.37it/s]"
     ]
    },
    {
     "metadata": {},
     "name": "stderr",
     "output_type": "stream",
     "text": [
      "\r",
      " 96%|██████████████████████████████████████████████████████████████████████████████████████████████████████████████████▋    | 7710/8000 [06:08<00:11, 25.02it/s]"
     ]
    },
    {
     "metadata": {},
     "name": "stderr",
     "output_type": "stream",
     "text": [
      "\r",
      " 96%|██████████████████████████████████████████████████████████████████████████████████████████████████████████████████▋    | 7714/8000 [06:08<00:12, 22.23it/s]"
     ]
    },
    {
     "metadata": {},
     "name": "stderr",
     "output_type": "stream",
     "text": [
      "\r",
      " 96%|██████████████████████████████████████████████████████████████████████████████████████████████████████████████████▊    | 7719/8000 [06:09<00:10, 26.17it/s]"
     ]
    },
    {
     "metadata": {},
     "name": "stderr",
     "output_type": "stream",
     "text": [
      "\r",
      " 97%|██████████████████████████████████████████████████████████████████████████████████████████████████████████████████▉    | 7723/8000 [06:09<00:20, 13.49it/s]"
     ]
    },
    {
     "metadata": {},
     "name": "stderr",
     "output_type": "stream",
     "text": [
      "\r",
      " 97%|███████████████████████████████████████████████████████████████████████████████████████████████████████████████████    | 7733/8000 [06:09<00:11, 22.32it/s]"
     ]
    },
    {
     "metadata": {},
     "name": "stderr",
     "output_type": "stream",
     "text": [
      "\r",
      " 97%|███████████████████████████████████████████████████████████████████████████████████████████████████████████████████▏   | 7740/8000 [06:10<00:10, 24.97it/s]"
     ]
    },
    {
     "metadata": {},
     "name": "stderr",
     "output_type": "stream",
     "text": [
      "\r",
      " 97%|███████████████████████████████████████████████████████████████████████████████████████████████████████████████████▏   | 7745/8000 [06:10<00:12, 20.15it/s]"
     ]
    },
    {
     "metadata": {},
     "name": "stderr",
     "output_type": "stream",
     "text": [
      "\r",
      " 97%|███████████████████████████████████████████████████████████████████████████████████████████████████████████████████▎   | 7750/8000 [06:10<00:11, 22.36it/s]"
     ]
    },
    {
     "metadata": {},
     "name": "stderr",
     "output_type": "stream",
     "text": [
      "\r",
      " 97%|███████████████████████████████████████████████████████████████████████████████████████████████████████████████████▎   | 7754/8000 [06:11<00:12, 18.93it/s]"
     ]
    },
    {
     "metadata": {},
     "name": "stderr",
     "output_type": "stream",
     "text": [
      "\r",
      " 97%|███████████████████████████████████████████████████████████████████████████████████████████████████████████████████▍   | 7757/8000 [06:11<00:20, 12.11it/s]"
     ]
    },
    {
     "metadata": {},
     "name": "stderr",
     "output_type": "stream",
     "text": [
      "\r",
      " 97%|███████████████████████████████████████████████████████████████████████████████████████████████████████████████████▍   | 7760/8000 [06:11<00:18, 13.02it/s]"
     ]
    },
    {
     "metadata": {},
     "name": "stderr",
     "output_type": "stream",
     "text": [
      "\r",
      " 97%|███████████████████████████████████████████████████████████████████████████████████████████████████████████████████▍   | 7762/8000 [06:11<00:18, 12.65it/s]"
     ]
    },
    {
     "metadata": {},
     "name": "stderr",
     "output_type": "stream",
     "text": [
      "\r",
      " 97%|███████████████████████████████████████████████████████████████████████████████████████████████████████████████████▍   | 7764/8000 [06:12<00:23, 10.16it/s]"
     ]
    },
    {
     "metadata": {},
     "name": "stderr",
     "output_type": "stream",
     "text": [
      "\r",
      " 97%|███████████████████████████████████████████████████████████████████████████████████████████████████████████████████▌   | 7767/8000 [06:12<00:21, 10.59it/s]"
     ]
    },
    {
     "metadata": {},
     "name": "stderr",
     "output_type": "stream",
     "text": [
      "\r",
      " 97%|███████████████████████████████████████████████████████████████████████████████████████████████████████████████████▌   | 7769/8000 [06:12<00:21, 10.81it/s]"
     ]
    },
    {
     "metadata": {},
     "name": "stderr",
     "output_type": "stream",
     "text": [
      "\r",
      " 97%|███████████████████████████████████████████████████████████████████████████████████████████████████████████████████▋   | 7776/8000 [06:12<00:11, 19.34it/s]"
     ]
    },
    {
     "metadata": {},
     "name": "stderr",
     "output_type": "stream",
     "text": [
      "\r",
      " 97%|███████████████████████████████████████████████████████████████████████████████████████████████████████████████████▋   | 7779/8000 [06:13<00:12, 17.23it/s]"
     ]
    },
    {
     "metadata": {},
     "name": "stderr",
     "output_type": "stream",
     "text": [
      "\r",
      " 97%|███████████████████████████████████████████████████████████████████████████████████████████████████████████████████▊   | 7782/8000 [06:13<00:12, 17.03it/s]"
     ]
    },
    {
     "metadata": {},
     "name": "stderr",
     "output_type": "stream",
     "text": [
      "\r",
      " 97%|███████████████████████████████████████████████████████████████████████████████████████████████████████████████████▊   | 7785/8000 [06:13<00:14, 15.27it/s]"
     ]
    },
    {
     "metadata": {},
     "name": "stderr",
     "output_type": "stream",
     "text": [
      "\r",
      " 97%|███████████████████████████████████████████████████████████████████████████████████████████████████████████████████▉   | 7790/8000 [06:13<00:10, 20.72it/s]"
     ]
    },
    {
     "metadata": {},
     "name": "stderr",
     "output_type": "stream",
     "text": [
      "\r",
      " 97%|███████████████████████████████████████████████████████████████████████████████████████████████████████████████████▉   | 7794/8000 [06:13<00:08, 23.43it/s]"
     ]
    },
    {
     "metadata": {},
     "name": "stderr",
     "output_type": "stream",
     "text": [
      "\r",
      " 97%|███████████████████████████████████████████████████████████████████████████████████████████████████████████████████▉   | 7797/8000 [06:13<00:08, 24.73it/s]"
     ]
    },
    {
     "metadata": {},
     "name": "stderr",
     "output_type": "stream",
     "text": [
      "\r",
      " 98%|████████████████████████████████████████████████████████████████████████████████████████████████████████████████████▏  | 7808/8000 [06:13<00:04, 43.67it/s]"
     ]
    },
    {
     "metadata": {},
     "name": "stderr",
     "output_type": "stream",
     "text": [
      "\r",
      " 98%|████████████████████████████████████████████████████████████████████████████████████████████████████████████████████▎  | 7818/8000 [06:14<00:03, 57.23it/s]"
     ]
    },
    {
     "metadata": {},
     "name": "stderr",
     "output_type": "stream",
     "text": [
      "\r",
      " 98%|████████████████████████████████████████████████████████████████████████████████████████████████████████████████████▍  | 7825/8000 [06:14<00:04, 35.70it/s]"
     ]
    },
    {
     "metadata": {},
     "name": "stderr",
     "output_type": "stream",
     "text": [
      "\r",
      " 98%|████████████████████████████████████████████████████████████████████████████████████████████████████████████████████▍  | 7831/8000 [06:14<00:06, 24.32it/s]"
     ]
    },
    {
     "metadata": {},
     "name": "stderr",
     "output_type": "stream",
     "text": [
      "\r",
      " 98%|████████████████████████████████████████████████████████████████████████████████████████████████████████████████████▌  | 7836/8000 [06:15<00:09, 17.04it/s]"
     ]
    },
    {
     "metadata": {},
     "name": "stderr",
     "output_type": "stream",
     "text": [
      "\r",
      " 98%|████████████████████████████████████████████████████████████████████████████████████████████████████████████████████▌  | 7840/8000 [06:15<00:11, 14.13it/s]"
     ]
    },
    {
     "metadata": {},
     "name": "stderr",
     "output_type": "stream",
     "text": [
      "\r",
      " 98%|████████████████████████████████████████████████████████████████████████████████████████████████████████████████████▋  | 7843/8000 [06:16<00:12, 12.81it/s]"
     ]
    },
    {
     "metadata": {},
     "name": "stderr",
     "output_type": "stream",
     "text": [
      "\r",
      " 98%|████████████████████████████████████████████████████████████████████████████████████████████████████████████████████▋  | 7845/8000 [06:16<00:12, 12.75it/s]"
     ]
    },
    {
     "metadata": {},
     "name": "stderr",
     "output_type": "stream",
     "text": [
      "\r",
      " 98%|████████████████████████████████████████████████████████████████████████████████████████████████████████████████████▋  | 7847/8000 [06:16<00:11, 12.84it/s]"
     ]
    },
    {
     "metadata": {},
     "name": "stderr",
     "output_type": "stream",
     "text": [
      "\r",
      " 98%|████████████████████████████████████████████████████████████████████████████████████████████████████████████████████▊  | 7849/8000 [06:16<00:11, 12.72it/s]"
     ]
    },
    {
     "metadata": {},
     "name": "stderr",
     "output_type": "stream",
     "text": [
      "\r",
      " 98%|████████████████████████████████████████████████████████████████████████████████████████████████████████████████████▊  | 7851/8000 [06:16<00:11, 12.86it/s]"
     ]
    },
    {
     "metadata": {},
     "name": "stderr",
     "output_type": "stream",
     "text": [
      "\r",
      " 98%|████████████████████████████████████████████████████████████████████████████████████████████████████████████████████▊  | 7853/8000 [06:17<00:12, 11.48it/s]"
     ]
    },
    {
     "metadata": {},
     "name": "stderr",
     "output_type": "stream",
     "text": [
      "\r",
      " 98%|████████████████████████████████████████████████████████████████████████████████████████████████████████████████████▊  | 7855/8000 [06:17<00:14, 10.14it/s]"
     ]
    },
    {
     "metadata": {},
     "name": "stderr",
     "output_type": "stream",
     "text": [
      "\r",
      " 98%|████████████████████████████████████████████████████████████████████████████████████████████████████████████████████▊  | 7857/8000 [06:17<00:15,  9.15it/s]"
     ]
    },
    {
     "metadata": {},
     "name": "stderr",
     "output_type": "stream",
     "text": [
      "\r",
      " 98%|████████████████████████████████████████████████████████████████████████████████████████████████████████████████████▉  | 7859/8000 [06:17<00:15,  9.07it/s]"
     ]
    },
    {
     "metadata": {},
     "name": "stderr",
     "output_type": "stream",
     "text": [
      "\r",
      " 98%|████████████████████████████████████████████████████████████████████████████████████████████████████████████████████▉  | 7860/8000 [06:17<00:15,  9.11it/s]"
     ]
    },
    {
     "metadata": {},
     "name": "stderr",
     "output_type": "stream",
     "text": [
      "\r",
      " 98%|████████████████████████████████████████████████████████████████████████████████████████████████████████████████████▉  | 7861/8000 [06:18<00:15,  8.93it/s]"
     ]
    },
    {
     "metadata": {},
     "name": "stderr",
     "output_type": "stream",
     "text": [
      "\r",
      " 98%|████████████████████████████████████████████████████████████████████████████████████████████████████████████████████▉  | 7862/8000 [06:18<00:15,  9.00it/s]"
     ]
    },
    {
     "metadata": {},
     "name": "stderr",
     "output_type": "stream",
     "text": [
      "\r",
      " 98%|████████████████████████████████████████████████████████████████████████████████████████████████████████████████████▉  | 7863/8000 [06:18<00:15,  9.05it/s]"
     ]
    },
    {
     "metadata": {},
     "name": "stderr",
     "output_type": "stream",
     "text": [
      "\r",
      " 98%|████████████████████████████████████████████████████████████████████████████████████████████████████████████████████▉  | 7864/8000 [06:18<00:15,  9.01it/s]"
     ]
    },
    {
     "metadata": {},
     "name": "stderr",
     "output_type": "stream",
     "text": [
      "\r",
      " 98%|████████████████████████████████████████████████████████████████████████████████████████████████████████████████████▉  | 7865/8000 [06:18<00:14,  9.03it/s]"
     ]
    },
    {
     "metadata": {},
     "name": "stderr",
     "output_type": "stream",
     "text": [
      "\r",
      " 98%|█████████████████████████████████████████████████████████████████████████████████████████████████████████████████████  | 7866/8000 [06:18<00:14,  9.00it/s]"
     ]
    },
    {
     "metadata": {},
     "name": "stderr",
     "output_type": "stream",
     "text": [
      "\r",
      " 98%|█████████████████████████████████████████████████████████████████████████████████████████████████████████████████████  | 7867/8000 [06:18<00:16,  8.16it/s]"
     ]
    },
    {
     "metadata": {},
     "name": "stderr",
     "output_type": "stream",
     "text": [
      "\r",
      " 98%|█████████████████████████████████████████████████████████████████████████████████████████████████████████████████████  | 7870/8000 [06:18<00:11, 10.98it/s]"
     ]
    },
    {
     "metadata": {},
     "name": "stderr",
     "output_type": "stream",
     "text": [
      "\r",
      " 98%|█████████████████████████████████████████████████████████████████████████████████████████████████████████████████████  | 7872/8000 [06:19<00:15,  8.28it/s]"
     ]
    },
    {
     "metadata": {},
     "name": "stderr",
     "output_type": "stream",
     "text": [
      "\r",
      " 98%|█████████████████████████████████████████████████████████████████████████████████████████████████████████████████████▏ | 7876/8000 [06:19<00:10, 12.07it/s]"
     ]
    },
    {
     "metadata": {},
     "name": "stderr",
     "output_type": "stream",
     "text": [
      "\r",
      " 99%|█████████████████████████████████████████████████████████████████████████████████████████████████████████████████████▏ | 7881/8000 [06:19<00:07, 15.44it/s]"
     ]
    },
    {
     "metadata": {},
     "name": "stderr",
     "output_type": "stream",
     "text": [
      "\r",
      " 99%|█████████████████████████████████████████████████████████████████████████████████████████████████████████████████████▎ | 7883/8000 [06:19<00:08, 14.40it/s]"
     ]
    },
    {
     "metadata": {},
     "name": "stderr",
     "output_type": "stream",
     "text": [
      "\r",
      " 99%|█████████████████████████████████████████████████████████████████████████████████████████████████████████████████████▍ | 7894/8000 [06:20<00:03, 29.67it/s]"
     ]
    },
    {
     "metadata": {},
     "name": "stderr",
     "output_type": "stream",
     "text": [
      "\r",
      " 99%|█████████████████████████████████████████████████████████████████████████████████████████████████████████████████████▍ | 7898/8000 [06:20<00:03, 30.69it/s]"
     ]
    },
    {
     "metadata": {},
     "name": "stderr",
     "output_type": "stream",
     "text": [
      "\r",
      " 99%|█████████████████████████████████████████████████████████████████████████████████████████████████████████████████████▋ | 7909/8000 [06:20<00:01, 46.63it/s]"
     ]
    },
    {
     "metadata": {},
     "name": "stderr",
     "output_type": "stream",
     "text": [
      "\r",
      " 99%|█████████████████████████████████████████████████████████████████████████████████████████████████████████████████████▊ | 7920/8000 [06:20<00:01, 60.80it/s]"
     ]
    },
    {
     "metadata": {},
     "name": "stderr",
     "output_type": "stream",
     "text": [
      "\r",
      " 99%|█████████████████████████████████████████████████████████████████████████████████████████████████████████████████████▉ | 7928/8000 [06:21<00:02, 24.65it/s]"
     ]
    },
    {
     "metadata": {},
     "name": "stderr",
     "output_type": "stream",
     "text": [
      "\r",
      " 99%|██████████████████████████████████████████████████████████████████████████████████████████████████████████████████████ | 7934/8000 [06:21<00:02, 24.26it/s]"
     ]
    },
    {
     "metadata": {},
     "name": "stderr",
     "output_type": "stream",
     "text": [
      "\r",
      " 99%|██████████████████████████████████████████████████████████████████████████████████████████████████████████████████████ | 7939/8000 [06:21<00:02, 26.83it/s]"
     ]
    },
    {
     "metadata": {},
     "name": "stderr",
     "output_type": "stream",
     "text": [
      "\r",
      " 99%|██████████████████████████████████████████████████████████████████████████████████████████████████████████████████████▏| 7944/8000 [06:21<00:02, 21.94it/s]"
     ]
    },
    {
     "metadata": {},
     "name": "stderr",
     "output_type": "stream",
     "text": [
      "\r",
      " 99%|██████████████████████████████████████████████████████████████████████████████████████████████████████████████████████▏| 7948/8000 [06:22<00:02, 18.85it/s]"
     ]
    },
    {
     "metadata": {},
     "name": "stderr",
     "output_type": "stream",
     "text": [
      "\r",
      " 99%|██████████████████████████████████████████████████████████████████████████████████████████████████████████████████████▎| 7951/8000 [06:22<00:02, 18.85it/s]"
     ]
    },
    {
     "metadata": {},
     "name": "stderr",
     "output_type": "stream",
     "text": [
      "\r",
      " 99%|██████████████████████████████████████████████████████████████████████████████████████████████████████████████████████▎| 7954/8000 [06:22<00:02, 18.74it/s]"
     ]
    },
    {
     "metadata": {},
     "name": "stderr",
     "output_type": "stream",
     "text": [
      "\r",
      "100%|██████████████████████████████████████████████████████████████████████████████████████████████████████████████████████▍| 7964/8000 [06:22<00:01, 31.47it/s]"
     ]
    },
    {
     "metadata": {},
     "name": "stderr",
     "output_type": "stream",
     "text": [
      "\r",
      "100%|██████████████████████████████████████████████████████████████████████████████████████████████████████████████████████▌| 7969/8000 [06:23<00:01, 18.02it/s]"
     ]
    },
    {
     "metadata": {},
     "name": "stderr",
     "output_type": "stream",
     "text": [
      "\r",
      "100%|██████████████████████████████████████████████████████████████████████████████████████████████████████████████████████▌| 7973/8000 [06:23<00:01, 15.70it/s]"
     ]
    },
    {
     "metadata": {},
     "name": "stderr",
     "output_type": "stream",
     "text": [
      "\r",
      "100%|██████████████████████████████████████████████████████████████████████████████████████████████████████████████████████▋| 7976/8000 [06:23<00:01, 13.71it/s]"
     ]
    },
    {
     "metadata": {},
     "name": "stderr",
     "output_type": "stream",
     "text": [
      "\r",
      "100%|██████████████████████████████████████████████████████████████████████████████████████████████████████████████████████▋| 7979/8000 [06:24<00:01, 11.90it/s]"
     ]
    },
    {
     "metadata": {},
     "name": "stderr",
     "output_type": "stream",
     "text": [
      "\r",
      "100%|██████████████████████████████████████████████████████████████████████████████████████████████████████████████████████▊| 7989/8000 [06:24<00:00, 17.66it/s]"
     ]
    },
    {
     "metadata": {},
     "name": "stderr",
     "output_type": "stream",
     "text": [
      "\r",
      "100%|██████████████████████████████████████████████████████████████████████████████████████████████████████████████████████▉| 7992/8000 [06:25<00:00, 12.72it/s]"
     ]
    },
    {
     "metadata": {},
     "name": "stderr",
     "output_type": "stream",
     "text": [
      "\r",
      "100%|██████████████████████████████████████████████████████████████████████████████████████████████████████████████████████▉| 7997/8000 [06:25<00:00, 16.36it/s]"
     ]
    },
    {
     "metadata": {},
     "name": "stderr",
     "output_type": "stream",
     "text": [
      "\r",
      "100%|███████████████████████████████████████████████████████████████████████████████████████████████████████████████████████| 8000/8000 [06:25<00:00, 20.76it/s]"
     ]
    },
    {
     "metadata": {},
     "name": "stderr",
     "output_type": "stream",
     "text": [
      "\n"
     ]
    },
    {
     "data": {
      "text/plain": [
       "[(2543.3576168458094, 2192, (507295.78658682964, 2493886.8557963246)),\n",
       " (1184546.4626984685, 8352, (896552.3533453116, 1696909.8906468432)),\n",
       " (1184571.6475299357, 5513, (896599.2137060699, 1696931.5661761342)),\n",
       " (1184699.265911612, 2065, (896686.9793387237, 1696891.7134271117)),\n",
       " (1272150.92377346, 2062, (948657.2483424643, 1661410.3245690044)),\n",
       " (1472957.7033411968, 3943, (1558315.7023544684, 2918368.0009867284)),\n",
       " (1472957.7033411968, 9823, (1558315.7023544684, 2918368.0009867284)),\n",
       " (1472957.7033411968, 9843, (1558315.7023544684, 2918368.0009867284)),\n",
       " (1512638.7699062696, 3942, (1557997.8534661192, 2030263.0835598495)),\n",
       " (1512638.7699062696, 9822, (1557997.8534661192, 2030263.0835598495))]"
      ]
     },
     "execution_count": 11,
     "metadata": {},
     "output_type": "execute_result"
    }
   ],
   "source": [
    "import warnings\n",
    "from tqdm import tqdm\n",
    "warnings.simplefilter(\"ignore\")\n",
    "\n",
    "summary = []\n",
    "for i in tqdm(range(2000, 10000)):\n",
    "    try:\n",
    "        p2 = Proj(init='epsg:%d' % i)\n",
    "    except RuntimeError:\n",
    "        # does not exist\n",
    "        continue\n",
    "    try:\n",
    "        res = transform(p1, p2, 1.059011, 49.434654)\n",
    "    except RuntimeError:\n",
    "        # impossible\n",
    "        continue\n",
    "    d = abs(res[0] - exp[0]) + abs(res[1] - exp[1])\n",
    "    summary.append((d, i, res))\n",
    "summary.sort()\n",
    "summary[:10]"
   ]
  },
  {
   "cell_type": "markdown",
   "metadata": {},
   "source": [
    "On tombe donc sur [espg:2192](https://epsg.io/2192-8046) ou [espg:7401](https://epsg.io/7401)."
   ]
  },
  {
   "cell_type": "code",
   "execution_count": 12,
   "metadata": {},
   "outputs": [],
   "source": [
    "p2 = Proj(init='epsg:2192')\n",
    "long, lat = transform(p2, p1, ets.Coordonnees_X.values, ets.Coordonnees_Y.values)\n",
    "ets['LLX'] = long\n",
    "ets['LLY'] = lat"
   ]
  },
  {
   "cell_type": "code",
   "execution_count": 13,
   "metadata": {},
   "outputs": [
    {
     "data": {
      "text/html": [
       "<div>\n",
       "<style scoped>\n",
       "    .dataframe tbody tr th:only-of-type {\n",
       "        vertical-align: middle;\n",
       "    }\n",
       "\n",
       "    .dataframe tbody tr th {\n",
       "        vertical-align: top;\n",
       "    }\n",
       "\n",
       "    .dataframe thead th {\n",
       "        text-align: right;\n",
       "    }\n",
       "</style>\n",
       "<table border=\"1\" class=\"dataframe\">\n",
       "  <thead>\n",
       "    <tr style=\"text-align: right;\">\n",
       "      <th></th>\n",
       "      <th>Identifiant</th>\n",
       "      <th>Nom_Etablissement</th>\n",
       "      <th>Numero_SIRET</th>\n",
       "      <th>Adresse</th>\n",
       "      <th>Code_Postal</th>\n",
       "      <th>Commune</th>\n",
       "      <th>Departement</th>\n",
       "      <th>Region</th>\n",
       "      <th>Coordonnees_X</th>\n",
       "      <th>Coordonnees_Y</th>\n",
       "      <th>Code_APE</th>\n",
       "      <th>Libelle_APE</th>\n",
       "      <th>code_eprtr</th>\n",
       "      <th>libelle_eprtr</th>\n",
       "      <th>LLX</th>\n",
       "      <th>LLY</th>\n",
       "    </tr>\n",
       "  </thead>\n",
       "  <tbody>\n",
       "    <tr>\n",
       "      <th>5696</th>\n",
       "      <td>52.02708</td>\n",
       "      <td>LUBRIZOL FRANCE</td>\n",
       "      <td>54207095800047</td>\n",
       "      <td>Pôle 4/RD 281 avenue du Lac</td>\n",
       "      <td>64150</td>\n",
       "      <td>MOURENX</td>\n",
       "      <td>PYRENEES-ATLANTIQUES</td>\n",
       "      <td>NOUVELLE-AQUITAINE</td>\n",
       "      <td>359197.0</td>\n",
       "      <td>1823064.0</td>\n",
       "      <td>2059Z</td>\n",
       "      <td>Fabrication d'autres produits chimiques n.c.a.</td>\n",
       "      <td>4.(a).(iii)</td>\n",
       "      <td>hydrocarbures sulfurés</td>\n",
       "      <td>-0.630749</td>\n",
       "      <td>43.367983</td>\n",
       "    </tr>\n",
       "    <tr>\n",
       "      <th>6147</th>\n",
       "      <td>58.00574</td>\n",
       "      <td>LUBRIZOL France Site de Rouen (siège social et...</td>\n",
       "      <td>54207095800021</td>\n",
       "      <td>25, Quai de France BP 1062</td>\n",
       "      <td>76173</td>\n",
       "      <td>ROUEN</td>\n",
       "      <td>SEINE-MARITIME</td>\n",
       "      <td>NORMANDIE</td>\n",
       "      <td>509411.0</td>\n",
       "      <td>2494315.0</td>\n",
       "      <td>2059Z</td>\n",
       "      <td>Fabrication d'autres produits chimiques n.c.a.</td>\n",
       "      <td>4.(a).(iii)</td>\n",
       "      <td>hydrocarbures sulfurés</td>\n",
       "      <td>1.088048</td>\n",
       "      <td>49.438805</td>\n",
       "    </tr>\n",
       "    <tr>\n",
       "      <th>6707</th>\n",
       "      <td>58.00575</td>\n",
       "      <td>LUBRIZOL France</td>\n",
       "      <td>54207095800039</td>\n",
       "      <td>ROUTE DU CANAL DE TANCARVILLE</td>\n",
       "      <td>76430</td>\n",
       "      <td>OUDALLE</td>\n",
       "      <td>SEINE-MARITIME</td>\n",
       "      <td>NORMANDIE</td>\n",
       "      <td>452455.0</td>\n",
       "      <td>2502974.0</td>\n",
       "      <td>2059Z</td>\n",
       "      <td>Fabrication d'autres produits chimiques n.c.a.</td>\n",
       "      <td>4.(a).(iii)</td>\n",
       "      <td>hydrocarbures sulfurés</td>\n",
       "      <td>0.300654</td>\n",
       "      <td>49.505874</td>\n",
       "    </tr>\n",
       "  </tbody>\n",
       "</table>\n",
       "</div>"
      ],
      "text/plain": [
       "      Identifiant                                  Nom_Etablissement  \\\n",
       "5696     52.02708                                    LUBRIZOL FRANCE   \n",
       "6147     58.00574  LUBRIZOL France Site de Rouen (siège social et...   \n",
       "6707     58.00575                                    LUBRIZOL France   \n",
       "\n",
       "        Numero_SIRET                        Adresse  Code_Postal  Commune  \\\n",
       "5696  54207095800047    Pôle 4/RD 281 avenue du Lac        64150  MOURENX   \n",
       "6147  54207095800021     25, Quai de France BP 1062        76173    ROUEN   \n",
       "6707  54207095800039  ROUTE DU CANAL DE TANCARVILLE        76430  OUDALLE   \n",
       "\n",
       "               Departement              Region  Coordonnees_X  Coordonnees_Y  \\\n",
       "5696  PYRENEES-ATLANTIQUES  NOUVELLE-AQUITAINE       359197.0      1823064.0   \n",
       "6147        SEINE-MARITIME           NORMANDIE       509411.0      2494315.0   \n",
       "6707        SEINE-MARITIME           NORMANDIE       452455.0      2502974.0   \n",
       "\n",
       "     Code_APE                                     Libelle_APE   code_eprtr  \\\n",
       "5696    2059Z  Fabrication d'autres produits chimiques n.c.a.  4.(a).(iii)   \n",
       "6147    2059Z  Fabrication d'autres produits chimiques n.c.a.  4.(a).(iii)   \n",
       "6707    2059Z  Fabrication d'autres produits chimiques n.c.a.  4.(a).(iii)   \n",
       "\n",
       "               libelle_eprtr       LLX        LLY  \n",
       "5696  hydrocarbures sulfurés -0.630749  43.367983  \n",
       "6147  hydrocarbures sulfurés  1.088048  49.438805  \n",
       "6707  hydrocarbures sulfurés  0.300654  49.505874  "
      ]
     },
     "execution_count": 13,
     "metadata": {},
     "output_type": "execute_result"
    }
   ],
   "source": [
    "ets[ets.Nom_Etablissement.str.contains(\"LUBRI\")]"
   ]
  },
  {
   "cell_type": "markdown",
   "metadata": {},
   "source": [
    "Ca a l'air de coller."
   ]
  },
  {
   "cell_type": "code",
   "execution_count": 14,
   "metadata": {},
   "outputs": [],
   "source": [
    "ets16 = pandas.read_csv(\"2016/etablissements.csv\")\n",
    "ets17 = pandas.read_csv(\"2017/etablissements.csv\")\n",
    "p16 = pandas.read_csv(\"2016/Prod_dechets_dangereux.csv\")\n",
    "p17 = pandas.read_csv(\"2017/Prod_dechets_dangereux.csv\")\n",
    "\n",
    "long, lat = transform(p2, p1, ets16.Coordonnees_X.values, ets16.Coordonnees_Y.values)\n",
    "ets16['LLX'] = long\n",
    "ets16['LLY'] = lat\n",
    "\n",
    "long, lat = transform(p2, p1, ets17.Coordonnees_X.values, ets17.Coordonnees_Y.values)\n",
    "ets17['LLX'] = long\n",
    "ets17['LLY'] = lat"
   ]
  },
  {
   "cell_type": "code",
   "execution_count": 15,
   "metadata": {},
   "outputs": [
    {
     "data": {
      "text/plain": [
       "((72337, 27), (72337, 12))"
      ]
     },
     "execution_count": 15,
     "metadata": {},
     "output_type": "execute_result"
    }
   ],
   "source": [
    "ets16_2 = p16.merge(ets16, on=\"Identifiant\")\n",
    "ets16_2.shape, p16.shape"
   ]
  },
  {
   "cell_type": "code",
   "execution_count": 16,
   "metadata": {},
   "outputs": [
    {
     "data": {
      "text/plain": [
       "((73863, 27), (73863, 12))"
      ]
     },
     "execution_count": 16,
     "metadata": {},
     "output_type": "execute_result"
    }
   ],
   "source": [
    "ets17_2 = p17.merge(ets17, on=\"Identifiant\")\n",
    "ets17_2.shape, p17.shape"
   ]
  },
  {
   "cell_type": "markdown",
   "metadata": {},
   "source": [
    "Les fusions se sont bien passées. On vérifie que les unités sont comparables."
   ]
  },
  {
   "cell_type": "code",
   "execution_count": 17,
   "metadata": {},
   "outputs": [
    {
     "data": {
      "text/plain": [
       "({'t/an'}, {'t/an'})"
      ]
     },
     "execution_count": 17,
     "metadata": {},
     "output_type": "execute_result"
    }
   ],
   "source": [
    "set(p16.Unite), set(p17.Unite)"
   ]
  },
  {
   "cell_type": "markdown",
   "metadata": {},
   "source": [
    "## Vue dynamique"
   ]
  },
  {
   "cell_type": "code",
   "execution_count": 18,
   "metadata": {},
   "outputs": [],
   "source": [
    "from ipywidgets import interact"
   ]
  },
  {
   "cell_type": "code",
   "execution_count": 19,
   "metadata": {},
   "outputs": [
    {
     "data": {
      "text/html": [
       "<div>\n",
       "<style scoped>\n",
       "    .dataframe tbody tr th:only-of-type {\n",
       "        vertical-align: middle;\n",
       "    }\n",
       "\n",
       "    .dataframe tbody tr th {\n",
       "        vertical-align: top;\n",
       "    }\n",
       "\n",
       "    .dataframe thead th {\n",
       "        text-align: right;\n",
       "    }\n",
       "</style>\n",
       "<table border=\"1\" class=\"dataframe\">\n",
       "  <thead>\n",
       "    <tr style=\"text-align: right;\">\n",
       "      <th></th>\n",
       "      <th>42643</th>\n",
       "      <th>11262</th>\n",
       "      <th>40946</th>\n",
       "      <th>40945</th>\n",
       "      <th>38335</th>\n",
       "    </tr>\n",
       "  </thead>\n",
       "  <tbody>\n",
       "    <tr>\n",
       "      <th>Identifiant</th>\n",
       "      <td>65.03322</td>\n",
       "      <td>55.01076</td>\n",
       "      <td>64.10462</td>\n",
       "      <td>64.10462</td>\n",
       "      <td>64.00243</td>\n",
       "    </tr>\n",
       "    <tr>\n",
       "      <th>Nom_Etablissement_x</th>\n",
       "      <td>SARP Industries</td>\n",
       "      <td>RMB</td>\n",
       "      <td>Société Nouvelle JCG Environnement</td>\n",
       "      <td>Société Nouvelle JCG Environnement</td>\n",
       "      <td>Hydro Extrusion Puget</td>\n",
       "    </tr>\n",
       "    <tr>\n",
       "      <th>Dechet</th>\n",
       "      <td>Production de dÃ©chets dangereux</td>\n",
       "      <td>Production de dÃ©chets dangereux</td>\n",
       "      <td>Production de dÃ©chets dangereux</td>\n",
       "      <td>Production de dÃ©chets dangereux</td>\n",
       "      <td>Production de dÃ©chets dangereux</td>\n",
       "    </tr>\n",
       "    <tr>\n",
       "      <th>Annee</th>\n",
       "      <td>2017</td>\n",
       "      <td>2017</td>\n",
       "      <td>2017</td>\n",
       "      <td>2017</td>\n",
       "      <td>2017</td>\n",
       "    </tr>\n",
       "    <tr>\n",
       "      <th>Code_Operation_Eliminatio_Valorisation</th>\n",
       "      <td>D5</td>\n",
       "      <td>R4</td>\n",
       "      <td>D1</td>\n",
       "      <td>D1</td>\n",
       "      <td>R4</td>\n",
       "    </tr>\n",
       "    <tr>\n",
       "      <th>Libelle_Operation_Eliminatio_Valorisation</th>\n",
       "      <td>D5 Mise en décharge spécialement aménagée (par...</td>\n",
       "      <td>R4 Recyclage ou récupération des métaux et des...</td>\n",
       "      <td>D1 Dépôt sur ou dans le sol (par exemple, mise...</td>\n",
       "      <td>D1 Dépôt sur ou dans le sol (par exemple, mise...</td>\n",
       "      <td>R4 Recyclage ou récupération des métaux et des...</td>\n",
       "    </tr>\n",
       "    <tr>\n",
       "      <th>Code_Departement</th>\n",
       "      <td>78</td>\n",
       "      <td>45</td>\n",
       "      <td>13</td>\n",
       "      <td>04</td>\n",
       "      <td>34</td>\n",
       "    </tr>\n",
       "    <tr>\n",
       "      <th>Pays</th>\n",
       "      <td>NaN</td>\n",
       "      <td>NaN</td>\n",
       "      <td>NaN</td>\n",
       "      <td>NaN</td>\n",
       "      <td>NaN</td>\n",
       "    </tr>\n",
       "    <tr>\n",
       "      <th>Code_Dechet</th>\n",
       "      <td>19 03 04*</td>\n",
       "      <td>16 06 01*</td>\n",
       "      <td>18 01 03*</td>\n",
       "      <td>18 01 03*</td>\n",
       "      <td>10 03 09*</td>\n",
       "    </tr>\n",
       "    <tr>\n",
       "      <th>Libelle_Dechet</th>\n",
       "      <td>Déchets catalogués comme dangereux, partiellem...</td>\n",
       "      <td>Accumulateurs au plomb</td>\n",
       "      <td>Déchets dont la collecte et l'élimination font...</td>\n",
       "      <td>Déchets dont la collecte et l'élimination font...</td>\n",
       "      <td>Crasses noires de production secondaire</td>\n",
       "    </tr>\n",
       "    <tr>\n",
       "      <th>Quantite</th>\n",
       "      <td>122000.0</td>\n",
       "      <td>284000.0</td>\n",
       "      <td>316000.0</td>\n",
       "      <td>341000.0</td>\n",
       "      <td>1400000.0</td>\n",
       "    </tr>\n",
       "    <tr>\n",
       "      <th>Unite</th>\n",
       "      <td>t/an</td>\n",
       "      <td>t/an</td>\n",
       "      <td>t/an</td>\n",
       "      <td>t/an</td>\n",
       "      <td>t/an</td>\n",
       "    </tr>\n",
       "    <tr>\n",
       "      <th>Nom_Etablissement_y</th>\n",
       "      <td>SARP Industries</td>\n",
       "      <td>RMB</td>\n",
       "      <td>Société Nouvelle JCG Environnement</td>\n",
       "      <td>Société Nouvelle JCG Environnement</td>\n",
       "      <td>Hydro Extrusion Puget</td>\n",
       "    </tr>\n",
       "    <tr>\n",
       "      <th>Numero_SIRET</th>\n",
       "      <td>30377298200029</td>\n",
       "      <td>39776516500022</td>\n",
       "      <td>80845353400014</td>\n",
       "      <td>80845353400014</td>\n",
       "      <td>31275797400018</td>\n",
       "    </tr>\n",
       "    <tr>\n",
       "      <th>Adresse</th>\n",
       "      <td>451 Route du Hazay</td>\n",
       "      <td>14 rue des prairies\\n BP 10236</td>\n",
       "      <td>NaN</td>\n",
       "      <td>NaN</td>\n",
       "      <td>Zi Camp dessert Nord</td>\n",
       "    </tr>\n",
       "    <tr>\n",
       "      <th>Code_Postal</th>\n",
       "      <td>78520</td>\n",
       "      <td>29400</td>\n",
       "      <td>13500</td>\n",
       "      <td>13500</td>\n",
       "      <td>83488</td>\n",
       "    </tr>\n",
       "    <tr>\n",
       "      <th>Commune</th>\n",
       "      <td>LIMAY</td>\n",
       "      <td>PLOUGOURVEST</td>\n",
       "      <td>MARTIGUES</td>\n",
       "      <td>MARTIGUES</td>\n",
       "      <td>PUGET-SUR-ARGENS</td>\n",
       "    </tr>\n",
       "    <tr>\n",
       "      <th>Departement</th>\n",
       "      <td>YVELINES</td>\n",
       "      <td>FINISTERE</td>\n",
       "      <td>BOUCHES-DU-RHONE</td>\n",
       "      <td>BOUCHES-DU-RHONE</td>\n",
       "      <td>VAR</td>\n",
       "    </tr>\n",
       "    <tr>\n",
       "      <th>Region</th>\n",
       "      <td>ILE-DE-FRANCE</td>\n",
       "      <td>BRETAGNE</td>\n",
       "      <td>PROVENCE-ALPES-COTE-D'AZUR</td>\n",
       "      <td>PROVENCE-ALPES-COTE-D'AZUR</td>\n",
       "      <td>PROVENCE-ALPES-COTE-D'AZUR</td>\n",
       "    </tr>\n",
       "    <tr>\n",
       "      <th>Coordonnees_X</th>\n",
       "      <td>555829.0</td>\n",
       "      <td>126274.0</td>\n",
       "      <td>819944.0</td>\n",
       "      <td>819944.0</td>\n",
       "      <td>952243.0</td>\n",
       "    </tr>\n",
       "    <tr>\n",
       "      <th>Coordonnees_Y</th>\n",
       "      <td>2444400.0</td>\n",
       "      <td>2414348.0</td>\n",
       "      <td>1825343.0</td>\n",
       "      <td>1825343.0</td>\n",
       "      <td>1837875.0</td>\n",
       "    </tr>\n",
       "    <tr>\n",
       "      <th>Code_APE</th>\n",
       "      <td>3822Z</td>\n",
       "      <td>3832Z</td>\n",
       "      <td>3822Z</td>\n",
       "      <td>3822Z</td>\n",
       "      <td>2442Z</td>\n",
       "    </tr>\n",
       "    <tr>\n",
       "      <th>Libelle_APE</th>\n",
       "      <td>Traitement et élimination des déchets dangereux</td>\n",
       "      <td>Récupération de déchets triés</td>\n",
       "      <td>Traitement et élimination des déchets dangereux</td>\n",
       "      <td>Traitement et élimination des déchets dangereux</td>\n",
       "      <td>Métallurgie de l'aluminium</td>\n",
       "    </tr>\n",
       "    <tr>\n",
       "      <th>code_eprtr</th>\n",
       "      <td>5.(a)</td>\n",
       "      <td>5.(c)</td>\n",
       "      <td>NaN</td>\n",
       "      <td>NaN</td>\n",
       "      <td>2.(f)</td>\n",
       "    </tr>\n",
       "    <tr>\n",
       "      <th>libelle_eprtr</th>\n",
       "      <td>Installations pour la valorisation ou l'élimin...</td>\n",
       "      <td>Installations destinées à l'élimination des dé...</td>\n",
       "      <td>NaN</td>\n",
       "      <td>NaN</td>\n",
       "      <td>Installations de traitement de surface de méta...</td>\n",
       "    </tr>\n",
       "    <tr>\n",
       "      <th>LLX</th>\n",
       "      <td>1.73272</td>\n",
       "      <td>-4.085768</td>\n",
       "      <td>5.047053</td>\n",
       "      <td>5.047053</td>\n",
       "      <td>6.683578</td>\n",
       "    </tr>\n",
       "    <tr>\n",
       "      <th>LLY</th>\n",
       "      <td>48.995285</td>\n",
       "      <td>48.552602</td>\n",
       "      <td>43.395281</td>\n",
       "      <td>43.395281</td>\n",
       "      <td>43.45444</td>\n",
       "    </tr>\n",
       "  </tbody>\n",
       "</table>\n",
       "</div>"
      ],
      "text/plain": [
       "                                                                                       42643  \\\n",
       "Identifiant                                                                         65.03322   \n",
       "Nom_Etablissement_x                                                          SARP Industries   \n",
       "Dechet                                                      Production de dÃ©chets dangereux   \n",
       "Annee                                                                                   2017   \n",
       "Code_Operation_Eliminatio_Valorisation                                                   D5    \n",
       "Libelle_Operation_Eliminatio_Valorisation  D5 Mise en décharge spécialement aménagée (par...   \n",
       "Code_Departement                                                                          78   \n",
       "Pays                                                                                     NaN   \n",
       "Code_Dechet                                                                        19 03 04*   \n",
       "Libelle_Dechet                             Déchets catalogués comme dangereux, partiellem...   \n",
       "Quantite                                                                            122000.0   \n",
       "Unite                                                                                   t/an   \n",
       "Nom_Etablissement_y                                                          SARP Industries   \n",
       "Numero_SIRET                                                                  30377298200029   \n",
       "Adresse                                                                   451 Route du Hazay   \n",
       "Code_Postal                                                                            78520   \n",
       "Commune                                                                                LIMAY   \n",
       "Departement                                                                         YVELINES   \n",
       "Region                                                                         ILE-DE-FRANCE   \n",
       "Coordonnees_X                                                                       555829.0   \n",
       "Coordonnees_Y                                                                      2444400.0   \n",
       "Code_APE                                                                               3822Z   \n",
       "Libelle_APE                                  Traitement et élimination des déchets dangereux   \n",
       "code_eprtr                                                                             5.(a)   \n",
       "libelle_eprtr                              Installations pour la valorisation ou l'élimin...   \n",
       "LLX                                                                                  1.73272   \n",
       "LLY                                                                                48.995285   \n",
       "\n",
       "                                                                                       11262  \\\n",
       "Identifiant                                                                         55.01076   \n",
       "Nom_Etablissement_x                                                                      RMB   \n",
       "Dechet                                                      Production de dÃ©chets dangereux   \n",
       "Annee                                                                                   2017   \n",
       "Code_Operation_Eliminatio_Valorisation                                                   R4    \n",
       "Libelle_Operation_Eliminatio_Valorisation  R4 Recyclage ou récupération des métaux et des...   \n",
       "Code_Departement                                                                          45   \n",
       "Pays                                                                                     NaN   \n",
       "Code_Dechet                                                                        16 06 01*   \n",
       "Libelle_Dechet                                                        Accumulateurs au plomb   \n",
       "Quantite                                                                            284000.0   \n",
       "Unite                                                                                   t/an   \n",
       "Nom_Etablissement_y                                                                      RMB   \n",
       "Numero_SIRET                                                                  39776516500022   \n",
       "Adresse                                                       14 rue des prairies\\n BP 10236   \n",
       "Code_Postal                                                                            29400   \n",
       "Commune                                                                         PLOUGOURVEST   \n",
       "Departement                                                                        FINISTERE   \n",
       "Region                                                                              BRETAGNE   \n",
       "Coordonnees_X                                                                       126274.0   \n",
       "Coordonnees_Y                                                                      2414348.0   \n",
       "Code_APE                                                                               3832Z   \n",
       "Libelle_APE                                                    Récupération de déchets triés   \n",
       "code_eprtr                                                                             5.(c)   \n",
       "libelle_eprtr                              Installations destinées à l'élimination des dé...   \n",
       "LLX                                                                                -4.085768   \n",
       "LLY                                                                                48.552602   \n",
       "\n",
       "                                                                                       40946  \\\n",
       "Identifiant                                                                         64.10462   \n",
       "Nom_Etablissement_x                                       Société Nouvelle JCG Environnement   \n",
       "Dechet                                                      Production de dÃ©chets dangereux   \n",
       "Annee                                                                                   2017   \n",
       "Code_Operation_Eliminatio_Valorisation                                                   D1    \n",
       "Libelle_Operation_Eliminatio_Valorisation  D1 Dépôt sur ou dans le sol (par exemple, mise...   \n",
       "Code_Departement                                                                          13   \n",
       "Pays                                                                                     NaN   \n",
       "Code_Dechet                                                                        18 01 03*   \n",
       "Libelle_Dechet                             Déchets dont la collecte et l'élimination font...   \n",
       "Quantite                                                                            316000.0   \n",
       "Unite                                                                                   t/an   \n",
       "Nom_Etablissement_y                                       Société Nouvelle JCG Environnement   \n",
       "Numero_SIRET                                                                  80845353400014   \n",
       "Adresse                                                                                  NaN   \n",
       "Code_Postal                                                                            13500   \n",
       "Commune                                                                            MARTIGUES   \n",
       "Departement                                                                 BOUCHES-DU-RHONE   \n",
       "Region                                                            PROVENCE-ALPES-COTE-D'AZUR   \n",
       "Coordonnees_X                                                                       819944.0   \n",
       "Coordonnees_Y                                                                      1825343.0   \n",
       "Code_APE                                                                               3822Z   \n",
       "Libelle_APE                                  Traitement et élimination des déchets dangereux   \n",
       "code_eprtr                                                                               NaN   \n",
       "libelle_eprtr                                                                            NaN   \n",
       "LLX                                                                                 5.047053   \n",
       "LLY                                                                                43.395281   \n",
       "\n",
       "                                                                                       40945  \\\n",
       "Identifiant                                                                         64.10462   \n",
       "Nom_Etablissement_x                                       Société Nouvelle JCG Environnement   \n",
       "Dechet                                                      Production de dÃ©chets dangereux   \n",
       "Annee                                                                                   2017   \n",
       "Code_Operation_Eliminatio_Valorisation                                                   D1    \n",
       "Libelle_Operation_Eliminatio_Valorisation  D1 Dépôt sur ou dans le sol (par exemple, mise...   \n",
       "Code_Departement                                                                          04   \n",
       "Pays                                                                                     NaN   \n",
       "Code_Dechet                                                                        18 01 03*   \n",
       "Libelle_Dechet                             Déchets dont la collecte et l'élimination font...   \n",
       "Quantite                                                                            341000.0   \n",
       "Unite                                                                                   t/an   \n",
       "Nom_Etablissement_y                                       Société Nouvelle JCG Environnement   \n",
       "Numero_SIRET                                                                  80845353400014   \n",
       "Adresse                                                                                  NaN   \n",
       "Code_Postal                                                                            13500   \n",
       "Commune                                                                            MARTIGUES   \n",
       "Departement                                                                 BOUCHES-DU-RHONE   \n",
       "Region                                                            PROVENCE-ALPES-COTE-D'AZUR   \n",
       "Coordonnees_X                                                                       819944.0   \n",
       "Coordonnees_Y                                                                      1825343.0   \n",
       "Code_APE                                                                               3822Z   \n",
       "Libelle_APE                                  Traitement et élimination des déchets dangereux   \n",
       "code_eprtr                                                                               NaN   \n",
       "libelle_eprtr                                                                            NaN   \n",
       "LLX                                                                                 5.047053   \n",
       "LLY                                                                                43.395281   \n",
       "\n",
       "                                                                                       38335  \n",
       "Identifiant                                                                         64.00243  \n",
       "Nom_Etablissement_x                                                    Hydro Extrusion Puget  \n",
       "Dechet                                                      Production de dÃ©chets dangereux  \n",
       "Annee                                                                                   2017  \n",
       "Code_Operation_Eliminatio_Valorisation                                                   R4   \n",
       "Libelle_Operation_Eliminatio_Valorisation  R4 Recyclage ou récupération des métaux et des...  \n",
       "Code_Departement                                                                          34  \n",
       "Pays                                                                                     NaN  \n",
       "Code_Dechet                                                                        10 03 09*  \n",
       "Libelle_Dechet                                       Crasses noires de production secondaire  \n",
       "Quantite                                                                           1400000.0  \n",
       "Unite                                                                                   t/an  \n",
       "Nom_Etablissement_y                                                    Hydro Extrusion Puget  \n",
       "Numero_SIRET                                                                  31275797400018  \n",
       "Adresse                                                                 Zi Camp dessert Nord  \n",
       "Code_Postal                                                                            83488  \n",
       "Commune                                                                     PUGET-SUR-ARGENS  \n",
       "Departement                                                                              VAR  \n",
       "Region                                                            PROVENCE-ALPES-COTE-D'AZUR  \n",
       "Coordonnees_X                                                                       952243.0  \n",
       "Coordonnees_Y                                                                      1837875.0  \n",
       "Code_APE                                                                               2442Z  \n",
       "Libelle_APE                                                       Métallurgie de l'aluminium  \n",
       "code_eprtr                                                                             2.(f)  \n",
       "libelle_eprtr                              Installations de traitement de surface de méta...  \n",
       "LLX                                                                                 6.683578  \n",
       "LLY                                                                                 43.45444  "
      ]
     },
     "metadata": {},
     "output_type": "display_data"
    },
    {
     "comm_id": "96332c2df9094539bf44b583368cd491",
     "data": {
      "buffer_paths": [],
      "method": "update",
      "state": {
       "msg_id": ""
      }
     },
     "metadata": {},
     "output_type": "comm_msg"
    },
    {
     "data": {
      "application/vnd.jupyter.widget-view+json": {
       "model_id": "58a67e10c56047cba57c4fe560be5e6a",
       "version_major": 2,
       "version_minor": 0
      },
      "text/plain": [
       "interactive(children=(Dropdown(description='annee', index=1, options=(2016, 2017), value=2017), Dropdown(descr…"
      ]
     },
     "metadata": {},
     "output_type": "display_data"
    }
   ],
   "source": [
    "@interact(annee=[2016, 2017], column=list(sorted(p16.columns)), x=(0, 100000, 100))\n",
    "def show_rows(annee=2017, column='Quantite', x=100000):\n",
    "    if annee == 2017:\n",
    "        return ets17_2[ets17_2[column] >= x].sort_values(column).T\n",
    "    else:\n",
    "        return ets16_2[ets16_2[column] >= x].sort_values(column).T"
   ]
  },
  {
   "cell_type": "markdown",
   "metadata": {},
   "source": [
    "## Cartes\n",
    "\n",
    "On regarde les projets sur la métropole en 2017."
   ]
  },
  {
   "cell_type": "code",
   "execution_count": 20,
   "metadata": {},
   "outputs": [
    {
     "data": {
      "text/plain": [
       "((73384, 27), (73863, 27))"
      ]
     },
     "execution_count": 20,
     "metadata": {},
     "output_type": "execute_result"
    }
   ],
   "source": [
    "lim_metropole = [-5, 10, 41, 52]\n",
    "\n",
    "ets17_2_metro = ets17_2[((ets17_2.LLX >= lim_metropole[0]) & (ets17_2.LLX <= lim_metropole[1]) &\n",
    "                         (ets17_2.LLY >= lim_metropole[2]) & (ets17_2.LLY <= lim_metropole[3]))]\n",
    "ets17_2_metro.shape, ets17_2.shape"
   ]
  },
  {
   "cell_type": "code",
   "execution_count": 21,
   "metadata": {},
   "outputs": [
    {
     "data": {
      "image/png": "[encoded data removed]",
      "text/plain": [
       "<Figure size 700x700 with 1 Axes>"
      ]
     },
     "metadata": {},
     "output_type": "display_data"
    }
   ],
   "source": [
    "import cartopy.crs as ccrs\n",
    "import cartopy.feature as cfeature\n",
    "import matplotlib.pyplot as plt\n",
    "\n",
    "fig = plt.figure(figsize=(7,7))\n",
    "ax = fig.add_subplot(1, 1, 1, projection=ccrs.PlateCarree())\n",
    "ax.set_extent(lim_metropole)\n",
    "ax.add_feature(cfeature.OCEAN.with_scale('50m'))\n",
    "ax.add_feature(cfeature.COASTLINE.with_scale('50m'))\n",
    "ax.add_feature(cfeature.RIVERS.with_scale('50m'))\n",
    "ax.add_feature(cfeature.BORDERS.with_scale('50m'), linestyle=':')\n",
    "ax.scatter(ets17_2_metro.LLX, ets17_2_metro.LLY,\n",
    "           s=ets17_2_metro.Quantite ** 0.5 / 5, alpha=0.5)\n",
    "ax.set_title('France 2017\\nproduction de produits dangereux');\n",
    "#debug"
   ]
  },
  {
   "cell_type": "code",
   "execution_count": 21,
   "metadata": {},
   "outputs": [],
   "source": []
  }
 ],
 "metadata": {
  "kernelspec": {
   "display_name": "Python 3 (ipykernel)",
   "language": "python",
   "name": "python3"
  },
  "language_info": {
   "codemirror_mode": {
    "name": "ipython",
    "version": 3
   },
   "file_extension": ".py",
   "mimetype": "text/x-python",
   "name": "python",
   "nbconvert_exporter": "python",
   "pygments_lexer": "ipython3",
   "version": "3.10.5"
  }
 },
 "nbformat": 4,
 "nbformat_minor": 2
}